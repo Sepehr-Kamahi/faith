{
 "cells": [
  {
   "cell_type": "code",
   "execution_count": 1,
   "metadata": {},
   "outputs": [],
   "source": [
    "import pickle\n",
    "import pandas as pd\n",
    "editors = [\"pythia\",\"pythia2\",\"gptj\"]\n",
    "datasets = [\"sst2\",\"imdb\",\"news\"]\n",
    "fine_tune = [True]\n",
    "results = {}\n",
    "for editor in editors:\n",
    "    for ds in datasets:\n",
    "        for ft in fine_tune:\n",
    "            with open(f\"camel/cfg_{editor}_{ds}_predictor_gemma-2b_ft_{ft}_0_200.pcl\",\"br\") as f:\n",
    "                df = pd.DataFrame(pickle.load(f))\n",
    "                # df.to_csv(f\"camel_csv/cfg_{editor}_{ds}_predictor_gemma-2b_ft_{ft}.csv\")\n",
    "                results[f\"cfg_{editor}_{ds}_predictor_gemma-2b_ft_{ft}\"] = df\n",
    "\n",
    "\n",
    "fine_tune = [False]\n",
    "for editor in editors:\n",
    "    for ds in datasets:\n",
    "        for ft in fine_tune:\n",
    "            with open(f\"camel/cfg_{editor}_{ds}_predictor_gemma-2b_ft_{ft}_0_200_zero.pcl\",\"br\") as f:\n",
    "                df = pd.DataFrame(pickle.load(f))\n",
    "                # df.to_csv(f\"camel_csv/cfg_{editor}_{ds}_predictor_gemma-2b_ft_{ft}_zero.csv\")\n",
    "                results[f\"cfg_{editor}_{ds}_predictor_gemma-2b_ft_{ft}_zero\"] = df\n",
    "\n",
    "results2 = {}\n",
    "fine_tune = [False]\n",
    "for ds in datasets:\n",
    "    for ft in fine_tune:\n",
    "        with open(f\"camel_mask2/{ds}_predictor_gemma-2b_ft_{ft}_0_200_zero.pcl\",\"br\") as f:\n",
    "            m = pickle.load(f)\n",
    "            m[\"sentence\"] = m[\"sentence\"][:200]\n",
    "            df = pd.DataFrame(m)\n",
    "            # # df.to_csv(f\"camel_csv/cfg_{editor}_{ds}_predictor_gemma-2b_ft_{ft}_zero.csv\")\n",
    "            results2[f\"{ds}_predictor_gemma-2b_ft_{ft}_mask_zero\"] = df\n",
    "\n",
    "\n",
    "fine_tune = [True]\n",
    "for ds in datasets:\n",
    "    for ft in fine_tune:\n",
    "        with open(f\"camel_mask2/{ds}_predictor_gemma-2b_ft_{ft}_0_200.pcl\",\"br\") as f:\n",
    "            m = pickle.load(f)\n",
    "            m[\"sentence\"] = m[\"sentence\"][:200]\n",
    "            df = pd.DataFrame(m)\n",
    "            # # df.to_csv(f\"camel_csv/cfg_{editor}_{ds}_predictor_gemma-2b_ft_{ft}_zero.csv\")\n",
    "            results2[f\"{ds}_predictor_gemma-2b_ft_{ft}_mask\"] = df\n"
   ]
  },
  {
   "cell_type": "code",
   "execution_count": 2,
   "metadata": {},
   "outputs": [],
   "source": [
    "sst_original_sen = results['cfg_pythia_sst2_predictor_gemma-2b_ft_True'].sentence.values.tolist()\n",
    "imdb_original_sen = results['cfg_pythia_imdb_predictor_gemma-2b_ft_True'].sentence.values.tolist()\n",
    "news_original_sen = results['cfg_pythia_news_predictor_gemma-2b_ft_True'].sentence.values.tolist()"
   ]
  },
  {
   "cell_type": "markdown",
   "metadata": {},
   "source": [
    "# FT"
   ]
  },
  {
   "cell_type": "code",
   "execution_count": 3,
   "metadata": {},
   "outputs": [
    {
     "data": {
      "application/vnd.jupyter.widget-view+json": {
       "model_id": "87d386e2da104426aa668d3865674176",
       "version_major": 2,
       "version_minor": 0
      },
      "text/plain": [
       "Loading checkpoint shards:   0%|          | 0/2 [00:00<?, ?it/s]"
      ]
     },
     "metadata": {},
     "output_type": "display_data"
    },
    {
     "name": "stderr",
     "output_type": "stream",
     "text": [
      "100%|██████████| 200/200 [00:02<00:00, 86.42it/s]\n"
     ]
    },
    {
     "data": {
      "application/vnd.jupyter.widget-view+json": {
       "model_id": "eb8c8e09be4d4ff6a8db36f094f1c0b5",
       "version_major": 2,
       "version_minor": 0
      },
      "text/plain": [
       "Loading checkpoint shards:   0%|          | 0/2 [00:00<?, ?it/s]"
      ]
     },
     "metadata": {},
     "output_type": "display_data"
    },
    {
     "name": "stderr",
     "output_type": "stream",
     "text": [
      "100%|██████████| 200/200 [00:02<00:00, 67.97it/s]\n"
     ]
    },
    {
     "data": {
      "application/vnd.jupyter.widget-view+json": {
       "model_id": "e88b4ded83314c6c921d749a520b4a56",
       "version_major": 2,
       "version_minor": 0
      },
      "text/plain": [
       "Loading checkpoint shards:   0%|          | 0/2 [00:00<?, ?it/s]"
      ]
     },
     "metadata": {},
     "output_type": "display_data"
    },
    {
     "name": "stderr",
     "output_type": "stream",
     "text": [
      "100%|██████████| 200/200 [00:02<00:00, 74.13it/s]\n"
     ]
    }
   ],
   "source": [
    "datasets = [\"sst2\",\"imdb\",\"news\"]\n",
    "device = \"cuda:1\"\n",
    "import torch\n",
    "import numpy as np\n",
    "from tqdm import tqdm\n",
    "from transformers import AutoModelForCausalLM, AutoTokenizer\n",
    "percentile99 = {}\n",
    "for ds in datasets:\n",
    "    nlls_org = []\n",
    "    pred_model_id = f\"predictor_gemma-2b_{ds}_merged\"\n",
    "    tokenizer  = AutoTokenizer.from_pretrained(pred_model_id)\n",
    "    pred_model = AutoModelForCausalLM.from_pretrained(pred_model_id,device_map=device,\n",
    "                        torch_dtype=torch.float16,trust_remote_code=True, attn_implementation=\"flash_attention_2\")\n",
    "    for i in tqdm(range(200)):\n",
    "\n",
    "        if ds ==\"sst2\":\n",
    "            input_ids = tokenizer(sst_original_sen[i]\n",
    "                                    + \" In a sentiment classification task between positive and negative choices, the sentiment of this sentence is \",\n",
    "                                        return_tensors=\"pt\")[\"input_ids\"].to(device)\n",
    "        if ds ==\"imdb\":\n",
    "            input_ids = tokenizer(imdb_original_sen[i] + \n",
    "                                    \" Based on this opinion, decide what the sentiment is, choose between positive and negative. Answer is \",\n",
    "                                    return_tensors=\"pt\")[\"input_ids\"].to(device)\n",
    "        if ds == \"news\":\n",
    "            input_ids = tokenizer(news_original_sen[i] + \n",
    "                                    \" You are classifying a news article, Choose one of the four categories, World, Business, Sport, and Tech. Answer is \" ,\n",
    "                                    return_tensors=\"pt\")[\"input_ids\"].to(device)   \n",
    "        target_ids = input_ids.clone()\n",
    "        # target_ids[:, :-trg_len] = -100\n",
    "        \n",
    "        with torch.no_grad():\n",
    "            outputs = pred_model(input_ids, labels=target_ids)\n",
    "            neg_log_likelihood = outputs.loss\n",
    "\n",
    "        nlls_org.append(neg_log_likelihood)\n",
    "\n",
    "    lls = torch.stack(nlls_org).cpu().numpy()\n",
    "    percentile99[ds] = np.percentile(lls,99)"
   ]
  },
  {
   "cell_type": "code",
   "execution_count": 5,
   "metadata": {},
   "outputs": [],
   "source": [
    "explanation_types = [\"gradnorm1\",\"gradnorm2\",\"gradinp\",\"erasure\",\"integrated_grad\",\n",
    "                     \"kernel_shap\",\"random\"]"
   ]
  },
  {
   "cell_type": "code",
   "execution_count": 6,
   "metadata": {},
   "outputs": [
    {
     "data": {
      "application/vnd.jupyter.widget-view+json": {
       "model_id": "e24c31192b3f4c37ac4985b01373fc79",
       "version_major": 2,
       "version_minor": 0
      },
      "text/plain": [
       "Loading checkpoint shards:   0%|          | 0/2 [00:00<?, ?it/s]"
      ]
     },
     "metadata": {},
     "output_type": "display_data"
    },
    {
     "name": "stderr",
     "output_type": "stream",
     "text": [
      "100%|██████████| 200/200 [00:02<00:00, 89.17it/s]\n"
     ]
    },
    {
     "name": "stdout",
     "output_type": "stream",
     "text": [
      "131.60513\n"
     ]
    },
    {
     "name": "stderr",
     "output_type": "stream",
     "text": [
      "100%|██████████| 200/200 [00:02<00:00, 88.09it/s]\n"
     ]
    },
    {
     "name": "stdout",
     "output_type": "stream",
     "text": [
      "131.63545\n"
     ]
    },
    {
     "name": "stderr",
     "output_type": "stream",
     "text": [
      "100%|██████████| 200/200 [00:02<00:00, 88.76it/s]\n"
     ]
    },
    {
     "name": "stdout",
     "output_type": "stream",
     "text": [
      "131.62505\n"
     ]
    },
    {
     "name": "stderr",
     "output_type": "stream",
     "text": [
      "100%|██████████| 200/200 [00:02<00:00, 89.45it/s]\n"
     ]
    },
    {
     "name": "stdout",
     "output_type": "stream",
     "text": [
      "131.53911\n"
     ]
    },
    {
     "name": "stderr",
     "output_type": "stream",
     "text": [
      "100%|██████████| 200/200 [00:02<00:00, 89.23it/s]\n"
     ]
    },
    {
     "name": "stdout",
     "output_type": "stream",
     "text": [
      "131.35239\n"
     ]
    },
    {
     "name": "stderr",
     "output_type": "stream",
     "text": [
      "100%|██████████| 200/200 [00:02<00:00, 88.65it/s]\n"
     ]
    },
    {
     "name": "stdout",
     "output_type": "stream",
     "text": [
      "131.64615\n"
     ]
    },
    {
     "name": "stderr",
     "output_type": "stream",
     "text": [
      "100%|██████████| 200/200 [00:02<00:00, 89.72it/s]\n"
     ]
    },
    {
     "name": "stdout",
     "output_type": "stream",
     "text": [
      "131.74883\n"
     ]
    },
    {
     "name": "stderr",
     "output_type": "stream",
     "text": [
      "100%|██████████| 200/200 [00:02<00:00, 89.53it/s]\n"
     ]
    },
    {
     "name": "stdout",
     "output_type": "stream",
     "text": [
      "131.79974\n"
     ]
    },
    {
     "name": "stderr",
     "output_type": "stream",
     "text": [
      "100%|██████████| 200/200 [00:02<00:00, 88.96it/s]\n"
     ]
    },
    {
     "name": "stdout",
     "output_type": "stream",
     "text": [
      "131.45436\n"
     ]
    },
    {
     "name": "stderr",
     "output_type": "stream",
     "text": [
      "100%|██████████| 200/200 [00:02<00:00, 89.37it/s]\n"
     ]
    },
    {
     "name": "stdout",
     "output_type": "stream",
     "text": [
      "131.47728\n"
     ]
    },
    {
     "name": "stderr",
     "output_type": "stream",
     "text": [
      "100%|██████████| 200/200 [00:02<00:00, 89.09it/s]\n"
     ]
    },
    {
     "name": "stdout",
     "output_type": "stream",
     "text": [
      "131.5835\n"
     ]
    },
    {
     "name": "stderr",
     "output_type": "stream",
     "text": [
      "100%|██████████| 200/200 [00:02<00:00, 88.65it/s]\n"
     ]
    },
    {
     "name": "stdout",
     "output_type": "stream",
     "text": [
      "131.65778\n"
     ]
    },
    {
     "name": "stderr",
     "output_type": "stream",
     "text": [
      "100%|██████████| 200/200 [00:02<00:00, 89.04it/s]\n"
     ]
    },
    {
     "name": "stdout",
     "output_type": "stream",
     "text": [
      "131.60849\n"
     ]
    },
    {
     "name": "stderr",
     "output_type": "stream",
     "text": [
      "100%|██████████| 200/200 [00:02<00:00, 89.10it/s]\n"
     ]
    },
    {
     "name": "stdout",
     "output_type": "stream",
     "text": [
      "131.68959\n"
     ]
    },
    {
     "name": "stderr",
     "output_type": "stream",
     "text": [
      "100%|██████████| 200/200 [00:02<00:00, 88.52it/s]\n"
     ]
    },
    {
     "name": "stdout",
     "output_type": "stream",
     "text": [
      "131.48291\n"
     ]
    },
    {
     "name": "stderr",
     "output_type": "stream",
     "text": [
      "100%|██████████| 200/200 [00:02<00:00, 88.23it/s]\n"
     ]
    },
    {
     "name": "stdout",
     "output_type": "stream",
     "text": [
      "132.23767\n"
     ]
    },
    {
     "name": "stderr",
     "output_type": "stream",
     "text": [
      "100%|██████████| 200/200 [00:02<00:00, 87.99it/s]\n"
     ]
    },
    {
     "name": "stdout",
     "output_type": "stream",
     "text": [
      "132.43217\n"
     ]
    },
    {
     "name": "stderr",
     "output_type": "stream",
     "text": [
      "100%|██████████| 200/200 [00:02<00:00, 89.05it/s]\n"
     ]
    },
    {
     "name": "stdout",
     "output_type": "stream",
     "text": [
      "132.29199\n"
     ]
    },
    {
     "name": "stderr",
     "output_type": "stream",
     "text": [
      "100%|██████████| 200/200 [00:02<00:00, 88.97it/s]\n"
     ]
    },
    {
     "name": "stdout",
     "output_type": "stream",
     "text": [
      "132.75566\n"
     ]
    },
    {
     "name": "stderr",
     "output_type": "stream",
     "text": [
      "100%|██████████| 200/200 [00:02<00:00, 88.63it/s]\n"
     ]
    },
    {
     "name": "stdout",
     "output_type": "stream",
     "text": [
      "132.50812\n"
     ]
    },
    {
     "name": "stderr",
     "output_type": "stream",
     "text": [
      "100%|██████████| 200/200 [00:02<00:00, 88.94it/s]\n"
     ]
    },
    {
     "name": "stdout",
     "output_type": "stream",
     "text": [
      "131.72466\n"
     ]
    },
    {
     "name": "stderr",
     "output_type": "stream",
     "text": [
      "100%|██████████| 200/200 [00:02<00:00, 88.96it/s]\n"
     ]
    },
    {
     "name": "stdout",
     "output_type": "stream",
     "text": [
      "131.66469\n"
     ]
    },
    {
     "name": "stderr",
     "output_type": "stream",
     "text": [
      "100%|██████████| 200/200 [00:02<00:00, 88.22it/s]\n"
     ]
    },
    {
     "name": "stdout",
     "output_type": "stream",
     "text": [
      "132.0156\n"
     ]
    },
    {
     "name": "stderr",
     "output_type": "stream",
     "text": [
      "100%|██████████| 200/200 [00:02<00:00, 89.10it/s]\n"
     ]
    },
    {
     "name": "stdout",
     "output_type": "stream",
     "text": [
      "132.02197\n"
     ]
    },
    {
     "name": "stderr",
     "output_type": "stream",
     "text": [
      "100%|██████████| 200/200 [00:02<00:00, 87.99it/s]\n"
     ]
    },
    {
     "name": "stdout",
     "output_type": "stream",
     "text": [
      "132.05836\n"
     ]
    },
    {
     "name": "stderr",
     "output_type": "stream",
     "text": [
      "100%|██████████| 200/200 [00:02<00:00, 88.55it/s]\n"
     ]
    },
    {
     "name": "stdout",
     "output_type": "stream",
     "text": [
      "131.72614\n"
     ]
    },
    {
     "name": "stderr",
     "output_type": "stream",
     "text": [
      "100%|██████████| 200/200 [00:02<00:00, 89.17it/s]\n"
     ]
    },
    {
     "name": "stdout",
     "output_type": "stream",
     "text": [
      "131.71408\n"
     ]
    },
    {
     "name": "stderr",
     "output_type": "stream",
     "text": [
      "100%|██████████| 200/200 [00:02<00:00, 88.73it/s]\n"
     ]
    },
    {
     "name": "stdout",
     "output_type": "stream",
     "text": [
      "131.80983\n"
     ]
    },
    {
     "name": "stderr",
     "output_type": "stream",
     "text": [
      "100%|██████████| 200/200 [00:02<00:00, 87.96it/s]\n"
     ]
    },
    {
     "name": "stdout",
     "output_type": "stream",
     "text": [
      "131.90033\n"
     ]
    },
    {
     "name": "stderr",
     "output_type": "stream",
     "text": [
      "100%|██████████| 200/200 [00:02<00:00, 88.64it/s]\n"
     ]
    },
    {
     "name": "stdout",
     "output_type": "stream",
     "text": [
      "131.88747\n"
     ]
    },
    {
     "name": "stderr",
     "output_type": "stream",
     "text": [
      "100%|██████████| 200/200 [00:02<00:00, 88.08it/s]\n"
     ]
    },
    {
     "name": "stdout",
     "output_type": "stream",
     "text": [
      "131.6918\n"
     ]
    },
    {
     "name": "stderr",
     "output_type": "stream",
     "text": [
      "100%|██████████| 200/200 [00:02<00:00, 88.36it/s]\n"
     ]
    },
    {
     "name": "stdout",
     "output_type": "stream",
     "text": [
      "131.76299\n"
     ]
    },
    {
     "name": "stderr",
     "output_type": "stream",
     "text": [
      "100%|██████████| 200/200 [00:02<00:00, 89.21it/s]\n"
     ]
    },
    {
     "name": "stdout",
     "output_type": "stream",
     "text": [
      "131.82536\n"
     ]
    },
    {
     "name": "stderr",
     "output_type": "stream",
     "text": [
      "100%|██████████| 200/200 [00:02<00:00, 88.92it/s]\n"
     ]
    },
    {
     "name": "stdout",
     "output_type": "stream",
     "text": [
      "131.68895\n"
     ]
    },
    {
     "name": "stderr",
     "output_type": "stream",
     "text": [
      "100%|██████████| 200/200 [00:02<00:00, 88.31it/s]\n"
     ]
    },
    {
     "name": "stdout",
     "output_type": "stream",
     "text": [
      "131.8307\n"
     ]
    },
    {
     "name": "stderr",
     "output_type": "stream",
     "text": [
      "100%|██████████| 200/200 [00:02<00:00, 88.39it/s]\n"
     ]
    },
    {
     "name": "stdout",
     "output_type": "stream",
     "text": [
      "131.54764\n"
     ]
    },
    {
     "name": "stderr",
     "output_type": "stream",
     "text": [
      "100%|██████████| 200/200 [00:02<00:00, 88.73it/s]\n"
     ]
    },
    {
     "name": "stdout",
     "output_type": "stream",
     "text": [
      "131.34619\n"
     ]
    },
    {
     "name": "stderr",
     "output_type": "stream",
     "text": [
      "100%|██████████| 200/200 [00:02<00:00, 88.35it/s]\n"
     ]
    },
    {
     "name": "stdout",
     "output_type": "stream",
     "text": [
      "131.39403\n"
     ]
    },
    {
     "name": "stderr",
     "output_type": "stream",
     "text": [
      "100%|██████████| 200/200 [00:02<00:00, 88.62it/s]\n"
     ]
    },
    {
     "name": "stdout",
     "output_type": "stream",
     "text": [
      "131.4216\n"
     ]
    },
    {
     "name": "stderr",
     "output_type": "stream",
     "text": [
      "100%|██████████| 200/200 [00:02<00:00, 88.58it/s]\n"
     ]
    },
    {
     "name": "stdout",
     "output_type": "stream",
     "text": [
      "131.21408\n"
     ]
    },
    {
     "name": "stderr",
     "output_type": "stream",
     "text": [
      "100%|██████████| 200/200 [00:02<00:00, 88.77it/s]\n"
     ]
    },
    {
     "name": "stdout",
     "output_type": "stream",
     "text": [
      "131.65549\n"
     ]
    },
    {
     "name": "stderr",
     "output_type": "stream",
     "text": [
      "100%|██████████| 200/200 [00:02<00:00, 89.25it/s]\n"
     ]
    },
    {
     "name": "stdout",
     "output_type": "stream",
     "text": [
      "131.40187\n"
     ]
    },
    {
     "name": "stderr",
     "output_type": "stream",
     "text": [
      "100%|██████████| 200/200 [00:02<00:00, 89.15it/s]\n"
     ]
    },
    {
     "name": "stdout",
     "output_type": "stream",
     "text": [
      "131.59038\n"
     ]
    },
    {
     "name": "stderr",
     "output_type": "stream",
     "text": [
      "100%|██████████| 200/200 [00:02<00:00, 88.24it/s]\n"
     ]
    },
    {
     "name": "stdout",
     "output_type": "stream",
     "text": [
      "131.51262\n"
     ]
    },
    {
     "name": "stderr",
     "output_type": "stream",
     "text": [
      "100%|██████████| 200/200 [00:02<00:00, 87.08it/s]\n"
     ]
    },
    {
     "name": "stdout",
     "output_type": "stream",
     "text": [
      "131.28586\n"
     ]
    },
    {
     "name": "stderr",
     "output_type": "stream",
     "text": [
      "100%|██████████| 200/200 [00:02<00:00, 87.61it/s]\n"
     ]
    },
    {
     "name": "stdout",
     "output_type": "stream",
     "text": [
      "131.39926\n"
     ]
    },
    {
     "name": "stderr",
     "output_type": "stream",
     "text": [
      "100%|██████████| 200/200 [00:02<00:00, 87.96it/s]\n"
     ]
    },
    {
     "name": "stdout",
     "output_type": "stream",
     "text": [
      "131.42401\n"
     ]
    },
    {
     "name": "stderr",
     "output_type": "stream",
     "text": [
      "100%|██████████| 200/200 [00:02<00:00, 88.68it/s]\n"
     ]
    },
    {
     "name": "stdout",
     "output_type": "stream",
     "text": [
      "131.38579\n"
     ]
    },
    {
     "name": "stderr",
     "output_type": "stream",
     "text": [
      "100%|██████████| 200/200 [00:02<00:00, 88.84it/s]\n"
     ]
    },
    {
     "name": "stdout",
     "output_type": "stream",
     "text": [
      "131.36362\n"
     ]
    },
    {
     "name": "stderr",
     "output_type": "stream",
     "text": [
      "100%|██████████| 200/200 [00:02<00:00, 87.86it/s]\n"
     ]
    },
    {
     "name": "stdout",
     "output_type": "stream",
     "text": [
      "131.47847\n"
     ]
    },
    {
     "name": "stderr",
     "output_type": "stream",
     "text": [
      "100%|██████████| 200/200 [00:02<00:00, 88.86it/s]\n"
     ]
    },
    {
     "name": "stdout",
     "output_type": "stream",
     "text": [
      "132.1478\n"
     ]
    },
    {
     "name": "stderr",
     "output_type": "stream",
     "text": [
      "100%|██████████| 200/200 [00:02<00:00, 88.71it/s]\n"
     ]
    },
    {
     "name": "stdout",
     "output_type": "stream",
     "text": [
      "132.36563\n"
     ]
    },
    {
     "name": "stderr",
     "output_type": "stream",
     "text": [
      "100%|██████████| 200/200 [00:02<00:00, 87.92it/s]\n"
     ]
    },
    {
     "name": "stdout",
     "output_type": "stream",
     "text": [
      "132.47641\n"
     ]
    },
    {
     "name": "stderr",
     "output_type": "stream",
     "text": [
      "100%|██████████| 200/200 [00:02<00:00, 88.45it/s]\n"
     ]
    },
    {
     "name": "stdout",
     "output_type": "stream",
     "text": [
      "132.2122\n"
     ]
    },
    {
     "name": "stderr",
     "output_type": "stream",
     "text": [
      "100%|██████████| 200/200 [00:02<00:00, 88.21it/s]\n"
     ]
    },
    {
     "name": "stdout",
     "output_type": "stream",
     "text": [
      "132.24129\n"
     ]
    },
    {
     "name": "stderr",
     "output_type": "stream",
     "text": [
      "100%|██████████| 200/200 [00:02<00:00, 88.61it/s]\n"
     ]
    },
    {
     "name": "stdout",
     "output_type": "stream",
     "text": [
      "131.98074\n"
     ]
    },
    {
     "name": "stderr",
     "output_type": "stream",
     "text": [
      "100%|██████████| 200/200 [00:02<00:00, 88.73it/s]\n"
     ]
    },
    {
     "name": "stdout",
     "output_type": "stream",
     "text": [
      "131.89119\n"
     ]
    },
    {
     "name": "stderr",
     "output_type": "stream",
     "text": [
      "100%|██████████| 200/200 [00:02<00:00, 88.19it/s]\n"
     ]
    },
    {
     "name": "stdout",
     "output_type": "stream",
     "text": [
      "132.09918\n"
     ]
    },
    {
     "name": "stderr",
     "output_type": "stream",
     "text": [
      "100%|██████████| 200/200 [00:02<00:00, 87.93it/s]\n"
     ]
    },
    {
     "name": "stdout",
     "output_type": "stream",
     "text": [
      "132.04146\n"
     ]
    },
    {
     "name": "stderr",
     "output_type": "stream",
     "text": [
      "100%|██████████| 200/200 [00:02<00:00, 87.82it/s]\n"
     ]
    },
    {
     "name": "stdout",
     "output_type": "stream",
     "text": [
      "131.85846\n"
     ]
    },
    {
     "name": "stderr",
     "output_type": "stream",
     "text": [
      "100%|██████████| 200/200 [00:02<00:00, 88.23it/s]\n"
     ]
    },
    {
     "name": "stdout",
     "output_type": "stream",
     "text": [
      "131.79347\n"
     ]
    },
    {
     "name": "stderr",
     "output_type": "stream",
     "text": [
      "100%|██████████| 200/200 [00:02<00:00, 88.81it/s]\n"
     ]
    },
    {
     "name": "stdout",
     "output_type": "stream",
     "text": [
      "131.67508\n"
     ]
    },
    {
     "name": "stderr",
     "output_type": "stream",
     "text": [
      "100%|██████████| 200/200 [00:02<00:00, 89.04it/s]\n"
     ]
    },
    {
     "name": "stdout",
     "output_type": "stream",
     "text": [
      "131.83609\n"
     ]
    },
    {
     "name": "stderr",
     "output_type": "stream",
     "text": [
      "100%|██████████| 200/200 [00:02<00:00, 88.31it/s]\n"
     ]
    },
    {
     "name": "stdout",
     "output_type": "stream",
     "text": [
      "131.95473\n"
     ]
    },
    {
     "name": "stderr",
     "output_type": "stream",
     "text": [
      "100%|██████████| 200/200 [00:02<00:00, 88.95it/s]\n"
     ]
    },
    {
     "name": "stdout",
     "output_type": "stream",
     "text": [
      "131.93102\n"
     ]
    },
    {
     "name": "stderr",
     "output_type": "stream",
     "text": [
      "100%|██████████| 200/200 [00:02<00:00, 88.83it/s]\n"
     ]
    },
    {
     "name": "stdout",
     "output_type": "stream",
     "text": [
      "131.7754\n"
     ]
    },
    {
     "name": "stderr",
     "output_type": "stream",
     "text": [
      "100%|██████████| 200/200 [00:02<00:00, 88.35it/s]\n"
     ]
    },
    {
     "name": "stdout",
     "output_type": "stream",
     "text": [
      "131.6644\n"
     ]
    },
    {
     "name": "stderr",
     "output_type": "stream",
     "text": [
      "100%|██████████| 200/200 [00:02<00:00, 88.92it/s]\n"
     ]
    },
    {
     "name": "stdout",
     "output_type": "stream",
     "text": [
      "131.6855\n"
     ]
    },
    {
     "name": "stderr",
     "output_type": "stream",
     "text": [
      "100%|██████████| 200/200 [00:02<00:00, 88.91it/s]\n"
     ]
    },
    {
     "name": "stdout",
     "output_type": "stream",
     "text": [
      "131.71918\n"
     ]
    },
    {
     "name": "stderr",
     "output_type": "stream",
     "text": [
      "100%|██████████| 200/200 [00:02<00:00, 87.78it/s]\n"
     ]
    },
    {
     "name": "stdout",
     "output_type": "stream",
     "text": [
      "131.75725\n"
     ]
    },
    {
     "name": "stderr",
     "output_type": "stream",
     "text": [
      "100%|██████████| 200/200 [00:02<00:00, 88.76it/s]\n"
     ]
    },
    {
     "name": "stdout",
     "output_type": "stream",
     "text": [
      "131.57613\n"
     ]
    },
    {
     "name": "stderr",
     "output_type": "stream",
     "text": [
      "100%|██████████| 200/200 [00:02<00:00, 88.62it/s]\n"
     ]
    },
    {
     "name": "stdout",
     "output_type": "stream",
     "text": [
      "131.50085\n"
     ]
    },
    {
     "name": "stderr",
     "output_type": "stream",
     "text": [
      "100%|██████████| 200/200 [00:02<00:00, 87.42it/s]\n"
     ]
    },
    {
     "name": "stdout",
     "output_type": "stream",
     "text": [
      "131.58385\n"
     ]
    },
    {
     "name": "stderr",
     "output_type": "stream",
     "text": [
      "100%|██████████| 200/200 [00:02<00:00, 88.26it/s]\n"
     ]
    },
    {
     "name": "stdout",
     "output_type": "stream",
     "text": [
      "131.58209\n"
     ]
    },
    {
     "name": "stderr",
     "output_type": "stream",
     "text": [
      "100%|██████████| 200/200 [00:02<00:00, 88.63it/s]\n"
     ]
    },
    {
     "name": "stdout",
     "output_type": "stream",
     "text": [
      "131.60918\n"
     ]
    },
    {
     "name": "stderr",
     "output_type": "stream",
     "text": [
      "100%|██████████| 200/200 [00:02<00:00, 88.34it/s]\n"
     ]
    },
    {
     "name": "stdout",
     "output_type": "stream",
     "text": [
      "131.58449\n"
     ]
    },
    {
     "name": "stderr",
     "output_type": "stream",
     "text": [
      "100%|██████████| 200/200 [00:02<00:00, 89.08it/s]\n"
     ]
    },
    {
     "name": "stdout",
     "output_type": "stream",
     "text": [
      "131.49586\n"
     ]
    },
    {
     "name": "stderr",
     "output_type": "stream",
     "text": [
      "100%|██████████| 200/200 [00:02<00:00, 88.85it/s]\n"
     ]
    },
    {
     "name": "stdout",
     "output_type": "stream",
     "text": [
      "131.5933\n"
     ]
    },
    {
     "name": "stderr",
     "output_type": "stream",
     "text": [
      "100%|██████████| 200/200 [00:02<00:00, 88.57it/s]\n"
     ]
    },
    {
     "name": "stdout",
     "output_type": "stream",
     "text": [
      "131.84036\n"
     ]
    },
    {
     "name": "stderr",
     "output_type": "stream",
     "text": [
      "100%|██████████| 200/200 [00:02<00:00, 89.11it/s]\n"
     ]
    },
    {
     "name": "stdout",
     "output_type": "stream",
     "text": [
      "131.47548\n"
     ]
    },
    {
     "name": "stderr",
     "output_type": "stream",
     "text": [
      "100%|██████████| 200/200 [00:02<00:00, 88.58it/s]\n"
     ]
    },
    {
     "name": "stdout",
     "output_type": "stream",
     "text": [
      "131.40334\n"
     ]
    },
    {
     "name": "stderr",
     "output_type": "stream",
     "text": [
      "100%|██████████| 200/200 [00:02<00:00, 88.12it/s]\n"
     ]
    },
    {
     "name": "stdout",
     "output_type": "stream",
     "text": [
      "131.48236\n"
     ]
    },
    {
     "name": "stderr",
     "output_type": "stream",
     "text": [
      "100%|██████████| 200/200 [00:02<00:00, 88.84it/s]\n"
     ]
    },
    {
     "name": "stdout",
     "output_type": "stream",
     "text": [
      "131.68143\n"
     ]
    },
    {
     "name": "stderr",
     "output_type": "stream",
     "text": [
      "100%|██████████| 200/200 [00:02<00:00, 88.72it/s]\n"
     ]
    },
    {
     "name": "stdout",
     "output_type": "stream",
     "text": [
      "131.71233\n"
     ]
    },
    {
     "name": "stderr",
     "output_type": "stream",
     "text": [
      "100%|██████████| 200/200 [00:02<00:00, 88.24it/s]\n"
     ]
    },
    {
     "name": "stdout",
     "output_type": "stream",
     "text": [
      "131.66028\n"
     ]
    },
    {
     "name": "stderr",
     "output_type": "stream",
     "text": [
      "100%|██████████| 200/200 [00:02<00:00, 88.80it/s]\n"
     ]
    },
    {
     "name": "stdout",
     "output_type": "stream",
     "text": [
      "132.26746\n"
     ]
    },
    {
     "name": "stderr",
     "output_type": "stream",
     "text": [
      "100%|██████████| 200/200 [00:02<00:00, 88.42it/s]\n"
     ]
    },
    {
     "name": "stdout",
     "output_type": "stream",
     "text": [
      "132.01263\n"
     ]
    },
    {
     "name": "stderr",
     "output_type": "stream",
     "text": [
      "100%|██████████| 200/200 [00:02<00:00, 86.77it/s]\n"
     ]
    },
    {
     "name": "stdout",
     "output_type": "stream",
     "text": [
      "132.21063\n"
     ]
    },
    {
     "name": "stderr",
     "output_type": "stream",
     "text": [
      "100%|██████████| 200/200 [00:02<00:00, 88.67it/s]\n"
     ]
    },
    {
     "name": "stdout",
     "output_type": "stream",
     "text": [
      "132.64616\n"
     ]
    },
    {
     "name": "stderr",
     "output_type": "stream",
     "text": [
      "100%|██████████| 200/200 [00:02<00:00, 88.81it/s]\n"
     ]
    },
    {
     "name": "stdout",
     "output_type": "stream",
     "text": [
      "132.22903\n"
     ]
    },
    {
     "name": "stderr",
     "output_type": "stream",
     "text": [
      "100%|██████████| 200/200 [00:02<00:00, 87.70it/s]\n"
     ]
    },
    {
     "name": "stdout",
     "output_type": "stream",
     "text": [
      "131.3934\n"
     ]
    },
    {
     "name": "stderr",
     "output_type": "stream",
     "text": [
      "100%|██████████| 200/200 [00:02<00:00, 88.60it/s]\n"
     ]
    },
    {
     "name": "stdout",
     "output_type": "stream",
     "text": [
      "131.51283\n"
     ]
    },
    {
     "name": "stderr",
     "output_type": "stream",
     "text": [
      "100%|██████████| 200/200 [00:02<00:00, 88.73it/s]\n"
     ]
    },
    {
     "name": "stdout",
     "output_type": "stream",
     "text": [
      "131.73961\n"
     ]
    },
    {
     "name": "stderr",
     "output_type": "stream",
     "text": [
      "100%|██████████| 200/200 [00:02<00:00, 87.62it/s]\n"
     ]
    },
    {
     "name": "stdout",
     "output_type": "stream",
     "text": [
      "131.87038\n"
     ]
    },
    {
     "name": "stderr",
     "output_type": "stream",
     "text": [
      "100%|██████████| 200/200 [00:02<00:00, 88.62it/s]\n"
     ]
    },
    {
     "name": "stdout",
     "output_type": "stream",
     "text": [
      "132.02914\n"
     ]
    },
    {
     "name": "stderr",
     "output_type": "stream",
     "text": [
      "100%|██████████| 200/200 [00:02<00:00, 88.57it/s]\n"
     ]
    },
    {
     "name": "stdout",
     "output_type": "stream",
     "text": [
      "131.472\n"
     ]
    },
    {
     "name": "stderr",
     "output_type": "stream",
     "text": [
      "100%|██████████| 200/200 [00:02<00:00, 88.19it/s]\n"
     ]
    },
    {
     "name": "stdout",
     "output_type": "stream",
     "text": [
      "131.58913\n"
     ]
    },
    {
     "name": "stderr",
     "output_type": "stream",
     "text": [
      "100%|██████████| 200/200 [00:02<00:00, 88.71it/s]\n"
     ]
    },
    {
     "name": "stdout",
     "output_type": "stream",
     "text": [
      "131.64238\n"
     ]
    },
    {
     "name": "stderr",
     "output_type": "stream",
     "text": [
      "100%|██████████| 200/200 [00:02<00:00, 88.80it/s]\n"
     ]
    },
    {
     "name": "stdout",
     "output_type": "stream",
     "text": [
      "131.94028\n"
     ]
    },
    {
     "name": "stderr",
     "output_type": "stream",
     "text": [
      "100%|██████████| 200/200 [00:02<00:00, 87.93it/s]\n"
     ]
    },
    {
     "name": "stdout",
     "output_type": "stream",
     "text": [
      "132.06935\n"
     ]
    },
    {
     "name": "stderr",
     "output_type": "stream",
     "text": [
      "100%|██████████| 200/200 [00:02<00:00, 87.91it/s]\n"
     ]
    },
    {
     "name": "stdout",
     "output_type": "stream",
     "text": [
      "131.33401\n"
     ]
    },
    {
     "name": "stderr",
     "output_type": "stream",
     "text": [
      "100%|██████████| 200/200 [00:02<00:00, 87.25it/s]\n"
     ]
    },
    {
     "name": "stdout",
     "output_type": "stream",
     "text": [
      "131.42867\n"
     ]
    },
    {
     "name": "stderr",
     "output_type": "stream",
     "text": [
      "100%|██████████| 200/200 [00:02<00:00, 87.51it/s]\n"
     ]
    },
    {
     "name": "stdout",
     "output_type": "stream",
     "text": [
      "131.46748\n"
     ]
    },
    {
     "name": "stderr",
     "output_type": "stream",
     "text": [
      "100%|██████████| 200/200 [00:02<00:00, 88.56it/s]\n"
     ]
    },
    {
     "name": "stdout",
     "output_type": "stream",
     "text": [
      "131.46368\n"
     ]
    },
    {
     "name": "stderr",
     "output_type": "stream",
     "text": [
      "100%|██████████| 200/200 [00:02<00:00, 88.63it/s]\n"
     ]
    },
    {
     "name": "stdout",
     "output_type": "stream",
     "text": [
      "131.76059\n"
     ]
    },
    {
     "data": {
      "application/vnd.jupyter.widget-view+json": {
       "model_id": "2432991cf4114156871367a0a8aa955d",
       "version_major": 2,
       "version_minor": 0
      },
      "text/plain": [
       "Loading checkpoint shards:   0%|          | 0/2 [00:00<?, ?it/s]"
      ]
     },
     "metadata": {},
     "output_type": "display_data"
    },
    {
     "name": "stderr",
     "output_type": "stream",
     "text": [
      "100%|██████████| 200/200 [00:03<00:00, 65.50it/s]\n"
     ]
    },
    {
     "name": "stdout",
     "output_type": "stream",
     "text": [
      "50.37955\n"
     ]
    },
    {
     "name": "stderr",
     "output_type": "stream",
     "text": [
      "100%|██████████| 200/200 [00:03<00:00, 65.23it/s]\n"
     ]
    },
    {
     "name": "stdout",
     "output_type": "stream",
     "text": [
      "50.035145\n"
     ]
    },
    {
     "name": "stderr",
     "output_type": "stream",
     "text": [
      "100%|██████████| 200/200 [00:03<00:00, 65.50it/s]\n"
     ]
    },
    {
     "name": "stdout",
     "output_type": "stream",
     "text": [
      "49.663105\n"
     ]
    },
    {
     "name": "stderr",
     "output_type": "stream",
     "text": [
      "100%|██████████| 200/200 [00:03<00:00, 65.29it/s]\n"
     ]
    },
    {
     "name": "stdout",
     "output_type": "stream",
     "text": [
      "49.319252\n"
     ]
    },
    {
     "name": "stderr",
     "output_type": "stream",
     "text": [
      "100%|██████████| 200/200 [00:03<00:00, 65.84it/s]\n"
     ]
    },
    {
     "name": "stdout",
     "output_type": "stream",
     "text": [
      "48.97691\n"
     ]
    },
    {
     "name": "stderr",
     "output_type": "stream",
     "text": [
      "100%|██████████| 200/200 [00:03<00:00, 65.56it/s]\n"
     ]
    },
    {
     "name": "stdout",
     "output_type": "stream",
     "text": [
      "50.374035\n"
     ]
    },
    {
     "name": "stderr",
     "output_type": "stream",
     "text": [
      "100%|██████████| 200/200 [00:03<00:00, 65.01it/s]\n"
     ]
    },
    {
     "name": "stdout",
     "output_type": "stream",
     "text": [
      "50.106953\n"
     ]
    },
    {
     "name": "stderr",
     "output_type": "stream",
     "text": [
      "100%|██████████| 200/200 [00:03<00:00, 65.31it/s]\n"
     ]
    },
    {
     "name": "stdout",
     "output_type": "stream",
     "text": [
      "49.57247\n"
     ]
    },
    {
     "name": "stderr",
     "output_type": "stream",
     "text": [
      "100%|██████████| 200/200 [00:03<00:00, 65.10it/s]\n"
     ]
    },
    {
     "name": "stdout",
     "output_type": "stream",
     "text": [
      "49.435143\n"
     ]
    },
    {
     "name": "stderr",
     "output_type": "stream",
     "text": [
      "100%|██████████| 200/200 [00:03<00:00, 65.71it/s]\n"
     ]
    },
    {
     "name": "stdout",
     "output_type": "stream",
     "text": [
      "49.025734\n"
     ]
    },
    {
     "name": "stderr",
     "output_type": "stream",
     "text": [
      "100%|██████████| 200/200 [00:03<00:00, 65.00it/s]\n"
     ]
    },
    {
     "name": "stdout",
     "output_type": "stream",
     "text": [
      "50.232716\n"
     ]
    },
    {
     "name": "stderr",
     "output_type": "stream",
     "text": [
      "100%|██████████| 200/200 [00:03<00:00, 64.99it/s]\n"
     ]
    },
    {
     "name": "stdout",
     "output_type": "stream",
     "text": [
      "50.037304\n"
     ]
    },
    {
     "name": "stderr",
     "output_type": "stream",
     "text": [
      "100%|██████████| 200/200 [00:03<00:00, 64.88it/s]\n"
     ]
    },
    {
     "name": "stdout",
     "output_type": "stream",
     "text": [
      "49.884552\n"
     ]
    },
    {
     "name": "stderr",
     "output_type": "stream",
     "text": [
      "100%|██████████| 200/200 [00:03<00:00, 65.02it/s]\n"
     ]
    },
    {
     "name": "stdout",
     "output_type": "stream",
     "text": [
      "49.86488\n"
     ]
    },
    {
     "name": "stderr",
     "output_type": "stream",
     "text": [
      "100%|██████████| 200/200 [00:03<00:00, 65.00it/s]\n"
     ]
    },
    {
     "name": "stdout",
     "output_type": "stream",
     "text": [
      "50.0003\n"
     ]
    },
    {
     "name": "stderr",
     "output_type": "stream",
     "text": [
      "100%|██████████| 200/200 [00:03<00:00, 64.85it/s]\n"
     ]
    },
    {
     "name": "stdout",
     "output_type": "stream",
     "text": [
      "50.843994\n"
     ]
    },
    {
     "name": "stderr",
     "output_type": "stream",
     "text": [
      "100%|██████████| 200/200 [00:03<00:00, 65.27it/s]\n"
     ]
    },
    {
     "name": "stdout",
     "output_type": "stream",
     "text": [
      "50.80158\n"
     ]
    },
    {
     "name": "stderr",
     "output_type": "stream",
     "text": [
      "100%|██████████| 200/200 [00:03<00:00, 64.62it/s]\n"
     ]
    },
    {
     "name": "stdout",
     "output_type": "stream",
     "text": [
      "50.73577\n"
     ]
    },
    {
     "name": "stderr",
     "output_type": "stream",
     "text": [
      "100%|██████████| 200/200 [00:03<00:00, 65.27it/s]\n"
     ]
    },
    {
     "name": "stdout",
     "output_type": "stream",
     "text": [
      "50.799385\n"
     ]
    },
    {
     "name": "stderr",
     "output_type": "stream",
     "text": [
      "100%|██████████| 200/200 [00:03<00:00, 65.27it/s]\n"
     ]
    },
    {
     "name": "stdout",
     "output_type": "stream",
     "text": [
      "50.899048\n"
     ]
    },
    {
     "name": "stderr",
     "output_type": "stream",
     "text": [
      "100%|██████████| 200/200 [00:03<00:00, 64.95it/s]\n"
     ]
    },
    {
     "name": "stdout",
     "output_type": "stream",
     "text": [
      "50.687206\n"
     ]
    },
    {
     "name": "stderr",
     "output_type": "stream",
     "text": [
      "100%|██████████| 200/200 [00:03<00:00, 65.28it/s]\n"
     ]
    },
    {
     "name": "stdout",
     "output_type": "stream",
     "text": [
      "50.655018\n"
     ]
    },
    {
     "name": "stderr",
     "output_type": "stream",
     "text": [
      "100%|██████████| 200/200 [00:03<00:00, 65.13it/s]\n"
     ]
    },
    {
     "name": "stdout",
     "output_type": "stream",
     "text": [
      "50.647293\n"
     ]
    },
    {
     "name": "stderr",
     "output_type": "stream",
     "text": [
      "100%|██████████| 200/200 [00:03<00:00, 65.36it/s]\n"
     ]
    },
    {
     "name": "stdout",
     "output_type": "stream",
     "text": [
      "50.578358\n"
     ]
    },
    {
     "name": "stderr",
     "output_type": "stream",
     "text": [
      "100%|██████████| 200/200 [00:03<00:00, 65.26it/s]\n"
     ]
    },
    {
     "name": "stdout",
     "output_type": "stream",
     "text": [
      "50.474277\n"
     ]
    },
    {
     "name": "stderr",
     "output_type": "stream",
     "text": [
      "100%|██████████| 200/200 [00:03<00:00, 65.11it/s]\n"
     ]
    },
    {
     "name": "stdout",
     "output_type": "stream",
     "text": [
      "50.729416\n"
     ]
    },
    {
     "name": "stderr",
     "output_type": "stream",
     "text": [
      "100%|██████████| 200/200 [00:03<00:00, 65.20it/s]\n"
     ]
    },
    {
     "name": "stdout",
     "output_type": "stream",
     "text": [
      "50.736656\n"
     ]
    },
    {
     "name": "stderr",
     "output_type": "stream",
     "text": [
      "100%|██████████| 200/200 [00:03<00:00, 64.61it/s]\n"
     ]
    },
    {
     "name": "stdout",
     "output_type": "stream",
     "text": [
      "50.650375\n"
     ]
    },
    {
     "name": "stderr",
     "output_type": "stream",
     "text": [
      "100%|██████████| 200/200 [00:03<00:00, 64.61it/s]\n"
     ]
    },
    {
     "name": "stdout",
     "output_type": "stream",
     "text": [
      "50.514015\n"
     ]
    },
    {
     "name": "stderr",
     "output_type": "stream",
     "text": [
      "100%|██████████| 200/200 [00:03<00:00, 64.99it/s]\n"
     ]
    },
    {
     "name": "stdout",
     "output_type": "stream",
     "text": [
      "50.335712\n"
     ]
    },
    {
     "name": "stderr",
     "output_type": "stream",
     "text": [
      "100%|██████████| 200/200 [00:03<00:00, 65.27it/s]\n"
     ]
    },
    {
     "name": "stdout",
     "output_type": "stream",
     "text": [
      "50.65919\n"
     ]
    },
    {
     "name": "stderr",
     "output_type": "stream",
     "text": [
      "100%|██████████| 200/200 [00:03<00:00, 65.16it/s]\n"
     ]
    },
    {
     "name": "stdout",
     "output_type": "stream",
     "text": [
      "50.623146\n"
     ]
    },
    {
     "name": "stderr",
     "output_type": "stream",
     "text": [
      "100%|██████████| 200/200 [00:03<00:00, 64.55it/s]\n"
     ]
    },
    {
     "name": "stdout",
     "output_type": "stream",
     "text": [
      "50.580067\n"
     ]
    },
    {
     "name": "stderr",
     "output_type": "stream",
     "text": [
      "100%|██████████| 200/200 [00:03<00:00, 65.07it/s]\n"
     ]
    },
    {
     "name": "stdout",
     "output_type": "stream",
     "text": [
      "50.634754\n"
     ]
    },
    {
     "name": "stderr",
     "output_type": "stream",
     "text": [
      "100%|██████████| 200/200 [00:03<00:00, 64.82it/s]\n"
     ]
    },
    {
     "name": "stdout",
     "output_type": "stream",
     "text": [
      "50.470848\n"
     ]
    },
    {
     "name": "stderr",
     "output_type": "stream",
     "text": [
      "100%|██████████| 200/200 [00:03<00:00, 65.19it/s]\n"
     ]
    },
    {
     "name": "stdout",
     "output_type": "stream",
     "text": [
      "50.502144\n"
     ]
    },
    {
     "name": "stderr",
     "output_type": "stream",
     "text": [
      "100%|██████████| 200/200 [00:03<00:00, 65.05it/s]\n"
     ]
    },
    {
     "name": "stdout",
     "output_type": "stream",
     "text": [
      "50.11567\n"
     ]
    },
    {
     "name": "stderr",
     "output_type": "stream",
     "text": [
      "100%|██████████| 200/200 [00:03<00:00, 64.81it/s]\n"
     ]
    },
    {
     "name": "stdout",
     "output_type": "stream",
     "text": [
      "49.785175\n"
     ]
    },
    {
     "name": "stderr",
     "output_type": "stream",
     "text": [
      "100%|██████████| 200/200 [00:03<00:00, 64.59it/s]\n"
     ]
    },
    {
     "name": "stdout",
     "output_type": "stream",
     "text": [
      "49.543602\n"
     ]
    },
    {
     "name": "stderr",
     "output_type": "stream",
     "text": [
      "100%|██████████| 200/200 [00:03<00:00, 64.76it/s]\n"
     ]
    },
    {
     "name": "stdout",
     "output_type": "stream",
     "text": [
      "49.28629\n"
     ]
    },
    {
     "name": "stderr",
     "output_type": "stream",
     "text": [
      "100%|██████████| 200/200 [00:03<00:00, 65.12it/s]\n"
     ]
    },
    {
     "name": "stdout",
     "output_type": "stream",
     "text": [
      "50.526615\n"
     ]
    },
    {
     "name": "stderr",
     "output_type": "stream",
     "text": [
      "100%|██████████| 200/200 [00:03<00:00, 64.85it/s]\n"
     ]
    },
    {
     "name": "stdout",
     "output_type": "stream",
     "text": [
      "50.165375\n"
     ]
    },
    {
     "name": "stderr",
     "output_type": "stream",
     "text": [
      "100%|██████████| 200/200 [00:03<00:00, 65.48it/s]\n"
     ]
    },
    {
     "name": "stdout",
     "output_type": "stream",
     "text": [
      "49.824574\n"
     ]
    },
    {
     "name": "stderr",
     "output_type": "stream",
     "text": [
      "100%|██████████| 200/200 [00:03<00:00, 65.05it/s]\n"
     ]
    },
    {
     "name": "stdout",
     "output_type": "stream",
     "text": [
      "49.773643\n"
     ]
    },
    {
     "name": "stderr",
     "output_type": "stream",
     "text": [
      "100%|██████████| 200/200 [00:03<00:00, 65.47it/s]\n"
     ]
    },
    {
     "name": "stdout",
     "output_type": "stream",
     "text": [
      "49.495953\n"
     ]
    },
    {
     "name": "stderr",
     "output_type": "stream",
     "text": [
      "100%|██████████| 200/200 [00:03<00:00, 65.19it/s]\n"
     ]
    },
    {
     "name": "stdout",
     "output_type": "stream",
     "text": [
      "50.2491\n"
     ]
    },
    {
     "name": "stderr",
     "output_type": "stream",
     "text": [
      "100%|██████████| 200/200 [00:03<00:00, 65.08it/s]\n"
     ]
    },
    {
     "name": "stdout",
     "output_type": "stream",
     "text": [
      "49.996246\n"
     ]
    },
    {
     "name": "stderr",
     "output_type": "stream",
     "text": [
      "100%|██████████| 200/200 [00:03<00:00, 65.52it/s]\n"
     ]
    },
    {
     "name": "stdout",
     "output_type": "stream",
     "text": [
      "49.891586\n"
     ]
    },
    {
     "name": "stderr",
     "output_type": "stream",
     "text": [
      "100%|██████████| 200/200 [00:03<00:00, 64.76it/s]\n"
     ]
    },
    {
     "name": "stdout",
     "output_type": "stream",
     "text": [
      "50.078114\n"
     ]
    },
    {
     "name": "stderr",
     "output_type": "stream",
     "text": [
      "100%|██████████| 200/200 [00:03<00:00, 64.97it/s]\n"
     ]
    },
    {
     "name": "stdout",
     "output_type": "stream",
     "text": [
      "50.284286\n"
     ]
    },
    {
     "name": "stderr",
     "output_type": "stream",
     "text": [
      "100%|██████████| 200/200 [00:03<00:00, 65.01it/s]\n"
     ]
    },
    {
     "name": "stdout",
     "output_type": "stream",
     "text": [
      "50.88948\n"
     ]
    },
    {
     "name": "stderr",
     "output_type": "stream",
     "text": [
      "100%|██████████| 200/200 [00:03<00:00, 65.09it/s]\n"
     ]
    },
    {
     "name": "stdout",
     "output_type": "stream",
     "text": [
      "50.9479\n"
     ]
    },
    {
     "name": "stderr",
     "output_type": "stream",
     "text": [
      "100%|██████████| 200/200 [00:03<00:00, 64.82it/s]\n"
     ]
    },
    {
     "name": "stdout",
     "output_type": "stream",
     "text": [
      "50.840214\n"
     ]
    },
    {
     "name": "stderr",
     "output_type": "stream",
     "text": [
      "100%|██████████| 200/200 [00:03<00:00, 64.66it/s]\n"
     ]
    },
    {
     "name": "stdout",
     "output_type": "stream",
     "text": [
      "50.90624\n"
     ]
    },
    {
     "name": "stderr",
     "output_type": "stream",
     "text": [
      "100%|██████████| 200/200 [00:03<00:00, 64.87it/s]\n"
     ]
    },
    {
     "name": "stdout",
     "output_type": "stream",
     "text": [
      "51.045334\n"
     ]
    },
    {
     "name": "stderr",
     "output_type": "stream",
     "text": [
      "100%|██████████| 200/200 [00:03<00:00, 64.89it/s]\n"
     ]
    },
    {
     "name": "stdout",
     "output_type": "stream",
     "text": [
      "50.628693\n"
     ]
    },
    {
     "name": "stderr",
     "output_type": "stream",
     "text": [
      "100%|██████████| 200/200 [00:03<00:00, 65.08it/s]\n"
     ]
    },
    {
     "name": "stdout",
     "output_type": "stream",
     "text": [
      "50.60502\n"
     ]
    },
    {
     "name": "stderr",
     "output_type": "stream",
     "text": [
      "100%|██████████| 200/200 [00:03<00:00, 64.98it/s]\n"
     ]
    },
    {
     "name": "stdout",
     "output_type": "stream",
     "text": [
      "50.60997\n"
     ]
    },
    {
     "name": "stderr",
     "output_type": "stream",
     "text": [
      "100%|██████████| 200/200 [00:03<00:00, 64.66it/s]\n"
     ]
    },
    {
     "name": "stdout",
     "output_type": "stream",
     "text": [
      "50.887417\n"
     ]
    },
    {
     "name": "stderr",
     "output_type": "stream",
     "text": [
      "100%|██████████| 200/200 [00:03<00:00, 64.59it/s]\n"
     ]
    },
    {
     "name": "stdout",
     "output_type": "stream",
     "text": [
      "50.74635\n"
     ]
    },
    {
     "name": "stderr",
     "output_type": "stream",
     "text": [
      "100%|██████████| 200/200 [00:03<00:00, 65.05it/s]\n"
     ]
    },
    {
     "name": "stdout",
     "output_type": "stream",
     "text": [
      "50.576584\n"
     ]
    },
    {
     "name": "stderr",
     "output_type": "stream",
     "text": [
      "100%|██████████| 200/200 [00:03<00:00, 65.25it/s]\n"
     ]
    },
    {
     "name": "stdout",
     "output_type": "stream",
     "text": [
      "50.660732\n"
     ]
    },
    {
     "name": "stderr",
     "output_type": "stream",
     "text": [
      "100%|██████████| 200/200 [00:03<00:00, 65.00it/s]\n"
     ]
    },
    {
     "name": "stdout",
     "output_type": "stream",
     "text": [
      "50.812675\n"
     ]
    },
    {
     "name": "stderr",
     "output_type": "stream",
     "text": [
      "100%|██████████| 200/200 [00:03<00:00, 65.22it/s]\n"
     ]
    },
    {
     "name": "stdout",
     "output_type": "stream",
     "text": [
      "50.70702\n"
     ]
    },
    {
     "name": "stderr",
     "output_type": "stream",
     "text": [
      "100%|██████████| 200/200 [00:03<00:00, 65.27it/s]\n"
     ]
    },
    {
     "name": "stdout",
     "output_type": "stream",
     "text": [
      "50.52918\n"
     ]
    },
    {
     "name": "stderr",
     "output_type": "stream",
     "text": [
      "100%|██████████| 200/200 [00:03<00:00, 64.98it/s]\n"
     ]
    },
    {
     "name": "stdout",
     "output_type": "stream",
     "text": [
      "50.659355\n"
     ]
    },
    {
     "name": "stderr",
     "output_type": "stream",
     "text": [
      "100%|██████████| 200/200 [00:03<00:00, 65.24it/s]\n"
     ]
    },
    {
     "name": "stdout",
     "output_type": "stream",
     "text": [
      "50.710682\n"
     ]
    },
    {
     "name": "stderr",
     "output_type": "stream",
     "text": [
      "100%|██████████| 200/200 [00:03<00:00, 65.13it/s]\n"
     ]
    },
    {
     "name": "stdout",
     "output_type": "stream",
     "text": [
      "50.61083\n"
     ]
    },
    {
     "name": "stderr",
     "output_type": "stream",
     "text": [
      "100%|██████████| 200/200 [00:03<00:00, 65.16it/s]\n"
     ]
    },
    {
     "name": "stdout",
     "output_type": "stream",
     "text": [
      "50.658104\n"
     ]
    },
    {
     "name": "stderr",
     "output_type": "stream",
     "text": [
      "100%|██████████| 200/200 [00:03<00:00, 64.28it/s]\n"
     ]
    },
    {
     "name": "stdout",
     "output_type": "stream",
     "text": [
      "50.565147\n"
     ]
    },
    {
     "name": "stderr",
     "output_type": "stream",
     "text": [
      "100%|██████████| 200/200 [00:03<00:00, 65.84it/s]\n"
     ]
    },
    {
     "name": "stdout",
     "output_type": "stream",
     "text": [
      "50.627335\n"
     ]
    },
    {
     "name": "stderr",
     "output_type": "stream",
     "text": [
      "100%|██████████| 200/200 [00:02<00:00, 67.96it/s]\n"
     ]
    },
    {
     "name": "stdout",
     "output_type": "stream",
     "text": [
      "50.323936\n"
     ]
    },
    {
     "name": "stderr",
     "output_type": "stream",
     "text": [
      "100%|██████████| 200/200 [00:02<00:00, 71.71it/s]\n"
     ]
    },
    {
     "name": "stdout",
     "output_type": "stream",
     "text": [
      "50.108654\n"
     ]
    },
    {
     "name": "stderr",
     "output_type": "stream",
     "text": [
      "100%|██████████| 200/200 [00:02<00:00, 74.99it/s]\n"
     ]
    },
    {
     "name": "stdout",
     "output_type": "stream",
     "text": [
      "50.12627\n"
     ]
    },
    {
     "name": "stderr",
     "output_type": "stream",
     "text": [
      "100%|██████████| 200/200 [00:02<00:00, 79.15it/s]\n"
     ]
    },
    {
     "name": "stdout",
     "output_type": "stream",
     "text": [
      "50.377865\n"
     ]
    },
    {
     "name": "stderr",
     "output_type": "stream",
     "text": [
      "100%|██████████| 200/200 [00:03<00:00, 65.94it/s]\n"
     ]
    },
    {
     "name": "stdout",
     "output_type": "stream",
     "text": [
      "50.607628\n"
     ]
    },
    {
     "name": "stderr",
     "output_type": "stream",
     "text": [
      "100%|██████████| 200/200 [00:02<00:00, 67.76it/s]\n"
     ]
    },
    {
     "name": "stdout",
     "output_type": "stream",
     "text": [
      "50.369923\n"
     ]
    },
    {
     "name": "stderr",
     "output_type": "stream",
     "text": [
      "100%|██████████| 200/200 [00:02<00:00, 71.52it/s]\n"
     ]
    },
    {
     "name": "stdout",
     "output_type": "stream",
     "text": [
      "50.222553\n"
     ]
    },
    {
     "name": "stderr",
     "output_type": "stream",
     "text": [
      "100%|██████████| 200/200 [00:02<00:00, 73.95it/s]\n"
     ]
    },
    {
     "name": "stdout",
     "output_type": "stream",
     "text": [
      "50.19338\n"
     ]
    },
    {
     "name": "stderr",
     "output_type": "stream",
     "text": [
      "100%|██████████| 200/200 [00:02<00:00, 80.04it/s]\n"
     ]
    },
    {
     "name": "stdout",
     "output_type": "stream",
     "text": [
      "50.411236\n"
     ]
    },
    {
     "name": "stderr",
     "output_type": "stream",
     "text": [
      "100%|██████████| 200/200 [00:03<00:00, 64.98it/s]\n"
     ]
    },
    {
     "name": "stdout",
     "output_type": "stream",
     "text": [
      "50.46423\n"
     ]
    },
    {
     "name": "stderr",
     "output_type": "stream",
     "text": [
      "100%|██████████| 200/200 [00:03<00:00, 65.94it/s]\n"
     ]
    },
    {
     "name": "stdout",
     "output_type": "stream",
     "text": [
      "50.373146\n"
     ]
    },
    {
     "name": "stderr",
     "output_type": "stream",
     "text": [
      "100%|██████████| 200/200 [00:02<00:00, 67.43it/s]\n"
     ]
    },
    {
     "name": "stdout",
     "output_type": "stream",
     "text": [
      "50.27462\n"
     ]
    },
    {
     "name": "stderr",
     "output_type": "stream",
     "text": [
      "100%|██████████| 200/200 [00:02<00:00, 68.22it/s]\n"
     ]
    },
    {
     "name": "stdout",
     "output_type": "stream",
     "text": [
      "50.285404\n"
     ]
    },
    {
     "name": "stderr",
     "output_type": "stream",
     "text": [
      "100%|██████████| 200/200 [00:02<00:00, 68.84it/s]\n"
     ]
    },
    {
     "name": "stdout",
     "output_type": "stream",
     "text": [
      "50.362198\n"
     ]
    },
    {
     "name": "stderr",
     "output_type": "stream",
     "text": [
      "100%|██████████| 200/200 [00:03<00:00, 66.58it/s]\n"
     ]
    },
    {
     "name": "stdout",
     "output_type": "stream",
     "text": [
      "51.00255\n"
     ]
    },
    {
     "name": "stderr",
     "output_type": "stream",
     "text": [
      "100%|██████████| 200/200 [00:02<00:00, 68.16it/s]\n"
     ]
    },
    {
     "name": "stdout",
     "output_type": "stream",
     "text": [
      "50.920197\n"
     ]
    },
    {
     "name": "stderr",
     "output_type": "stream",
     "text": [
      "100%|██████████| 200/200 [00:02<00:00, 69.35it/s]\n"
     ]
    },
    {
     "name": "stdout",
     "output_type": "stream",
     "text": [
      "50.979183\n"
     ]
    },
    {
     "name": "stderr",
     "output_type": "stream",
     "text": [
      "100%|██████████| 200/200 [00:02<00:00, 68.79it/s]\n"
     ]
    },
    {
     "name": "stdout",
     "output_type": "stream",
     "text": [
      "50.896183\n"
     ]
    },
    {
     "name": "stderr",
     "output_type": "stream",
     "text": [
      "100%|██████████| 200/200 [00:02<00:00, 69.54it/s]\n"
     ]
    },
    {
     "name": "stdout",
     "output_type": "stream",
     "text": [
      "51.01459\n"
     ]
    },
    {
     "name": "stderr",
     "output_type": "stream",
     "text": [
      "100%|██████████| 200/200 [00:03<00:00, 65.32it/s]\n"
     ]
    },
    {
     "name": "stdout",
     "output_type": "stream",
     "text": [
      "50.824337\n"
     ]
    },
    {
     "name": "stderr",
     "output_type": "stream",
     "text": [
      "100%|██████████| 200/200 [00:03<00:00, 65.97it/s]\n"
     ]
    },
    {
     "name": "stdout",
     "output_type": "stream",
     "text": [
      "50.7412\n"
     ]
    },
    {
     "name": "stderr",
     "output_type": "stream",
     "text": [
      "100%|██████████| 200/200 [00:03<00:00, 66.48it/s]\n"
     ]
    },
    {
     "name": "stdout",
     "output_type": "stream",
     "text": [
      "50.771122\n"
     ]
    },
    {
     "name": "stderr",
     "output_type": "stream",
     "text": [
      "100%|██████████| 200/200 [00:02<00:00, 66.87it/s]\n"
     ]
    },
    {
     "name": "stdout",
     "output_type": "stream",
     "text": [
      "50.70762\n"
     ]
    },
    {
     "name": "stderr",
     "output_type": "stream",
     "text": [
      "100%|██████████| 200/200 [00:02<00:00, 68.26it/s]\n"
     ]
    },
    {
     "name": "stdout",
     "output_type": "stream",
     "text": [
      "50.759785\n"
     ]
    },
    {
     "name": "stderr",
     "output_type": "stream",
     "text": [
      "100%|██████████| 200/200 [00:03<00:00, 65.39it/s]\n"
     ]
    },
    {
     "name": "stdout",
     "output_type": "stream",
     "text": [
      "50.805477\n"
     ]
    },
    {
     "name": "stderr",
     "output_type": "stream",
     "text": [
      "100%|██████████| 200/200 [00:03<00:00, 65.75it/s]\n"
     ]
    },
    {
     "name": "stdout",
     "output_type": "stream",
     "text": [
      "50.773506\n"
     ]
    },
    {
     "name": "stderr",
     "output_type": "stream",
     "text": [
      "100%|██████████| 200/200 [00:03<00:00, 65.71it/s]\n"
     ]
    },
    {
     "name": "stdout",
     "output_type": "stream",
     "text": [
      "50.878838\n"
     ]
    },
    {
     "name": "stderr",
     "output_type": "stream",
     "text": [
      "100%|██████████| 200/200 [00:03<00:00, 66.52it/s]\n"
     ]
    },
    {
     "name": "stdout",
     "output_type": "stream",
     "text": [
      "50.764053\n"
     ]
    },
    {
     "name": "stderr",
     "output_type": "stream",
     "text": [
      "100%|██████████| 200/200 [00:02<00:00, 67.13it/s]\n"
     ]
    },
    {
     "name": "stdout",
     "output_type": "stream",
     "text": [
      "50.595367\n"
     ]
    },
    {
     "name": "stderr",
     "output_type": "stream",
     "text": [
      "100%|██████████| 200/200 [00:03<00:00, 65.35it/s]\n"
     ]
    },
    {
     "name": "stdout",
     "output_type": "stream",
     "text": [
      "50.781353\n"
     ]
    },
    {
     "name": "stderr",
     "output_type": "stream",
     "text": [
      "100%|██████████| 200/200 [00:03<00:00, 65.56it/s]\n"
     ]
    },
    {
     "name": "stdout",
     "output_type": "stream",
     "text": [
      "50.789345\n"
     ]
    },
    {
     "name": "stderr",
     "output_type": "stream",
     "text": [
      "100%|██████████| 200/200 [00:03<00:00, 65.37it/s]\n"
     ]
    },
    {
     "name": "stdout",
     "output_type": "stream",
     "text": [
      "50.89994\n"
     ]
    },
    {
     "name": "stderr",
     "output_type": "stream",
     "text": [
      "100%|██████████| 200/200 [00:02<00:00, 66.67it/s]\n"
     ]
    },
    {
     "name": "stdout",
     "output_type": "stream",
     "text": [
      "50.835014\n"
     ]
    },
    {
     "name": "stderr",
     "output_type": "stream",
     "text": [
      "100%|██████████| 200/200 [00:02<00:00, 67.17it/s]\n"
     ]
    },
    {
     "name": "stdout",
     "output_type": "stream",
     "text": [
      "50.73998\n"
     ]
    },
    {
     "data": {
      "application/vnd.jupyter.widget-view+json": {
       "model_id": "af12cc27aa10434a98139ea1d1dbddda",
       "version_major": 2,
       "version_minor": 0
      },
      "text/plain": [
       "Loading checkpoint shards:   0%|          | 0/2 [00:00<?, ?it/s]"
      ]
     },
     "metadata": {},
     "output_type": "display_data"
    },
    {
     "name": "stderr",
     "output_type": "stream",
     "text": [
      "100%|██████████| 200/200 [00:02<00:00, 71.83it/s]\n"
     ]
    },
    {
     "name": "stdout",
     "output_type": "stream",
     "text": [
      "104.2826\n"
     ]
    },
    {
     "name": "stderr",
     "output_type": "stream",
     "text": [
      "100%|██████████| 200/200 [00:02<00:00, 71.69it/s]\n"
     ]
    },
    {
     "name": "stdout",
     "output_type": "stream",
     "text": [
      "104.25984\n"
     ]
    },
    {
     "name": "stderr",
     "output_type": "stream",
     "text": [
      "100%|██████████| 200/200 [00:02<00:00, 72.03it/s]\n"
     ]
    },
    {
     "name": "stdout",
     "output_type": "stream",
     "text": [
      "104.66723\n"
     ]
    },
    {
     "name": "stderr",
     "output_type": "stream",
     "text": [
      "100%|██████████| 200/200 [00:02<00:00, 72.64it/s]\n"
     ]
    },
    {
     "name": "stdout",
     "output_type": "stream",
     "text": [
      "104.27451\n"
     ]
    },
    {
     "name": "stderr",
     "output_type": "stream",
     "text": [
      "100%|██████████| 200/200 [00:02<00:00, 72.52it/s]\n"
     ]
    },
    {
     "name": "stdout",
     "output_type": "stream",
     "text": [
      "104.109314\n"
     ]
    },
    {
     "name": "stderr",
     "output_type": "stream",
     "text": [
      "100%|██████████| 200/200 [00:02<00:00, 72.08it/s]\n"
     ]
    },
    {
     "name": "stdout",
     "output_type": "stream",
     "text": [
      "104.2654\n"
     ]
    },
    {
     "name": "stderr",
     "output_type": "stream",
     "text": [
      "100%|██████████| 200/200 [00:02<00:00, 71.94it/s]\n"
     ]
    },
    {
     "name": "stdout",
     "output_type": "stream",
     "text": [
      "104.403534\n"
     ]
    },
    {
     "name": "stderr",
     "output_type": "stream",
     "text": [
      "100%|██████████| 200/200 [00:02<00:00, 72.39it/s]\n"
     ]
    },
    {
     "name": "stdout",
     "output_type": "stream",
     "text": [
      "104.570984\n"
     ]
    },
    {
     "name": "stderr",
     "output_type": "stream",
     "text": [
      "100%|██████████| 200/200 [00:02<00:00, 72.45it/s]\n"
     ]
    },
    {
     "name": "stdout",
     "output_type": "stream",
     "text": [
      "104.21554\n"
     ]
    },
    {
     "name": "stderr",
     "output_type": "stream",
     "text": [
      "100%|██████████| 200/200 [00:02<00:00, 72.58it/s]\n"
     ]
    },
    {
     "name": "stdout",
     "output_type": "stream",
     "text": [
      "104.24801\n"
     ]
    },
    {
     "name": "stderr",
     "output_type": "stream",
     "text": [
      "100%|██████████| 200/200 [00:02<00:00, 71.59it/s]\n"
     ]
    },
    {
     "name": "stdout",
     "output_type": "stream",
     "text": [
      "104.12405\n"
     ]
    },
    {
     "name": "stderr",
     "output_type": "stream",
     "text": [
      "100%|██████████| 200/200 [00:02<00:00, 71.59it/s]\n"
     ]
    },
    {
     "name": "stdout",
     "output_type": "stream",
     "text": [
      "104.15877\n"
     ]
    },
    {
     "name": "stderr",
     "output_type": "stream",
     "text": [
      "100%|██████████| 200/200 [00:02<00:00, 71.83it/s]\n"
     ]
    },
    {
     "name": "stdout",
     "output_type": "stream",
     "text": [
      "104.11109\n"
     ]
    },
    {
     "name": "stderr",
     "output_type": "stream",
     "text": [
      "100%|██████████| 200/200 [00:02<00:00, 71.74it/s]\n"
     ]
    },
    {
     "name": "stdout",
     "output_type": "stream",
     "text": [
      "103.957756\n"
     ]
    },
    {
     "name": "stderr",
     "output_type": "stream",
     "text": [
      "100%|██████████| 200/200 [00:02<00:00, 71.77it/s]\n"
     ]
    },
    {
     "name": "stdout",
     "output_type": "stream",
     "text": [
      "104.010216\n"
     ]
    },
    {
     "name": "stderr",
     "output_type": "stream",
     "text": [
      "100%|██████████| 200/200 [00:02<00:00, 71.48it/s]\n"
     ]
    },
    {
     "name": "stdout",
     "output_type": "stream",
     "text": [
      "104.518265\n"
     ]
    },
    {
     "name": "stderr",
     "output_type": "stream",
     "text": [
      "100%|██████████| 200/200 [00:02<00:00, 71.37it/s]\n"
     ]
    },
    {
     "name": "stdout",
     "output_type": "stream",
     "text": [
      "104.79342\n"
     ]
    },
    {
     "name": "stderr",
     "output_type": "stream",
     "text": [
      "100%|██████████| 200/200 [00:02<00:00, 71.81it/s]\n"
     ]
    },
    {
     "name": "stdout",
     "output_type": "stream",
     "text": [
      "104.85363\n"
     ]
    },
    {
     "name": "stderr",
     "output_type": "stream",
     "text": [
      "100%|██████████| 200/200 [00:02<00:00, 72.07it/s]\n"
     ]
    },
    {
     "name": "stdout",
     "output_type": "stream",
     "text": [
      "105.008026\n"
     ]
    },
    {
     "name": "stderr",
     "output_type": "stream",
     "text": [
      "100%|██████████| 200/200 [00:02<00:00, 71.30it/s]\n"
     ]
    },
    {
     "name": "stdout",
     "output_type": "stream",
     "text": [
      "105.033066\n"
     ]
    },
    {
     "name": "stderr",
     "output_type": "stream",
     "text": [
      "100%|██████████| 200/200 [00:02<00:00, 71.47it/s]\n"
     ]
    },
    {
     "name": "stdout",
     "output_type": "stream",
     "text": [
      "103.98988\n"
     ]
    },
    {
     "name": "stderr",
     "output_type": "stream",
     "text": [
      "100%|██████████| 200/200 [00:02<00:00, 71.45it/s]\n"
     ]
    },
    {
     "name": "stdout",
     "output_type": "stream",
     "text": [
      "104.01709\n"
     ]
    },
    {
     "name": "stderr",
     "output_type": "stream",
     "text": [
      "100%|██████████| 200/200 [00:02<00:00, 71.78it/s]\n"
     ]
    },
    {
     "name": "stdout",
     "output_type": "stream",
     "text": [
      "104.10953\n"
     ]
    },
    {
     "name": "stderr",
     "output_type": "stream",
     "text": [
      "100%|██████████| 200/200 [00:02<00:00, 71.75it/s]\n"
     ]
    },
    {
     "name": "stdout",
     "output_type": "stream",
     "text": [
      "103.995575\n"
     ]
    },
    {
     "name": "stderr",
     "output_type": "stream",
     "text": [
      "100%|██████████| 200/200 [00:02<00:00, 71.12it/s]\n"
     ]
    },
    {
     "name": "stdout",
     "output_type": "stream",
     "text": [
      "103.79059\n"
     ]
    },
    {
     "name": "stderr",
     "output_type": "stream",
     "text": [
      "100%|██████████| 200/200 [00:02<00:00, 71.53it/s]\n"
     ]
    },
    {
     "name": "stdout",
     "output_type": "stream",
     "text": [
      "104.0574\n"
     ]
    },
    {
     "name": "stderr",
     "output_type": "stream",
     "text": [
      "100%|██████████| 200/200 [00:02<00:00, 71.05it/s]\n"
     ]
    },
    {
     "name": "stdout",
     "output_type": "stream",
     "text": [
      "104.009865\n"
     ]
    },
    {
     "name": "stderr",
     "output_type": "stream",
     "text": [
      "100%|██████████| 200/200 [00:02<00:00, 70.47it/s]\n"
     ]
    },
    {
     "name": "stdout",
     "output_type": "stream",
     "text": [
      "104.08098\n"
     ]
    },
    {
     "name": "stderr",
     "output_type": "stream",
     "text": [
      "100%|██████████| 200/200 [00:02<00:00, 71.50it/s]\n"
     ]
    },
    {
     "name": "stdout",
     "output_type": "stream",
     "text": [
      "104.0548\n"
     ]
    },
    {
     "name": "stderr",
     "output_type": "stream",
     "text": [
      "100%|██████████| 200/200 [00:02<00:00, 71.10it/s]\n"
     ]
    },
    {
     "name": "stdout",
     "output_type": "stream",
     "text": [
      "104.158646\n"
     ]
    },
    {
     "name": "stderr",
     "output_type": "stream",
     "text": [
      "100%|██████████| 200/200 [00:02<00:00, 71.57it/s]\n"
     ]
    },
    {
     "name": "stdout",
     "output_type": "stream",
     "text": [
      "103.957405\n"
     ]
    },
    {
     "name": "stderr",
     "output_type": "stream",
     "text": [
      "100%|██████████| 200/200 [00:02<00:00, 71.78it/s]\n"
     ]
    },
    {
     "name": "stdout",
     "output_type": "stream",
     "text": [
      "103.94421\n"
     ]
    },
    {
     "name": "stderr",
     "output_type": "stream",
     "text": [
      "100%|██████████| 200/200 [00:02<00:00, 71.43it/s]\n"
     ]
    },
    {
     "name": "stdout",
     "output_type": "stream",
     "text": [
      "103.98044\n"
     ]
    },
    {
     "name": "stderr",
     "output_type": "stream",
     "text": [
      "100%|██████████| 200/200 [00:02<00:00, 71.56it/s]\n"
     ]
    },
    {
     "name": "stdout",
     "output_type": "stream",
     "text": [
      "104.09986\n"
     ]
    },
    {
     "name": "stderr",
     "output_type": "stream",
     "text": [
      "100%|██████████| 200/200 [00:02<00:00, 71.41it/s]\n"
     ]
    },
    {
     "name": "stdout",
     "output_type": "stream",
     "text": [
      "104.036766\n"
     ]
    },
    {
     "name": "stderr",
     "output_type": "stream",
     "text": [
      "100%|██████████| 200/200 [00:02<00:00, 74.12it/s]\n"
     ]
    },
    {
     "name": "stdout",
     "output_type": "stream",
     "text": [
      "104.15617\n"
     ]
    },
    {
     "name": "stderr",
     "output_type": "stream",
     "text": [
      "100%|██████████| 200/200 [00:02<00:00, 74.22it/s]\n"
     ]
    },
    {
     "name": "stdout",
     "output_type": "stream",
     "text": [
      "104.13812\n"
     ]
    },
    {
     "name": "stderr",
     "output_type": "stream",
     "text": [
      "100%|██████████| 200/200 [00:02<00:00, 73.58it/s]\n"
     ]
    },
    {
     "name": "stdout",
     "output_type": "stream",
     "text": [
      "104.16391\n"
     ]
    },
    {
     "name": "stderr",
     "output_type": "stream",
     "text": [
      "100%|██████████| 200/200 [00:02<00:00, 73.69it/s]\n"
     ]
    },
    {
     "name": "stdout",
     "output_type": "stream",
     "text": [
      "103.95575\n"
     ]
    },
    {
     "name": "stderr",
     "output_type": "stream",
     "text": [
      "100%|██████████| 200/200 [00:02<00:00, 75.18it/s]\n"
     ]
    },
    {
     "name": "stdout",
     "output_type": "stream",
     "text": [
      "104.27693\n"
     ]
    },
    {
     "name": "stderr",
     "output_type": "stream",
     "text": [
      "100%|██████████| 200/200 [00:02<00:00, 74.42it/s]\n"
     ]
    },
    {
     "name": "stdout",
     "output_type": "stream",
     "text": [
      "104.147385\n"
     ]
    },
    {
     "name": "stderr",
     "output_type": "stream",
     "text": [
      "100%|██████████| 200/200 [00:02<00:00, 75.10it/s]\n"
     ]
    },
    {
     "name": "stdout",
     "output_type": "stream",
     "text": [
      "104.09205\n"
     ]
    },
    {
     "name": "stderr",
     "output_type": "stream",
     "text": [
      "100%|██████████| 200/200 [00:02<00:00, 74.97it/s]\n"
     ]
    },
    {
     "name": "stdout",
     "output_type": "stream",
     "text": [
      "104.18294\n"
     ]
    },
    {
     "name": "stderr",
     "output_type": "stream",
     "text": [
      "100%|██████████| 200/200 [00:02<00:00, 74.84it/s]\n"
     ]
    },
    {
     "name": "stdout",
     "output_type": "stream",
     "text": [
      "104.07855\n"
     ]
    },
    {
     "name": "stderr",
     "output_type": "stream",
     "text": [
      "100%|██████████| 200/200 [00:02<00:00, 75.52it/s]\n"
     ]
    },
    {
     "name": "stdout",
     "output_type": "stream",
     "text": [
      "104.07492\n"
     ]
    },
    {
     "name": "stderr",
     "output_type": "stream",
     "text": [
      "100%|██████████| 200/200 [00:02<00:00, 73.94it/s]\n"
     ]
    },
    {
     "name": "stdout",
     "output_type": "stream",
     "text": [
      "104.06472\n"
     ]
    },
    {
     "name": "stderr",
     "output_type": "stream",
     "text": [
      "100%|██████████| 200/200 [00:02<00:00, 73.56it/s]\n"
     ]
    },
    {
     "name": "stdout",
     "output_type": "stream",
     "text": [
      "104.06811\n"
     ]
    },
    {
     "name": "stderr",
     "output_type": "stream",
     "text": [
      "100%|██████████| 200/200 [00:02<00:00, 74.19it/s]\n"
     ]
    },
    {
     "name": "stdout",
     "output_type": "stream",
     "text": [
      "104.03533\n"
     ]
    },
    {
     "name": "stderr",
     "output_type": "stream",
     "text": [
      "100%|██████████| 200/200 [00:02<00:00, 74.52it/s]\n"
     ]
    },
    {
     "name": "stdout",
     "output_type": "stream",
     "text": [
      "103.98175\n"
     ]
    },
    {
     "name": "stderr",
     "output_type": "stream",
     "text": [
      "100%|██████████| 200/200 [00:02<00:00, 73.95it/s]\n"
     ]
    },
    {
     "name": "stdout",
     "output_type": "stream",
     "text": [
      "103.90366\n"
     ]
    },
    {
     "name": "stderr",
     "output_type": "stream",
     "text": [
      "100%|██████████| 200/200 [00:02<00:00, 73.21it/s]\n"
     ]
    },
    {
     "name": "stdout",
     "output_type": "stream",
     "text": [
      "104.31811\n"
     ]
    },
    {
     "name": "stderr",
     "output_type": "stream",
     "text": [
      "100%|██████████| 200/200 [00:02<00:00, 73.93it/s]\n"
     ]
    },
    {
     "name": "stdout",
     "output_type": "stream",
     "text": [
      "104.69514\n"
     ]
    },
    {
     "name": "stderr",
     "output_type": "stream",
     "text": [
      "100%|██████████| 200/200 [00:02<00:00, 73.68it/s]\n"
     ]
    },
    {
     "name": "stdout",
     "output_type": "stream",
     "text": [
      "104.88581\n"
     ]
    },
    {
     "name": "stderr",
     "output_type": "stream",
     "text": [
      "100%|██████████| 200/200 [00:02<00:00, 74.47it/s]\n"
     ]
    },
    {
     "name": "stdout",
     "output_type": "stream",
     "text": [
      "105.0024\n"
     ]
    },
    {
     "name": "stderr",
     "output_type": "stream",
     "text": [
      "100%|██████████| 200/200 [00:02<00:00, 74.02it/s]\n"
     ]
    },
    {
     "name": "stdout",
     "output_type": "stream",
     "text": [
      "104.92105\n"
     ]
    },
    {
     "name": "stderr",
     "output_type": "stream",
     "text": [
      "100%|██████████| 200/200 [00:02<00:00, 73.70it/s]\n"
     ]
    },
    {
     "name": "stdout",
     "output_type": "stream",
     "text": [
      "103.83246\n"
     ]
    },
    {
     "name": "stderr",
     "output_type": "stream",
     "text": [
      "100%|██████████| 200/200 [00:02<00:00, 74.14it/s]\n"
     ]
    },
    {
     "name": "stdout",
     "output_type": "stream",
     "text": [
      "103.88332\n"
     ]
    },
    {
     "name": "stderr",
     "output_type": "stream",
     "text": [
      "100%|██████████| 200/200 [00:02<00:00, 73.89it/s]\n"
     ]
    },
    {
     "name": "stdout",
     "output_type": "stream",
     "text": [
      "103.97955\n"
     ]
    },
    {
     "name": "stderr",
     "output_type": "stream",
     "text": [
      "100%|██████████| 200/200 [00:02<00:00, 73.80it/s]\n"
     ]
    },
    {
     "name": "stdout",
     "output_type": "stream",
     "text": [
      "103.93962\n"
     ]
    },
    {
     "name": "stderr",
     "output_type": "stream",
     "text": [
      "100%|██████████| 200/200 [00:02<00:00, 73.88it/s]\n"
     ]
    },
    {
     "name": "stdout",
     "output_type": "stream",
     "text": [
      "103.71463\n"
     ]
    },
    {
     "name": "stderr",
     "output_type": "stream",
     "text": [
      "100%|██████████| 200/200 [00:02<00:00, 73.85it/s]\n"
     ]
    },
    {
     "name": "stdout",
     "output_type": "stream",
     "text": [
      "103.8191\n"
     ]
    },
    {
     "name": "stderr",
     "output_type": "stream",
     "text": [
      "100%|██████████| 200/200 [00:02<00:00, 73.89it/s]\n"
     ]
    },
    {
     "name": "stdout",
     "output_type": "stream",
     "text": [
      "103.84777\n"
     ]
    },
    {
     "name": "stderr",
     "output_type": "stream",
     "text": [
      "100%|██████████| 200/200 [00:02<00:00, 73.48it/s]\n"
     ]
    },
    {
     "name": "stdout",
     "output_type": "stream",
     "text": [
      "103.95546\n"
     ]
    },
    {
     "name": "stderr",
     "output_type": "stream",
     "text": [
      "100%|██████████| 200/200 [00:02<00:00, 73.38it/s]\n"
     ]
    },
    {
     "name": "stdout",
     "output_type": "stream",
     "text": [
      "103.965\n"
     ]
    },
    {
     "name": "stderr",
     "output_type": "stream",
     "text": [
      "100%|██████████| 200/200 [00:02<00:00, 74.12it/s]\n"
     ]
    },
    {
     "name": "stdout",
     "output_type": "stream",
     "text": [
      "103.99399\n"
     ]
    },
    {
     "name": "stderr",
     "output_type": "stream",
     "text": [
      "100%|██████████| 200/200 [00:02<00:00, 74.26it/s]\n"
     ]
    },
    {
     "name": "stdout",
     "output_type": "stream",
     "text": [
      "103.923\n"
     ]
    },
    {
     "name": "stderr",
     "output_type": "stream",
     "text": [
      "100%|██████████| 200/200 [00:02<00:00, 73.88it/s]\n"
     ]
    },
    {
     "name": "stdout",
     "output_type": "stream",
     "text": [
      "103.878494\n"
     ]
    },
    {
     "name": "stderr",
     "output_type": "stream",
     "text": [
      "100%|██████████| 200/200 [00:02<00:00, 73.93it/s]\n"
     ]
    },
    {
     "name": "stdout",
     "output_type": "stream",
     "text": [
      "103.80771\n"
     ]
    },
    {
     "name": "stderr",
     "output_type": "stream",
     "text": [
      "100%|██████████| 200/200 [00:02<00:00, 74.10it/s]\n"
     ]
    },
    {
     "name": "stdout",
     "output_type": "stream",
     "text": [
      "103.83681\n"
     ]
    },
    {
     "name": "stderr",
     "output_type": "stream",
     "text": [
      "100%|██████████| 200/200 [00:02<00:00, 73.82it/s]\n"
     ]
    },
    {
     "name": "stdout",
     "output_type": "stream",
     "text": [
      "103.88873\n"
     ]
    },
    {
     "name": "stderr",
     "output_type": "stream",
     "text": [
      "100%|██████████| 200/200 [00:02<00:00, 77.19it/s]\n"
     ]
    },
    {
     "name": "stdout",
     "output_type": "stream",
     "text": [
      "103.58543\n"
     ]
    },
    {
     "name": "stderr",
     "output_type": "stream",
     "text": [
      "100%|██████████| 200/200 [00:02<00:00, 78.44it/s]\n"
     ]
    },
    {
     "name": "stdout",
     "output_type": "stream",
     "text": [
      "103.90893\n"
     ]
    },
    {
     "name": "stderr",
     "output_type": "stream",
     "text": [
      "100%|██████████| 200/200 [00:02<00:00, 78.90it/s]\n"
     ]
    },
    {
     "name": "stdout",
     "output_type": "stream",
     "text": [
      "104.68711\n"
     ]
    },
    {
     "name": "stderr",
     "output_type": "stream",
     "text": [
      "100%|██████████| 200/200 [00:02<00:00, 78.93it/s]\n"
     ]
    },
    {
     "name": "stdout",
     "output_type": "stream",
     "text": [
      "104.755394\n"
     ]
    },
    {
     "name": "stderr",
     "output_type": "stream",
     "text": [
      "100%|██████████| 200/200 [00:02<00:00, 80.21it/s]\n"
     ]
    },
    {
     "name": "stdout",
     "output_type": "stream",
     "text": [
      "105.70744\n"
     ]
    },
    {
     "name": "stderr",
     "output_type": "stream",
     "text": [
      "100%|██████████| 200/200 [00:02<00:00, 76.76it/s]\n"
     ]
    },
    {
     "name": "stdout",
     "output_type": "stream",
     "text": [
      "103.71027\n"
     ]
    },
    {
     "name": "stderr",
     "output_type": "stream",
     "text": [
      "100%|██████████| 200/200 [00:02<00:00, 78.25it/s]\n"
     ]
    },
    {
     "name": "stdout",
     "output_type": "stream",
     "text": [
      "103.85058\n"
     ]
    },
    {
     "name": "stderr",
     "output_type": "stream",
     "text": [
      "100%|██████████| 200/200 [00:02<00:00, 79.12it/s]\n"
     ]
    },
    {
     "name": "stdout",
     "output_type": "stream",
     "text": [
      "104.527145\n"
     ]
    },
    {
     "name": "stderr",
     "output_type": "stream",
     "text": [
      "100%|██████████| 200/200 [00:02<00:00, 79.06it/s]\n"
     ]
    },
    {
     "name": "stdout",
     "output_type": "stream",
     "text": [
      "104.88248\n"
     ]
    },
    {
     "name": "stderr",
     "output_type": "stream",
     "text": [
      "100%|██████████| 200/200 [00:02<00:00, 81.78it/s]\n"
     ]
    },
    {
     "name": "stdout",
     "output_type": "stream",
     "text": [
      "105.76859\n"
     ]
    },
    {
     "name": "stderr",
     "output_type": "stream",
     "text": [
      "100%|██████████| 200/200 [00:02<00:00, 77.50it/s]\n"
     ]
    },
    {
     "name": "stdout",
     "output_type": "stream",
     "text": [
      "103.52564\n"
     ]
    },
    {
     "name": "stderr",
     "output_type": "stream",
     "text": [
      "100%|██████████| 200/200 [00:02<00:00, 76.80it/s]\n"
     ]
    },
    {
     "name": "stdout",
     "output_type": "stream",
     "text": [
      "103.74177\n"
     ]
    },
    {
     "name": "stderr",
     "output_type": "stream",
     "text": [
      "100%|██████████| 200/200 [00:02<00:00, 77.57it/s]\n"
     ]
    },
    {
     "name": "stdout",
     "output_type": "stream",
     "text": [
      "103.66197\n"
     ]
    },
    {
     "name": "stderr",
     "output_type": "stream",
     "text": [
      "100%|██████████| 200/200 [00:02<00:00, 77.44it/s]\n"
     ]
    },
    {
     "name": "stdout",
     "output_type": "stream",
     "text": [
      "103.6884\n"
     ]
    },
    {
     "name": "stderr",
     "output_type": "stream",
     "text": [
      "100%|██████████| 200/200 [00:02<00:00, 77.27it/s]\n"
     ]
    },
    {
     "name": "stdout",
     "output_type": "stream",
     "text": [
      "103.55562\n"
     ]
    },
    {
     "name": "stderr",
     "output_type": "stream",
     "text": [
      "100%|██████████| 200/200 [00:02<00:00, 76.61it/s]\n"
     ]
    },
    {
     "name": "stdout",
     "output_type": "stream",
     "text": [
      "103.66204\n"
     ]
    },
    {
     "name": "stderr",
     "output_type": "stream",
     "text": [
      "100%|██████████| 200/200 [00:02<00:00, 75.82it/s]\n"
     ]
    },
    {
     "name": "stdout",
     "output_type": "stream",
     "text": [
      "103.89363\n"
     ]
    },
    {
     "name": "stderr",
     "output_type": "stream",
     "text": [
      "100%|██████████| 200/200 [00:02<00:00, 75.85it/s]\n"
     ]
    },
    {
     "name": "stdout",
     "output_type": "stream",
     "text": [
      "103.957054\n"
     ]
    },
    {
     "name": "stderr",
     "output_type": "stream",
     "text": [
      "100%|██████████| 200/200 [00:02<00:00, 77.33it/s]\n"
     ]
    },
    {
     "name": "stdout",
     "output_type": "stream",
     "text": [
      "104.20938\n"
     ]
    },
    {
     "name": "stderr",
     "output_type": "stream",
     "text": [
      "100%|██████████| 200/200 [00:02<00:00, 77.96it/s]\n"
     ]
    },
    {
     "name": "stdout",
     "output_type": "stream",
     "text": [
      "104.18388\n"
     ]
    },
    {
     "name": "stderr",
     "output_type": "stream",
     "text": [
      "100%|██████████| 200/200 [00:02<00:00, 75.97it/s]\n"
     ]
    },
    {
     "name": "stdout",
     "output_type": "stream",
     "text": [
      "103.54795\n"
     ]
    },
    {
     "name": "stderr",
     "output_type": "stream",
     "text": [
      "100%|██████████| 200/200 [00:02<00:00, 76.39it/s]\n"
     ]
    },
    {
     "name": "stdout",
     "output_type": "stream",
     "text": [
      "104.09916\n"
     ]
    },
    {
     "name": "stderr",
     "output_type": "stream",
     "text": [
      "100%|██████████| 200/200 [00:02<00:00, 77.25it/s]\n"
     ]
    },
    {
     "name": "stdout",
     "output_type": "stream",
     "text": [
      "103.47805\n"
     ]
    },
    {
     "name": "stderr",
     "output_type": "stream",
     "text": [
      "100%|██████████| 200/200 [00:02<00:00, 75.91it/s]\n"
     ]
    },
    {
     "name": "stdout",
     "output_type": "stream",
     "text": [
      "103.31365\n"
     ]
    },
    {
     "name": "stderr",
     "output_type": "stream",
     "text": [
      "100%|██████████| 200/200 [00:02<00:00, 77.61it/s]\n"
     ]
    },
    {
     "name": "stdout",
     "output_type": "stream",
     "text": [
      "103.241\n"
     ]
    },
    {
     "name": "stderr",
     "output_type": "stream",
     "text": [
      "100%|██████████| 200/200 [00:02<00:00, 75.19it/s]\n"
     ]
    },
    {
     "name": "stdout",
     "output_type": "stream",
     "text": [
      "103.342415\n"
     ]
    },
    {
     "name": "stderr",
     "output_type": "stream",
     "text": [
      "100%|██████████| 200/200 [00:02<00:00, 75.82it/s]\n"
     ]
    },
    {
     "name": "stdout",
     "output_type": "stream",
     "text": [
      "103.505196\n"
     ]
    },
    {
     "name": "stderr",
     "output_type": "stream",
     "text": [
      "100%|██████████| 200/200 [00:02<00:00, 76.60it/s]\n"
     ]
    },
    {
     "name": "stdout",
     "output_type": "stream",
     "text": [
      "103.558945\n"
     ]
    },
    {
     "name": "stderr",
     "output_type": "stream",
     "text": [
      "100%|██████████| 200/200 [00:02<00:00, 76.76it/s]\n"
     ]
    },
    {
     "name": "stdout",
     "output_type": "stream",
     "text": [
      "103.315704\n"
     ]
    },
    {
     "name": "stderr",
     "output_type": "stream",
     "text": [
      "100%|██████████| 200/200 [00:02<00:00, 76.55it/s]\n"
     ]
    },
    {
     "name": "stdout",
     "output_type": "stream",
     "text": [
      "103.07359\n"
     ]
    },
    {
     "name": "stderr",
     "output_type": "stream",
     "text": [
      "100%|██████████| 200/200 [00:02<00:00, 76.21it/s]\n"
     ]
    },
    {
     "name": "stdout",
     "output_type": "stream",
     "text": [
      "103.20805\n"
     ]
    },
    {
     "name": "stderr",
     "output_type": "stream",
     "text": [
      "100%|██████████| 200/200 [00:02<00:00, 76.66it/s]\n"
     ]
    },
    {
     "name": "stdout",
     "output_type": "stream",
     "text": [
      "103.60299\n"
     ]
    },
    {
     "name": "stderr",
     "output_type": "stream",
     "text": [
      "100%|██████████| 200/200 [00:02<00:00, 76.76it/s]\n"
     ]
    },
    {
     "name": "stdout",
     "output_type": "stream",
     "text": [
      "103.65589\n"
     ]
    },
    {
     "name": "stderr",
     "output_type": "stream",
     "text": [
      "100%|██████████| 200/200 [00:02<00:00, 77.29it/s]\n"
     ]
    },
    {
     "name": "stdout",
     "output_type": "stream",
     "text": [
      "104.304085\n"
     ]
    },
    {
     "name": "stderr",
     "output_type": "stream",
     "text": [
      "100%|██████████| 200/200 [00:02<00:00, 78.19it/s]"
     ]
    },
    {
     "name": "stdout",
     "output_type": "stream",
     "text": [
      "103.54482\n"
     ]
    },
    {
     "name": "stderr",
     "output_type": "stream",
     "text": [
      "\n"
     ]
    }
   ],
   "source": [
    "datasets = [\"sst2\",\"imdb\",\"news\"]\n",
    "device = \"cuda:1\"\n",
    "import torch\n",
    "import numpy as np\n",
    "from tqdm import tqdm\n",
    "from transformers import AutoModelForCausalLM, AutoTokenizer\n",
    "percentages = [0.1,0.2,0.3,0.4,0.5]\n",
    "lls_list = {}\n",
    "for ds in datasets:\n",
    "    pred_model_id = f\"predictor_gemma-2b_{ds}_merged\"\n",
    "    tokenizer  = AutoTokenizer.from_pretrained(pred_model_id)\n",
    "    pred_model = AutoModelForCausalLM.from_pretrained(pred_model_id,device_map=device,\n",
    "                                    torch_dtype=torch.float16,trust_remote_code=True, attn_implementation=\"flash_attention_2\")\n",
    "    for editor in editors:\n",
    "        eval_data = results[f'cfg_{editor}_{ds}_predictor_gemma-2b_ft_True']\n",
    "        for exp in explanation_types: \n",
    "            for percent in percentages:\n",
    "                nlls_org = []\n",
    "                \n",
    "                \n",
    "                for i in tqdm(range(200)):\n",
    "\n",
    "                    if ds ==\"sst2\":\n",
    "                        input_ids = tokenizer(eval_data[f\"{exp}_cfg_{editor}_{percent}_response_predictor_gemma-2b_ft_True\"][i]\n",
    "                                                + \" In a sentiment classification task between positive and negative choices, the sentiment of this sentence is \",\n",
    "                                                    return_tensors=\"pt\")[\"input_ids\"].to(device)\n",
    "                    if ds ==\"imdb\":\n",
    "                        input_ids = tokenizer(eval_data[f\"{exp}_cfg_{editor}_{percent}_response_predictor_gemma-2b_ft_True\"][i] + \n",
    "                                                \" Based on this opinion, decide what the sentiment is, choose between positive and negative. Answer is \",\n",
    "                                                return_tensors=\"pt\")[\"input_ids\"].to(device)\n",
    "                    if ds == \"news\":\n",
    "                        input_ids = tokenizer(eval_data[f\"{exp}_cfg_{editor}_{percent}_response_predictor_gemma-2b_ft_True\"][i] + \n",
    "                                                \" You are classifying a news article, Choose one of the four categories, World, Business, Sport, and Tech. Answer is \" ,\n",
    "                                                return_tensors=\"pt\")[\"input_ids\"].to(device)   \n",
    "                    target_ids = input_ids.clone()\n",
    "                    # target_ids[:, :-trg_len] = -100\n",
    "                    \n",
    "                    with torch.no_grad():\n",
    "                        outputs = pred_model(input_ids, labels=target_ids)\n",
    "                        neg_log_likelihood = outputs.loss\n",
    "\n",
    "                    nlls_org.append(neg_log_likelihood)\n",
    "                    lls = torch.stack(nlls_org).cpu().numpy()\n",
    "                lls_list[f\"{ds}-{editor}-{exp}-{percent}\"] = lls\n",
    "                print(lls.mean())\n"
   ]
  },
  {
   "cell_type": "code",
   "execution_count": 8,
   "metadata": {},
   "outputs": [
    {
     "name": "stdout",
     "output_type": "stream",
     "text": [
      "sst2-pythia-gradnorm1-0.1\n",
      "3\n",
      "sst2-pythia-gradnorm1-0.2\n",
      "2\n",
      "sst2-pythia-gradnorm1-0.3\n",
      "3\n",
      "sst2-pythia-gradnorm1-0.4\n",
      "1\n",
      "sst2-pythia-gradnorm1-0.5\n",
      "2\n",
      "sst2-pythia-gradnorm2-0.1\n",
      "4\n",
      "sst2-pythia-gradnorm2-0.2\n",
      "3\n",
      "sst2-pythia-gradnorm2-0.3\n",
      "3\n",
      "sst2-pythia-gradnorm2-0.4\n",
      "1\n",
      "sst2-pythia-gradnorm2-0.5\n",
      "3\n",
      "sst2-pythia-gradinp-0.1\n",
      "3\n",
      "sst2-pythia-gradinp-0.2\n",
      "3\n",
      "sst2-pythia-gradinp-0.3\n",
      "2\n",
      "sst2-pythia-gradinp-0.4\n",
      "2\n",
      "sst2-pythia-gradinp-0.5\n",
      "3\n",
      "sst2-pythia-erasure-0.1\n",
      "2\n",
      "sst2-pythia-erasure-0.2\n",
      "2\n",
      "sst2-pythia-erasure-0.3\n",
      "2\n",
      "sst2-pythia-erasure-0.4\n",
      "3\n",
      "sst2-pythia-erasure-0.5\n",
      "4\n",
      "sst2-pythia-integrated_grad-0.1\n",
      "3\n",
      "sst2-pythia-integrated_grad-0.2\n",
      "2\n",
      "sst2-pythia-integrated_grad-0.3\n",
      "2\n",
      "sst2-pythia-integrated_grad-0.4\n",
      "2\n",
      "sst2-pythia-integrated_grad-0.5\n",
      "2\n",
      "sst2-pythia-kernel_shap-0.1\n",
      "2\n",
      "sst2-pythia-kernel_shap-0.2\n",
      "1\n",
      "sst2-pythia-kernel_shap-0.3\n",
      "1\n",
      "sst2-pythia-kernel_shap-0.4\n",
      "2\n",
      "sst2-pythia-kernel_shap-0.5\n",
      "1\n",
      "sst2-pythia-random-0.1\n",
      "3\n",
      "sst2-pythia-random-0.2\n",
      "2\n",
      "sst2-pythia-random-0.3\n",
      "3\n",
      "sst2-pythia-random-0.4\n",
      "3\n",
      "sst2-pythia-random-0.5\n",
      "3\n",
      "sst2-pythia2-gradnorm1-0.1\n",
      "1\n",
      "sst2-pythia2-gradnorm1-0.2\n",
      "1\n",
      "sst2-pythia2-gradnorm1-0.3\n",
      "2\n",
      "sst2-pythia2-gradnorm1-0.4\n",
      "0\n",
      "sst2-pythia2-gradnorm1-0.5\n",
      "0\n",
      "sst2-pythia2-gradnorm2-0.1\n",
      "1\n",
      "sst2-pythia2-gradnorm2-0.2\n",
      "0\n",
      "sst2-pythia2-gradnorm2-0.3\n",
      "3\n",
      "sst2-pythia2-gradnorm2-0.4\n",
      "0\n",
      "sst2-pythia2-gradnorm2-0.5\n",
      "0\n",
      "sst2-pythia2-gradinp-0.1\n",
      "3\n",
      "sst2-pythia2-gradinp-0.2\n",
      "3\n",
      "sst2-pythia2-gradinp-0.3\n",
      "2\n",
      "sst2-pythia2-gradinp-0.4\n",
      "0\n",
      "sst2-pythia2-gradinp-0.5\n",
      "0\n",
      "sst2-pythia2-erasure-0.1\n",
      "2\n",
      "sst2-pythia2-erasure-0.2\n",
      "2\n",
      "sst2-pythia2-erasure-0.3\n",
      "3\n",
      "sst2-pythia2-erasure-0.4\n",
      "1\n",
      "sst2-pythia2-erasure-0.5\n",
      "1\n",
      "sst2-pythia2-integrated_grad-0.1\n",
      "3\n",
      "sst2-pythia2-integrated_grad-0.2\n",
      "2\n",
      "sst2-pythia2-integrated_grad-0.3\n",
      "2\n",
      "sst2-pythia2-integrated_grad-0.4\n",
      "1\n",
      "sst2-pythia2-integrated_grad-0.5\n",
      "2\n",
      "sst2-pythia2-kernel_shap-0.1\n",
      "2\n",
      "sst2-pythia2-kernel_shap-0.2\n",
      "1\n",
      "sst2-pythia2-kernel_shap-0.3\n",
      "1\n",
      "sst2-pythia2-kernel_shap-0.4\n",
      "2\n",
      "sst2-pythia2-kernel_shap-0.5\n",
      "2\n",
      "sst2-pythia2-random-0.1\n",
      "2\n",
      "sst2-pythia2-random-0.2\n",
      "1\n",
      "sst2-pythia2-random-0.3\n",
      "2\n",
      "sst2-pythia2-random-0.4\n",
      "3\n",
      "sst2-pythia2-random-0.5\n",
      "1\n",
      "sst2-gptj-gradnorm1-0.1\n",
      "1\n",
      "sst2-gptj-gradnorm1-0.2\n",
      "0\n",
      "sst2-gptj-gradnorm1-0.3\n",
      "3\n",
      "sst2-gptj-gradnorm1-0.4\n",
      "1\n",
      "sst2-gptj-gradnorm1-0.5\n",
      "2\n",
      "sst2-gptj-gradnorm2-0.1\n",
      "2\n",
      "sst2-gptj-gradnorm2-0.2\n",
      "0\n",
      "sst2-gptj-gradnorm2-0.3\n",
      "4\n",
      "sst2-gptj-gradnorm2-0.4\n",
      "2\n",
      "sst2-gptj-gradnorm2-0.5\n",
      "0\n",
      "sst2-gptj-gradinp-0.1\n",
      "3\n",
      "sst2-gptj-gradinp-0.2\n",
      "6\n",
      "sst2-gptj-gradinp-0.3\n",
      "7\n",
      "sst2-gptj-gradinp-0.4\n",
      "5\n",
      "sst2-gptj-gradinp-0.5\n",
      "3\n",
      "sst2-gptj-erasure-0.1\n",
      "3\n",
      "sst2-gptj-erasure-0.2\n",
      "2\n",
      "sst2-gptj-erasure-0.3\n",
      "3\n",
      "sst2-gptj-erasure-0.4\n",
      "7\n",
      "sst2-gptj-erasure-0.5\n",
      "5\n",
      "sst2-gptj-integrated_grad-0.1\n",
      "0\n",
      "sst2-gptj-integrated_grad-0.2\n",
      "1\n",
      "sst2-gptj-integrated_grad-0.3\n",
      "2\n",
      "sst2-gptj-integrated_grad-0.4\n",
      "1\n",
      "sst2-gptj-integrated_grad-0.5\n",
      "0\n",
      "sst2-gptj-kernel_shap-0.1\n",
      "1\n",
      "sst2-gptj-kernel_shap-0.2\n",
      "2\n",
      "sst2-gptj-kernel_shap-0.3\n",
      "2\n",
      "sst2-gptj-kernel_shap-0.4\n",
      "2\n",
      "sst2-gptj-kernel_shap-0.5\n",
      "2\n",
      "sst2-gptj-random-0.1\n",
      "2\n",
      "sst2-gptj-random-0.2\n",
      "1\n",
      "sst2-gptj-random-0.3\n",
      "1\n",
      "sst2-gptj-random-0.4\n",
      "1\n",
      "sst2-gptj-random-0.5\n",
      "1\n",
      "imdb-pythia-gradnorm1-0.1\n",
      "5\n",
      "imdb-pythia-gradnorm1-0.2\n",
      "3\n",
      "imdb-pythia-gradnorm1-0.3\n",
      "3\n",
      "imdb-pythia-gradnorm1-0.4\n",
      "4\n",
      "imdb-pythia-gradnorm1-0.5\n",
      "2\n",
      "imdb-pythia-gradnorm2-0.1\n",
      "6\n",
      "imdb-pythia-gradnorm2-0.2\n",
      "3\n",
      "imdb-pythia-gradnorm2-0.3\n",
      "2\n",
      "imdb-pythia-gradnorm2-0.4\n",
      "2\n",
      "imdb-pythia-gradnorm2-0.5\n",
      "1\n",
      "imdb-pythia-gradinp-0.1\n",
      "2\n",
      "imdb-pythia-gradinp-0.2\n",
      "2\n",
      "imdb-pythia-gradinp-0.3\n",
      "2\n",
      "imdb-pythia-gradinp-0.4\n",
      "3\n",
      "imdb-pythia-gradinp-0.5\n",
      "2\n",
      "imdb-pythia-erasure-0.1\n",
      "3\n",
      "imdb-pythia-erasure-0.2\n",
      "1\n",
      "imdb-pythia-erasure-0.3\n",
      "3\n",
      "imdb-pythia-erasure-0.4\n",
      "4\n",
      "imdb-pythia-erasure-0.5\n",
      "6\n",
      "imdb-pythia-integrated_grad-0.1\n",
      "4\n",
      "imdb-pythia-integrated_grad-0.2\n",
      "4\n",
      "imdb-pythia-integrated_grad-0.3\n",
      "5\n",
      "imdb-pythia-integrated_grad-0.4\n",
      "6\n",
      "imdb-pythia-integrated_grad-0.5\n",
      "4\n",
      "imdb-pythia-kernel_shap-0.1\n",
      "7\n",
      "imdb-pythia-kernel_shap-0.2\n",
      "7\n",
      "imdb-pythia-kernel_shap-0.3\n",
      "4\n",
      "imdb-pythia-kernel_shap-0.4\n",
      "5\n",
      "imdb-pythia-kernel_shap-0.5\n",
      "3\n",
      "imdb-pythia-random-0.1\n",
      "5\n",
      "imdb-pythia-random-0.2\n",
      "3\n",
      "imdb-pythia-random-0.3\n",
      "4\n",
      "imdb-pythia-random-0.4\n",
      "4\n",
      "imdb-pythia-random-0.5\n",
      "5\n",
      "imdb-pythia2-gradnorm1-0.1\n",
      "4\n",
      "imdb-pythia2-gradnorm1-0.2\n",
      "4\n",
      "imdb-pythia2-gradnorm1-0.3\n",
      "5\n",
      "imdb-pythia2-gradnorm1-0.4\n",
      "6\n",
      "imdb-pythia2-gradnorm1-0.5\n",
      "2\n",
      "imdb-pythia2-gradnorm2-0.1\n",
      "6\n",
      "imdb-pythia2-gradnorm2-0.2\n",
      "6\n",
      "imdb-pythia2-gradnorm2-0.3\n",
      "3\n",
      "imdb-pythia2-gradnorm2-0.4\n",
      "9\n",
      "imdb-pythia2-gradnorm2-0.5\n",
      "5\n",
      "imdb-pythia2-gradinp-0.1\n",
      "2\n",
      "imdb-pythia2-gradinp-0.2\n",
      "1\n",
      "imdb-pythia2-gradinp-0.3\n",
      "5\n",
      "imdb-pythia2-gradinp-0.4\n",
      "4\n",
      "imdb-pythia2-gradinp-0.5\n",
      "5\n",
      "imdb-pythia2-erasure-0.1\n",
      "6\n",
      "imdb-pythia2-erasure-0.2\n",
      "6\n",
      "imdb-pythia2-erasure-0.3\n",
      "6\n",
      "imdb-pythia2-erasure-0.4\n",
      "7\n",
      "imdb-pythia2-erasure-0.5\n",
      "6\n",
      "imdb-pythia2-integrated_grad-0.1\n",
      "3\n",
      "imdb-pythia2-integrated_grad-0.2\n",
      "2\n",
      "imdb-pythia2-integrated_grad-0.3\n",
      "3\n",
      "imdb-pythia2-integrated_grad-0.4\n",
      "7\n",
      "imdb-pythia2-integrated_grad-0.5\n",
      "10\n",
      "imdb-pythia2-kernel_shap-0.1\n",
      "4\n",
      "imdb-pythia2-kernel_shap-0.2\n",
      "6\n",
      "imdb-pythia2-kernel_shap-0.3\n",
      "8\n",
      "imdb-pythia2-kernel_shap-0.4\n",
      "7\n",
      "imdb-pythia2-kernel_shap-0.5\n",
      "5\n",
      "imdb-pythia2-random-0.1\n",
      "5\n",
      "imdb-pythia2-random-0.2\n",
      "5\n",
      "imdb-pythia2-random-0.3\n",
      "4\n",
      "imdb-pythia2-random-0.4\n",
      "5\n",
      "imdb-pythia2-random-0.5\n",
      "4\n",
      "imdb-gptj-gradnorm1-0.1\n",
      "2\n",
      "imdb-gptj-gradnorm1-0.2\n",
      "3\n",
      "imdb-gptj-gradnorm1-0.3\n",
      "2\n",
      "imdb-gptj-gradnorm1-0.4\n",
      "0\n",
      "imdb-gptj-gradnorm1-0.5\n",
      "1\n",
      "imdb-gptj-gradnorm2-0.1\n",
      "2\n",
      "imdb-gptj-gradnorm2-0.2\n",
      "3\n",
      "imdb-gptj-gradnorm2-0.3\n",
      "5\n",
      "imdb-gptj-gradnorm2-0.4\n",
      "2\n",
      "imdb-gptj-gradnorm2-0.5\n",
      "2\n",
      "imdb-gptj-gradinp-0.1\n",
      "2\n",
      "imdb-gptj-gradinp-0.2\n",
      "2\n",
      "imdb-gptj-gradinp-0.3\n",
      "3\n",
      "imdb-gptj-gradinp-0.4\n",
      "2\n",
      "imdb-gptj-gradinp-0.5\n",
      "3\n",
      "imdb-gptj-erasure-0.1\n",
      "3\n",
      "imdb-gptj-erasure-0.2\n",
      "4\n",
      "imdb-gptj-erasure-0.3\n",
      "4\n",
      "imdb-gptj-erasure-0.4\n",
      "3\n",
      "imdb-gptj-erasure-0.5\n",
      "2\n",
      "imdb-gptj-integrated_grad-0.1\n",
      "3\n",
      "imdb-gptj-integrated_grad-0.2\n",
      "2\n",
      "imdb-gptj-integrated_grad-0.3\n",
      "3\n",
      "imdb-gptj-integrated_grad-0.4\n",
      "0\n",
      "imdb-gptj-integrated_grad-0.5\n",
      "1\n",
      "imdb-gptj-kernel_shap-0.1\n",
      "2\n",
      "imdb-gptj-kernel_shap-0.2\n",
      "5\n",
      "imdb-gptj-kernel_shap-0.3\n",
      "5\n",
      "imdb-gptj-kernel_shap-0.4\n",
      "8\n",
      "imdb-gptj-kernel_shap-0.5\n",
      "2\n",
      "imdb-gptj-random-0.1\n",
      "2\n",
      "imdb-gptj-random-0.2\n",
      "1\n",
      "imdb-gptj-random-0.3\n",
      "5\n",
      "imdb-gptj-random-0.4\n",
      "5\n",
      "imdb-gptj-random-0.5\n",
      "3\n",
      "news-pythia-gradnorm1-0.1\n",
      "3\n",
      "news-pythia-gradnorm1-0.2\n",
      "5\n",
      "news-pythia-gradnorm1-0.3\n",
      "6\n",
      "news-pythia-gradnorm1-0.4\n",
      "8\n",
      "news-pythia-gradnorm1-0.5\n",
      "2\n",
      "news-pythia-gradnorm2-0.1\n",
      "2\n",
      "news-pythia-gradnorm2-0.2\n",
      "6\n",
      "news-pythia-gradnorm2-0.3\n",
      "5\n",
      "news-pythia-gradnorm2-0.4\n",
      "7\n",
      "news-pythia-gradnorm2-0.5\n",
      "2\n",
      "news-pythia-gradinp-0.1\n",
      "2\n",
      "news-pythia-gradinp-0.2\n",
      "3\n",
      "news-pythia-gradinp-0.3\n",
      "4\n",
      "news-pythia-gradinp-0.4\n",
      "2\n",
      "news-pythia-gradinp-0.5\n",
      "3\n",
      "news-pythia-erasure-0.1\n",
      "5\n",
      "news-pythia-erasure-0.2\n",
      "9\n",
      "news-pythia-erasure-0.3\n",
      "7\n",
      "news-pythia-erasure-0.4\n",
      "10\n",
      "news-pythia-erasure-0.5\n",
      "10\n",
      "news-pythia-integrated_grad-0.1\n",
      "2\n",
      "news-pythia-integrated_grad-0.2\n",
      "1\n",
      "news-pythia-integrated_grad-0.3\n",
      "4\n",
      "news-pythia-integrated_grad-0.4\n",
      "2\n",
      "news-pythia-integrated_grad-0.5\n",
      "4\n",
      "news-pythia-kernel_shap-0.1\n",
      "4\n",
      "news-pythia-kernel_shap-0.2\n",
      "3\n",
      "news-pythia-kernel_shap-0.3\n",
      "2\n",
      "news-pythia-kernel_shap-0.4\n",
      "4\n",
      "news-pythia-kernel_shap-0.5\n",
      "3\n",
      "news-pythia-random-0.1\n",
      "2\n",
      "news-pythia-random-0.2\n",
      "2\n",
      "news-pythia-random-0.3\n",
      "6\n",
      "news-pythia-random-0.4\n",
      "4\n",
      "news-pythia-random-0.5\n",
      "4\n",
      "news-pythia2-gradnorm1-0.1\n",
      "5\n",
      "news-pythia2-gradnorm1-0.2\n",
      "4\n",
      "news-pythia2-gradnorm1-0.3\n",
      "3\n",
      "news-pythia2-gradnorm1-0.4\n",
      "6\n",
      "news-pythia2-gradnorm1-0.5\n",
      "6\n",
      "news-pythia2-gradnorm2-0.1\n",
      "5\n",
      "news-pythia2-gradnorm2-0.2\n",
      "3\n",
      "news-pythia2-gradnorm2-0.3\n",
      "3\n",
      "news-pythia2-gradnorm2-0.4\n",
      "6\n",
      "news-pythia2-gradnorm2-0.5\n",
      "7\n",
      "news-pythia2-gradinp-0.1\n",
      "7\n",
      "news-pythia2-gradinp-0.2\n",
      "3\n",
      "news-pythia2-gradinp-0.3\n",
      "4\n",
      "news-pythia2-gradinp-0.4\n",
      "5\n",
      "news-pythia2-gradinp-0.5\n",
      "4\n",
      "news-pythia2-erasure-0.1\n",
      "7\n",
      "news-pythia2-erasure-0.2\n",
      "6\n",
      "news-pythia2-erasure-0.3\n",
      "6\n",
      "news-pythia2-erasure-0.4\n",
      "7\n",
      "news-pythia2-erasure-0.5\n",
      "5\n",
      "news-pythia2-integrated_grad-0.1\n",
      "4\n",
      "news-pythia2-integrated_grad-0.2\n",
      "2\n",
      "news-pythia2-integrated_grad-0.3\n",
      "2\n",
      "news-pythia2-integrated_grad-0.4\n",
      "2\n",
      "news-pythia2-integrated_grad-0.5\n",
      "3\n",
      "news-pythia2-kernel_shap-0.1\n",
      "4\n",
      "news-pythia2-kernel_shap-0.2\n",
      "4\n",
      "news-pythia2-kernel_shap-0.3\n",
      "3\n",
      "news-pythia2-kernel_shap-0.4\n",
      "6\n",
      "news-pythia2-kernel_shap-0.5\n",
      "3\n",
      "news-pythia2-random-0.1\n",
      "4\n",
      "news-pythia2-random-0.2\n",
      "5\n",
      "news-pythia2-random-0.3\n",
      "6\n",
      "news-pythia2-random-0.4\n",
      "4\n",
      "news-pythia2-random-0.5\n",
      "5\n",
      "news-gptj-gradnorm1-0.1\n",
      "2\n",
      "news-gptj-gradnorm1-0.2\n",
      "4\n",
      "news-gptj-gradnorm1-0.3\n",
      "2\n",
      "news-gptj-gradnorm1-0.4\n",
      "0\n",
      "news-gptj-gradnorm1-0.5\n",
      "2\n",
      "news-gptj-gradnorm2-0.1\n",
      "3\n",
      "news-gptj-gradnorm2-0.2\n",
      "4\n",
      "news-gptj-gradnorm2-0.3\n",
      "4\n",
      "news-gptj-gradnorm2-0.4\n",
      "0\n",
      "news-gptj-gradnorm2-0.5\n",
      "1\n",
      "news-gptj-gradinp-0.1\n",
      "6\n",
      "news-gptj-gradinp-0.2\n",
      "3\n",
      "news-gptj-gradinp-0.3\n",
      "5\n",
      "news-gptj-gradinp-0.4\n",
      "4\n",
      "news-gptj-gradinp-0.5\n",
      "2\n",
      "news-gptj-erasure-0.1\n",
      "3\n",
      "news-gptj-erasure-0.2\n",
      "2\n",
      "news-gptj-erasure-0.3\n",
      "3\n",
      "news-gptj-erasure-0.4\n",
      "3\n",
      "news-gptj-erasure-0.5\n",
      "4\n",
      "news-gptj-integrated_grad-0.1\n",
      "2\n",
      "news-gptj-integrated_grad-0.2\n",
      "2\n",
      "news-gptj-integrated_grad-0.3\n",
      "2\n",
      "news-gptj-integrated_grad-0.4\n",
      "2\n",
      "news-gptj-integrated_grad-0.5\n",
      "1\n",
      "news-gptj-kernel_shap-0.1\n",
      "3\n",
      "news-gptj-kernel_shap-0.2\n",
      "1\n",
      "news-gptj-kernel_shap-0.3\n",
      "5\n",
      "news-gptj-kernel_shap-0.4\n",
      "1\n",
      "news-gptj-kernel_shap-0.5\n",
      "2\n",
      "news-gptj-random-0.1\n",
      "1\n",
      "news-gptj-random-0.2\n",
      "3\n",
      "news-gptj-random-0.3\n",
      "5\n",
      "news-gptj-random-0.4\n",
      "6\n",
      "news-gptj-random-0.5\n",
      "4\n"
     ]
    }
   ],
   "source": [
    "OODs_ft_ = []\n",
    "for key in lls_list.keys():\n",
    "    print(key)\n",
    "    if key.startswith(\"sst\"):\n",
    "        print((percentile99[\"sst2\"] < lls_list[key]).sum())\n",
    "    if key.startswith(\"imdb\"):\n",
    "        print((percentile99[\"imdb\"] < lls_list[key]).sum())\n",
    "    if key.startswith(\"news\"):\n",
    "        print((percentile99[\"news\"] < lls_list[key]).sum())"
   ]
  },
  {
   "cell_type": "code",
   "execution_count": 9,
   "metadata": {},
   "outputs": [
    {
     "data": {
      "application/vnd.jupyter.widget-view+json": {
       "model_id": "cbf9cf4e5c414fb3863b98fddcfe7770",
       "version_major": 2,
       "version_minor": 0
      },
      "text/plain": [
       "Loading checkpoint shards:   0%|          | 0/2 [00:00<?, ?it/s]"
      ]
     },
     "metadata": {},
     "output_type": "display_data"
    },
    {
     "name": "stderr",
     "output_type": "stream",
     "text": [
      "100%|██████████| 200/200 [00:02<00:00, 88.24it/s]\n"
     ]
    },
    {
     "name": "stdout",
     "output_type": "stream",
     "text": [
      "133.14919\n"
     ]
    },
    {
     "name": "stderr",
     "output_type": "stream",
     "text": [
      "100%|██████████| 200/200 [00:02<00:00, 88.29it/s]\n"
     ]
    },
    {
     "name": "stdout",
     "output_type": "stream",
     "text": [
      "133.31938\n"
     ]
    },
    {
     "name": "stderr",
     "output_type": "stream",
     "text": [
      "100%|██████████| 200/200 [00:02<00:00, 88.17it/s]\n"
     ]
    },
    {
     "name": "stdout",
     "output_type": "stream",
     "text": [
      "133.60777\n"
     ]
    },
    {
     "name": "stderr",
     "output_type": "stream",
     "text": [
      "100%|██████████| 200/200 [00:02<00:00, 86.97it/s]\n"
     ]
    },
    {
     "name": "stdout",
     "output_type": "stream",
     "text": [
      "134.52583\n"
     ]
    },
    {
     "name": "stderr",
     "output_type": "stream",
     "text": [
      "100%|██████████| 200/200 [00:02<00:00, 87.81it/s]\n"
     ]
    },
    {
     "name": "stdout",
     "output_type": "stream",
     "text": [
      "135.09181\n"
     ]
    },
    {
     "name": "stderr",
     "output_type": "stream",
     "text": [
      "100%|██████████| 200/200 [00:02<00:00, 87.53it/s]\n"
     ]
    },
    {
     "name": "stdout",
     "output_type": "stream",
     "text": [
      "133.30531\n"
     ]
    },
    {
     "name": "stderr",
     "output_type": "stream",
     "text": [
      "100%|██████████| 200/200 [00:02<00:00, 88.42it/s]\n"
     ]
    },
    {
     "name": "stdout",
     "output_type": "stream",
     "text": [
      "133.53554\n"
     ]
    },
    {
     "name": "stderr",
     "output_type": "stream",
     "text": [
      "100%|██████████| 200/200 [00:02<00:00, 86.95it/s]\n"
     ]
    },
    {
     "name": "stdout",
     "output_type": "stream",
     "text": [
      "133.85344\n"
     ]
    },
    {
     "name": "stderr",
     "output_type": "stream",
     "text": [
      "100%|██████████| 200/200 [00:02<00:00, 88.28it/s]\n"
     ]
    },
    {
     "name": "stdout",
     "output_type": "stream",
     "text": [
      "134.651\n"
     ]
    },
    {
     "name": "stderr",
     "output_type": "stream",
     "text": [
      "100%|██████████| 200/200 [00:02<00:00, 87.96it/s]\n"
     ]
    },
    {
     "name": "stdout",
     "output_type": "stream",
     "text": [
      "135.26535\n"
     ]
    },
    {
     "name": "stderr",
     "output_type": "stream",
     "text": [
      "100%|██████████| 200/200 [00:02<00:00, 87.81it/s]\n"
     ]
    },
    {
     "name": "stdout",
     "output_type": "stream",
     "text": [
      "132.67606\n"
     ]
    },
    {
     "name": "stderr",
     "output_type": "stream",
     "text": [
      "100%|██████████| 200/200 [00:02<00:00, 87.79it/s]\n"
     ]
    },
    {
     "name": "stdout",
     "output_type": "stream",
     "text": [
      "133.44504\n"
     ]
    },
    {
     "name": "stderr",
     "output_type": "stream",
     "text": [
      "100%|██████████| 200/200 [00:02<00:00, 88.43it/s]\n"
     ]
    },
    {
     "name": "stdout",
     "output_type": "stream",
     "text": [
      "133.87593\n"
     ]
    },
    {
     "name": "stderr",
     "output_type": "stream",
     "text": [
      "100%|██████████| 200/200 [00:02<00:00, 88.58it/s]\n"
     ]
    },
    {
     "name": "stdout",
     "output_type": "stream",
     "text": [
      "134.28563\n"
     ]
    },
    {
     "name": "stderr",
     "output_type": "stream",
     "text": [
      "100%|██████████| 200/200 [00:02<00:00, 88.16it/s]\n"
     ]
    },
    {
     "name": "stdout",
     "output_type": "stream",
     "text": [
      "134.87772\n"
     ]
    },
    {
     "name": "stderr",
     "output_type": "stream",
     "text": [
      "100%|██████████| 200/200 [00:02<00:00, 88.57it/s]\n"
     ]
    },
    {
     "name": "stdout",
     "output_type": "stream",
     "text": [
      "133.05925\n"
     ]
    },
    {
     "name": "stderr",
     "output_type": "stream",
     "text": [
      "100%|██████████| 200/200 [00:02<00:00, 88.78it/s]\n"
     ]
    },
    {
     "name": "stdout",
     "output_type": "stream",
     "text": [
      "133.36337\n"
     ]
    },
    {
     "name": "stderr",
     "output_type": "stream",
     "text": [
      "100%|██████████| 200/200 [00:02<00:00, 88.26it/s]\n"
     ]
    },
    {
     "name": "stdout",
     "output_type": "stream",
     "text": [
      "133.8347\n"
     ]
    },
    {
     "name": "stderr",
     "output_type": "stream",
     "text": [
      "100%|██████████| 200/200 [00:02<00:00, 88.80it/s]\n"
     ]
    },
    {
     "name": "stdout",
     "output_type": "stream",
     "text": [
      "134.15002\n"
     ]
    },
    {
     "name": "stderr",
     "output_type": "stream",
     "text": [
      "100%|██████████| 200/200 [00:02<00:00, 88.11it/s]\n"
     ]
    },
    {
     "name": "stdout",
     "output_type": "stream",
     "text": [
      "134.42583\n"
     ]
    },
    {
     "name": "stderr",
     "output_type": "stream",
     "text": [
      "100%|██████████| 200/200 [00:02<00:00, 87.27it/s]\n"
     ]
    },
    {
     "name": "stdout",
     "output_type": "stream",
     "text": [
      "132.41052\n"
     ]
    },
    {
     "name": "stderr",
     "output_type": "stream",
     "text": [
      "100%|██████████| 200/200 [00:02<00:00, 88.91it/s]\n"
     ]
    },
    {
     "name": "stdout",
     "output_type": "stream",
     "text": [
      "133.32646\n"
     ]
    },
    {
     "name": "stderr",
     "output_type": "stream",
     "text": [
      "100%|██████████| 200/200 [00:02<00:00, 88.79it/s]\n"
     ]
    },
    {
     "name": "stdout",
     "output_type": "stream",
     "text": [
      "134.12263\n"
     ]
    },
    {
     "name": "stderr",
     "output_type": "stream",
     "text": [
      "100%|██████████| 200/200 [00:02<00:00, 88.37it/s]\n"
     ]
    },
    {
     "name": "stdout",
     "output_type": "stream",
     "text": [
      "134.57239\n"
     ]
    },
    {
     "name": "stderr",
     "output_type": "stream",
     "text": [
      "100%|██████████| 200/200 [00:02<00:00, 88.80it/s]\n"
     ]
    },
    {
     "name": "stdout",
     "output_type": "stream",
     "text": [
      "135.10895\n"
     ]
    },
    {
     "name": "stderr",
     "output_type": "stream",
     "text": [
      "100%|██████████| 200/200 [00:02<00:00, 88.56it/s]\n"
     ]
    },
    {
     "name": "stdout",
     "output_type": "stream",
     "text": [
      "132.32742\n"
     ]
    },
    {
     "name": "stderr",
     "output_type": "stream",
     "text": [
      "100%|██████████| 200/200 [00:02<00:00, 88.03it/s]\n"
     ]
    },
    {
     "name": "stdout",
     "output_type": "stream",
     "text": [
      "133.00186\n"
     ]
    },
    {
     "name": "stderr",
     "output_type": "stream",
     "text": [
      "100%|██████████| 200/200 [00:02<00:00, 88.52it/s]\n"
     ]
    },
    {
     "name": "stdout",
     "output_type": "stream",
     "text": [
      "133.86642\n"
     ]
    },
    {
     "name": "stderr",
     "output_type": "stream",
     "text": [
      "100%|██████████| 200/200 [00:02<00:00, 88.79it/s]\n"
     ]
    },
    {
     "name": "stdout",
     "output_type": "stream",
     "text": [
      "134.22972\n"
     ]
    },
    {
     "name": "stderr",
     "output_type": "stream",
     "text": [
      "100%|██████████| 200/200 [00:02<00:00, 87.97it/s]\n"
     ]
    },
    {
     "name": "stdout",
     "output_type": "stream",
     "text": [
      "134.87709\n"
     ]
    },
    {
     "name": "stderr",
     "output_type": "stream",
     "text": [
      "100%|██████████| 200/200 [00:02<00:00, 88.55it/s]\n"
     ]
    },
    {
     "name": "stdout",
     "output_type": "stream",
     "text": [
      "132.69582\n"
     ]
    },
    {
     "name": "stderr",
     "output_type": "stream",
     "text": [
      "100%|██████████| 200/200 [00:02<00:00, 88.61it/s]\n"
     ]
    },
    {
     "name": "stdout",
     "output_type": "stream",
     "text": [
      "133.48982\n"
     ]
    },
    {
     "name": "stderr",
     "output_type": "stream",
     "text": [
      "100%|██████████| 200/200 [00:02<00:00, 88.10it/s]\n"
     ]
    },
    {
     "name": "stdout",
     "output_type": "stream",
     "text": [
      "134.05963\n"
     ]
    },
    {
     "name": "stderr",
     "output_type": "stream",
     "text": [
      "100%|██████████| 200/200 [00:02<00:00, 88.05it/s]\n"
     ]
    },
    {
     "name": "stdout",
     "output_type": "stream",
     "text": [
      "134.3265\n"
     ]
    },
    {
     "name": "stderr",
     "output_type": "stream",
     "text": [
      "100%|██████████| 200/200 [00:02<00:00, 88.29it/s]\n"
     ]
    },
    {
     "name": "stdout",
     "output_type": "stream",
     "text": [
      "134.66403\n"
     ]
    },
    {
     "name": "stderr",
     "output_type": "stream",
     "text": [
      "100%|██████████| 200/200 [00:02<00:00, 88.15it/s]\n"
     ]
    },
    {
     "name": "stdout",
     "output_type": "stream",
     "text": [
      "130.74968\n"
     ]
    },
    {
     "name": "stderr",
     "output_type": "stream",
     "text": [
      "100%|██████████| 200/200 [00:02<00:00, 89.27it/s]\n"
     ]
    },
    {
     "name": "stdout",
     "output_type": "stream",
     "text": [
      "130.94824\n"
     ]
    },
    {
     "name": "stderr",
     "output_type": "stream",
     "text": [
      "100%|██████████| 200/200 [00:02<00:00, 90.22it/s]\n"
     ]
    },
    {
     "name": "stdout",
     "output_type": "stream",
     "text": [
      "131.07346\n"
     ]
    },
    {
     "name": "stderr",
     "output_type": "stream",
     "text": [
      "100%|██████████| 200/200 [00:02<00:00, 90.24it/s]\n"
     ]
    },
    {
     "name": "stdout",
     "output_type": "stream",
     "text": [
      "131.38239\n"
     ]
    },
    {
     "name": "stderr",
     "output_type": "stream",
     "text": [
      "100%|██████████| 200/200 [00:02<00:00, 91.31it/s]\n"
     ]
    },
    {
     "name": "stdout",
     "output_type": "stream",
     "text": [
      "131.26068\n"
     ]
    },
    {
     "name": "stderr",
     "output_type": "stream",
     "text": [
      "100%|██████████| 200/200 [00:02<00:00, 88.53it/s]\n"
     ]
    },
    {
     "name": "stdout",
     "output_type": "stream",
     "text": [
      "130.95496\n"
     ]
    },
    {
     "name": "stderr",
     "output_type": "stream",
     "text": [
      "100%|██████████| 200/200 [00:02<00:00, 88.84it/s]\n"
     ]
    },
    {
     "name": "stdout",
     "output_type": "stream",
     "text": [
      "131.15709\n"
     ]
    },
    {
     "name": "stderr",
     "output_type": "stream",
     "text": [
      "100%|██████████| 200/200 [00:02<00:00, 89.95it/s]\n"
     ]
    },
    {
     "name": "stdout",
     "output_type": "stream",
     "text": [
      "131.26218\n"
     ]
    },
    {
     "name": "stderr",
     "output_type": "stream",
     "text": [
      "100%|██████████| 200/200 [00:02<00:00, 90.48it/s]\n"
     ]
    },
    {
     "name": "stdout",
     "output_type": "stream",
     "text": [
      "131.50433\n"
     ]
    },
    {
     "name": "stderr",
     "output_type": "stream",
     "text": [
      "100%|██████████| 200/200 [00:02<00:00, 90.62it/s]\n"
     ]
    },
    {
     "name": "stdout",
     "output_type": "stream",
     "text": [
      "131.39815\n"
     ]
    },
    {
     "name": "stderr",
     "output_type": "stream",
     "text": [
      "100%|██████████| 200/200 [00:02<00:00, 88.49it/s]\n"
     ]
    },
    {
     "name": "stdout",
     "output_type": "stream",
     "text": [
      "130.76825\n"
     ]
    },
    {
     "name": "stderr",
     "output_type": "stream",
     "text": [
      "100%|██████████| 200/200 [00:02<00:00, 88.32it/s]\n"
     ]
    },
    {
     "name": "stdout",
     "output_type": "stream",
     "text": [
      "130.69914\n"
     ]
    },
    {
     "name": "stderr",
     "output_type": "stream",
     "text": [
      "100%|██████████| 200/200 [00:02<00:00, 88.31it/s]\n"
     ]
    },
    {
     "name": "stdout",
     "output_type": "stream",
     "text": [
      "130.74307\n"
     ]
    },
    {
     "name": "stderr",
     "output_type": "stream",
     "text": [
      "100%|██████████| 200/200 [00:02<00:00, 89.36it/s]\n"
     ]
    },
    {
     "name": "stdout",
     "output_type": "stream",
     "text": [
      "130.74606\n"
     ]
    },
    {
     "name": "stderr",
     "output_type": "stream",
     "text": [
      "100%|██████████| 200/200 [00:02<00:00, 91.01it/s]\n"
     ]
    },
    {
     "name": "stdout",
     "output_type": "stream",
     "text": [
      "131.09328\n"
     ]
    },
    {
     "name": "stderr",
     "output_type": "stream",
     "text": [
      "100%|██████████| 200/200 [00:02<00:00, 87.88it/s]\n"
     ]
    },
    {
     "name": "stdout",
     "output_type": "stream",
     "text": [
      "131.94365\n"
     ]
    },
    {
     "name": "stderr",
     "output_type": "stream",
     "text": [
      "100%|██████████| 200/200 [00:02<00:00, 89.13it/s]\n"
     ]
    },
    {
     "name": "stdout",
     "output_type": "stream",
     "text": [
      "132.07767\n"
     ]
    },
    {
     "name": "stderr",
     "output_type": "stream",
     "text": [
      "100%|██████████| 200/200 [00:02<00:00, 89.80it/s]\n"
     ]
    },
    {
     "name": "stdout",
     "output_type": "stream",
     "text": [
      "132.31903\n"
     ]
    },
    {
     "name": "stderr",
     "output_type": "stream",
     "text": [
      "100%|██████████| 200/200 [00:02<00:00, 90.05it/s]\n"
     ]
    },
    {
     "name": "stdout",
     "output_type": "stream",
     "text": [
      "132.3799\n"
     ]
    },
    {
     "name": "stderr",
     "output_type": "stream",
     "text": [
      "100%|██████████| 200/200 [00:02<00:00, 91.02it/s]\n"
     ]
    },
    {
     "name": "stdout",
     "output_type": "stream",
     "text": [
      "132.44142\n"
     ]
    },
    {
     "name": "stderr",
     "output_type": "stream",
     "text": [
      "100%|██████████| 200/200 [00:02<00:00, 88.69it/s]\n"
     ]
    },
    {
     "name": "stdout",
     "output_type": "stream",
     "text": [
      "131.57542\n"
     ]
    },
    {
     "name": "stderr",
     "output_type": "stream",
     "text": [
      "100%|██████████| 200/200 [00:02<00:00, 88.42it/s]\n"
     ]
    },
    {
     "name": "stdout",
     "output_type": "stream",
     "text": [
      "131.73416\n"
     ]
    },
    {
     "name": "stderr",
     "output_type": "stream",
     "text": [
      "100%|██████████| 200/200 [00:02<00:00, 89.53it/s]\n"
     ]
    },
    {
     "name": "stdout",
     "output_type": "stream",
     "text": [
      "132.08086\n"
     ]
    },
    {
     "name": "stderr",
     "output_type": "stream",
     "text": [
      "100%|██████████| 200/200 [00:02<00:00, 90.38it/s]\n"
     ]
    },
    {
     "name": "stdout",
     "output_type": "stream",
     "text": [
      "131.99385\n"
     ]
    },
    {
     "name": "stderr",
     "output_type": "stream",
     "text": [
      "100%|██████████| 200/200 [00:02<00:00, 90.45it/s]\n"
     ]
    },
    {
     "name": "stdout",
     "output_type": "stream",
     "text": [
      "132.11375\n"
     ]
    },
    {
     "name": "stderr",
     "output_type": "stream",
     "text": [
      "100%|██████████| 200/200 [00:02<00:00, 88.83it/s]\n"
     ]
    },
    {
     "name": "stdout",
     "output_type": "stream",
     "text": [
      "131.20903\n"
     ]
    },
    {
     "name": "stderr",
     "output_type": "stream",
     "text": [
      "100%|██████████| 200/200 [00:02<00:00, 89.09it/s]\n"
     ]
    },
    {
     "name": "stdout",
     "output_type": "stream",
     "text": [
      "131.25389\n"
     ]
    },
    {
     "name": "stderr",
     "output_type": "stream",
     "text": [
      "100%|██████████| 200/200 [00:02<00:00, 87.44it/s]\n"
     ]
    },
    {
     "name": "stdout",
     "output_type": "stream",
     "text": [
      "131.50839\n"
     ]
    },
    {
     "name": "stderr",
     "output_type": "stream",
     "text": [
      "100%|██████████| 200/200 [00:02<00:00, 90.07it/s]\n"
     ]
    },
    {
     "name": "stdout",
     "output_type": "stream",
     "text": [
      "131.51436\n"
     ]
    },
    {
     "name": "stderr",
     "output_type": "stream",
     "text": [
      "100%|██████████| 200/200 [00:02<00:00, 91.15it/s]\n"
     ]
    },
    {
     "name": "stdout",
     "output_type": "stream",
     "text": [
      "131.73886\n"
     ]
    },
    {
     "name": "stderr",
     "output_type": "stream",
     "text": [
      "100%|██████████| 200/200 [00:02<00:00, 88.17it/s]\n"
     ]
    },
    {
     "name": "stdout",
     "output_type": "stream",
     "text": [
      "131.18292\n"
     ]
    },
    {
     "name": "stderr",
     "output_type": "stream",
     "text": [
      "100%|██████████| 200/200 [00:02<00:00, 89.14it/s]\n"
     ]
    },
    {
     "name": "stdout",
     "output_type": "stream",
     "text": [
      "131.31215\n"
     ]
    },
    {
     "name": "stderr",
     "output_type": "stream",
     "text": [
      "100%|██████████| 200/200 [00:02<00:00, 89.64it/s]\n"
     ]
    },
    {
     "name": "stdout",
     "output_type": "stream",
     "text": [
      "131.53912\n"
     ]
    },
    {
     "name": "stderr",
     "output_type": "stream",
     "text": [
      "100%|██████████| 200/200 [00:02<00:00, 88.67it/s]\n"
     ]
    },
    {
     "name": "stdout",
     "output_type": "stream",
     "text": [
      "131.6333\n"
     ]
    },
    {
     "name": "stderr",
     "output_type": "stream",
     "text": [
      "100%|██████████| 200/200 [00:02<00:00, 90.98it/s]\n"
     ]
    },
    {
     "name": "stdout",
     "output_type": "stream",
     "text": [
      "131.86153\n"
     ]
    },
    {
     "name": "stderr",
     "output_type": "stream",
     "text": [
      "100%|██████████| 200/200 [00:02<00:00, 88.69it/s]\n"
     ]
    },
    {
     "name": "stdout",
     "output_type": "stream",
     "text": [
      "130.47383\n"
     ]
    },
    {
     "name": "stderr",
     "output_type": "stream",
     "text": [
      "100%|██████████| 200/200 [00:02<00:00, 88.11it/s]\n"
     ]
    },
    {
     "name": "stdout",
     "output_type": "stream",
     "text": [
      "129.8754\n"
     ]
    },
    {
     "name": "stderr",
     "output_type": "stream",
     "text": [
      "100%|██████████| 200/200 [00:02<00:00, 88.51it/s]\n"
     ]
    },
    {
     "name": "stdout",
     "output_type": "stream",
     "text": [
      "129.32831\n"
     ]
    },
    {
     "name": "stderr",
     "output_type": "stream",
     "text": [
      "100%|██████████| 200/200 [00:02<00:00, 88.57it/s]\n"
     ]
    },
    {
     "name": "stdout",
     "output_type": "stream",
     "text": [
      "129.52275\n"
     ]
    },
    {
     "name": "stderr",
     "output_type": "stream",
     "text": [
      "100%|██████████| 200/200 [00:02<00:00, 87.97it/s]\n"
     ]
    },
    {
     "name": "stdout",
     "output_type": "stream",
     "text": [
      "129.5525\n"
     ]
    },
    {
     "name": "stderr",
     "output_type": "stream",
     "text": [
      "100%|██████████| 200/200 [00:02<00:00, 88.11it/s]\n"
     ]
    },
    {
     "name": "stdout",
     "output_type": "stream",
     "text": [
      "130.6522\n"
     ]
    },
    {
     "name": "stderr",
     "output_type": "stream",
     "text": [
      "100%|██████████| 200/200 [00:02<00:00, 87.36it/s]\n"
     ]
    },
    {
     "name": "stdout",
     "output_type": "stream",
     "text": [
      "130.00768\n"
     ]
    },
    {
     "name": "stderr",
     "output_type": "stream",
     "text": [
      "100%|██████████| 200/200 [00:02<00:00, 86.18it/s]\n"
     ]
    },
    {
     "name": "stdout",
     "output_type": "stream",
     "text": [
      "129.47884\n"
     ]
    },
    {
     "name": "stderr",
     "output_type": "stream",
     "text": [
      "100%|██████████| 200/200 [00:02<00:00, 88.18it/s]\n"
     ]
    },
    {
     "name": "stdout",
     "output_type": "stream",
     "text": [
      "129.58368\n"
     ]
    },
    {
     "name": "stderr",
     "output_type": "stream",
     "text": [
      "100%|██████████| 200/200 [00:02<00:00, 88.68it/s]\n"
     ]
    },
    {
     "name": "stdout",
     "output_type": "stream",
     "text": [
      "129.64346\n"
     ]
    },
    {
     "name": "stderr",
     "output_type": "stream",
     "text": [
      "100%|██████████| 200/200 [00:02<00:00, 87.82it/s]\n"
     ]
    },
    {
     "name": "stdout",
     "output_type": "stream",
     "text": [
      "130.50275\n"
     ]
    },
    {
     "name": "stderr",
     "output_type": "stream",
     "text": [
      "100%|██████████| 200/200 [00:02<00:00, 88.60it/s]\n"
     ]
    },
    {
     "name": "stdout",
     "output_type": "stream",
     "text": [
      "130.31816\n"
     ]
    },
    {
     "name": "stderr",
     "output_type": "stream",
     "text": [
      "100%|██████████| 200/200 [00:02<00:00, 88.52it/s]\n"
     ]
    },
    {
     "name": "stdout",
     "output_type": "stream",
     "text": [
      "129.94586\n"
     ]
    },
    {
     "name": "stderr",
     "output_type": "stream",
     "text": [
      "100%|██████████| 200/200 [00:02<00:00, 87.54it/s]\n"
     ]
    },
    {
     "name": "stdout",
     "output_type": "stream",
     "text": [
      "129.81294\n"
     ]
    },
    {
     "name": "stderr",
     "output_type": "stream",
     "text": [
      "100%|██████████| 200/200 [00:02<00:00, 88.16it/s]\n"
     ]
    },
    {
     "name": "stdout",
     "output_type": "stream",
     "text": [
      "129.88947\n"
     ]
    },
    {
     "name": "stderr",
     "output_type": "stream",
     "text": [
      "100%|██████████| 200/200 [00:02<00:00, 87.10it/s]\n"
     ]
    },
    {
     "name": "stdout",
     "output_type": "stream",
     "text": [
      "131.51959\n"
     ]
    },
    {
     "name": "stderr",
     "output_type": "stream",
     "text": [
      "100%|██████████| 200/200 [00:02<00:00, 87.85it/s]\n"
     ]
    },
    {
     "name": "stdout",
     "output_type": "stream",
     "text": [
      "130.95842\n"
     ]
    },
    {
     "name": "stderr",
     "output_type": "stream",
     "text": [
      "100%|██████████| 200/200 [00:02<00:00, 87.69it/s]\n"
     ]
    },
    {
     "name": "stdout",
     "output_type": "stream",
     "text": [
      "130.54564\n"
     ]
    },
    {
     "name": "stderr",
     "output_type": "stream",
     "text": [
      "100%|██████████| 200/200 [00:02<00:00, 88.28it/s]\n"
     ]
    },
    {
     "name": "stdout",
     "output_type": "stream",
     "text": [
      "130.10095\n"
     ]
    },
    {
     "name": "stderr",
     "output_type": "stream",
     "text": [
      "100%|██████████| 200/200 [00:02<00:00, 88.10it/s]\n"
     ]
    },
    {
     "name": "stdout",
     "output_type": "stream",
     "text": [
      "129.87721\n"
     ]
    },
    {
     "name": "stderr",
     "output_type": "stream",
     "text": [
      "100%|██████████| 200/200 [00:02<00:00, 87.47it/s]\n"
     ]
    },
    {
     "name": "stdout",
     "output_type": "stream",
     "text": [
      "131.61008\n"
     ]
    },
    {
     "name": "stderr",
     "output_type": "stream",
     "text": [
      "100%|██████████| 200/200 [00:02<00:00, 87.73it/s]\n"
     ]
    },
    {
     "name": "stdout",
     "output_type": "stream",
     "text": [
      "131.49426\n"
     ]
    },
    {
     "name": "stderr",
     "output_type": "stream",
     "text": [
      "100%|██████████| 200/200 [00:02<00:00, 88.56it/s]\n"
     ]
    },
    {
     "name": "stdout",
     "output_type": "stream",
     "text": [
      "131.3358\n"
     ]
    },
    {
     "name": "stderr",
     "output_type": "stream",
     "text": [
      "100%|██████████| 200/200 [00:02<00:00, 88.07it/s]\n"
     ]
    },
    {
     "name": "stdout",
     "output_type": "stream",
     "text": [
      "130.98389\n"
     ]
    },
    {
     "name": "stderr",
     "output_type": "stream",
     "text": [
      "100%|██████████| 200/200 [00:02<00:00, 88.31it/s]\n"
     ]
    },
    {
     "name": "stdout",
     "output_type": "stream",
     "text": [
      "130.52747\n"
     ]
    },
    {
     "name": "stderr",
     "output_type": "stream",
     "text": [
      "100%|██████████| 200/200 [00:02<00:00, 88.33it/s]\n"
     ]
    },
    {
     "name": "stdout",
     "output_type": "stream",
     "text": [
      "130.8758\n"
     ]
    },
    {
     "name": "stderr",
     "output_type": "stream",
     "text": [
      "100%|██████████| 200/200 [00:02<00:00, 88.05it/s]\n"
     ]
    },
    {
     "name": "stdout",
     "output_type": "stream",
     "text": [
      "130.62074\n"
     ]
    },
    {
     "name": "stderr",
     "output_type": "stream",
     "text": [
      "100%|██████████| 200/200 [00:02<00:00, 88.21it/s]\n"
     ]
    },
    {
     "name": "stdout",
     "output_type": "stream",
     "text": [
      "130.5795\n"
     ]
    },
    {
     "name": "stderr",
     "output_type": "stream",
     "text": [
      "100%|██████████| 200/200 [00:02<00:00, 87.33it/s]\n"
     ]
    },
    {
     "name": "stdout",
     "output_type": "stream",
     "text": [
      "130.24269\n"
     ]
    },
    {
     "name": "stderr",
     "output_type": "stream",
     "text": [
      "100%|██████████| 200/200 [00:02<00:00, 88.26it/s]\n"
     ]
    },
    {
     "name": "stdout",
     "output_type": "stream",
     "text": [
      "130.19887\n"
     ]
    },
    {
     "name": "stderr",
     "output_type": "stream",
     "text": [
      "100%|██████████| 200/200 [00:02<00:00, 88.45it/s]\n"
     ]
    },
    {
     "name": "stdout",
     "output_type": "stream",
     "text": [
      "131.11687\n"
     ]
    },
    {
     "name": "stderr",
     "output_type": "stream",
     "text": [
      "100%|██████████| 200/200 [00:02<00:00, 87.79it/s]\n"
     ]
    },
    {
     "name": "stdout",
     "output_type": "stream",
     "text": [
      "130.92726\n"
     ]
    },
    {
     "name": "stderr",
     "output_type": "stream",
     "text": [
      "100%|██████████| 200/200 [00:02<00:00, 88.19it/s]\n"
     ]
    },
    {
     "name": "stdout",
     "output_type": "stream",
     "text": [
      "130.7714\n"
     ]
    },
    {
     "name": "stderr",
     "output_type": "stream",
     "text": [
      "100%|██████████| 200/200 [00:02<00:00, 87.62it/s]\n"
     ]
    },
    {
     "name": "stdout",
     "output_type": "stream",
     "text": [
      "130.4022\n"
     ]
    },
    {
     "name": "stderr",
     "output_type": "stream",
     "text": [
      "100%|██████████| 200/200 [00:02<00:00, 87.86it/s]\n"
     ]
    },
    {
     "name": "stdout",
     "output_type": "stream",
     "text": [
      "130.1331\n"
     ]
    },
    {
     "name": "stderr",
     "output_type": "stream",
     "text": [
      "100%|██████████| 200/200 [00:02<00:00, 86.51it/s]\n"
     ]
    },
    {
     "name": "stdout",
     "output_type": "stream",
     "text": [
      "131.04068\n"
     ]
    },
    {
     "name": "stderr",
     "output_type": "stream",
     "text": [
      "100%|██████████| 200/200 [00:02<00:00, 87.26it/s]\n"
     ]
    },
    {
     "name": "stdout",
     "output_type": "stream",
     "text": [
      "131.04068\n"
     ]
    },
    {
     "name": "stderr",
     "output_type": "stream",
     "text": [
      "100%|██████████| 200/200 [00:02<00:00, 88.17it/s]\n"
     ]
    },
    {
     "name": "stdout",
     "output_type": "stream",
     "text": [
      "131.04068\n"
     ]
    },
    {
     "name": "stderr",
     "output_type": "stream",
     "text": [
      "100%|██████████| 200/200 [00:02<00:00, 88.15it/s]\n"
     ]
    },
    {
     "name": "stdout",
     "output_type": "stream",
     "text": [
      "131.04068\n"
     ]
    },
    {
     "name": "stderr",
     "output_type": "stream",
     "text": [
      "100%|██████████| 200/200 [00:02<00:00, 87.64it/s]\n"
     ]
    },
    {
     "name": "stdout",
     "output_type": "stream",
     "text": [
      "131.04068\n"
     ]
    },
    {
     "name": "stderr",
     "output_type": "stream",
     "text": [
      "100%|██████████| 200/200 [00:02<00:00, 88.09it/s]\n"
     ]
    },
    {
     "name": "stdout",
     "output_type": "stream",
     "text": [
      "131.04068\n"
     ]
    },
    {
     "name": "stderr",
     "output_type": "stream",
     "text": [
      "100%|██████████| 200/200 [00:02<00:00, 88.23it/s]\n"
     ]
    },
    {
     "name": "stdout",
     "output_type": "stream",
     "text": [
      "131.04068\n"
     ]
    },
    {
     "name": "stderr",
     "output_type": "stream",
     "text": [
      "100%|██████████| 200/200 [00:02<00:00, 87.48it/s]\n"
     ]
    },
    {
     "name": "stdout",
     "output_type": "stream",
     "text": [
      "131.04068\n"
     ]
    },
    {
     "name": "stderr",
     "output_type": "stream",
     "text": [
      "100%|██████████| 200/200 [00:02<00:00, 88.11it/s]\n"
     ]
    },
    {
     "name": "stdout",
     "output_type": "stream",
     "text": [
      "131.04068\n"
     ]
    },
    {
     "name": "stderr",
     "output_type": "stream",
     "text": [
      "100%|██████████| 200/200 [00:02<00:00, 87.89it/s]\n"
     ]
    },
    {
     "name": "stdout",
     "output_type": "stream",
     "text": [
      "131.04068\n"
     ]
    },
    {
     "name": "stderr",
     "output_type": "stream",
     "text": [
      "100%|██████████| 200/200 [00:02<00:00, 87.10it/s]\n"
     ]
    },
    {
     "name": "stdout",
     "output_type": "stream",
     "text": [
      "131.04068\n"
     ]
    },
    {
     "name": "stderr",
     "output_type": "stream",
     "text": [
      "100%|██████████| 200/200 [00:02<00:00, 87.93it/s]\n"
     ]
    },
    {
     "name": "stdout",
     "output_type": "stream",
     "text": [
      "131.04068\n"
     ]
    },
    {
     "name": "stderr",
     "output_type": "stream",
     "text": [
      "100%|██████████| 200/200 [00:02<00:00, 87.97it/s]\n"
     ]
    },
    {
     "name": "stdout",
     "output_type": "stream",
     "text": [
      "131.04068\n"
     ]
    },
    {
     "name": "stderr",
     "output_type": "stream",
     "text": [
      "100%|██████████| 200/200 [00:02<00:00, 86.25it/s]\n"
     ]
    },
    {
     "name": "stdout",
     "output_type": "stream",
     "text": [
      "131.04068\n"
     ]
    },
    {
     "name": "stderr",
     "output_type": "stream",
     "text": [
      "100%|██████████| 200/200 [00:02<00:00, 86.44it/s]\n"
     ]
    },
    {
     "name": "stdout",
     "output_type": "stream",
     "text": [
      "131.04068\n"
     ]
    },
    {
     "name": "stderr",
     "output_type": "stream",
     "text": [
      "100%|██████████| 200/200 [00:02<00:00, 87.75it/s]\n"
     ]
    },
    {
     "name": "stdout",
     "output_type": "stream",
     "text": [
      "131.04068\n"
     ]
    },
    {
     "name": "stderr",
     "output_type": "stream",
     "text": [
      "100%|██████████| 200/200 [00:02<00:00, 87.27it/s]\n"
     ]
    },
    {
     "name": "stdout",
     "output_type": "stream",
     "text": [
      "131.04068\n"
     ]
    },
    {
     "name": "stderr",
     "output_type": "stream",
     "text": [
      "100%|██████████| 200/200 [00:02<00:00, 88.20it/s]\n"
     ]
    },
    {
     "name": "stdout",
     "output_type": "stream",
     "text": [
      "131.04068\n"
     ]
    },
    {
     "name": "stderr",
     "output_type": "stream",
     "text": [
      "100%|██████████| 200/200 [00:02<00:00, 88.09it/s]\n"
     ]
    },
    {
     "name": "stdout",
     "output_type": "stream",
     "text": [
      "131.04068\n"
     ]
    },
    {
     "name": "stderr",
     "output_type": "stream",
     "text": [
      "100%|██████████| 200/200 [00:02<00:00, 87.68it/s]\n"
     ]
    },
    {
     "name": "stdout",
     "output_type": "stream",
     "text": [
      "131.04068\n"
     ]
    },
    {
     "name": "stderr",
     "output_type": "stream",
     "text": [
      "100%|██████████| 200/200 [00:02<00:00, 88.11it/s]\n"
     ]
    },
    {
     "name": "stdout",
     "output_type": "stream",
     "text": [
      "131.04068\n"
     ]
    },
    {
     "name": "stderr",
     "output_type": "stream",
     "text": [
      "100%|██████████| 200/200 [00:02<00:00, 88.09it/s]\n"
     ]
    },
    {
     "name": "stdout",
     "output_type": "stream",
     "text": [
      "131.04068\n"
     ]
    },
    {
     "name": "stderr",
     "output_type": "stream",
     "text": [
      "100%|██████████| 200/200 [00:02<00:00, 86.90it/s]\n"
     ]
    },
    {
     "name": "stdout",
     "output_type": "stream",
     "text": [
      "131.04068\n"
     ]
    },
    {
     "name": "stderr",
     "output_type": "stream",
     "text": [
      "100%|██████████| 200/200 [00:02<00:00, 87.84it/s]\n"
     ]
    },
    {
     "name": "stdout",
     "output_type": "stream",
     "text": [
      "131.04068\n"
     ]
    },
    {
     "name": "stderr",
     "output_type": "stream",
     "text": [
      "100%|██████████| 200/200 [00:02<00:00, 87.61it/s]\n"
     ]
    },
    {
     "name": "stdout",
     "output_type": "stream",
     "text": [
      "131.04068\n"
     ]
    },
    {
     "name": "stderr",
     "output_type": "stream",
     "text": [
      "100%|██████████| 200/200 [00:02<00:00, 86.61it/s]\n"
     ]
    },
    {
     "name": "stdout",
     "output_type": "stream",
     "text": [
      "131.04068\n"
     ]
    },
    {
     "name": "stderr",
     "output_type": "stream",
     "text": [
      "100%|██████████| 200/200 [00:02<00:00, 88.08it/s]\n"
     ]
    },
    {
     "name": "stdout",
     "output_type": "stream",
     "text": [
      "131.04068\n"
     ]
    },
    {
     "name": "stderr",
     "output_type": "stream",
     "text": [
      "100%|██████████| 200/200 [00:02<00:00, 87.88it/s]\n"
     ]
    },
    {
     "name": "stdout",
     "output_type": "stream",
     "text": [
      "131.04068\n"
     ]
    },
    {
     "name": "stderr",
     "output_type": "stream",
     "text": [
      "100%|██████████| 200/200 [00:02<00:00, 86.56it/s]\n"
     ]
    },
    {
     "name": "stdout",
     "output_type": "stream",
     "text": [
      "131.04068\n"
     ]
    },
    {
     "name": "stderr",
     "output_type": "stream",
     "text": [
      "100%|██████████| 200/200 [00:02<00:00, 87.96it/s]\n"
     ]
    },
    {
     "name": "stdout",
     "output_type": "stream",
     "text": [
      "131.04068\n"
     ]
    },
    {
     "name": "stderr",
     "output_type": "stream",
     "text": [
      "100%|██████████| 200/200 [00:02<00:00, 87.89it/s]\n"
     ]
    },
    {
     "name": "stdout",
     "output_type": "stream",
     "text": [
      "131.04068\n"
     ]
    },
    {
     "name": "stderr",
     "output_type": "stream",
     "text": [
      "100%|██████████| 200/200 [00:02<00:00, 86.81it/s]\n"
     ]
    },
    {
     "name": "stdout",
     "output_type": "stream",
     "text": [
      "131.04068\n"
     ]
    },
    {
     "name": "stderr",
     "output_type": "stream",
     "text": [
      "100%|██████████| 200/200 [00:02<00:00, 87.88it/s]\n"
     ]
    },
    {
     "name": "stdout",
     "output_type": "stream",
     "text": [
      "131.04068\n"
     ]
    },
    {
     "name": "stderr",
     "output_type": "stream",
     "text": [
      "100%|██████████| 200/200 [00:02<00:00, 87.91it/s]\n"
     ]
    },
    {
     "name": "stdout",
     "output_type": "stream",
     "text": [
      "131.04068\n"
     ]
    },
    {
     "name": "stderr",
     "output_type": "stream",
     "text": [
      "100%|██████████| 200/200 [00:02<00:00, 86.38it/s]\n"
     ]
    },
    {
     "name": "stdout",
     "output_type": "stream",
     "text": [
      "131.04068\n"
     ]
    },
    {
     "data": {
      "application/vnd.jupyter.widget-view+json": {
       "model_id": "5e8466587c6b40fb8ff756669df57dd6",
       "version_major": 2,
       "version_minor": 0
      },
      "text/plain": [
       "Loading checkpoint shards:   0%|          | 0/2 [00:00<?, ?it/s]"
      ]
     },
     "metadata": {},
     "output_type": "display_data"
    },
    {
     "name": "stderr",
     "output_type": "stream",
     "text": [
      "100%|██████████| 200/200 [00:03<00:00, 64.98it/s]\n"
     ]
    },
    {
     "name": "stdout",
     "output_type": "stream",
     "text": [
      "54.77563\n"
     ]
    },
    {
     "name": "stderr",
     "output_type": "stream",
     "text": [
      "100%|██████████| 200/200 [00:03<00:00, 65.34it/s]\n"
     ]
    },
    {
     "name": "stdout",
     "output_type": "stream",
     "text": [
      "57.06084\n"
     ]
    },
    {
     "name": "stderr",
     "output_type": "stream",
     "text": [
      "100%|██████████| 200/200 [00:03<00:00, 65.15it/s]\n"
     ]
    },
    {
     "name": "stdout",
     "output_type": "stream",
     "text": [
      "59.166\n"
     ]
    },
    {
     "name": "stderr",
     "output_type": "stream",
     "text": [
      "100%|██████████| 200/200 [00:03<00:00, 65.48it/s]\n"
     ]
    },
    {
     "name": "stdout",
     "output_type": "stream",
     "text": [
      "61.156464\n"
     ]
    },
    {
     "name": "stderr",
     "output_type": "stream",
     "text": [
      "100%|██████████| 200/200 [00:03<00:00, 64.80it/s]\n"
     ]
    },
    {
     "name": "stdout",
     "output_type": "stream",
     "text": [
      "63.0549\n"
     ]
    },
    {
     "name": "stderr",
     "output_type": "stream",
     "text": [
      "100%|██████████| 200/200 [00:03<00:00, 65.40it/s]\n"
     ]
    },
    {
     "name": "stdout",
     "output_type": "stream",
     "text": [
      "54.82755\n"
     ]
    },
    {
     "name": "stderr",
     "output_type": "stream",
     "text": [
      "100%|██████████| 200/200 [00:03<00:00, 65.56it/s]\n"
     ]
    },
    {
     "name": "stdout",
     "output_type": "stream",
     "text": [
      "57.215958\n"
     ]
    },
    {
     "name": "stderr",
     "output_type": "stream",
     "text": [
      "100%|██████████| 200/200 [00:03<00:00, 65.42it/s]\n"
     ]
    },
    {
     "name": "stdout",
     "output_type": "stream",
     "text": [
      "59.294445\n"
     ]
    },
    {
     "name": "stderr",
     "output_type": "stream",
     "text": [
      "100%|██████████| 200/200 [00:03<00:00, 65.59it/s]\n"
     ]
    },
    {
     "name": "stdout",
     "output_type": "stream",
     "text": [
      "61.291405\n"
     ]
    },
    {
     "name": "stderr",
     "output_type": "stream",
     "text": [
      "100%|██████████| 200/200 [00:03<00:00, 65.29it/s]\n"
     ]
    },
    {
     "name": "stdout",
     "output_type": "stream",
     "text": [
      "63.234276\n"
     ]
    },
    {
     "name": "stderr",
     "output_type": "stream",
     "text": [
      "100%|██████████| 200/200 [00:03<00:00, 65.15it/s]\n"
     ]
    },
    {
     "name": "stdout",
     "output_type": "stream",
     "text": [
      "54.20042\n"
     ]
    },
    {
     "name": "stderr",
     "output_type": "stream",
     "text": [
      "100%|██████████| 200/200 [00:03<00:00, 65.43it/s]\n"
     ]
    },
    {
     "name": "stdout",
     "output_type": "stream",
     "text": [
      "56.568584\n"
     ]
    },
    {
     "name": "stderr",
     "output_type": "stream",
     "text": [
      "100%|██████████| 200/200 [00:03<00:00, 65.16it/s]\n"
     ]
    },
    {
     "name": "stdout",
     "output_type": "stream",
     "text": [
      "58.780506\n"
     ]
    },
    {
     "name": "stderr",
     "output_type": "stream",
     "text": [
      "100%|██████████| 200/200 [00:03<00:00, 65.53it/s]\n"
     ]
    },
    {
     "name": "stdout",
     "output_type": "stream",
     "text": [
      "61.197697\n"
     ]
    },
    {
     "name": "stderr",
     "output_type": "stream",
     "text": [
      "100%|██████████| 200/200 [00:03<00:00, 65.08it/s]\n"
     ]
    },
    {
     "name": "stdout",
     "output_type": "stream",
     "text": [
      "63.758835\n"
     ]
    },
    {
     "name": "stderr",
     "output_type": "stream",
     "text": [
      "100%|██████████| 200/200 [00:03<00:00, 64.64it/s]\n"
     ]
    },
    {
     "name": "stdout",
     "output_type": "stream",
     "text": [
      "55.164032\n"
     ]
    },
    {
     "name": "stderr",
     "output_type": "stream",
     "text": [
      "100%|██████████| 200/200 [00:03<00:00, 65.02it/s]\n"
     ]
    },
    {
     "name": "stdout",
     "output_type": "stream",
     "text": [
      "57.89015\n"
     ]
    },
    {
     "name": "stderr",
     "output_type": "stream",
     "text": [
      "100%|██████████| 200/200 [00:03<00:00, 65.28it/s]\n"
     ]
    },
    {
     "name": "stdout",
     "output_type": "stream",
     "text": [
      "60.357574\n"
     ]
    },
    {
     "name": "stderr",
     "output_type": "stream",
     "text": [
      "100%|██████████| 200/200 [00:03<00:00, 65.18it/s]\n"
     ]
    },
    {
     "name": "stdout",
     "output_type": "stream",
     "text": [
      "62.767555\n"
     ]
    },
    {
     "name": "stderr",
     "output_type": "stream",
     "text": [
      "100%|██████████| 200/200 [00:03<00:00, 65.04it/s]\n"
     ]
    },
    {
     "name": "stdout",
     "output_type": "stream",
     "text": [
      "65.18086\n"
     ]
    },
    {
     "name": "stderr",
     "output_type": "stream",
     "text": [
      "100%|██████████| 200/200 [00:03<00:00, 65.12it/s]\n"
     ]
    },
    {
     "name": "stdout",
     "output_type": "stream",
     "text": [
      "54.34736\n"
     ]
    },
    {
     "name": "stderr",
     "output_type": "stream",
     "text": [
      "100%|██████████| 200/200 [00:03<00:00, 64.96it/s]\n"
     ]
    },
    {
     "name": "stdout",
     "output_type": "stream",
     "text": [
      "57.245296\n"
     ]
    },
    {
     "name": "stderr",
     "output_type": "stream",
     "text": [
      "100%|██████████| 200/200 [00:03<00:00, 65.14it/s]\n"
     ]
    },
    {
     "name": "stdout",
     "output_type": "stream",
     "text": [
      "59.838844\n"
     ]
    },
    {
     "name": "stderr",
     "output_type": "stream",
     "text": [
      "100%|██████████| 200/200 [00:03<00:00, 65.22it/s]\n"
     ]
    },
    {
     "name": "stdout",
     "output_type": "stream",
     "text": [
      "62.279617\n"
     ]
    },
    {
     "name": "stderr",
     "output_type": "stream",
     "text": [
      "100%|██████████| 200/200 [00:03<00:00, 64.89it/s]\n"
     ]
    },
    {
     "name": "stdout",
     "output_type": "stream",
     "text": [
      "64.34904\n"
     ]
    },
    {
     "name": "stderr",
     "output_type": "stream",
     "text": [
      "100%|██████████| 200/200 [00:03<00:00, 64.72it/s]\n"
     ]
    },
    {
     "name": "stdout",
     "output_type": "stream",
     "text": [
      "54.658714\n"
     ]
    },
    {
     "name": "stderr",
     "output_type": "stream",
     "text": [
      "100%|██████████| 200/200 [00:03<00:00, 64.81it/s]\n"
     ]
    },
    {
     "name": "stdout",
     "output_type": "stream",
     "text": [
      "57.490448\n"
     ]
    },
    {
     "name": "stderr",
     "output_type": "stream",
     "text": [
      "100%|██████████| 200/200 [00:03<00:00, 65.17it/s]\n"
     ]
    },
    {
     "name": "stdout",
     "output_type": "stream",
     "text": [
      "60.072723\n"
     ]
    },
    {
     "name": "stderr",
     "output_type": "stream",
     "text": [
      "100%|██████████| 200/200 [00:03<00:00, 64.84it/s]\n"
     ]
    },
    {
     "name": "stdout",
     "output_type": "stream",
     "text": [
      "62.40303\n"
     ]
    },
    {
     "name": "stderr",
     "output_type": "stream",
     "text": [
      "100%|██████████| 200/200 [00:03<00:00, 65.25it/s]\n"
     ]
    },
    {
     "name": "stdout",
     "output_type": "stream",
     "text": [
      "64.598564\n"
     ]
    },
    {
     "name": "stderr",
     "output_type": "stream",
     "text": [
      "100%|██████████| 200/200 [00:03<00:00, 65.21it/s]\n"
     ]
    },
    {
     "name": "stdout",
     "output_type": "stream",
     "text": [
      "54.64001\n"
     ]
    },
    {
     "name": "stderr",
     "output_type": "stream",
     "text": [
      "100%|██████████| 200/200 [00:03<00:00, 65.01it/s]\n"
     ]
    },
    {
     "name": "stdout",
     "output_type": "stream",
     "text": [
      "57.46209\n"
     ]
    },
    {
     "name": "stderr",
     "output_type": "stream",
     "text": [
      "100%|██████████| 200/200 [00:03<00:00, 65.30it/s]\n"
     ]
    },
    {
     "name": "stdout",
     "output_type": "stream",
     "text": [
      "60.003857\n"
     ]
    },
    {
     "name": "stderr",
     "output_type": "stream",
     "text": [
      "100%|██████████| 200/200 [00:03<00:00, 65.11it/s]\n"
     ]
    },
    {
     "name": "stdout",
     "output_type": "stream",
     "text": [
      "62.382225\n"
     ]
    },
    {
     "name": "stderr",
     "output_type": "stream",
     "text": [
      "100%|██████████| 200/200 [00:03<00:00, 65.26it/s]\n"
     ]
    },
    {
     "name": "stdout",
     "output_type": "stream",
     "text": [
      "64.55417\n"
     ]
    },
    {
     "name": "stderr",
     "output_type": "stream",
     "text": [
      "100%|██████████| 200/200 [00:03<00:00, 66.23it/s]\n"
     ]
    },
    {
     "name": "stdout",
     "output_type": "stream",
     "text": [
      "49.889977\n"
     ]
    },
    {
     "name": "stderr",
     "output_type": "stream",
     "text": [
      "100%|██████████| 200/200 [00:03<00:00, 66.61it/s]\n"
     ]
    },
    {
     "name": "stdout",
     "output_type": "stream",
     "text": [
      "49.40672\n"
     ]
    },
    {
     "name": "stderr",
     "output_type": "stream",
     "text": [
      "100%|██████████| 200/200 [00:02<00:00, 71.22it/s]\n"
     ]
    },
    {
     "name": "stdout",
     "output_type": "stream",
     "text": [
      "48.8404\n"
     ]
    },
    {
     "name": "stderr",
     "output_type": "stream",
     "text": [
      "100%|██████████| 200/200 [00:02<00:00, 74.91it/s]\n"
     ]
    },
    {
     "name": "stdout",
     "output_type": "stream",
     "text": [
      "48.29644\n"
     ]
    },
    {
     "name": "stderr",
     "output_type": "stream",
     "text": [
      "100%|██████████| 200/200 [00:02<00:00, 82.30it/s]\n"
     ]
    },
    {
     "name": "stdout",
     "output_type": "stream",
     "text": [
      "47.834152\n"
     ]
    },
    {
     "name": "stderr",
     "output_type": "stream",
     "text": [
      "100%|██████████| 200/200 [00:03<00:00, 66.20it/s]\n"
     ]
    },
    {
     "name": "stdout",
     "output_type": "stream",
     "text": [
      "49.966103\n"
     ]
    },
    {
     "name": "stderr",
     "output_type": "stream",
     "text": [
      "100%|██████████| 200/200 [00:02<00:00, 67.34it/s]\n"
     ]
    },
    {
     "name": "stdout",
     "output_type": "stream",
     "text": [
      "49.521\n"
     ]
    },
    {
     "name": "stderr",
     "output_type": "stream",
     "text": [
      "100%|██████████| 200/200 [00:02<00:00, 71.32it/s]\n"
     ]
    },
    {
     "name": "stdout",
     "output_type": "stream",
     "text": [
      "49.00445\n"
     ]
    },
    {
     "name": "stderr",
     "output_type": "stream",
     "text": [
      "100%|██████████| 200/200 [00:02<00:00, 75.13it/s]\n"
     ]
    },
    {
     "name": "stdout",
     "output_type": "stream",
     "text": [
      "48.551113\n"
     ]
    },
    {
     "name": "stderr",
     "output_type": "stream",
     "text": [
      "100%|██████████| 200/200 [00:02<00:00, 82.33it/s]\n"
     ]
    },
    {
     "name": "stdout",
     "output_type": "stream",
     "text": [
      "48.13008\n"
     ]
    },
    {
     "name": "stderr",
     "output_type": "stream",
     "text": [
      "100%|██████████| 200/200 [00:03<00:00, 66.22it/s]\n"
     ]
    },
    {
     "name": "stdout",
     "output_type": "stream",
     "text": [
      "49.8452\n"
     ]
    },
    {
     "name": "stderr",
     "output_type": "stream",
     "text": [
      "100%|██████████| 200/200 [00:02<00:00, 67.47it/s]\n"
     ]
    },
    {
     "name": "stdout",
     "output_type": "stream",
     "text": [
      "49.434425\n"
     ]
    },
    {
     "name": "stderr",
     "output_type": "stream",
     "text": [
      "100%|██████████| 200/200 [00:02<00:00, 70.63it/s]\n"
     ]
    },
    {
     "name": "stdout",
     "output_type": "stream",
     "text": [
      "49.13653\n"
     ]
    },
    {
     "name": "stderr",
     "output_type": "stream",
     "text": [
      "100%|██████████| 200/200 [00:02<00:00, 75.25it/s]\n"
     ]
    },
    {
     "name": "stdout",
     "output_type": "stream",
     "text": [
      "49.315617\n"
     ]
    },
    {
     "name": "stderr",
     "output_type": "stream",
     "text": [
      "100%|██████████| 200/200 [00:02<00:00, 82.39it/s]\n"
     ]
    },
    {
     "name": "stdout",
     "output_type": "stream",
     "text": [
      "50.021847\n"
     ]
    },
    {
     "name": "stderr",
     "output_type": "stream",
     "text": [
      "100%|██████████| 200/200 [00:03<00:00, 66.26it/s]\n"
     ]
    },
    {
     "name": "stdout",
     "output_type": "stream",
     "text": [
      "50.784775\n"
     ]
    },
    {
     "name": "stderr",
     "output_type": "stream",
     "text": [
      "100%|██████████| 200/200 [00:02<00:00, 67.05it/s]\n"
     ]
    },
    {
     "name": "stdout",
     "output_type": "stream",
     "text": [
      "50.882236\n"
     ]
    },
    {
     "name": "stderr",
     "output_type": "stream",
     "text": [
      "100%|██████████| 200/200 [00:02<00:00, 71.18it/s]\n"
     ]
    },
    {
     "name": "stdout",
     "output_type": "stream",
     "text": [
      "51.176735\n"
     ]
    },
    {
     "name": "stderr",
     "output_type": "stream",
     "text": [
      "100%|██████████| 200/200 [00:02<00:00, 75.71it/s]\n"
     ]
    },
    {
     "name": "stdout",
     "output_type": "stream",
     "text": [
      "51.503773\n"
     ]
    },
    {
     "name": "stderr",
     "output_type": "stream",
     "text": [
      "100%|██████████| 200/200 [00:02<00:00, 81.07it/s]\n"
     ]
    },
    {
     "name": "stdout",
     "output_type": "stream",
     "text": [
      "52.007957\n"
     ]
    },
    {
     "name": "stderr",
     "output_type": "stream",
     "text": [
      "100%|██████████| 200/200 [00:03<00:00, 66.34it/s]\n"
     ]
    },
    {
     "name": "stdout",
     "output_type": "stream",
     "text": [
      "50.868263\n"
     ]
    },
    {
     "name": "stderr",
     "output_type": "stream",
     "text": [
      "100%|██████████| 200/200 [00:02<00:00, 66.91it/s]\n"
     ]
    },
    {
     "name": "stdout",
     "output_type": "stream",
     "text": [
      "50.924076\n"
     ]
    },
    {
     "name": "stderr",
     "output_type": "stream",
     "text": [
      "100%|██████████| 200/200 [00:02<00:00, 71.00it/s]\n"
     ]
    },
    {
     "name": "stdout",
     "output_type": "stream",
     "text": [
      "51.171463\n"
     ]
    },
    {
     "name": "stderr",
     "output_type": "stream",
     "text": [
      "100%|██████████| 200/200 [00:02<00:00, 75.50it/s]\n"
     ]
    },
    {
     "name": "stdout",
     "output_type": "stream",
     "text": [
      "51.34218\n"
     ]
    },
    {
     "name": "stderr",
     "output_type": "stream",
     "text": [
      "100%|██████████| 200/200 [00:02<00:00, 80.68it/s]\n"
     ]
    },
    {
     "name": "stdout",
     "output_type": "stream",
     "text": [
      "51.53704\n"
     ]
    },
    {
     "name": "stderr",
     "output_type": "stream",
     "text": [
      "100%|██████████| 200/200 [00:03<00:00, 66.12it/s]\n"
     ]
    },
    {
     "name": "stdout",
     "output_type": "stream",
     "text": [
      "50.65711\n"
     ]
    },
    {
     "name": "stderr",
     "output_type": "stream",
     "text": [
      "100%|██████████| 200/200 [00:02<00:00, 67.22it/s]\n"
     ]
    },
    {
     "name": "stdout",
     "output_type": "stream",
     "text": [
      "50.84232\n"
     ]
    },
    {
     "name": "stderr",
     "output_type": "stream",
     "text": [
      "100%|██████████| 200/200 [00:02<00:00, 71.06it/s]\n"
     ]
    },
    {
     "name": "stdout",
     "output_type": "stream",
     "text": [
      "51.00441\n"
     ]
    },
    {
     "name": "stderr",
     "output_type": "stream",
     "text": [
      "100%|██████████| 200/200 [00:02<00:00, 75.63it/s]\n"
     ]
    },
    {
     "name": "stdout",
     "output_type": "stream",
     "text": [
      "51.145912\n"
     ]
    },
    {
     "name": "stderr",
     "output_type": "stream",
     "text": [
      "100%|██████████| 200/200 [00:02<00:00, 81.58it/s]\n"
     ]
    },
    {
     "name": "stdout",
     "output_type": "stream",
     "text": [
      "51.37303\n"
     ]
    },
    {
     "name": "stderr",
     "output_type": "stream",
     "text": [
      "100%|██████████| 200/200 [00:03<00:00, 66.24it/s]\n"
     ]
    },
    {
     "name": "stdout",
     "output_type": "stream",
     "text": [
      "50.65078\n"
     ]
    },
    {
     "name": "stderr",
     "output_type": "stream",
     "text": [
      "100%|██████████| 200/200 [00:02<00:00, 67.25it/s]\n"
     ]
    },
    {
     "name": "stdout",
     "output_type": "stream",
     "text": [
      "50.80416\n"
     ]
    },
    {
     "name": "stderr",
     "output_type": "stream",
     "text": [
      "100%|██████████| 200/200 [00:02<00:00, 71.11it/s]\n"
     ]
    },
    {
     "name": "stdout",
     "output_type": "stream",
     "text": [
      "51.06018\n"
     ]
    },
    {
     "name": "stderr",
     "output_type": "stream",
     "text": [
      "100%|██████████| 200/200 [00:02<00:00, 75.83it/s]\n"
     ]
    },
    {
     "name": "stdout",
     "output_type": "stream",
     "text": [
      "51.159935\n"
     ]
    },
    {
     "name": "stderr",
     "output_type": "stream",
     "text": [
      "100%|██████████| 200/200 [00:02<00:00, 81.49it/s]\n"
     ]
    },
    {
     "name": "stdout",
     "output_type": "stream",
     "text": [
      "51.338688\n"
     ]
    },
    {
     "name": "stderr",
     "output_type": "stream",
     "text": [
      "100%|██████████| 200/200 [00:03<00:00, 65.22it/s]\n"
     ]
    },
    {
     "name": "stdout",
     "output_type": "stream",
     "text": [
      "52.097782\n"
     ]
    },
    {
     "name": "stderr",
     "output_type": "stream",
     "text": [
      "100%|██████████| 200/200 [00:03<00:00, 64.86it/s]\n"
     ]
    },
    {
     "name": "stdout",
     "output_type": "stream",
     "text": [
      "52.86891\n"
     ]
    },
    {
     "name": "stderr",
     "output_type": "stream",
     "text": [
      "100%|██████████| 200/200 [00:03<00:00, 65.61it/s]\n"
     ]
    },
    {
     "name": "stdout",
     "output_type": "stream",
     "text": [
      "53.590233\n"
     ]
    },
    {
     "name": "stderr",
     "output_type": "stream",
     "text": [
      "100%|██████████| 200/200 [00:03<00:00, 65.61it/s]\n"
     ]
    },
    {
     "name": "stdout",
     "output_type": "stream",
     "text": [
      "54.385517\n"
     ]
    },
    {
     "name": "stderr",
     "output_type": "stream",
     "text": [
      "100%|██████████| 200/200 [00:03<00:00, 65.42it/s]\n"
     ]
    },
    {
     "name": "stdout",
     "output_type": "stream",
     "text": [
      "55.198605\n"
     ]
    },
    {
     "name": "stderr",
     "output_type": "stream",
     "text": [
      "100%|██████████| 200/200 [00:03<00:00, 65.70it/s]\n"
     ]
    },
    {
     "name": "stdout",
     "output_type": "stream",
     "text": [
      "52.19264\n"
     ]
    },
    {
     "name": "stderr",
     "output_type": "stream",
     "text": [
      "100%|██████████| 200/200 [00:03<00:00, 65.44it/s]\n"
     ]
    },
    {
     "name": "stdout",
     "output_type": "stream",
     "text": [
      "53.005707\n"
     ]
    },
    {
     "name": "stderr",
     "output_type": "stream",
     "text": [
      "100%|██████████| 200/200 [00:03<00:00, 65.69it/s]\n"
     ]
    },
    {
     "name": "stdout",
     "output_type": "stream",
     "text": [
      "53.7503\n"
     ]
    },
    {
     "name": "stderr",
     "output_type": "stream",
     "text": [
      "100%|██████████| 200/200 [00:03<00:00, 65.44it/s]\n"
     ]
    },
    {
     "name": "stdout",
     "output_type": "stream",
     "text": [
      "54.561386\n"
     ]
    },
    {
     "name": "stderr",
     "output_type": "stream",
     "text": [
      "100%|██████████| 200/200 [00:03<00:00, 65.68it/s]\n"
     ]
    },
    {
     "name": "stdout",
     "output_type": "stream",
     "text": [
      "55.39675\n"
     ]
    },
    {
     "name": "stderr",
     "output_type": "stream",
     "text": [
      "100%|██████████| 200/200 [00:03<00:00, 65.62it/s]\n"
     ]
    },
    {
     "name": "stdout",
     "output_type": "stream",
     "text": [
      "51.974464\n"
     ]
    },
    {
     "name": "stderr",
     "output_type": "stream",
     "text": [
      "100%|██████████| 200/200 [00:03<00:00, 64.78it/s]\n"
     ]
    },
    {
     "name": "stdout",
     "output_type": "stream",
     "text": [
      "53.13506\n"
     ]
    },
    {
     "name": "stderr",
     "output_type": "stream",
     "text": [
      "100%|██████████| 200/200 [00:03<00:00, 65.54it/s]\n"
     ]
    },
    {
     "name": "stdout",
     "output_type": "stream",
     "text": [
      "54.25638\n"
     ]
    },
    {
     "name": "stderr",
     "output_type": "stream",
     "text": [
      "100%|██████████| 200/200 [00:03<00:00, 65.05it/s]\n"
     ]
    },
    {
     "name": "stdout",
     "output_type": "stream",
     "text": [
      "55.669594\n"
     ]
    },
    {
     "name": "stderr",
     "output_type": "stream",
     "text": [
      "100%|██████████| 200/200 [00:03<00:00, 65.47it/s]\n"
     ]
    },
    {
     "name": "stdout",
     "output_type": "stream",
     "text": [
      "57.185005\n"
     ]
    },
    {
     "name": "stderr",
     "output_type": "stream",
     "text": [
      "100%|██████████| 200/200 [00:03<00:00, 64.90it/s]\n"
     ]
    },
    {
     "name": "stdout",
     "output_type": "stream",
     "text": [
      "52.873425\n"
     ]
    },
    {
     "name": "stderr",
     "output_type": "stream",
     "text": [
      "100%|██████████| 200/200 [00:03<00:00, 64.93it/s]\n"
     ]
    },
    {
     "name": "stdout",
     "output_type": "stream",
     "text": [
      "54.27788\n"
     ]
    },
    {
     "name": "stderr",
     "output_type": "stream",
     "text": [
      "100%|██████████| 200/200 [00:03<00:00, 65.28it/s]\n"
     ]
    },
    {
     "name": "stdout",
     "output_type": "stream",
     "text": [
      "55.699738\n"
     ]
    },
    {
     "name": "stderr",
     "output_type": "stream",
     "text": [
      "100%|██████████| 200/200 [00:03<00:00, 64.77it/s]\n"
     ]
    },
    {
     "name": "stdout",
     "output_type": "stream",
     "text": [
      "57.117886\n"
     ]
    },
    {
     "name": "stderr",
     "output_type": "stream",
     "text": [
      "100%|██████████| 200/200 [00:03<00:00, 65.21it/s]\n"
     ]
    },
    {
     "name": "stdout",
     "output_type": "stream",
     "text": [
      "58.609013\n"
     ]
    },
    {
     "name": "stderr",
     "output_type": "stream",
     "text": [
      "100%|██████████| 200/200 [00:03<00:00, 65.02it/s]\n"
     ]
    },
    {
     "name": "stdout",
     "output_type": "stream",
     "text": [
      "52.789898\n"
     ]
    },
    {
     "name": "stderr",
     "output_type": "stream",
     "text": [
      "100%|██████████| 200/200 [00:03<00:00, 64.88it/s]\n"
     ]
    },
    {
     "name": "stdout",
     "output_type": "stream",
     "text": [
      "54.326447\n"
     ]
    },
    {
     "name": "stderr",
     "output_type": "stream",
     "text": [
      "100%|██████████| 200/200 [00:03<00:00, 64.71it/s]\n"
     ]
    },
    {
     "name": "stdout",
     "output_type": "stream",
     "text": [
      "55.72245\n"
     ]
    },
    {
     "name": "stderr",
     "output_type": "stream",
     "text": [
      "100%|██████████| 200/200 [00:03<00:00, 65.21it/s]\n"
     ]
    },
    {
     "name": "stdout",
     "output_type": "stream",
     "text": [
      "56.994396\n"
     ]
    },
    {
     "name": "stderr",
     "output_type": "stream",
     "text": [
      "100%|██████████| 200/200 [00:03<00:00, 65.10it/s]\n"
     ]
    },
    {
     "name": "stdout",
     "output_type": "stream",
     "text": [
      "58.092297\n"
     ]
    },
    {
     "name": "stderr",
     "output_type": "stream",
     "text": [
      "100%|██████████| 200/200 [00:03<00:00, 64.85it/s]\n"
     ]
    },
    {
     "name": "stdout",
     "output_type": "stream",
     "text": [
      "52.70571\n"
     ]
    },
    {
     "name": "stderr",
     "output_type": "stream",
     "text": [
      "100%|██████████| 200/200 [00:03<00:00, 65.19it/s]\n"
     ]
    },
    {
     "name": "stdout",
     "output_type": "stream",
     "text": [
      "54.284042\n"
     ]
    },
    {
     "name": "stderr",
     "output_type": "stream",
     "text": [
      "100%|██████████| 200/200 [00:03<00:00, 65.02it/s]\n"
     ]
    },
    {
     "name": "stdout",
     "output_type": "stream",
     "text": [
      "55.73873\n"
     ]
    },
    {
     "name": "stderr",
     "output_type": "stream",
     "text": [
      "100%|██████████| 200/200 [00:03<00:00, 65.28it/s]\n"
     ]
    },
    {
     "name": "stdout",
     "output_type": "stream",
     "text": [
      "56.996475\n"
     ]
    },
    {
     "name": "stderr",
     "output_type": "stream",
     "text": [
      "100%|██████████| 200/200 [00:03<00:00, 65.21it/s]\n"
     ]
    },
    {
     "name": "stdout",
     "output_type": "stream",
     "text": [
      "58.16954\n"
     ]
    },
    {
     "name": "stderr",
     "output_type": "stream",
     "text": [
      "100%|██████████| 200/200 [00:03<00:00, 65.22it/s]\n"
     ]
    },
    {
     "name": "stdout",
     "output_type": "stream",
     "text": [
      "52.62247\n"
     ]
    },
    {
     "name": "stderr",
     "output_type": "stream",
     "text": [
      "100%|██████████| 200/200 [00:03<00:00, 65.01it/s]\n"
     ]
    },
    {
     "name": "stdout",
     "output_type": "stream",
     "text": [
      "54.169556\n"
     ]
    },
    {
     "name": "stderr",
     "output_type": "stream",
     "text": [
      "100%|██████████| 200/200 [00:03<00:00, 64.28it/s]\n"
     ]
    },
    {
     "name": "stdout",
     "output_type": "stream",
     "text": [
      "55.62612\n"
     ]
    },
    {
     "name": "stderr",
     "output_type": "stream",
     "text": [
      "100%|██████████| 200/200 [00:03<00:00, 65.29it/s]\n"
     ]
    },
    {
     "name": "stdout",
     "output_type": "stream",
     "text": [
      "56.914185\n"
     ]
    },
    {
     "name": "stderr",
     "output_type": "stream",
     "text": [
      "100%|██████████| 200/200 [00:03<00:00, 64.82it/s]\n"
     ]
    },
    {
     "name": "stdout",
     "output_type": "stream",
     "text": [
      "58.02454\n"
     ]
    },
    {
     "name": "stderr",
     "output_type": "stream",
     "text": [
      "100%|██████████| 200/200 [00:03<00:00, 65.08it/s]\n"
     ]
    },
    {
     "name": "stdout",
     "output_type": "stream",
     "text": [
      "50.49006\n"
     ]
    },
    {
     "name": "stderr",
     "output_type": "stream",
     "text": [
      "100%|██████████| 200/200 [00:03<00:00, 65.02it/s]\n"
     ]
    },
    {
     "name": "stdout",
     "output_type": "stream",
     "text": [
      "50.49006\n"
     ]
    },
    {
     "name": "stderr",
     "output_type": "stream",
     "text": [
      "100%|██████████| 200/200 [00:03<00:00, 64.87it/s]\n"
     ]
    },
    {
     "name": "stdout",
     "output_type": "stream",
     "text": [
      "50.49006\n"
     ]
    },
    {
     "name": "stderr",
     "output_type": "stream",
     "text": [
      "100%|██████████| 200/200 [00:03<00:00, 65.11it/s]\n"
     ]
    },
    {
     "name": "stdout",
     "output_type": "stream",
     "text": [
      "50.49006\n"
     ]
    },
    {
     "name": "stderr",
     "output_type": "stream",
     "text": [
      "100%|██████████| 200/200 [00:03<00:00, 64.99it/s]\n"
     ]
    },
    {
     "name": "stdout",
     "output_type": "stream",
     "text": [
      "50.49006\n"
     ]
    },
    {
     "name": "stderr",
     "output_type": "stream",
     "text": [
      "100%|██████████| 200/200 [00:03<00:00, 65.54it/s]\n"
     ]
    },
    {
     "name": "stdout",
     "output_type": "stream",
     "text": [
      "50.49006\n"
     ]
    },
    {
     "name": "stderr",
     "output_type": "stream",
     "text": [
      "100%|██████████| 200/200 [00:03<00:00, 65.57it/s]\n"
     ]
    },
    {
     "name": "stdout",
     "output_type": "stream",
     "text": [
      "50.49006\n"
     ]
    },
    {
     "name": "stderr",
     "output_type": "stream",
     "text": [
      "100%|██████████| 200/200 [00:03<00:00, 64.90it/s]\n"
     ]
    },
    {
     "name": "stdout",
     "output_type": "stream",
     "text": [
      "50.49006\n"
     ]
    },
    {
     "name": "stderr",
     "output_type": "stream",
     "text": [
      "100%|██████████| 200/200 [00:03<00:00, 65.04it/s]\n"
     ]
    },
    {
     "name": "stdout",
     "output_type": "stream",
     "text": [
      "50.49006\n"
     ]
    },
    {
     "name": "stderr",
     "output_type": "stream",
     "text": [
      "100%|██████████| 200/200 [00:03<00:00, 65.56it/s]\n"
     ]
    },
    {
     "name": "stdout",
     "output_type": "stream",
     "text": [
      "50.49006\n"
     ]
    },
    {
     "name": "stderr",
     "output_type": "stream",
     "text": [
      "100%|██████████| 200/200 [00:03<00:00, 65.16it/s]\n"
     ]
    },
    {
     "name": "stdout",
     "output_type": "stream",
     "text": [
      "50.49006\n"
     ]
    },
    {
     "name": "stderr",
     "output_type": "stream",
     "text": [
      "100%|██████████| 200/200 [00:03<00:00, 65.32it/s]\n"
     ]
    },
    {
     "name": "stdout",
     "output_type": "stream",
     "text": [
      "50.49006\n"
     ]
    },
    {
     "name": "stderr",
     "output_type": "stream",
     "text": [
      "100%|██████████| 200/200 [00:03<00:00, 65.48it/s]\n"
     ]
    },
    {
     "name": "stdout",
     "output_type": "stream",
     "text": [
      "50.49006\n"
     ]
    },
    {
     "name": "stderr",
     "output_type": "stream",
     "text": [
      "100%|██████████| 200/200 [00:03<00:00, 65.26it/s]\n"
     ]
    },
    {
     "name": "stdout",
     "output_type": "stream",
     "text": [
      "50.49006\n"
     ]
    },
    {
     "name": "stderr",
     "output_type": "stream",
     "text": [
      "100%|██████████| 200/200 [00:03<00:00, 65.55it/s]\n"
     ]
    },
    {
     "name": "stdout",
     "output_type": "stream",
     "text": [
      "50.49006\n"
     ]
    },
    {
     "name": "stderr",
     "output_type": "stream",
     "text": [
      "100%|██████████| 200/200 [00:03<00:00, 65.35it/s]\n"
     ]
    },
    {
     "name": "stdout",
     "output_type": "stream",
     "text": [
      "50.49006\n"
     ]
    },
    {
     "name": "stderr",
     "output_type": "stream",
     "text": [
      "100%|██████████| 200/200 [00:03<00:00, 65.52it/s]\n"
     ]
    },
    {
     "name": "stdout",
     "output_type": "stream",
     "text": [
      "50.49006\n"
     ]
    },
    {
     "name": "stderr",
     "output_type": "stream",
     "text": [
      "100%|██████████| 200/200 [00:03<00:00, 65.46it/s]\n"
     ]
    },
    {
     "name": "stdout",
     "output_type": "stream",
     "text": [
      "50.49006\n"
     ]
    },
    {
     "name": "stderr",
     "output_type": "stream",
     "text": [
      "100%|██████████| 200/200 [00:03<00:00, 64.73it/s]\n"
     ]
    },
    {
     "name": "stdout",
     "output_type": "stream",
     "text": [
      "50.49006\n"
     ]
    },
    {
     "name": "stderr",
     "output_type": "stream",
     "text": [
      "100%|██████████| 200/200 [00:03<00:00, 65.53it/s]\n"
     ]
    },
    {
     "name": "stdout",
     "output_type": "stream",
     "text": [
      "50.49006\n"
     ]
    },
    {
     "name": "stderr",
     "output_type": "stream",
     "text": [
      "100%|██████████| 200/200 [00:03<00:00, 65.55it/s]\n"
     ]
    },
    {
     "name": "stdout",
     "output_type": "stream",
     "text": [
      "50.49006\n"
     ]
    },
    {
     "name": "stderr",
     "output_type": "stream",
     "text": [
      "100%|██████████| 200/200 [00:03<00:00, 65.29it/s]\n"
     ]
    },
    {
     "name": "stdout",
     "output_type": "stream",
     "text": [
      "50.49006\n"
     ]
    },
    {
     "name": "stderr",
     "output_type": "stream",
     "text": [
      "100%|██████████| 200/200 [00:03<00:00, 65.42it/s]\n"
     ]
    },
    {
     "name": "stdout",
     "output_type": "stream",
     "text": [
      "50.49006\n"
     ]
    },
    {
     "name": "stderr",
     "output_type": "stream",
     "text": [
      "100%|██████████| 200/200 [00:03<00:00, 65.36it/s]\n"
     ]
    },
    {
     "name": "stdout",
     "output_type": "stream",
     "text": [
      "50.49006\n"
     ]
    },
    {
     "name": "stderr",
     "output_type": "stream",
     "text": [
      "100%|██████████| 200/200 [00:03<00:00, 65.58it/s]\n"
     ]
    },
    {
     "name": "stdout",
     "output_type": "stream",
     "text": [
      "50.49006\n"
     ]
    },
    {
     "name": "stderr",
     "output_type": "stream",
     "text": [
      "100%|██████████| 200/200 [00:03<00:00, 65.57it/s]\n"
     ]
    },
    {
     "name": "stdout",
     "output_type": "stream",
     "text": [
      "50.49006\n"
     ]
    },
    {
     "name": "stderr",
     "output_type": "stream",
     "text": [
      "100%|██████████| 200/200 [00:03<00:00, 65.39it/s]\n"
     ]
    },
    {
     "name": "stdout",
     "output_type": "stream",
     "text": [
      "50.49006\n"
     ]
    },
    {
     "name": "stderr",
     "output_type": "stream",
     "text": [
      "100%|██████████| 200/200 [00:03<00:00, 65.54it/s]\n"
     ]
    },
    {
     "name": "stdout",
     "output_type": "stream",
     "text": [
      "50.49006\n"
     ]
    },
    {
     "name": "stderr",
     "output_type": "stream",
     "text": [
      "100%|██████████| 200/200 [00:03<00:00, 65.19it/s]\n"
     ]
    },
    {
     "name": "stdout",
     "output_type": "stream",
     "text": [
      "50.49006\n"
     ]
    },
    {
     "name": "stderr",
     "output_type": "stream",
     "text": [
      "100%|██████████| 200/200 [00:03<00:00, 65.05it/s]\n"
     ]
    },
    {
     "name": "stdout",
     "output_type": "stream",
     "text": [
      "50.49006\n"
     ]
    },
    {
     "name": "stderr",
     "output_type": "stream",
     "text": [
      "100%|██████████| 200/200 [00:03<00:00, 65.56it/s]\n"
     ]
    },
    {
     "name": "stdout",
     "output_type": "stream",
     "text": [
      "50.49006\n"
     ]
    },
    {
     "name": "stderr",
     "output_type": "stream",
     "text": [
      "100%|██████████| 200/200 [00:03<00:00, 65.31it/s]\n"
     ]
    },
    {
     "name": "stdout",
     "output_type": "stream",
     "text": [
      "50.49006\n"
     ]
    },
    {
     "name": "stderr",
     "output_type": "stream",
     "text": [
      "100%|██████████| 200/200 [00:03<00:00, 65.51it/s]\n"
     ]
    },
    {
     "name": "stdout",
     "output_type": "stream",
     "text": [
      "50.49006\n"
     ]
    },
    {
     "name": "stderr",
     "output_type": "stream",
     "text": [
      "100%|██████████| 200/200 [00:03<00:00, 65.44it/s]\n"
     ]
    },
    {
     "name": "stdout",
     "output_type": "stream",
     "text": [
      "50.49006\n"
     ]
    },
    {
     "name": "stderr",
     "output_type": "stream",
     "text": [
      "100%|██████████| 200/200 [00:03<00:00, 65.21it/s]\n"
     ]
    },
    {
     "name": "stdout",
     "output_type": "stream",
     "text": [
      "50.49006\n"
     ]
    },
    {
     "data": {
      "application/vnd.jupyter.widget-view+json": {
       "model_id": "7b0fe32465fa4f7b84a21bf2e095185a",
       "version_major": 2,
       "version_minor": 0
      },
      "text/plain": [
       "Loading checkpoint shards:   0%|          | 0/2 [00:00<?, ?it/s]"
      ]
     },
     "metadata": {},
     "output_type": "display_data"
    },
    {
     "name": "stderr",
     "output_type": "stream",
     "text": [
      "100%|██████████| 200/200 [00:02<00:00, 70.45it/s]\n"
     ]
    },
    {
     "name": "stdout",
     "output_type": "stream",
     "text": [
      "104.34828\n"
     ]
    },
    {
     "name": "stderr",
     "output_type": "stream",
     "text": [
      "100%|██████████| 200/200 [00:02<00:00, 70.80it/s]\n"
     ]
    },
    {
     "name": "stdout",
     "output_type": "stream",
     "text": [
      "105.470146\n"
     ]
    },
    {
     "name": "stderr",
     "output_type": "stream",
     "text": [
      "100%|██████████| 200/200 [00:02<00:00, 71.07it/s]\n"
     ]
    },
    {
     "name": "stdout",
     "output_type": "stream",
     "text": [
      "106.30869\n"
     ]
    },
    {
     "name": "stderr",
     "output_type": "stream",
     "text": [
      "100%|██████████| 200/200 [00:02<00:00, 70.90it/s]\n"
     ]
    },
    {
     "name": "stdout",
     "output_type": "stream",
     "text": [
      "106.86545\n"
     ]
    },
    {
     "name": "stderr",
     "output_type": "stream",
     "text": [
      "100%|██████████| 200/200 [00:02<00:00, 70.32it/s]\n"
     ]
    },
    {
     "name": "stdout",
     "output_type": "stream",
     "text": [
      "107.413704\n"
     ]
    },
    {
     "name": "stderr",
     "output_type": "stream",
     "text": [
      "100%|██████████| 200/200 [00:02<00:00, 71.21it/s]\n"
     ]
    },
    {
     "name": "stdout",
     "output_type": "stream",
     "text": [
      "104.32547\n"
     ]
    },
    {
     "name": "stderr",
     "output_type": "stream",
     "text": [
      "100%|██████████| 200/200 [00:02<00:00, 70.76it/s]\n"
     ]
    },
    {
     "name": "stdout",
     "output_type": "stream",
     "text": [
      "105.42529\n"
     ]
    },
    {
     "name": "stderr",
     "output_type": "stream",
     "text": [
      "100%|██████████| 200/200 [00:02<00:00, 71.06it/s]\n"
     ]
    },
    {
     "name": "stdout",
     "output_type": "stream",
     "text": [
      "106.33674\n"
     ]
    },
    {
     "name": "stderr",
     "output_type": "stream",
     "text": [
      "100%|██████████| 200/200 [00:02<00:00, 71.29it/s]\n"
     ]
    },
    {
     "name": "stdout",
     "output_type": "stream",
     "text": [
      "106.90583\n"
     ]
    },
    {
     "name": "stderr",
     "output_type": "stream",
     "text": [
      "100%|██████████| 200/200 [00:02<00:00, 70.64it/s]\n"
     ]
    },
    {
     "name": "stdout",
     "output_type": "stream",
     "text": [
      "107.36539\n"
     ]
    },
    {
     "name": "stderr",
     "output_type": "stream",
     "text": [
      "100%|██████████| 200/200 [00:02<00:00, 70.95it/s]\n"
     ]
    },
    {
     "name": "stdout",
     "output_type": "stream",
     "text": [
      "104.202576\n"
     ]
    },
    {
     "name": "stderr",
     "output_type": "stream",
     "text": [
      "100%|██████████| 200/200 [00:02<00:00, 70.92it/s]\n"
     ]
    },
    {
     "name": "stdout",
     "output_type": "stream",
     "text": [
      "104.86869\n"
     ]
    },
    {
     "name": "stderr",
     "output_type": "stream",
     "text": [
      "100%|██████████| 200/200 [00:02<00:00, 70.68it/s]\n"
     ]
    },
    {
     "name": "stdout",
     "output_type": "stream",
     "text": [
      "105.58954\n"
     ]
    },
    {
     "name": "stderr",
     "output_type": "stream",
     "text": [
      "100%|██████████| 200/200 [00:02<00:00, 71.11it/s]\n"
     ]
    },
    {
     "name": "stdout",
     "output_type": "stream",
     "text": [
      "106.11901\n"
     ]
    },
    {
     "name": "stderr",
     "output_type": "stream",
     "text": [
      "100%|██████████| 200/200 [00:02<00:00, 71.19it/s]\n"
     ]
    },
    {
     "name": "stdout",
     "output_type": "stream",
     "text": [
      "106.592674\n"
     ]
    },
    {
     "name": "stderr",
     "output_type": "stream",
     "text": [
      "100%|██████████| 200/200 [00:02<00:00, 70.20it/s]\n"
     ]
    },
    {
     "name": "stdout",
     "output_type": "stream",
     "text": [
      "105.29043\n"
     ]
    },
    {
     "name": "stderr",
     "output_type": "stream",
     "text": [
      "100%|██████████| 200/200 [00:02<00:00, 70.61it/s]\n"
     ]
    },
    {
     "name": "stdout",
     "output_type": "stream",
     "text": [
      "106.387024\n"
     ]
    },
    {
     "name": "stderr",
     "output_type": "stream",
     "text": [
      "100%|██████████| 200/200 [00:02<00:00, 70.96it/s]\n"
     ]
    },
    {
     "name": "stdout",
     "output_type": "stream",
     "text": [
      "107.23412\n"
     ]
    },
    {
     "name": "stderr",
     "output_type": "stream",
     "text": [
      "100%|██████████| 200/200 [00:02<00:00, 70.77it/s]\n"
     ]
    },
    {
     "name": "stdout",
     "output_type": "stream",
     "text": [
      "107.895706\n"
     ]
    },
    {
     "name": "stderr",
     "output_type": "stream",
     "text": [
      "100%|██████████| 200/200 [00:02<00:00, 71.16it/s]\n"
     ]
    },
    {
     "name": "stdout",
     "output_type": "stream",
     "text": [
      "108.53117\n"
     ]
    },
    {
     "name": "stderr",
     "output_type": "stream",
     "text": [
      "100%|██████████| 200/200 [00:02<00:00, 70.26it/s]\n"
     ]
    },
    {
     "name": "stdout",
     "output_type": "stream",
     "text": [
      "104.209236\n"
     ]
    },
    {
     "name": "stderr",
     "output_type": "stream",
     "text": [
      "100%|██████████| 200/200 [00:02<00:00, 70.83it/s]\n"
     ]
    },
    {
     "name": "stdout",
     "output_type": "stream",
     "text": [
      "105.06885\n"
     ]
    },
    {
     "name": "stderr",
     "output_type": "stream",
     "text": [
      "100%|██████████| 200/200 [00:02<00:00, 70.65it/s]\n"
     ]
    },
    {
     "name": "stdout",
     "output_type": "stream",
     "text": [
      "105.748886\n"
     ]
    },
    {
     "name": "stderr",
     "output_type": "stream",
     "text": [
      "100%|██████████| 200/200 [00:02<00:00, 70.66it/s]\n"
     ]
    },
    {
     "name": "stdout",
     "output_type": "stream",
     "text": [
      "106.41887\n"
     ]
    },
    {
     "name": "stderr",
     "output_type": "stream",
     "text": [
      "100%|██████████| 200/200 [00:02<00:00, 70.88it/s]\n"
     ]
    },
    {
     "name": "stdout",
     "output_type": "stream",
     "text": [
      "106.91727\n"
     ]
    },
    {
     "name": "stderr",
     "output_type": "stream",
     "text": [
      "100%|██████████| 200/200 [00:02<00:00, 70.90it/s]\n"
     ]
    },
    {
     "name": "stdout",
     "output_type": "stream",
     "text": [
      "103.883194\n"
     ]
    },
    {
     "name": "stderr",
     "output_type": "stream",
     "text": [
      "100%|██████████| 200/200 [00:02<00:00, 69.87it/s]\n"
     ]
    },
    {
     "name": "stdout",
     "output_type": "stream",
     "text": [
      "104.56966\n"
     ]
    },
    {
     "name": "stderr",
     "output_type": "stream",
     "text": [
      "100%|██████████| 200/200 [00:02<00:00, 70.45it/s]\n"
     ]
    },
    {
     "name": "stdout",
     "output_type": "stream",
     "text": [
      "105.20881\n"
     ]
    },
    {
     "name": "stderr",
     "output_type": "stream",
     "text": [
      "100%|██████████| 200/200 [00:02<00:00, 70.97it/s]\n"
     ]
    },
    {
     "name": "stdout",
     "output_type": "stream",
     "text": [
      "105.84491\n"
     ]
    },
    {
     "name": "stderr",
     "output_type": "stream",
     "text": [
      "100%|██████████| 200/200 [00:02<00:00, 70.40it/s]\n"
     ]
    },
    {
     "name": "stdout",
     "output_type": "stream",
     "text": [
      "106.41604\n"
     ]
    },
    {
     "name": "stderr",
     "output_type": "stream",
     "text": [
      "100%|██████████| 200/200 [00:02<00:00, 70.91it/s]\n"
     ]
    },
    {
     "name": "stdout",
     "output_type": "stream",
     "text": [
      "103.78456\n"
     ]
    },
    {
     "name": "stderr",
     "output_type": "stream",
     "text": [
      "100%|██████████| 200/200 [00:02<00:00, 70.92it/s]\n"
     ]
    },
    {
     "name": "stdout",
     "output_type": "stream",
     "text": [
      "104.49954\n"
     ]
    },
    {
     "name": "stderr",
     "output_type": "stream",
     "text": [
      "100%|██████████| 200/200 [00:02<00:00, 70.56it/s]\n"
     ]
    },
    {
     "name": "stdout",
     "output_type": "stream",
     "text": [
      "105.02675\n"
     ]
    },
    {
     "name": "stderr",
     "output_type": "stream",
     "text": [
      "100%|██████████| 200/200 [00:02<00:00, 70.94it/s]\n"
     ]
    },
    {
     "name": "stdout",
     "output_type": "stream",
     "text": [
      "105.67383\n"
     ]
    },
    {
     "name": "stderr",
     "output_type": "stream",
     "text": [
      "100%|██████████| 200/200 [00:02<00:00, 70.99it/s]\n"
     ]
    },
    {
     "name": "stdout",
     "output_type": "stream",
     "text": [
      "106.24421\n"
     ]
    },
    {
     "name": "stderr",
     "output_type": "stream",
     "text": [
      "100%|██████████| 200/200 [00:02<00:00, 75.76it/s]\n"
     ]
    },
    {
     "name": "stdout",
     "output_type": "stream",
     "text": [
      "104.1326\n"
     ]
    },
    {
     "name": "stderr",
     "output_type": "stream",
     "text": [
      "100%|██████████| 200/200 [00:02<00:00, 83.52it/s]\n"
     ]
    },
    {
     "name": "stdout",
     "output_type": "stream",
     "text": [
      "104.85066\n"
     ]
    },
    {
     "name": "stderr",
     "output_type": "stream",
     "text": [
      "100%|██████████| 200/200 [00:02<00:00, 85.94it/s]\n"
     ]
    },
    {
     "name": "stdout",
     "output_type": "stream",
     "text": [
      "105.69297\n"
     ]
    },
    {
     "name": "stderr",
     "output_type": "stream",
     "text": [
      "100%|██████████| 200/200 [00:02<00:00, 85.08it/s]\n"
     ]
    },
    {
     "name": "stdout",
     "output_type": "stream",
     "text": [
      "106.07429\n"
     ]
    },
    {
     "name": "stderr",
     "output_type": "stream",
     "text": [
      "100%|██████████| 200/200 [00:02<00:00, 86.16it/s]\n"
     ]
    },
    {
     "name": "stdout",
     "output_type": "stream",
     "text": [
      "106.43626\n"
     ]
    },
    {
     "name": "stderr",
     "output_type": "stream",
     "text": [
      "100%|██████████| 200/200 [00:02<00:00, 76.18it/s]\n"
     ]
    },
    {
     "name": "stdout",
     "output_type": "stream",
     "text": [
      "104.12227\n"
     ]
    },
    {
     "name": "stderr",
     "output_type": "stream",
     "text": [
      "100%|██████████| 200/200 [00:02<00:00, 83.12it/s]\n"
     ]
    },
    {
     "name": "stdout",
     "output_type": "stream",
     "text": [
      "104.82387\n"
     ]
    },
    {
     "name": "stderr",
     "output_type": "stream",
     "text": [
      "100%|██████████| 200/200 [00:02<00:00, 86.06it/s]\n"
     ]
    },
    {
     "name": "stdout",
     "output_type": "stream",
     "text": [
      "105.62932\n"
     ]
    },
    {
     "name": "stderr",
     "output_type": "stream",
     "text": [
      "100%|██████████| 200/200 [00:02<00:00, 86.59it/s]\n"
     ]
    },
    {
     "name": "stdout",
     "output_type": "stream",
     "text": [
      "106.07885\n"
     ]
    },
    {
     "name": "stderr",
     "output_type": "stream",
     "text": [
      "100%|██████████| 200/200 [00:02<00:00, 85.82it/s]\n"
     ]
    },
    {
     "name": "stdout",
     "output_type": "stream",
     "text": [
      "106.33346\n"
     ]
    },
    {
     "name": "stderr",
     "output_type": "stream",
     "text": [
      "100%|██████████| 200/200 [00:02<00:00, 76.27it/s]\n"
     ]
    },
    {
     "name": "stdout",
     "output_type": "stream",
     "text": [
      "103.73217\n"
     ]
    },
    {
     "name": "stderr",
     "output_type": "stream",
     "text": [
      "100%|██████████| 200/200 [00:02<00:00, 83.53it/s]\n"
     ]
    },
    {
     "name": "stdout",
     "output_type": "stream",
     "text": [
      "104.177536\n"
     ]
    },
    {
     "name": "stderr",
     "output_type": "stream",
     "text": [
      "100%|██████████| 200/200 [00:02<00:00, 85.34it/s]\n"
     ]
    },
    {
     "name": "stdout",
     "output_type": "stream",
     "text": [
      "104.395645\n"
     ]
    },
    {
     "name": "stderr",
     "output_type": "stream",
     "text": [
      "100%|██████████| 200/200 [00:02<00:00, 86.27it/s]\n"
     ]
    },
    {
     "name": "stdout",
     "output_type": "stream",
     "text": [
      "104.60234\n"
     ]
    },
    {
     "name": "stderr",
     "output_type": "stream",
     "text": [
      "100%|██████████| 200/200 [00:02<00:00, 86.85it/s]\n"
     ]
    },
    {
     "name": "stdout",
     "output_type": "stream",
     "text": [
      "104.79129\n"
     ]
    },
    {
     "name": "stderr",
     "output_type": "stream",
     "text": [
      "100%|██████████| 200/200 [00:02<00:00, 75.65it/s]\n"
     ]
    },
    {
     "name": "stdout",
     "output_type": "stream",
     "text": [
      "104.83437\n"
     ]
    },
    {
     "name": "stderr",
     "output_type": "stream",
     "text": [
      "100%|██████████| 200/200 [00:02<00:00, 83.50it/s]\n"
     ]
    },
    {
     "name": "stdout",
     "output_type": "stream",
     "text": [
      "105.96881\n"
     ]
    },
    {
     "name": "stderr",
     "output_type": "stream",
     "text": [
      "100%|██████████| 200/200 [00:02<00:00, 84.73it/s]\n"
     ]
    },
    {
     "name": "stdout",
     "output_type": "stream",
     "text": [
      "106.74179\n"
     ]
    },
    {
     "name": "stderr",
     "output_type": "stream",
     "text": [
      "100%|██████████| 200/200 [00:02<00:00, 86.15it/s]\n"
     ]
    },
    {
     "name": "stdout",
     "output_type": "stream",
     "text": [
      "107.15166\n"
     ]
    },
    {
     "name": "stderr",
     "output_type": "stream",
     "text": [
      "100%|██████████| 200/200 [00:02<00:00, 86.50it/s]\n"
     ]
    },
    {
     "name": "stdout",
     "output_type": "stream",
     "text": [
      "107.68251\n"
     ]
    },
    {
     "name": "stderr",
     "output_type": "stream",
     "text": [
      "100%|██████████| 200/200 [00:02<00:00, 76.62it/s]\n"
     ]
    },
    {
     "name": "stdout",
     "output_type": "stream",
     "text": [
      "103.57611\n"
     ]
    },
    {
     "name": "stderr",
     "output_type": "stream",
     "text": [
      "100%|██████████| 200/200 [00:02<00:00, 84.40it/s]\n"
     ]
    },
    {
     "name": "stdout",
     "output_type": "stream",
     "text": [
      "103.95285\n"
     ]
    },
    {
     "name": "stderr",
     "output_type": "stream",
     "text": [
      "100%|██████████| 200/200 [00:02<00:00, 84.73it/s]\n"
     ]
    },
    {
     "name": "stdout",
     "output_type": "stream",
     "text": [
      "104.25371\n"
     ]
    },
    {
     "name": "stderr",
     "output_type": "stream",
     "text": [
      "100%|██████████| 200/200 [00:02<00:00, 86.37it/s]\n"
     ]
    },
    {
     "name": "stdout",
     "output_type": "stream",
     "text": [
      "104.57336\n"
     ]
    },
    {
     "name": "stderr",
     "output_type": "stream",
     "text": [
      "100%|██████████| 200/200 [00:02<00:00, 86.78it/s]\n"
     ]
    },
    {
     "name": "stdout",
     "output_type": "stream",
     "text": [
      "104.72408\n"
     ]
    },
    {
     "name": "stderr",
     "output_type": "stream",
     "text": [
      "100%|██████████| 200/200 [00:02<00:00, 76.58it/s]\n"
     ]
    },
    {
     "name": "stdout",
     "output_type": "stream",
     "text": [
      "103.323235\n"
     ]
    },
    {
     "name": "stderr",
     "output_type": "stream",
     "text": [
      "100%|██████████| 200/200 [00:02<00:00, 84.10it/s]\n"
     ]
    },
    {
     "name": "stdout",
     "output_type": "stream",
     "text": [
      "103.59096\n"
     ]
    },
    {
     "name": "stderr",
     "output_type": "stream",
     "text": [
      "100%|██████████| 200/200 [00:02<00:00, 85.93it/s]\n"
     ]
    },
    {
     "name": "stdout",
     "output_type": "stream",
     "text": [
      "103.82423\n"
     ]
    },
    {
     "name": "stderr",
     "output_type": "stream",
     "text": [
      "100%|██████████| 200/200 [00:02<00:00, 85.90it/s]\n"
     ]
    },
    {
     "name": "stdout",
     "output_type": "stream",
     "text": [
      "104.074295\n"
     ]
    },
    {
     "name": "stderr",
     "output_type": "stream",
     "text": [
      "100%|██████████| 200/200 [00:02<00:00, 86.93it/s]\n"
     ]
    },
    {
     "name": "stdout",
     "output_type": "stream",
     "text": [
      "104.36374\n"
     ]
    },
    {
     "name": "stderr",
     "output_type": "stream",
     "text": [
      "100%|██████████| 200/200 [00:02<00:00, 75.94it/s]\n"
     ]
    },
    {
     "name": "stdout",
     "output_type": "stream",
     "text": [
      "103.17121\n"
     ]
    },
    {
     "name": "stderr",
     "output_type": "stream",
     "text": [
      "100%|██████████| 200/200 [00:02<00:00, 83.08it/s]\n"
     ]
    },
    {
     "name": "stdout",
     "output_type": "stream",
     "text": [
      "103.45591\n"
     ]
    },
    {
     "name": "stderr",
     "output_type": "stream",
     "text": [
      "100%|██████████| 200/200 [00:02<00:00, 86.15it/s]\n"
     ]
    },
    {
     "name": "stdout",
     "output_type": "stream",
     "text": [
      "103.67337\n"
     ]
    },
    {
     "name": "stderr",
     "output_type": "stream",
     "text": [
      "100%|██████████| 200/200 [00:02<00:00, 86.39it/s]\n"
     ]
    },
    {
     "name": "stdout",
     "output_type": "stream",
     "text": [
      "104.08733\n"
     ]
    },
    {
     "name": "stderr",
     "output_type": "stream",
     "text": [
      "100%|██████████| 200/200 [00:02<00:00, 86.50it/s]\n"
     ]
    },
    {
     "name": "stdout",
     "output_type": "stream",
     "text": [
      "104.45676\n"
     ]
    },
    {
     "name": "stderr",
     "output_type": "stream",
     "text": [
      "100%|██████████| 200/200 [00:02<00:00, 71.35it/s]\n"
     ]
    },
    {
     "name": "stdout",
     "output_type": "stream",
     "text": [
      "104.86995\n"
     ]
    },
    {
     "name": "stderr",
     "output_type": "stream",
     "text": [
      "100%|██████████| 200/200 [00:02<00:00, 71.32it/s]\n"
     ]
    },
    {
     "name": "stdout",
     "output_type": "stream",
     "text": [
      "105.79903\n"
     ]
    },
    {
     "name": "stderr",
     "output_type": "stream",
     "text": [
      "100%|██████████| 200/200 [00:02<00:00, 71.06it/s]\n"
     ]
    },
    {
     "name": "stdout",
     "output_type": "stream",
     "text": [
      "106.150246\n"
     ]
    },
    {
     "name": "stderr",
     "output_type": "stream",
     "text": [
      "100%|██████████| 200/200 [00:02<00:00, 71.13it/s]\n"
     ]
    },
    {
     "name": "stdout",
     "output_type": "stream",
     "text": [
      "106.02963\n"
     ]
    },
    {
     "name": "stderr",
     "output_type": "stream",
     "text": [
      "100%|██████████| 200/200 [00:02<00:00, 71.34it/s]\n"
     ]
    },
    {
     "name": "stdout",
     "output_type": "stream",
     "text": [
      "105.85598\n"
     ]
    },
    {
     "name": "stderr",
     "output_type": "stream",
     "text": [
      "100%|██████████| 200/200 [00:02<00:00, 70.91it/s]\n"
     ]
    },
    {
     "name": "stdout",
     "output_type": "stream",
     "text": [
      "104.81473\n"
     ]
    },
    {
     "name": "stderr",
     "output_type": "stream",
     "text": [
      "100%|██████████| 200/200 [00:02<00:00, 71.23it/s]\n"
     ]
    },
    {
     "name": "stdout",
     "output_type": "stream",
     "text": [
      "105.780876\n"
     ]
    },
    {
     "name": "stderr",
     "output_type": "stream",
     "text": [
      "100%|██████████| 200/200 [00:02<00:00, 70.91it/s]\n"
     ]
    },
    {
     "name": "stdout",
     "output_type": "stream",
     "text": [
      "106.20599\n"
     ]
    },
    {
     "name": "stderr",
     "output_type": "stream",
     "text": [
      "100%|██████████| 200/200 [00:02<00:00, 70.49it/s]\n"
     ]
    },
    {
     "name": "stdout",
     "output_type": "stream",
     "text": [
      "106.10111\n"
     ]
    },
    {
     "name": "stderr",
     "output_type": "stream",
     "text": [
      "100%|██████████| 200/200 [00:02<00:00, 71.35it/s]\n"
     ]
    },
    {
     "name": "stdout",
     "output_type": "stream",
     "text": [
      "105.76734\n"
     ]
    },
    {
     "name": "stderr",
     "output_type": "stream",
     "text": [
      "100%|██████████| 200/200 [00:02<00:00, 71.35it/s]\n"
     ]
    },
    {
     "name": "stdout",
     "output_type": "stream",
     "text": [
      "104.18181\n"
     ]
    },
    {
     "name": "stderr",
     "output_type": "stream",
     "text": [
      "100%|██████████| 200/200 [00:02<00:00, 71.14it/s]\n"
     ]
    },
    {
     "name": "stdout",
     "output_type": "stream",
     "text": [
      "104.7947\n"
     ]
    },
    {
     "name": "stderr",
     "output_type": "stream",
     "text": [
      "100%|██████████| 200/200 [00:02<00:00, 71.33it/s]\n"
     ]
    },
    {
     "name": "stdout",
     "output_type": "stream",
     "text": [
      "105.02142\n"
     ]
    },
    {
     "name": "stderr",
     "output_type": "stream",
     "text": [
      "100%|██████████| 200/200 [00:02<00:00, 71.32it/s]\n"
     ]
    },
    {
     "name": "stdout",
     "output_type": "stream",
     "text": [
      "105.15483\n"
     ]
    },
    {
     "name": "stderr",
     "output_type": "stream",
     "text": [
      "100%|██████████| 200/200 [00:02<00:00, 70.62it/s]\n"
     ]
    },
    {
     "name": "stdout",
     "output_type": "stream",
     "text": [
      "105.27205\n"
     ]
    },
    {
     "name": "stderr",
     "output_type": "stream",
     "text": [
      "100%|██████████| 200/200 [00:02<00:00, 71.33it/s]\n"
     ]
    },
    {
     "name": "stdout",
     "output_type": "stream",
     "text": [
      "105.356544\n"
     ]
    },
    {
     "name": "stderr",
     "output_type": "stream",
     "text": [
      "100%|██████████| 200/200 [00:02<00:00, 71.22it/s]\n"
     ]
    },
    {
     "name": "stdout",
     "output_type": "stream",
     "text": [
      "106.538475\n"
     ]
    },
    {
     "name": "stderr",
     "output_type": "stream",
     "text": [
      "100%|██████████| 200/200 [00:02<00:00, 70.71it/s]\n"
     ]
    },
    {
     "name": "stdout",
     "output_type": "stream",
     "text": [
      "107.10309\n"
     ]
    },
    {
     "name": "stderr",
     "output_type": "stream",
     "text": [
      "100%|██████████| 200/200 [00:02<00:00, 71.12it/s]\n"
     ]
    },
    {
     "name": "stdout",
     "output_type": "stream",
     "text": [
      "107.322205\n"
     ]
    },
    {
     "name": "stderr",
     "output_type": "stream",
     "text": [
      "100%|██████████| 200/200 [00:02<00:00, 71.24it/s]\n"
     ]
    },
    {
     "name": "stdout",
     "output_type": "stream",
     "text": [
      "107.45697\n"
     ]
    },
    {
     "name": "stderr",
     "output_type": "stream",
     "text": [
      "100%|██████████| 200/200 [00:02<00:00, 71.09it/s]\n"
     ]
    },
    {
     "name": "stdout",
     "output_type": "stream",
     "text": [
      "103.930115\n"
     ]
    },
    {
     "name": "stderr",
     "output_type": "stream",
     "text": [
      "100%|██████████| 200/200 [00:02<00:00, 71.35it/s]\n"
     ]
    },
    {
     "name": "stdout",
     "output_type": "stream",
     "text": [
      "104.51565\n"
     ]
    },
    {
     "name": "stderr",
     "output_type": "stream",
     "text": [
      "100%|██████████| 200/200 [00:02<00:00, 71.06it/s]\n"
     ]
    },
    {
     "name": "stdout",
     "output_type": "stream",
     "text": [
      "104.975945\n"
     ]
    },
    {
     "name": "stderr",
     "output_type": "stream",
     "text": [
      "100%|██████████| 200/200 [00:02<00:00, 70.63it/s]\n"
     ]
    },
    {
     "name": "stdout",
     "output_type": "stream",
     "text": [
      "105.335625\n"
     ]
    },
    {
     "name": "stderr",
     "output_type": "stream",
     "text": [
      "100%|██████████| 200/200 [00:02<00:00, 70.78it/s]\n"
     ]
    },
    {
     "name": "stdout",
     "output_type": "stream",
     "text": [
      "105.53792\n"
     ]
    },
    {
     "name": "stderr",
     "output_type": "stream",
     "text": [
      "100%|██████████| 200/200 [00:02<00:00, 70.81it/s]\n"
     ]
    },
    {
     "name": "stdout",
     "output_type": "stream",
     "text": [
      "103.59508\n"
     ]
    },
    {
     "name": "stderr",
     "output_type": "stream",
     "text": [
      "100%|██████████| 200/200 [00:02<00:00, 70.57it/s]\n"
     ]
    },
    {
     "name": "stdout",
     "output_type": "stream",
     "text": [
      "104.141396\n"
     ]
    },
    {
     "name": "stderr",
     "output_type": "stream",
     "text": [
      "100%|██████████| 200/200 [00:02<00:00, 70.98it/s]\n"
     ]
    },
    {
     "name": "stdout",
     "output_type": "stream",
     "text": [
      "104.51761\n"
     ]
    },
    {
     "name": "stderr",
     "output_type": "stream",
     "text": [
      "100%|██████████| 200/200 [00:02<00:00, 70.92it/s]\n"
     ]
    },
    {
     "name": "stdout",
     "output_type": "stream",
     "text": [
      "104.914375\n"
     ]
    },
    {
     "name": "stderr",
     "output_type": "stream",
     "text": [
      "100%|██████████| 200/200 [00:02<00:00, 70.06it/s]\n"
     ]
    },
    {
     "name": "stdout",
     "output_type": "stream",
     "text": [
      "105.20606\n"
     ]
    },
    {
     "name": "stderr",
     "output_type": "stream",
     "text": [
      "100%|██████████| 200/200 [00:02<00:00, 70.50it/s]\n"
     ]
    },
    {
     "name": "stdout",
     "output_type": "stream",
     "text": [
      "103.57981\n"
     ]
    },
    {
     "name": "stderr",
     "output_type": "stream",
     "text": [
      "100%|██████████| 200/200 [00:02<00:00, 70.87it/s]\n"
     ]
    },
    {
     "name": "stdout",
     "output_type": "stream",
     "text": [
      "104.07815\n"
     ]
    },
    {
     "name": "stderr",
     "output_type": "stream",
     "text": [
      "100%|██████████| 200/200 [00:02<00:00, 70.37it/s]\n"
     ]
    },
    {
     "name": "stdout",
     "output_type": "stream",
     "text": [
      "104.417694\n"
     ]
    },
    {
     "name": "stderr",
     "output_type": "stream",
     "text": [
      "100%|██████████| 200/200 [00:02<00:00, 70.96it/s]\n"
     ]
    },
    {
     "name": "stdout",
     "output_type": "stream",
     "text": [
      "104.83925\n"
     ]
    },
    {
     "name": "stderr",
     "output_type": "stream",
     "text": [
      "100%|██████████| 200/200 [00:02<00:00, 70.77it/s]\n"
     ]
    },
    {
     "name": "stdout",
     "output_type": "stream",
     "text": [
      "105.08209\n"
     ]
    },
    {
     "name": "stderr",
     "output_type": "stream",
     "text": [
      "100%|██████████| 200/200 [00:02<00:00, 70.79it/s]\n"
     ]
    },
    {
     "name": "stdout",
     "output_type": "stream",
     "text": [
      "102.99264\n"
     ]
    },
    {
     "name": "stderr",
     "output_type": "stream",
     "text": [
      "100%|██████████| 200/200 [00:02<00:00, 70.81it/s]\n"
     ]
    },
    {
     "name": "stdout",
     "output_type": "stream",
     "text": [
      "102.99264\n"
     ]
    },
    {
     "name": "stderr",
     "output_type": "stream",
     "text": [
      "100%|██████████| 200/200 [00:02<00:00, 70.95it/s]\n"
     ]
    },
    {
     "name": "stdout",
     "output_type": "stream",
     "text": [
      "102.99264\n"
     ]
    },
    {
     "name": "stderr",
     "output_type": "stream",
     "text": [
      "100%|██████████| 200/200 [00:02<00:00, 70.52it/s]\n"
     ]
    },
    {
     "name": "stdout",
     "output_type": "stream",
     "text": [
      "102.99264\n"
     ]
    },
    {
     "name": "stderr",
     "output_type": "stream",
     "text": [
      "100%|██████████| 200/200 [00:02<00:00, 70.93it/s]\n"
     ]
    },
    {
     "name": "stdout",
     "output_type": "stream",
     "text": [
      "102.99264\n"
     ]
    },
    {
     "name": "stderr",
     "output_type": "stream",
     "text": [
      "100%|██████████| 200/200 [00:02<00:00, 70.81it/s]\n"
     ]
    },
    {
     "name": "stdout",
     "output_type": "stream",
     "text": [
      "102.99264\n"
     ]
    },
    {
     "name": "stderr",
     "output_type": "stream",
     "text": [
      "100%|██████████| 200/200 [00:02<00:00, 69.83it/s]\n"
     ]
    },
    {
     "name": "stdout",
     "output_type": "stream",
     "text": [
      "102.99264\n"
     ]
    },
    {
     "name": "stderr",
     "output_type": "stream",
     "text": [
      "100%|██████████| 200/200 [00:02<00:00, 70.92it/s]\n"
     ]
    },
    {
     "name": "stdout",
     "output_type": "stream",
     "text": [
      "102.99264\n"
     ]
    },
    {
     "name": "stderr",
     "output_type": "stream",
     "text": [
      "100%|██████████| 200/200 [00:02<00:00, 70.63it/s]\n"
     ]
    },
    {
     "name": "stdout",
     "output_type": "stream",
     "text": [
      "102.99264\n"
     ]
    },
    {
     "name": "stderr",
     "output_type": "stream",
     "text": [
      "100%|██████████| 200/200 [00:02<00:00, 70.86it/s]\n"
     ]
    },
    {
     "name": "stdout",
     "output_type": "stream",
     "text": [
      "102.99264\n"
     ]
    },
    {
     "name": "stderr",
     "output_type": "stream",
     "text": [
      "100%|██████████| 200/200 [00:02<00:00, 70.87it/s]\n"
     ]
    },
    {
     "name": "stdout",
     "output_type": "stream",
     "text": [
      "102.99264\n"
     ]
    },
    {
     "name": "stderr",
     "output_type": "stream",
     "text": [
      "100%|██████████| 200/200 [00:02<00:00, 70.79it/s]\n"
     ]
    },
    {
     "name": "stdout",
     "output_type": "stream",
     "text": [
      "102.99264\n"
     ]
    },
    {
     "name": "stderr",
     "output_type": "stream",
     "text": [
      "100%|██████████| 200/200 [00:02<00:00, 70.82it/s]\n"
     ]
    },
    {
     "name": "stdout",
     "output_type": "stream",
     "text": [
      "102.99264\n"
     ]
    },
    {
     "name": "stderr",
     "output_type": "stream",
     "text": [
      "100%|██████████| 200/200 [00:02<00:00, 70.89it/s]\n"
     ]
    },
    {
     "name": "stdout",
     "output_type": "stream",
     "text": [
      "102.99264\n"
     ]
    },
    {
     "name": "stderr",
     "output_type": "stream",
     "text": [
      "100%|██████████| 200/200 [00:02<00:00, 70.81it/s]\n"
     ]
    },
    {
     "name": "stdout",
     "output_type": "stream",
     "text": [
      "102.99264\n"
     ]
    },
    {
     "name": "stderr",
     "output_type": "stream",
     "text": [
      "100%|██████████| 200/200 [00:02<00:00, 70.46it/s]\n"
     ]
    },
    {
     "name": "stdout",
     "output_type": "stream",
     "text": [
      "102.99264\n"
     ]
    },
    {
     "name": "stderr",
     "output_type": "stream",
     "text": [
      "100%|██████████| 200/200 [00:02<00:00, 70.86it/s]\n"
     ]
    },
    {
     "name": "stdout",
     "output_type": "stream",
     "text": [
      "102.99264\n"
     ]
    },
    {
     "name": "stderr",
     "output_type": "stream",
     "text": [
      "100%|██████████| 200/200 [00:02<00:00, 70.02it/s]\n"
     ]
    },
    {
     "name": "stdout",
     "output_type": "stream",
     "text": [
      "102.99264\n"
     ]
    },
    {
     "name": "stderr",
     "output_type": "stream",
     "text": [
      "100%|██████████| 200/200 [00:02<00:00, 70.33it/s]\n"
     ]
    },
    {
     "name": "stdout",
     "output_type": "stream",
     "text": [
      "102.99264\n"
     ]
    },
    {
     "name": "stderr",
     "output_type": "stream",
     "text": [
      "100%|██████████| 200/200 [00:02<00:00, 70.85it/s]\n"
     ]
    },
    {
     "name": "stdout",
     "output_type": "stream",
     "text": [
      "102.99264\n"
     ]
    },
    {
     "name": "stderr",
     "output_type": "stream",
     "text": [
      "100%|██████████| 200/200 [00:02<00:00, 70.82it/s]\n"
     ]
    },
    {
     "name": "stdout",
     "output_type": "stream",
     "text": [
      "102.99264\n"
     ]
    },
    {
     "name": "stderr",
     "output_type": "stream",
     "text": [
      "100%|██████████| 200/200 [00:02<00:00, 70.65it/s]\n"
     ]
    },
    {
     "name": "stdout",
     "output_type": "stream",
     "text": [
      "102.99264\n"
     ]
    },
    {
     "name": "stderr",
     "output_type": "stream",
     "text": [
      "100%|██████████| 200/200 [00:02<00:00, 70.94it/s]\n"
     ]
    },
    {
     "name": "stdout",
     "output_type": "stream",
     "text": [
      "102.99264\n"
     ]
    },
    {
     "name": "stderr",
     "output_type": "stream",
     "text": [
      "100%|██████████| 200/200 [00:02<00:00, 70.80it/s]\n"
     ]
    },
    {
     "name": "stdout",
     "output_type": "stream",
     "text": [
      "102.99264\n"
     ]
    },
    {
     "name": "stderr",
     "output_type": "stream",
     "text": [
      "100%|██████████| 200/200 [00:02<00:00, 70.67it/s]\n"
     ]
    },
    {
     "name": "stdout",
     "output_type": "stream",
     "text": [
      "102.99264\n"
     ]
    },
    {
     "name": "stderr",
     "output_type": "stream",
     "text": [
      "100%|██████████| 200/200 [00:02<00:00, 70.89it/s]\n"
     ]
    },
    {
     "name": "stdout",
     "output_type": "stream",
     "text": [
      "102.99264\n"
     ]
    },
    {
     "name": "stderr",
     "output_type": "stream",
     "text": [
      "100%|██████████| 200/200 [00:02<00:00, 70.59it/s]\n"
     ]
    },
    {
     "name": "stdout",
     "output_type": "stream",
     "text": [
      "102.99264\n"
     ]
    },
    {
     "name": "stderr",
     "output_type": "stream",
     "text": [
      "100%|██████████| 200/200 [00:02<00:00, 70.91it/s]\n"
     ]
    },
    {
     "name": "stdout",
     "output_type": "stream",
     "text": [
      "102.99264\n"
     ]
    },
    {
     "name": "stderr",
     "output_type": "stream",
     "text": [
      "100%|██████████| 200/200 [00:02<00:00, 70.58it/s]\n"
     ]
    },
    {
     "name": "stdout",
     "output_type": "stream",
     "text": [
      "102.99264\n"
     ]
    },
    {
     "name": "stderr",
     "output_type": "stream",
     "text": [
      "100%|██████████| 200/200 [00:02<00:00, 70.00it/s]\n"
     ]
    },
    {
     "name": "stdout",
     "output_type": "stream",
     "text": [
      "102.99264\n"
     ]
    },
    {
     "name": "stderr",
     "output_type": "stream",
     "text": [
      "100%|██████████| 200/200 [00:02<00:00, 70.82it/s]\n"
     ]
    },
    {
     "name": "stdout",
     "output_type": "stream",
     "text": [
      "102.99264\n"
     ]
    },
    {
     "name": "stderr",
     "output_type": "stream",
     "text": [
      "100%|██████████| 200/200 [00:02<00:00, 70.73it/s]\n"
     ]
    },
    {
     "name": "stdout",
     "output_type": "stream",
     "text": [
      "102.99264\n"
     ]
    },
    {
     "name": "stderr",
     "output_type": "stream",
     "text": [
      "100%|██████████| 200/200 [00:02<00:00, 70.54it/s]\n"
     ]
    },
    {
     "name": "stdout",
     "output_type": "stream",
     "text": [
      "102.99264\n"
     ]
    },
    {
     "name": "stderr",
     "output_type": "stream",
     "text": [
      "100%|██████████| 200/200 [00:02<00:00, 70.89it/s]\n"
     ]
    },
    {
     "name": "stdout",
     "output_type": "stream",
     "text": [
      "102.99264\n"
     ]
    },
    {
     "name": "stderr",
     "output_type": "stream",
     "text": [
      "100%|██████████| 200/200 [00:02<00:00, 70.90it/s]"
     ]
    },
    {
     "name": "stdout",
     "output_type": "stream",
     "text": [
      "102.99264\n"
     ]
    },
    {
     "name": "stderr",
     "output_type": "stream",
     "text": [
      "\n"
     ]
    }
   ],
   "source": [
    "datasets = [\"sst2\",\"imdb\",\"news\"]\n",
    "device = \"cuda:1\"\n",
    "import torch\n",
    "import numpy as np\n",
    "from tqdm import tqdm\n",
    "from transformers import AutoModelForCausalLM, AutoTokenizer\n",
    "percentages = [0.1,0.2,0.3,0.4,0.5]\n",
    "lls_list_mask = {}\n",
    "tips = [\"unk\",\"erase\",\"mask\"]\n",
    "for ds in datasets:\n",
    "    pred_model_id = f\"predictor_gemma-2b_{ds}_merged\"\n",
    "    tokenizer  = AutoTokenizer.from_pretrained(pred_model_id)\n",
    "    pred_model = AutoModelForCausalLM.from_pretrained(pred_model_id,device_map=device,\n",
    "                                    torch_dtype=torch.float16,trust_remote_code=True, attn_implementation=\"flash_attention_2\")\n",
    "    for tip in tips:\n",
    "        eval_data = results2[f'{ds}_predictor_gemma-2b_ft_True_mask']\n",
    "        for exp in explanation_types: \n",
    "            for percent in percentages:\n",
    "                nlls_org = []\n",
    "                \n",
    "                \n",
    "                for i in tqdm(range(200)):\n",
    "                    if ds ==\"sst2\":\n",
    "                        input_ids = tokenizer(eval_data[f\"{exp}_masked_sentence_{percent}_predictor_gemma-2b_ft_True_{tip}\"][i]\n",
    "                                                ,\n",
    "                                                    return_tensors=\"pt\")[\"input_ids\"].to(device)\n",
    "                    if ds ==\"imdb\":\n",
    "                        input_ids = tokenizer(eval_data[f\"{exp}_masked_sentence_{percent}_predictor_gemma-2b_ft_True_{tip}\"][i] \n",
    "                                                ,\n",
    "                                                return_tensors=\"pt\")[\"input_ids\"].to(device)\n",
    "                    if ds == \"news\":\n",
    "                        input_ids = tokenizer(eval_data[f\"{exp}_masked_sentence_{percent}_predictor_gemma-2b_ft_True_{tip}\"][i] \n",
    "                                                ,\n",
    "                                                return_tensors=\"pt\")[\"input_ids\"].to(device)   \n",
    "                    target_ids = input_ids.clone()\n",
    "                    \n",
    "                    with torch.no_grad():\n",
    "                        outputs = pred_model(input_ids, labels=target_ids)\n",
    "                        neg_log_likelihood = outputs.loss\n",
    "\n",
    "                    nlls_org.append(neg_log_likelihood)\n",
    "                    lls = torch.stack(nlls_org).cpu().numpy()\n",
    "                lls_list_mask[f\"{ds}-{tip}-{exp}-{percent}\"] = lls\n",
    "                print(lls.mean())\n"
   ]
  },
  {
   "cell_type": "code",
   "execution_count": 10,
   "metadata": {},
   "outputs": [
    {
     "name": "stdout",
     "output_type": "stream",
     "text": [
      "sst2-unk-gradnorm1-0.1\n",
      "2\n",
      "sst2-unk-gradnorm1-0.2\n",
      "2\n",
      "sst2-unk-gradnorm1-0.3\n",
      "1\n",
      "sst2-unk-gradnorm1-0.4\n",
      "0\n",
      "sst2-unk-gradnorm1-0.5\n",
      "1\n",
      "sst2-unk-gradnorm2-0.1\n",
      "3\n",
      "sst2-unk-gradnorm2-0.2\n",
      "1\n",
      "sst2-unk-gradnorm2-0.3\n",
      "1\n",
      "sst2-unk-gradnorm2-0.4\n",
      "0\n",
      "sst2-unk-gradnorm2-0.5\n",
      "1\n",
      "sst2-unk-gradinp-0.1\n",
      "3\n",
      "sst2-unk-gradinp-0.2\n",
      "2\n",
      "sst2-unk-gradinp-0.3\n",
      "2\n",
      "sst2-unk-gradinp-0.4\n",
      "4\n",
      "sst2-unk-gradinp-0.5\n",
      "5\n",
      "sst2-unk-erasure-0.1\n",
      "3\n",
      "sst2-unk-erasure-0.2\n",
      "4\n",
      "sst2-unk-erasure-0.3\n",
      "4\n",
      "sst2-unk-erasure-0.4\n",
      "3\n",
      "sst2-unk-erasure-0.5\n",
      "4\n",
      "sst2-unk-integrated_grad-0.1\n",
      "5\n",
      "sst2-unk-integrated_grad-0.2\n",
      "4\n",
      "sst2-unk-integrated_grad-0.3\n",
      "9\n",
      "sst2-unk-integrated_grad-0.4\n",
      "9\n",
      "sst2-unk-integrated_grad-0.5\n",
      "7\n",
      "sst2-unk-kernel_shap-0.1\n",
      "0\n",
      "sst2-unk-kernel_shap-0.2\n",
      "2\n",
      "sst2-unk-kernel_shap-0.3\n",
      "2\n",
      "sst2-unk-kernel_shap-0.4\n",
      "3\n",
      "sst2-unk-kernel_shap-0.5\n",
      "6\n",
      "sst2-unk-random-0.1\n",
      "4\n",
      "sst2-unk-random-0.2\n",
      "6\n",
      "sst2-unk-random-0.3\n",
      "10\n",
      "sst2-unk-random-0.4\n",
      "7\n",
      "sst2-unk-random-0.5\n",
      "7\n",
      "sst2-erase-gradnorm1-0.1\n",
      "0\n",
      "sst2-erase-gradnorm1-0.2\n",
      "0\n",
      "sst2-erase-gradnorm1-0.3\n",
      "0\n",
      "sst2-erase-gradnorm1-0.4\n",
      "2\n",
      "sst2-erase-gradnorm1-0.5\n",
      "1\n",
      "sst2-erase-gradnorm2-0.1\n",
      "2\n",
      "sst2-erase-gradnorm2-0.2\n",
      "1\n",
      "sst2-erase-gradnorm2-0.3\n",
      "0\n",
      "sst2-erase-gradnorm2-0.4\n",
      "1\n",
      "sst2-erase-gradnorm2-0.5\n",
      "1\n",
      "sst2-erase-gradinp-0.1\n",
      "2\n",
      "sst2-erase-gradinp-0.2\n",
      "4\n",
      "sst2-erase-gradinp-0.3\n",
      "2\n",
      "sst2-erase-gradinp-0.4\n",
      "1\n",
      "sst2-erase-gradinp-0.5\n",
      "2\n",
      "sst2-erase-erasure-0.1\n",
      "4\n",
      "sst2-erase-erasure-0.2\n",
      "2\n",
      "sst2-erase-erasure-0.3\n",
      "5\n",
      "sst2-erase-erasure-0.4\n",
      "6\n",
      "sst2-erase-erasure-0.5\n",
      "6\n",
      "sst2-erase-integrated_grad-0.1\n",
      "2\n",
      "sst2-erase-integrated_grad-0.2\n",
      "2\n",
      "sst2-erase-integrated_grad-0.3\n",
      "4\n",
      "sst2-erase-integrated_grad-0.4\n",
      "2\n",
      "sst2-erase-integrated_grad-0.5\n",
      "4\n",
      "sst2-erase-kernel_shap-0.1\n",
      "1\n",
      "sst2-erase-kernel_shap-0.2\n",
      "0\n",
      "sst2-erase-kernel_shap-0.3\n",
      "0\n",
      "sst2-erase-kernel_shap-0.4\n",
      "2\n",
      "sst2-erase-kernel_shap-0.5\n",
      "3\n",
      "sst2-erase-random-0.1\n",
      "3\n",
      "sst2-erase-random-0.2\n",
      "2\n",
      "sst2-erase-random-0.3\n",
      "4\n",
      "sst2-erase-random-0.4\n",
      "5\n",
      "sst2-erase-random-0.5\n",
      "6\n",
      "sst2-mask-gradnorm1-0.1\n",
      "0\n",
      "sst2-mask-gradnorm1-0.2\n",
      "0\n",
      "sst2-mask-gradnorm1-0.3\n",
      "0\n",
      "sst2-mask-gradnorm1-0.4\n",
      "0\n",
      "sst2-mask-gradnorm1-0.5\n",
      "0\n",
      "sst2-mask-gradnorm2-0.1\n",
      "0\n",
      "sst2-mask-gradnorm2-0.2\n",
      "0\n",
      "sst2-mask-gradnorm2-0.3\n",
      "0\n",
      "sst2-mask-gradnorm2-0.4\n",
      "0\n",
      "sst2-mask-gradnorm2-0.5\n",
      "0\n",
      "sst2-mask-gradinp-0.1\n",
      "1\n",
      "sst2-mask-gradinp-0.2\n",
      "1\n",
      "sst2-mask-gradinp-0.3\n",
      "0\n",
      "sst2-mask-gradinp-0.4\n",
      "0\n",
      "sst2-mask-gradinp-0.5\n",
      "0\n",
      "sst2-mask-erasure-0.1\n",
      "2\n",
      "sst2-mask-erasure-0.2\n",
      "1\n",
      "sst2-mask-erasure-0.3\n",
      "1\n",
      "sst2-mask-erasure-0.4\n",
      "1\n",
      "sst2-mask-erasure-0.5\n",
      "0\n",
      "sst2-mask-integrated_grad-0.1\n",
      "1\n",
      "sst2-mask-integrated_grad-0.2\n",
      "1\n",
      "sst2-mask-integrated_grad-0.3\n",
      "1\n",
      "sst2-mask-integrated_grad-0.4\n",
      "1\n",
      "sst2-mask-integrated_grad-0.5\n",
      "0\n",
      "sst2-mask-kernel_shap-0.1\n",
      "0\n",
      "sst2-mask-kernel_shap-0.2\n",
      "0\n",
      "sst2-mask-kernel_shap-0.3\n",
      "0\n",
      "sst2-mask-kernel_shap-0.4\n",
      "0\n",
      "sst2-mask-kernel_shap-0.5\n",
      "0\n",
      "sst2-mask-random-0.1\n",
      "1\n",
      "sst2-mask-random-0.2\n",
      "2\n",
      "sst2-mask-random-0.3\n",
      "2\n",
      "sst2-mask-random-0.4\n",
      "2\n",
      "sst2-mask-random-0.5\n",
      "1\n",
      "sst2-att-zero-gradnorm1-0.1\n",
      "2\n",
      "sst2-att-zero-gradnorm1-0.2\n",
      "2\n",
      "sst2-att-zero-gradnorm1-0.3\n",
      "2\n",
      "sst2-att-zero-gradnorm1-0.4\n",
      "2\n",
      "sst2-att-zero-gradnorm1-0.5\n",
      "2\n",
      "sst2-att-zero-gradnorm2-0.1\n",
      "2\n",
      "sst2-att-zero-gradnorm2-0.2\n",
      "2\n",
      "sst2-att-zero-gradnorm2-0.3\n",
      "2\n",
      "sst2-att-zero-gradnorm2-0.4\n",
      "2\n",
      "sst2-att-zero-gradnorm2-0.5\n",
      "2\n",
      "sst2-att-zero-gradinp-0.1\n",
      "2\n",
      "sst2-att-zero-gradinp-0.2\n",
      "2\n",
      "sst2-att-zero-gradinp-0.3\n",
      "2\n",
      "sst2-att-zero-gradinp-0.4\n",
      "2\n",
      "sst2-att-zero-gradinp-0.5\n",
      "2\n",
      "sst2-att-zero-erasure-0.1\n",
      "2\n",
      "sst2-att-zero-erasure-0.2\n",
      "2\n",
      "sst2-att-zero-erasure-0.3\n",
      "2\n",
      "sst2-att-zero-erasure-0.4\n",
      "2\n",
      "sst2-att-zero-erasure-0.5\n",
      "2\n",
      "sst2-att-zero-integrated_grad-0.1\n",
      "2\n",
      "sst2-att-zero-integrated_grad-0.2\n",
      "2\n",
      "sst2-att-zero-integrated_grad-0.3\n",
      "2\n",
      "sst2-att-zero-integrated_grad-0.4\n",
      "2\n",
      "sst2-att-zero-integrated_grad-0.5\n",
      "2\n",
      "sst2-att-zero-kernel_shap-0.1\n",
      "2\n",
      "sst2-att-zero-kernel_shap-0.2\n",
      "2\n",
      "sst2-att-zero-kernel_shap-0.3\n",
      "2\n",
      "sst2-att-zero-kernel_shap-0.4\n",
      "2\n",
      "sst2-att-zero-kernel_shap-0.5\n",
      "2\n",
      "sst2-att-zero-random-0.1\n",
      "2\n",
      "sst2-att-zero-random-0.2\n",
      "2\n",
      "sst2-att-zero-random-0.3\n",
      "2\n",
      "sst2-att-zero-random-0.4\n",
      "2\n",
      "sst2-att-zero-random-0.5\n",
      "2\n",
      "imdb-unk-gradnorm1-0.1\n",
      "110\n",
      "imdb-unk-gradnorm1-0.2\n",
      "176\n",
      "imdb-unk-gradnorm1-0.3\n",
      "198\n",
      "imdb-unk-gradnorm1-0.4\n",
      "198\n",
      "imdb-unk-gradnorm1-0.5\n",
      "200\n",
      "imdb-unk-gradnorm2-0.1\n",
      "112\n",
      "imdb-unk-gradnorm2-0.2\n",
      "177\n",
      "imdb-unk-gradnorm2-0.3\n",
      "198\n",
      "imdb-unk-gradnorm2-0.4\n",
      "198\n",
      "imdb-unk-gradnorm2-0.5\n",
      "200\n",
      "imdb-unk-gradinp-0.1\n",
      "73\n",
      "imdb-unk-gradinp-0.2\n",
      "171\n",
      "imdb-unk-gradinp-0.3\n",
      "195\n",
      "imdb-unk-gradinp-0.4\n",
      "200\n",
      "imdb-unk-gradinp-0.5\n",
      "200\n",
      "imdb-unk-erasure-0.1\n",
      "123\n",
      "imdb-unk-erasure-0.2\n",
      "190\n",
      "imdb-unk-erasure-0.3\n",
      "198\n",
      "imdb-unk-erasure-0.4\n",
      "199\n",
      "imdb-unk-erasure-0.5\n",
      "200\n",
      "imdb-unk-integrated_grad-0.1\n",
      "80\n",
      "imdb-unk-integrated_grad-0.2\n",
      "180\n",
      "imdb-unk-integrated_grad-0.3\n",
      "196\n",
      "imdb-unk-integrated_grad-0.4\n",
      "200\n",
      "imdb-unk-integrated_grad-0.5\n",
      "200\n",
      "imdb-unk-kernel_shap-0.1\n",
      "94\n",
      "imdb-unk-kernel_shap-0.2\n",
      "184\n",
      "imdb-unk-kernel_shap-0.3\n",
      "199\n",
      "imdb-unk-kernel_shap-0.4\n",
      "200\n",
      "imdb-unk-kernel_shap-0.5\n",
      "200\n",
      "imdb-unk-random-0.1\n",
      "95\n",
      "imdb-unk-random-0.2\n",
      "186\n",
      "imdb-unk-random-0.3\n",
      "198\n",
      "imdb-unk-random-0.4\n",
      "199\n",
      "imdb-unk-random-0.5\n",
      "200\n",
      "imdb-erase-gradnorm1-0.1\n",
      "1\n",
      "imdb-erase-gradnorm1-0.2\n",
      "1\n",
      "imdb-erase-gradnorm1-0.3\n",
      "3\n",
      "imdb-erase-gradnorm1-0.4\n",
      "3\n",
      "imdb-erase-gradnorm1-0.5\n",
      "1\n",
      "imdb-erase-gradnorm2-0.1\n",
      "1\n",
      "imdb-erase-gradnorm2-0.2\n",
      "1\n",
      "imdb-erase-gradnorm2-0.3\n",
      "4\n",
      "imdb-erase-gradnorm2-0.4\n",
      "2\n",
      "imdb-erase-gradnorm2-0.5\n",
      "3\n",
      "imdb-erase-gradinp-0.1\n",
      "1\n",
      "imdb-erase-gradinp-0.2\n",
      "1\n",
      "imdb-erase-gradinp-0.3\n",
      "1\n",
      "imdb-erase-gradinp-0.4\n",
      "2\n",
      "imdb-erase-gradinp-0.5\n",
      "8\n",
      "imdb-erase-erasure-0.1\n",
      "5\n",
      "imdb-erase-erasure-0.2\n",
      "6\n",
      "imdb-erase-erasure-0.3\n",
      "9\n",
      "imdb-erase-erasure-0.4\n",
      "12\n",
      "imdb-erase-erasure-0.5\n",
      "24\n",
      "imdb-erase-integrated_grad-0.1\n",
      "4\n",
      "imdb-erase-integrated_grad-0.2\n",
      "8\n",
      "imdb-erase-integrated_grad-0.3\n",
      "11\n",
      "imdb-erase-integrated_grad-0.4\n",
      "16\n",
      "imdb-erase-integrated_grad-0.5\n",
      "21\n",
      "imdb-erase-kernel_shap-0.1\n",
      "1\n",
      "imdb-erase-kernel_shap-0.2\n",
      "6\n",
      "imdb-erase-kernel_shap-0.3\n",
      "7\n",
      "imdb-erase-kernel_shap-0.4\n",
      "10\n",
      "imdb-erase-kernel_shap-0.5\n",
      "13\n",
      "imdb-erase-random-0.1\n",
      "4\n",
      "imdb-erase-random-0.2\n",
      "2\n",
      "imdb-erase-random-0.3\n",
      "7\n",
      "imdb-erase-random-0.4\n",
      "9\n",
      "imdb-erase-random-0.5\n",
      "9\n",
      "imdb-mask-gradnorm1-0.1\n",
      "11\n",
      "imdb-mask-gradnorm1-0.2\n",
      "33\n",
      "imdb-mask-gradnorm1-0.3\n",
      "49\n",
      "imdb-mask-gradnorm1-0.4\n",
      "85\n",
      "imdb-mask-gradnorm1-0.5\n",
      "122\n",
      "imdb-mask-gradnorm2-0.1\n",
      "11\n",
      "imdb-mask-gradnorm2-0.2\n",
      "37\n",
      "imdb-mask-gradnorm2-0.3\n",
      "54\n",
      "imdb-mask-gradnorm2-0.4\n",
      "88\n",
      "imdb-mask-gradnorm2-0.5\n",
      "133\n",
      "imdb-mask-gradinp-0.1\n",
      "8\n",
      "imdb-mask-gradinp-0.2\n",
      "30\n",
      "imdb-mask-gradinp-0.3\n",
      "79\n",
      "imdb-mask-gradinp-0.4\n",
      "144\n",
      "imdb-mask-gradinp-0.5\n",
      "181\n",
      "imdb-mask-erasure-0.1\n",
      "27\n",
      "imdb-mask-erasure-0.2\n",
      "87\n",
      "imdb-mask-erasure-0.3\n",
      "152\n",
      "imdb-mask-erasure-0.4\n",
      "186\n",
      "imdb-mask-erasure-0.5\n",
      "198\n",
      "imdb-mask-integrated_grad-0.1\n",
      "32\n",
      "imdb-mask-integrated_grad-0.2\n",
      "85\n",
      "imdb-mask-integrated_grad-0.3\n",
      "141\n",
      "imdb-mask-integrated_grad-0.4\n",
      "178\n",
      "imdb-mask-integrated_grad-0.5\n",
      "190\n",
      "imdb-mask-kernel_shap-0.1\n",
      "26\n",
      "imdb-mask-kernel_shap-0.2\n",
      "82\n",
      "imdb-mask-kernel_shap-0.3\n",
      "141\n",
      "imdb-mask-kernel_shap-0.4\n",
      "181\n",
      "imdb-mask-kernel_shap-0.5\n",
      "194\n",
      "imdb-mask-random-0.1\n",
      "13\n",
      "imdb-mask-random-0.2\n",
      "73\n",
      "imdb-mask-random-0.3\n",
      "139\n",
      "imdb-mask-random-0.4\n",
      "184\n",
      "imdb-mask-random-0.5\n",
      "194\n",
      "imdb-att-zero-gradnorm1-0.1\n",
      "2\n",
      "imdb-att-zero-gradnorm1-0.2\n",
      "2\n",
      "imdb-att-zero-gradnorm1-0.3\n",
      "2\n",
      "imdb-att-zero-gradnorm1-0.4\n",
      "2\n",
      "imdb-att-zero-gradnorm1-0.5\n",
      "2\n",
      "imdb-att-zero-gradnorm2-0.1\n",
      "2\n",
      "imdb-att-zero-gradnorm2-0.2\n",
      "2\n",
      "imdb-att-zero-gradnorm2-0.3\n",
      "2\n",
      "imdb-att-zero-gradnorm2-0.4\n",
      "2\n",
      "imdb-att-zero-gradnorm2-0.5\n",
      "2\n",
      "imdb-att-zero-gradinp-0.1\n",
      "2\n",
      "imdb-att-zero-gradinp-0.2\n",
      "2\n",
      "imdb-att-zero-gradinp-0.3\n",
      "2\n",
      "imdb-att-zero-gradinp-0.4\n",
      "2\n",
      "imdb-att-zero-gradinp-0.5\n",
      "2\n",
      "imdb-att-zero-erasure-0.1\n",
      "2\n",
      "imdb-att-zero-erasure-0.2\n",
      "2\n",
      "imdb-att-zero-erasure-0.3\n",
      "2\n",
      "imdb-att-zero-erasure-0.4\n",
      "2\n",
      "imdb-att-zero-erasure-0.5\n",
      "2\n",
      "imdb-att-zero-integrated_grad-0.1\n",
      "2\n",
      "imdb-att-zero-integrated_grad-0.2\n",
      "2\n",
      "imdb-att-zero-integrated_grad-0.3\n",
      "2\n",
      "imdb-att-zero-integrated_grad-0.4\n",
      "2\n",
      "imdb-att-zero-integrated_grad-0.5\n",
      "2\n",
      "imdb-att-zero-kernel_shap-0.1\n",
      "2\n",
      "imdb-att-zero-kernel_shap-0.2\n",
      "2\n",
      "imdb-att-zero-kernel_shap-0.3\n",
      "2\n",
      "imdb-att-zero-kernel_shap-0.4\n",
      "2\n",
      "imdb-att-zero-kernel_shap-0.5\n",
      "2\n",
      "imdb-att-zero-random-0.1\n",
      "2\n",
      "imdb-att-zero-random-0.2\n",
      "2\n",
      "imdb-att-zero-random-0.3\n",
      "2\n",
      "imdb-att-zero-random-0.4\n",
      "2\n",
      "imdb-att-zero-random-0.5\n",
      "2\n",
      "news-unk-gradnorm1-0.1\n",
      "0\n",
      "news-unk-gradnorm1-0.2\n",
      "1\n",
      "news-unk-gradnorm1-0.3\n",
      "2\n",
      "news-unk-gradnorm1-0.4\n",
      "4\n",
      "news-unk-gradnorm1-0.5\n",
      "3\n",
      "news-unk-gradnorm2-0.1\n",
      "0\n",
      "news-unk-gradnorm2-0.2\n",
      "1\n",
      "news-unk-gradnorm2-0.3\n",
      "1\n",
      "news-unk-gradnorm2-0.4\n",
      "4\n",
      "news-unk-gradnorm2-0.5\n",
      "3\n",
      "news-unk-gradinp-0.1\n",
      "1\n",
      "news-unk-gradinp-0.2\n",
      "1\n",
      "news-unk-gradinp-0.3\n",
      "2\n",
      "news-unk-gradinp-0.4\n",
      "4\n",
      "news-unk-gradinp-0.5\n",
      "9\n",
      "news-unk-erasure-0.1\n",
      "3\n",
      "news-unk-erasure-0.2\n",
      "2\n",
      "news-unk-erasure-0.3\n",
      "6\n",
      "news-unk-erasure-0.4\n",
      "10\n",
      "news-unk-erasure-0.5\n",
      "17\n",
      "news-unk-integrated_grad-0.1\n",
      "2\n",
      "news-unk-integrated_grad-0.2\n",
      "4\n",
      "news-unk-integrated_grad-0.3\n",
      "6\n",
      "news-unk-integrated_grad-0.4\n",
      "3\n",
      "news-unk-integrated_grad-0.5\n",
      "5\n",
      "news-unk-kernel_shap-0.1\n",
      "0\n",
      "news-unk-kernel_shap-0.2\n",
      "0\n",
      "news-unk-kernel_shap-0.3\n",
      "0\n",
      "news-unk-kernel_shap-0.4\n",
      "5\n",
      "news-unk-kernel_shap-0.5\n",
      "8\n",
      "news-unk-random-0.1\n",
      "1\n",
      "news-unk-random-0.2\n",
      "1\n",
      "news-unk-random-0.3\n",
      "0\n",
      "news-unk-random-0.4\n",
      "1\n",
      "news-unk-random-0.5\n",
      "2\n",
      "news-erase-gradnorm1-0.1\n",
      "3\n",
      "news-erase-gradnorm1-0.2\n",
      "6\n",
      "news-erase-gradnorm1-0.3\n",
      "9\n",
      "news-erase-gradnorm1-0.4\n",
      "11\n",
      "news-erase-gradnorm1-0.5\n",
      "6\n",
      "news-erase-gradnorm2-0.1\n",
      "3\n",
      "news-erase-gradnorm2-0.2\n",
      "4\n",
      "news-erase-gradnorm2-0.3\n",
      "7\n",
      "news-erase-gradnorm2-0.4\n",
      "11\n",
      "news-erase-gradnorm2-0.5\n",
      "8\n",
      "news-erase-gradinp-0.1\n",
      "3\n",
      "news-erase-gradinp-0.2\n",
      "4\n",
      "news-erase-gradinp-0.3\n",
      "4\n",
      "news-erase-gradinp-0.4\n",
      "7\n",
      "news-erase-gradinp-0.5\n",
      "10\n",
      "news-erase-erasure-0.1\n",
      "6\n",
      "news-erase-erasure-0.2\n",
      "12\n",
      "news-erase-erasure-0.3\n",
      "18\n",
      "news-erase-erasure-0.4\n",
      "25\n",
      "news-erase-erasure-0.5\n",
      "27\n",
      "news-erase-integrated_grad-0.1\n",
      "2\n",
      "news-erase-integrated_grad-0.2\n",
      "4\n",
      "news-erase-integrated_grad-0.3\n",
      "4\n",
      "news-erase-integrated_grad-0.4\n",
      "5\n",
      "news-erase-integrated_grad-0.5\n",
      "4\n",
      "news-erase-kernel_shap-0.1\n",
      "3\n",
      "news-erase-kernel_shap-0.2\n",
      "3\n",
      "news-erase-kernel_shap-0.3\n",
      "3\n",
      "news-erase-kernel_shap-0.4\n",
      "4\n",
      "news-erase-kernel_shap-0.5\n",
      "10\n",
      "news-erase-random-0.1\n",
      "1\n",
      "news-erase-random-0.2\n",
      "1\n",
      "news-erase-random-0.3\n",
      "4\n",
      "news-erase-random-0.4\n",
      "3\n",
      "news-erase-random-0.5\n",
      "6\n",
      "news-mask-gradnorm1-0.1\n",
      "2\n",
      "news-mask-gradnorm1-0.2\n",
      "1\n",
      "news-mask-gradnorm1-0.3\n",
      "2\n",
      "news-mask-gradnorm1-0.4\n",
      "1\n",
      "news-mask-gradnorm1-0.5\n",
      "1\n",
      "news-mask-gradnorm2-0.1\n",
      "3\n",
      "news-mask-gradnorm2-0.2\n",
      "1\n",
      "news-mask-gradnorm2-0.3\n",
      "2\n",
      "news-mask-gradnorm2-0.4\n",
      "1\n",
      "news-mask-gradnorm2-0.5\n",
      "1\n",
      "news-mask-gradinp-0.1\n",
      "4\n",
      "news-mask-gradinp-0.2\n",
      "2\n",
      "news-mask-gradinp-0.3\n",
      "2\n",
      "news-mask-gradinp-0.4\n",
      "2\n",
      "news-mask-gradinp-0.5\n",
      "1\n",
      "news-mask-erasure-0.1\n",
      "8\n",
      "news-mask-erasure-0.2\n",
      "13\n",
      "news-mask-erasure-0.3\n",
      "11\n",
      "news-mask-erasure-0.4\n",
      "10\n",
      "news-mask-erasure-0.5\n",
      "10\n",
      "news-mask-integrated_grad-0.1\n",
      "3\n",
      "news-mask-integrated_grad-0.2\n",
      "4\n",
      "news-mask-integrated_grad-0.3\n",
      "3\n",
      "news-mask-integrated_grad-0.4\n",
      "3\n",
      "news-mask-integrated_grad-0.5\n",
      "2\n",
      "news-mask-kernel_shap-0.1\n",
      "0\n",
      "news-mask-kernel_shap-0.2\n",
      "1\n",
      "news-mask-kernel_shap-0.3\n",
      "0\n",
      "news-mask-kernel_shap-0.4\n",
      "2\n",
      "news-mask-kernel_shap-0.5\n",
      "2\n",
      "news-mask-random-0.1\n",
      "2\n",
      "news-mask-random-0.2\n",
      "2\n",
      "news-mask-random-0.3\n",
      "1\n",
      "news-mask-random-0.4\n",
      "1\n",
      "news-mask-random-0.5\n",
      "1\n",
      "news-att-zero-gradnorm1-0.1\n",
      "1\n",
      "news-att-zero-gradnorm1-0.2\n",
      "1\n",
      "news-att-zero-gradnorm1-0.3\n",
      "1\n",
      "news-att-zero-gradnorm1-0.4\n",
      "1\n",
      "news-att-zero-gradnorm1-0.5\n",
      "1\n",
      "news-att-zero-gradnorm2-0.1\n",
      "1\n",
      "news-att-zero-gradnorm2-0.2\n",
      "1\n",
      "news-att-zero-gradnorm2-0.3\n",
      "1\n",
      "news-att-zero-gradnorm2-0.4\n",
      "1\n",
      "news-att-zero-gradnorm2-0.5\n",
      "1\n",
      "news-att-zero-gradinp-0.1\n",
      "1\n",
      "news-att-zero-gradinp-0.2\n",
      "1\n",
      "news-att-zero-gradinp-0.3\n",
      "1\n",
      "news-att-zero-gradinp-0.4\n",
      "1\n",
      "news-att-zero-gradinp-0.5\n",
      "1\n",
      "news-att-zero-erasure-0.1\n",
      "1\n",
      "news-att-zero-erasure-0.2\n",
      "1\n",
      "news-att-zero-erasure-0.3\n",
      "1\n",
      "news-att-zero-erasure-0.4\n",
      "1\n",
      "news-att-zero-erasure-0.5\n",
      "1\n",
      "news-att-zero-integrated_grad-0.1\n",
      "1\n",
      "news-att-zero-integrated_grad-0.2\n",
      "1\n",
      "news-att-zero-integrated_grad-0.3\n",
      "1\n",
      "news-att-zero-integrated_grad-0.4\n",
      "1\n",
      "news-att-zero-integrated_grad-0.5\n",
      "1\n",
      "news-att-zero-kernel_shap-0.1\n",
      "1\n",
      "news-att-zero-kernel_shap-0.2\n",
      "1\n",
      "news-att-zero-kernel_shap-0.3\n",
      "1\n",
      "news-att-zero-kernel_shap-0.4\n",
      "1\n",
      "news-att-zero-kernel_shap-0.5\n",
      "1\n",
      "news-att-zero-random-0.1\n",
      "1\n",
      "news-att-zero-random-0.2\n",
      "1\n",
      "news-att-zero-random-0.3\n",
      "1\n",
      "news-att-zero-random-0.4\n",
      "1\n",
      "news-att-zero-random-0.5\n",
      "1\n"
     ]
    }
   ],
   "source": [
    "for key in lls_list_mask.keys():\n",
    "    print(key)\n",
    "    if key.startswith(\"sst\"):\n",
    "        print((percentile99[\"sst2\"] < lls_list_mask[key]).sum())\n",
    "    if key.startswith(\"imdb\"):\n",
    "        print((percentile99[\"imdb\"] < lls_list_mask[key]).sum())\n",
    "    if key.startswith(\"news\"):\n",
    "        print((percentile99[\"news\"] < lls_list_mask[key]).sum())"
   ]
  },
  {
   "cell_type": "code",
   "execution_count": 11,
   "metadata": {},
   "outputs": [
    {
     "data": {
      "text/plain": [
       "dict_keys(['cfg_pythia_sst2_predictor_gemma-2b_ft_True', 'cfg_pythia_imdb_predictor_gemma-2b_ft_True', 'cfg_pythia_news_predictor_gemma-2b_ft_True', 'cfg_pythia2_sst2_predictor_gemma-2b_ft_True', 'cfg_pythia2_imdb_predictor_gemma-2b_ft_True', 'cfg_pythia2_news_predictor_gemma-2b_ft_True', 'cfg_gptj_sst2_predictor_gemma-2b_ft_True', 'cfg_gptj_imdb_predictor_gemma-2b_ft_True', 'cfg_gptj_news_predictor_gemma-2b_ft_True', 'cfg_pythia_sst2_predictor_gemma-2b_ft_False_zero', 'cfg_pythia_imdb_predictor_gemma-2b_ft_False_zero', 'cfg_pythia_news_predictor_gemma-2b_ft_False_zero', 'cfg_pythia2_sst2_predictor_gemma-2b_ft_False_zero', 'cfg_pythia2_imdb_predictor_gemma-2b_ft_False_zero', 'cfg_pythia2_news_predictor_gemma-2b_ft_False_zero', 'cfg_gptj_sst2_predictor_gemma-2b_ft_False_zero', 'cfg_gptj_imdb_predictor_gemma-2b_ft_False_zero', 'cfg_gptj_news_predictor_gemma-2b_ft_False_zero'])"
      ]
     },
     "execution_count": 11,
     "metadata": {},
     "output_type": "execute_result"
    }
   ],
   "source": [
    "results.keys()"
   ]
  },
  {
   "cell_type": "markdown",
   "metadata": {},
   "source": [
    "# Zero"
   ]
  },
  {
   "cell_type": "code",
   "execution_count": 12,
   "metadata": {},
   "outputs": [
    {
     "data": {
      "application/vnd.jupyter.widget-view+json": {
       "model_id": "e8683cb874f54628abe6b9257aa62a0a",
       "version_major": 2,
       "version_minor": 0
      },
      "text/plain": [
       "Loading checkpoint shards:   0%|          | 0/2 [00:00<?, ?it/s]"
      ]
     },
     "metadata": {},
     "output_type": "display_data"
    },
    {
     "name": "stderr",
     "output_type": "stream",
     "text": [
      "100%|██████████| 200/200 [00:02<00:00, 89.53it/s]\n",
      "100%|██████████| 200/200 [00:02<00:00, 66.91it/s]\n",
      "100%|██████████| 200/200 [00:02<00:00, 68.87it/s]\n"
     ]
    }
   ],
   "source": [
    "datasets = [\"sst2\",\"imdb\",\"news\"]\n",
    "device = \"cuda:1\"\n",
    "import torch\n",
    "import numpy as np\n",
    "from tqdm import tqdm\n",
    "from transformers import AutoModelForCausalLM, AutoTokenizer\n",
    "pred_model_id = \"gemma-2b-it\"\n",
    "tokenizer  = AutoTokenizer.from_pretrained(pred_model_id)\n",
    "pred_model = AutoModelForCausalLM.from_pretrained(pred_model_id,device_map=device,\n",
    "                                    torch_dtype=torch.float16,trust_remote_code=True, attn_implementation=\"flash_attention_2\")\n",
    "percentile99_zero = {}\n",
    "for ds in datasets:\n",
    "    nlls_org = []\n",
    "\n",
    "    for i in tqdm(range(200)):\n",
    "\n",
    "        if ds ==\"sst2\":\n",
    "            sent = f\"\"\"In the sentence in triple back ticks what is the sentiment? Answer in one word, positive or negative.\n",
    "```{sst_original_sen[i]}```\n",
    "The answer is \"\"\"\n",
    "            input_ids = tokenizer(sent,\n",
    "                                        return_tensors=\"pt\")[\"input_ids\"].to(device)\n",
    "        if ds ==\"imdb\":\n",
    "            sent = f\"\"\"In the sentence in triple back ticks what is the sentiment? Answer in one word, positive or negative.\n",
    "```{imdb_original_sen[i]}```\n",
    "The answer is \"\"\"\n",
    "            input_ids = tokenizer( sent,\n",
    "                                    return_tensors=\"pt\")[\"input_ids\"].to(device)\n",
    "        if ds == \"news\":\n",
    "            sent = f\"\"\"In the sentence in triple back ticks, what is the news category?\n",
    "                  choices are world, sports, business, and tech. answer in one word.\n",
    "```{news_original_sen[i]}```\n",
    "The answer is \"\"\"\n",
    "            input_ids = tokenizer(sent,\n",
    "                                    return_tensors=\"pt\")[\"input_ids\"].to(device)   \n",
    "        target_ids = input_ids.clone()\n",
    "        # target_ids[:, :-trg_len] = -100\n",
    "        \n",
    "        with torch.no_grad():\n",
    "            outputs = pred_model(input_ids, labels=target_ids)\n",
    "            neg_log_likelihood = outputs.loss\n",
    "\n",
    "        nlls_org.append(neg_log_likelihood)\n",
    "\n",
    "    lls = torch.stack(nlls_org).cpu().numpy()\n",
    "    percentile99_zero[ds] = np.percentile(lls,99)"
   ]
  },
  {
   "cell_type": "code",
   "execution_count": 13,
   "metadata": {},
   "outputs": [
    {
     "data": {
      "text/plain": [
       "{'sst2': 8.119814929962155,\n",
       " 'imdb': 7.056313295364377,\n",
       " 'news': 7.508797521591185}"
      ]
     },
     "execution_count": 13,
     "metadata": {},
     "output_type": "execute_result"
    }
   ],
   "source": [
    "percentile99_zero"
   ]
  },
  {
   "cell_type": "code",
   "execution_count": 14,
   "metadata": {},
   "outputs": [
    {
     "name": "stderr",
     "output_type": "stream",
     "text": [
      "100%|██████████| 200/200 [00:02<00:00, 84.18it/s]\n"
     ]
    },
    {
     "name": "stdout",
     "output_type": "stream",
     "text": [
      "6.948091\n"
     ]
    },
    {
     "name": "stderr",
     "output_type": "stream",
     "text": [
      "100%|██████████| 200/200 [00:02<00:00, 86.94it/s]\n"
     ]
    },
    {
     "name": "stdout",
     "output_type": "stream",
     "text": [
      "6.9749804\n"
     ]
    },
    {
     "name": "stderr",
     "output_type": "stream",
     "text": [
      "100%|██████████| 200/200 [00:02<00:00, 86.47it/s]\n"
     ]
    },
    {
     "name": "stdout",
     "output_type": "stream",
     "text": [
      "7.0013537\n"
     ]
    },
    {
     "name": "stderr",
     "output_type": "stream",
     "text": [
      "100%|██████████| 200/200 [00:02<00:00, 86.47it/s]\n"
     ]
    },
    {
     "name": "stdout",
     "output_type": "stream",
     "text": [
      "7.02145\n"
     ]
    },
    {
     "name": "stderr",
     "output_type": "stream",
     "text": [
      "100%|██████████| 200/200 [00:02<00:00, 86.02it/s]\n"
     ]
    },
    {
     "name": "stdout",
     "output_type": "stream",
     "text": [
      "7.029873\n"
     ]
    },
    {
     "name": "stderr",
     "output_type": "stream",
     "text": [
      "100%|██████████| 200/200 [00:02<00:00, 86.52it/s]\n"
     ]
    },
    {
     "name": "stdout",
     "output_type": "stream",
     "text": [
      "6.948502\n"
     ]
    },
    {
     "name": "stderr",
     "output_type": "stream",
     "text": [
      "100%|██████████| 200/200 [00:02<00:00, 86.18it/s]\n"
     ]
    },
    {
     "name": "stdout",
     "output_type": "stream",
     "text": [
      "6.977927\n"
     ]
    },
    {
     "name": "stderr",
     "output_type": "stream",
     "text": [
      "100%|██████████| 200/200 [00:02<00:00, 85.70it/s]\n"
     ]
    },
    {
     "name": "stdout",
     "output_type": "stream",
     "text": [
      "6.9983497\n"
     ]
    },
    {
     "name": "stderr",
     "output_type": "stream",
     "text": [
      "100%|██████████| 200/200 [00:02<00:00, 86.51it/s]\n"
     ]
    },
    {
     "name": "stdout",
     "output_type": "stream",
     "text": [
      "7.0283384\n"
     ]
    },
    {
     "name": "stderr",
     "output_type": "stream",
     "text": [
      "100%|██████████| 200/200 [00:02<00:00, 86.28it/s]\n"
     ]
    },
    {
     "name": "stdout",
     "output_type": "stream",
     "text": [
      "7.0278015\n"
     ]
    },
    {
     "name": "stderr",
     "output_type": "stream",
     "text": [
      "100%|██████████| 200/200 [00:02<00:00, 86.97it/s]\n"
     ]
    },
    {
     "name": "stdout",
     "output_type": "stream",
     "text": [
      "6.9530225\n"
     ]
    },
    {
     "name": "stderr",
     "output_type": "stream",
     "text": [
      "100%|██████████| 200/200 [00:02<00:00, 87.45it/s]\n"
     ]
    },
    {
     "name": "stdout",
     "output_type": "stream",
     "text": [
      "6.9701624\n"
     ]
    },
    {
     "name": "stderr",
     "output_type": "stream",
     "text": [
      "100%|██████████| 200/200 [00:02<00:00, 86.89it/s]\n"
     ]
    },
    {
     "name": "stdout",
     "output_type": "stream",
     "text": [
      "7.0062456\n"
     ]
    },
    {
     "name": "stderr",
     "output_type": "stream",
     "text": [
      "100%|██████████| 200/200 [00:02<00:00, 86.07it/s]\n"
     ]
    },
    {
     "name": "stdout",
     "output_type": "stream",
     "text": [
      "7.0457683\n"
     ]
    },
    {
     "name": "stderr",
     "output_type": "stream",
     "text": [
      "100%|██████████| 200/200 [00:02<00:00, 85.35it/s]\n"
     ]
    },
    {
     "name": "stdout",
     "output_type": "stream",
     "text": [
      "7.075915\n"
     ]
    },
    {
     "name": "stderr",
     "output_type": "stream",
     "text": [
      "100%|██████████| 200/200 [00:02<00:00, 86.49it/s]\n"
     ]
    },
    {
     "name": "stdout",
     "output_type": "stream",
     "text": [
      "6.9749966\n"
     ]
    },
    {
     "name": "stderr",
     "output_type": "stream",
     "text": [
      "100%|██████████| 200/200 [00:02<00:00, 86.07it/s]\n"
     ]
    },
    {
     "name": "stdout",
     "output_type": "stream",
     "text": [
      "6.9851246\n"
     ]
    },
    {
     "name": "stderr",
     "output_type": "stream",
     "text": [
      "100%|██████████| 200/200 [00:02<00:00, 87.13it/s]\n"
     ]
    },
    {
     "name": "stdout",
     "output_type": "stream",
     "text": [
      "6.984307\n"
     ]
    },
    {
     "name": "stderr",
     "output_type": "stream",
     "text": [
      "100%|██████████| 200/200 [00:02<00:00, 86.64it/s]\n"
     ]
    },
    {
     "name": "stdout",
     "output_type": "stream",
     "text": [
      "7.0054955\n"
     ]
    },
    {
     "name": "stderr",
     "output_type": "stream",
     "text": [
      "100%|██████████| 200/200 [00:02<00:00, 85.53it/s]\n"
     ]
    },
    {
     "name": "stdout",
     "output_type": "stream",
     "text": [
      "7.00412\n"
     ]
    },
    {
     "name": "stderr",
     "output_type": "stream",
     "text": [
      "100%|██████████| 200/200 [00:02<00:00, 86.85it/s]\n"
     ]
    },
    {
     "name": "stdout",
     "output_type": "stream",
     "text": [
      "6.958777\n"
     ]
    },
    {
     "name": "stderr",
     "output_type": "stream",
     "text": [
      "100%|██████████| 200/200 [00:02<00:00, 86.19it/s]\n"
     ]
    },
    {
     "name": "stdout",
     "output_type": "stream",
     "text": [
      "6.9818993\n"
     ]
    },
    {
     "name": "stderr",
     "output_type": "stream",
     "text": [
      "100%|██████████| 200/200 [00:02<00:00, 86.80it/s]\n"
     ]
    },
    {
     "name": "stdout",
     "output_type": "stream",
     "text": [
      "7.0110755\n"
     ]
    },
    {
     "name": "stderr",
     "output_type": "stream",
     "text": [
      "100%|██████████| 200/200 [00:02<00:00, 86.61it/s]\n"
     ]
    },
    {
     "name": "stdout",
     "output_type": "stream",
     "text": [
      "7.045448\n"
     ]
    },
    {
     "name": "stderr",
     "output_type": "stream",
     "text": [
      "100%|██████████| 200/200 [00:02<00:00, 86.06it/s]\n"
     ]
    },
    {
     "name": "stdout",
     "output_type": "stream",
     "text": [
      "7.052911\n"
     ]
    },
    {
     "name": "stderr",
     "output_type": "stream",
     "text": [
      "100%|██████████| 200/200 [00:02<00:00, 86.67it/s]\n"
     ]
    },
    {
     "name": "stdout",
     "output_type": "stream",
     "text": [
      "6.976259\n"
     ]
    },
    {
     "name": "stderr",
     "output_type": "stream",
     "text": [
      "100%|██████████| 200/200 [00:02<00:00, 86.86it/s]\n"
     ]
    },
    {
     "name": "stdout",
     "output_type": "stream",
     "text": [
      "6.9971185\n"
     ]
    },
    {
     "name": "stderr",
     "output_type": "stream",
     "text": [
      "100%|██████████| 200/200 [00:02<00:00, 85.81it/s]\n"
     ]
    },
    {
     "name": "stdout",
     "output_type": "stream",
     "text": [
      "7.011699\n"
     ]
    },
    {
     "name": "stderr",
     "output_type": "stream",
     "text": [
      "100%|██████████| 200/200 [00:02<00:00, 86.13it/s]\n"
     ]
    },
    {
     "name": "stdout",
     "output_type": "stream",
     "text": [
      "7.034933\n"
     ]
    },
    {
     "name": "stderr",
     "output_type": "stream",
     "text": [
      "100%|██████████| 200/200 [00:02<00:00, 86.54it/s]\n"
     ]
    },
    {
     "name": "stdout",
     "output_type": "stream",
     "text": [
      "7.0792665\n"
     ]
    },
    {
     "name": "stderr",
     "output_type": "stream",
     "text": [
      "100%|██████████| 200/200 [00:02<00:00, 87.14it/s]\n"
     ]
    },
    {
     "name": "stdout",
     "output_type": "stream",
     "text": [
      "6.9745827\n"
     ]
    },
    {
     "name": "stderr",
     "output_type": "stream",
     "text": [
      "100%|██████████| 200/200 [00:02<00:00, 86.34it/s]\n"
     ]
    },
    {
     "name": "stdout",
     "output_type": "stream",
     "text": [
      "7.011246\n"
     ]
    },
    {
     "name": "stderr",
     "output_type": "stream",
     "text": [
      "100%|██████████| 200/200 [00:02<00:00, 85.89it/s]\n"
     ]
    },
    {
     "name": "stdout",
     "output_type": "stream",
     "text": [
      "7.0699034\n"
     ]
    },
    {
     "name": "stderr",
     "output_type": "stream",
     "text": [
      "100%|██████████| 200/200 [00:02<00:00, 86.51it/s]\n"
     ]
    },
    {
     "name": "stdout",
     "output_type": "stream",
     "text": [
      "7.1042786\n"
     ]
    },
    {
     "name": "stderr",
     "output_type": "stream",
     "text": [
      "100%|██████████| 200/200 [00:02<00:00, 86.71it/s]\n"
     ]
    },
    {
     "name": "stdout",
     "output_type": "stream",
     "text": [
      "7.136726\n"
     ]
    },
    {
     "name": "stderr",
     "output_type": "stream",
     "text": [
      "100%|██████████| 200/200 [00:02<00:00, 85.71it/s]\n"
     ]
    },
    {
     "name": "stdout",
     "output_type": "stream",
     "text": [
      "6.9682355\n"
     ]
    },
    {
     "name": "stderr",
     "output_type": "stream",
     "text": [
      "100%|██████████| 200/200 [00:02<00:00, 86.90it/s]\n"
     ]
    },
    {
     "name": "stdout",
     "output_type": "stream",
     "text": [
      "7.0154176\n"
     ]
    },
    {
     "name": "stderr",
     "output_type": "stream",
     "text": [
      "100%|██████████| 200/200 [00:02<00:00, 84.99it/s]\n"
     ]
    },
    {
     "name": "stdout",
     "output_type": "stream",
     "text": [
      "7.071984\n"
     ]
    },
    {
     "name": "stderr",
     "output_type": "stream",
     "text": [
      "100%|██████████| 200/200 [00:02<00:00, 86.94it/s]\n"
     ]
    },
    {
     "name": "stdout",
     "output_type": "stream",
     "text": [
      "7.1204786\n"
     ]
    },
    {
     "name": "stderr",
     "output_type": "stream",
     "text": [
      "100%|██████████| 200/200 [00:02<00:00, 86.35it/s]\n"
     ]
    },
    {
     "name": "stdout",
     "output_type": "stream",
     "text": [
      "7.118657\n"
     ]
    },
    {
     "name": "stderr",
     "output_type": "stream",
     "text": [
      "100%|██████████| 200/200 [00:02<00:00, 86.64it/s]\n"
     ]
    },
    {
     "name": "stdout",
     "output_type": "stream",
     "text": [
      "6.9747853\n"
     ]
    },
    {
     "name": "stderr",
     "output_type": "stream",
     "text": [
      "100%|██████████| 200/200 [00:02<00:00, 85.63it/s]\n"
     ]
    },
    {
     "name": "stdout",
     "output_type": "stream",
     "text": [
      "7.0299754\n"
     ]
    },
    {
     "name": "stderr",
     "output_type": "stream",
     "text": [
      "100%|██████████| 200/200 [00:02<00:00, 85.69it/s]\n"
     ]
    },
    {
     "name": "stdout",
     "output_type": "stream",
     "text": [
      "7.083998\n"
     ]
    },
    {
     "name": "stderr",
     "output_type": "stream",
     "text": [
      "100%|██████████| 200/200 [00:02<00:00, 86.26it/s]\n"
     ]
    },
    {
     "name": "stdout",
     "output_type": "stream",
     "text": [
      "7.1285925\n"
     ]
    },
    {
     "name": "stderr",
     "output_type": "stream",
     "text": [
      "100%|██████████| 200/200 [00:02<00:00, 84.42it/s]\n"
     ]
    },
    {
     "name": "stdout",
     "output_type": "stream",
     "text": [
      "7.142142\n"
     ]
    },
    {
     "name": "stderr",
     "output_type": "stream",
     "text": [
      "100%|██████████| 200/200 [00:02<00:00, 85.31it/s]\n"
     ]
    },
    {
     "name": "stdout",
     "output_type": "stream",
     "text": [
      "6.993568\n"
     ]
    },
    {
     "name": "stderr",
     "output_type": "stream",
     "text": [
      "100%|██████████| 200/200 [00:02<00:00, 85.74it/s]\n"
     ]
    },
    {
     "name": "stdout",
     "output_type": "stream",
     "text": [
      "7.0292974\n"
     ]
    },
    {
     "name": "stderr",
     "output_type": "stream",
     "text": [
      "100%|██████████| 200/200 [00:02<00:00, 85.87it/s]\n"
     ]
    },
    {
     "name": "stdout",
     "output_type": "stream",
     "text": [
      "7.0836296\n"
     ]
    },
    {
     "name": "stderr",
     "output_type": "stream",
     "text": [
      "100%|██████████| 200/200 [00:02<00:00, 86.21it/s]\n"
     ]
    },
    {
     "name": "stdout",
     "output_type": "stream",
     "text": [
      "7.1315126\n"
     ]
    },
    {
     "name": "stderr",
     "output_type": "stream",
     "text": [
      "100%|██████████| 200/200 [00:02<00:00, 86.60it/s]\n"
     ]
    },
    {
     "name": "stdout",
     "output_type": "stream",
     "text": [
      "7.1245155\n"
     ]
    },
    {
     "name": "stderr",
     "output_type": "stream",
     "text": [
      "100%|██████████| 200/200 [00:02<00:00, 86.37it/s]\n"
     ]
    },
    {
     "name": "stdout",
     "output_type": "stream",
     "text": [
      "6.9916186\n"
     ]
    },
    {
     "name": "stderr",
     "output_type": "stream",
     "text": [
      "100%|██████████| 200/200 [00:02<00:00, 85.87it/s]\n"
     ]
    },
    {
     "name": "stdout",
     "output_type": "stream",
     "text": [
      "7.0065784\n"
     ]
    },
    {
     "name": "stderr",
     "output_type": "stream",
     "text": [
      "100%|██████████| 200/200 [00:02<00:00, 85.92it/s]\n"
     ]
    },
    {
     "name": "stdout",
     "output_type": "stream",
     "text": [
      "7.0133348\n"
     ]
    },
    {
     "name": "stderr",
     "output_type": "stream",
     "text": [
      "100%|██████████| 200/200 [00:02<00:00, 86.19it/s]\n"
     ]
    },
    {
     "name": "stdout",
     "output_type": "stream",
     "text": [
      "7.015215\n"
     ]
    },
    {
     "name": "stderr",
     "output_type": "stream",
     "text": [
      "100%|██████████| 200/200 [00:02<00:00, 86.77it/s]\n"
     ]
    },
    {
     "name": "stdout",
     "output_type": "stream",
     "text": [
      "7.0243444\n"
     ]
    },
    {
     "name": "stderr",
     "output_type": "stream",
     "text": [
      "100%|██████████| 200/200 [00:02<00:00, 86.00it/s]\n"
     ]
    },
    {
     "name": "stdout",
     "output_type": "stream",
     "text": [
      "6.973581\n"
     ]
    },
    {
     "name": "stderr",
     "output_type": "stream",
     "text": [
      "100%|██████████| 200/200 [00:02<00:00, 85.84it/s]\n"
     ]
    },
    {
     "name": "stdout",
     "output_type": "stream",
     "text": [
      "7.0085945\n"
     ]
    },
    {
     "name": "stderr",
     "output_type": "stream",
     "text": [
      "100%|██████████| 200/200 [00:02<00:00, 87.15it/s]\n"
     ]
    },
    {
     "name": "stdout",
     "output_type": "stream",
     "text": [
      "7.043012\n"
     ]
    },
    {
     "name": "stderr",
     "output_type": "stream",
     "text": [
      "100%|██████████| 200/200 [00:02<00:00, 86.55it/s]\n"
     ]
    },
    {
     "name": "stdout",
     "output_type": "stream",
     "text": [
      "7.0854173\n"
     ]
    },
    {
     "name": "stderr",
     "output_type": "stream",
     "text": [
      "100%|██████████| 200/200 [00:02<00:00, 86.82it/s]\n"
     ]
    },
    {
     "name": "stdout",
     "output_type": "stream",
     "text": [
      "7.0988197\n"
     ]
    },
    {
     "name": "stderr",
     "output_type": "stream",
     "text": [
      "100%|██████████| 200/200 [00:02<00:00, 87.09it/s]\n"
     ]
    },
    {
     "name": "stdout",
     "output_type": "stream",
     "text": [
      "7.000353\n"
     ]
    },
    {
     "name": "stderr",
     "output_type": "stream",
     "text": [
      "100%|██████████| 200/200 [00:02<00:00, 86.28it/s]\n"
     ]
    },
    {
     "name": "stdout",
     "output_type": "stream",
     "text": [
      "7.032277\n"
     ]
    },
    {
     "name": "stderr",
     "output_type": "stream",
     "text": [
      "100%|██████████| 200/200 [00:02<00:00, 86.46it/s]\n"
     ]
    },
    {
     "name": "stdout",
     "output_type": "stream",
     "text": [
      "7.10469\n"
     ]
    },
    {
     "name": "stderr",
     "output_type": "stream",
     "text": [
      "100%|██████████| 200/200 [00:02<00:00, 86.69it/s]\n"
     ]
    },
    {
     "name": "stdout",
     "output_type": "stream",
     "text": [
      "7.134613\n"
     ]
    },
    {
     "name": "stderr",
     "output_type": "stream",
     "text": [
      "100%|██████████| 200/200 [00:02<00:00, 86.60it/s]\n"
     ]
    },
    {
     "name": "stdout",
     "output_type": "stream",
     "text": [
      "7.1521034\n"
     ]
    },
    {
     "name": "stderr",
     "output_type": "stream",
     "text": [
      "100%|██████████| 200/200 [00:02<00:00, 85.96it/s]\n"
     ]
    },
    {
     "name": "stdout",
     "output_type": "stream",
     "text": [
      "6.991339\n"
     ]
    },
    {
     "name": "stderr",
     "output_type": "stream",
     "text": [
      "100%|██████████| 200/200 [00:02<00:00, 87.29it/s]\n"
     ]
    },
    {
     "name": "stdout",
     "output_type": "stream",
     "text": [
      "7.033678\n"
     ]
    },
    {
     "name": "stderr",
     "output_type": "stream",
     "text": [
      "100%|██████████| 200/200 [00:02<00:00, 87.36it/s]\n"
     ]
    },
    {
     "name": "stdout",
     "output_type": "stream",
     "text": [
      "7.0775423\n"
     ]
    },
    {
     "name": "stderr",
     "output_type": "stream",
     "text": [
      "100%|██████████| 200/200 [00:02<00:00, 86.38it/s]\n"
     ]
    },
    {
     "name": "stdout",
     "output_type": "stream",
     "text": [
      "7.1161647\n"
     ]
    },
    {
     "name": "stderr",
     "output_type": "stream",
     "text": [
      "100%|██████████| 200/200 [00:02<00:00, 86.43it/s]\n"
     ]
    },
    {
     "name": "stdout",
     "output_type": "stream",
     "text": [
      "7.14934\n"
     ]
    },
    {
     "name": "stderr",
     "output_type": "stream",
     "text": [
      "100%|██████████| 200/200 [00:02<00:00, 86.20it/s]\n"
     ]
    },
    {
     "name": "stdout",
     "output_type": "stream",
     "text": [
      "7.368167\n"
     ]
    },
    {
     "name": "stderr",
     "output_type": "stream",
     "text": [
      "100%|██████████| 200/200 [00:02<00:00, 87.33it/s]\n"
     ]
    },
    {
     "name": "stdout",
     "output_type": "stream",
     "text": [
      "7.3124\n"
     ]
    },
    {
     "name": "stderr",
     "output_type": "stream",
     "text": [
      "100%|██████████| 200/200 [00:02<00:00, 86.59it/s]\n"
     ]
    },
    {
     "name": "stdout",
     "output_type": "stream",
     "text": [
      "7.245582\n"
     ]
    },
    {
     "name": "stderr",
     "output_type": "stream",
     "text": [
      "100%|██████████| 200/200 [00:02<00:00, 86.30it/s]\n"
     ]
    },
    {
     "name": "stdout",
     "output_type": "stream",
     "text": [
      "7.212412\n"
     ]
    },
    {
     "name": "stderr",
     "output_type": "stream",
     "text": [
      "100%|██████████| 200/200 [00:02<00:00, 87.00it/s]\n"
     ]
    },
    {
     "name": "stdout",
     "output_type": "stream",
     "text": [
      "7.1806417\n"
     ]
    },
    {
     "name": "stderr",
     "output_type": "stream",
     "text": [
      "100%|██████████| 200/200 [00:02<00:00, 86.49it/s]\n"
     ]
    },
    {
     "name": "stdout",
     "output_type": "stream",
     "text": [
      "7.365945\n"
     ]
    },
    {
     "name": "stderr",
     "output_type": "stream",
     "text": [
      "100%|██████████| 200/200 [00:02<00:00, 87.25it/s]\n"
     ]
    },
    {
     "name": "stdout",
     "output_type": "stream",
     "text": [
      "7.3091154\n"
     ]
    },
    {
     "name": "stderr",
     "output_type": "stream",
     "text": [
      "100%|██████████| 200/200 [00:02<00:00, 87.25it/s]\n"
     ]
    },
    {
     "name": "stdout",
     "output_type": "stream",
     "text": [
      "7.235162\n"
     ]
    },
    {
     "name": "stderr",
     "output_type": "stream",
     "text": [
      "100%|██████████| 200/200 [00:02<00:00, 86.67it/s]\n"
     ]
    },
    {
     "name": "stdout",
     "output_type": "stream",
     "text": [
      "7.2037024\n"
     ]
    },
    {
     "name": "stderr",
     "output_type": "stream",
     "text": [
      "100%|██████████| 200/200 [00:02<00:00, 87.45it/s]\n"
     ]
    },
    {
     "name": "stdout",
     "output_type": "stream",
     "text": [
      "7.1666174\n"
     ]
    },
    {
     "name": "stderr",
     "output_type": "stream",
     "text": [
      "100%|██████████| 200/200 [00:02<00:00, 86.93it/s]\n"
     ]
    },
    {
     "name": "stdout",
     "output_type": "stream",
     "text": [
      "7.2308803\n"
     ]
    },
    {
     "name": "stderr",
     "output_type": "stream",
     "text": [
      "100%|██████████| 200/200 [00:02<00:00, 87.27it/s]\n"
     ]
    },
    {
     "name": "stdout",
     "output_type": "stream",
     "text": [
      "7.144438\n"
     ]
    },
    {
     "name": "stderr",
     "output_type": "stream",
     "text": [
      "100%|██████████| 200/200 [00:02<00:00, 86.72it/s]\n"
     ]
    },
    {
     "name": "stdout",
     "output_type": "stream",
     "text": [
      "7.1479616\n"
     ]
    },
    {
     "name": "stderr",
     "output_type": "stream",
     "text": [
      "100%|██████████| 200/200 [00:02<00:00, 86.11it/s]\n"
     ]
    },
    {
     "name": "stdout",
     "output_type": "stream",
     "text": [
      "7.1373167\n"
     ]
    },
    {
     "name": "stderr",
     "output_type": "stream",
     "text": [
      "100%|██████████| 200/200 [00:02<00:00, 86.07it/s]\n"
     ]
    },
    {
     "name": "stdout",
     "output_type": "stream",
     "text": [
      "7.124048\n"
     ]
    },
    {
     "name": "stderr",
     "output_type": "stream",
     "text": [
      "100%|██████████| 200/200 [00:02<00:00, 86.97it/s]\n"
     ]
    },
    {
     "name": "stdout",
     "output_type": "stream",
     "text": [
      "7.4155297\n"
     ]
    },
    {
     "name": "stderr",
     "output_type": "stream",
     "text": [
      "100%|██████████| 200/200 [00:02<00:00, 87.21it/s]\n"
     ]
    },
    {
     "name": "stdout",
     "output_type": "stream",
     "text": [
      "7.4136944\n"
     ]
    },
    {
     "name": "stderr",
     "output_type": "stream",
     "text": [
      "100%|██████████| 200/200 [00:02<00:00, 86.69it/s]\n"
     ]
    },
    {
     "name": "stdout",
     "output_type": "stream",
     "text": [
      "7.393053\n"
     ]
    },
    {
     "name": "stderr",
     "output_type": "stream",
     "text": [
      "100%|██████████| 200/200 [00:02<00:00, 86.63it/s]\n"
     ]
    },
    {
     "name": "stdout",
     "output_type": "stream",
     "text": [
      "7.364448\n"
     ]
    },
    {
     "name": "stderr",
     "output_type": "stream",
     "text": [
      "100%|██████████| 200/200 [00:02<00:00, 85.98it/s]\n"
     ]
    },
    {
     "name": "stdout",
     "output_type": "stream",
     "text": [
      "7.3170605\n"
     ]
    },
    {
     "name": "stderr",
     "output_type": "stream",
     "text": [
      "100%|██████████| 200/200 [00:02<00:00, 86.47it/s]\n"
     ]
    },
    {
     "name": "stdout",
     "output_type": "stream",
     "text": [
      "7.3552294\n"
     ]
    },
    {
     "name": "stderr",
     "output_type": "stream",
     "text": [
      "100%|██████████| 200/200 [00:02<00:00, 86.20it/s]\n"
     ]
    },
    {
     "name": "stdout",
     "output_type": "stream",
     "text": [
      "7.261688\n"
     ]
    },
    {
     "name": "stderr",
     "output_type": "stream",
     "text": [
      "100%|██████████| 200/200 [00:02<00:00, 85.91it/s]\n"
     ]
    },
    {
     "name": "stdout",
     "output_type": "stream",
     "text": [
      "7.2168345\n"
     ]
    },
    {
     "name": "stderr",
     "output_type": "stream",
     "text": [
      "100%|██████████| 200/200 [00:02<00:00, 86.41it/s]\n"
     ]
    },
    {
     "name": "stdout",
     "output_type": "stream",
     "text": [
      "7.1819553\n"
     ]
    },
    {
     "name": "stderr",
     "output_type": "stream",
     "text": [
      "100%|██████████| 200/200 [00:02<00:00, 85.54it/s]\n"
     ]
    },
    {
     "name": "stdout",
     "output_type": "stream",
     "text": [
      "7.1434007\n"
     ]
    },
    {
     "name": "stderr",
     "output_type": "stream",
     "text": [
      "100%|██████████| 200/200 [00:02<00:00, 86.42it/s]\n"
     ]
    },
    {
     "name": "stdout",
     "output_type": "stream",
     "text": [
      "7.282406\n"
     ]
    },
    {
     "name": "stderr",
     "output_type": "stream",
     "text": [
      "100%|██████████| 200/200 [00:02<00:00, 86.66it/s]\n"
     ]
    },
    {
     "name": "stdout",
     "output_type": "stream",
     "text": [
      "7.1928124\n"
     ]
    },
    {
     "name": "stderr",
     "output_type": "stream",
     "text": [
      "100%|██████████| 200/200 [00:02<00:00, 85.62it/s]\n"
     ]
    },
    {
     "name": "stdout",
     "output_type": "stream",
     "text": [
      "7.1691856\n"
     ]
    },
    {
     "name": "stderr",
     "output_type": "stream",
     "text": [
      "100%|██████████| 200/200 [00:02<00:00, 85.68it/s]\n"
     ]
    },
    {
     "name": "stdout",
     "output_type": "stream",
     "text": [
      "7.183164\n"
     ]
    },
    {
     "name": "stderr",
     "output_type": "stream",
     "text": [
      "100%|██████████| 200/200 [00:02<00:00, 85.59it/s]\n"
     ]
    },
    {
     "name": "stdout",
     "output_type": "stream",
     "text": [
      "7.1749744\n"
     ]
    },
    {
     "name": "stderr",
     "output_type": "stream",
     "text": [
      "100%|██████████| 200/200 [00:02<00:00, 86.70it/s]\n"
     ]
    },
    {
     "name": "stdout",
     "output_type": "stream",
     "text": [
      "7.234397\n"
     ]
    },
    {
     "name": "stderr",
     "output_type": "stream",
     "text": [
      "100%|██████████| 200/200 [00:02<00:00, 86.37it/s]\n"
     ]
    },
    {
     "name": "stdout",
     "output_type": "stream",
     "text": [
      "7.1849394\n"
     ]
    },
    {
     "name": "stderr",
     "output_type": "stream",
     "text": [
      "100%|██████████| 200/200 [00:02<00:00, 85.71it/s]\n"
     ]
    },
    {
     "name": "stdout",
     "output_type": "stream",
     "text": [
      "7.1698303\n"
     ]
    },
    {
     "name": "stderr",
     "output_type": "stream",
     "text": [
      "100%|██████████| 200/200 [00:02<00:00, 87.07it/s]\n"
     ]
    },
    {
     "name": "stdout",
     "output_type": "stream",
     "text": [
      "7.1905003\n"
     ]
    },
    {
     "name": "stderr",
     "output_type": "stream",
     "text": [
      "100%|██████████| 200/200 [00:02<00:00, 85.65it/s]\n"
     ]
    },
    {
     "name": "stdout",
     "output_type": "stream",
     "text": [
      "7.182727\n"
     ]
    },
    {
     "name": "stderr",
     "output_type": "stream",
     "text": [
      "100%|██████████| 200/200 [00:03<00:00, 63.41it/s]\n"
     ]
    },
    {
     "name": "stdout",
     "output_type": "stream",
     "text": [
      "5.754558\n"
     ]
    },
    {
     "name": "stderr",
     "output_type": "stream",
     "text": [
      "100%|██████████| 200/200 [00:03<00:00, 63.63it/s]\n"
     ]
    },
    {
     "name": "stdout",
     "output_type": "stream",
     "text": [
      "5.7823315\n"
     ]
    },
    {
     "name": "stderr",
     "output_type": "stream",
     "text": [
      "100%|██████████| 200/200 [00:03<00:00, 63.47it/s]\n"
     ]
    },
    {
     "name": "stdout",
     "output_type": "stream",
     "text": [
      "5.8106346\n"
     ]
    },
    {
     "name": "stderr",
     "output_type": "stream",
     "text": [
      "100%|██████████| 200/200 [00:03<00:00, 63.53it/s]\n"
     ]
    },
    {
     "name": "stdout",
     "output_type": "stream",
     "text": [
      "5.841743\n"
     ]
    },
    {
     "name": "stderr",
     "output_type": "stream",
     "text": [
      "100%|██████████| 200/200 [00:03<00:00, 64.22it/s]\n"
     ]
    },
    {
     "name": "stdout",
     "output_type": "stream",
     "text": [
      "5.8819423\n"
     ]
    },
    {
     "name": "stderr",
     "output_type": "stream",
     "text": [
      "100%|██████████| 200/200 [00:03<00:00, 64.33it/s]\n"
     ]
    },
    {
     "name": "stdout",
     "output_type": "stream",
     "text": [
      "5.7559123\n"
     ]
    },
    {
     "name": "stderr",
     "output_type": "stream",
     "text": [
      "100%|██████████| 200/200 [00:03<00:00, 64.48it/s]\n"
     ]
    },
    {
     "name": "stdout",
     "output_type": "stream",
     "text": [
      "5.7811546\n"
     ]
    },
    {
     "name": "stderr",
     "output_type": "stream",
     "text": [
      "100%|██████████| 200/200 [00:03<00:00, 64.84it/s]\n"
     ]
    },
    {
     "name": "stdout",
     "output_type": "stream",
     "text": [
      "5.8065186\n"
     ]
    },
    {
     "name": "stderr",
     "output_type": "stream",
     "text": [
      "100%|██████████| 200/200 [00:03<00:00, 63.94it/s]\n"
     ]
    },
    {
     "name": "stdout",
     "output_type": "stream",
     "text": [
      "5.823684\n"
     ]
    },
    {
     "name": "stderr",
     "output_type": "stream",
     "text": [
      "100%|██████████| 200/200 [00:03<00:00, 64.79it/s]\n"
     ]
    },
    {
     "name": "stdout",
     "output_type": "stream",
     "text": [
      "5.8727903\n"
     ]
    },
    {
     "name": "stderr",
     "output_type": "stream",
     "text": [
      "100%|██████████| 200/200 [00:03<00:00, 64.40it/s]\n"
     ]
    },
    {
     "name": "stdout",
     "output_type": "stream",
     "text": [
      "5.7959194\n"
     ]
    },
    {
     "name": "stderr",
     "output_type": "stream",
     "text": [
      "100%|██████████| 200/200 [00:03<00:00, 63.89it/s]\n"
     ]
    },
    {
     "name": "stdout",
     "output_type": "stream",
     "text": [
      "5.8660364\n"
     ]
    },
    {
     "name": "stderr",
     "output_type": "stream",
     "text": [
      "100%|██████████| 200/200 [00:03<00:00, 63.75it/s]\n"
     ]
    },
    {
     "name": "stdout",
     "output_type": "stream",
     "text": [
      "5.9567614\n"
     ]
    },
    {
     "name": "stderr",
     "output_type": "stream",
     "text": [
      "100%|██████████| 200/200 [00:03<00:00, 63.79it/s]\n"
     ]
    },
    {
     "name": "stdout",
     "output_type": "stream",
     "text": [
      "6.057\n"
     ]
    },
    {
     "name": "stderr",
     "output_type": "stream",
     "text": [
      "100%|██████████| 200/200 [00:03<00:00, 63.27it/s]\n"
     ]
    },
    {
     "name": "stdout",
     "output_type": "stream",
     "text": [
      "6.104062\n"
     ]
    },
    {
     "name": "stderr",
     "output_type": "stream",
     "text": [
      "100%|██████████| 200/200 [00:03<00:00, 64.20it/s]\n"
     ]
    },
    {
     "name": "stdout",
     "output_type": "stream",
     "text": [
      "5.758098\n"
     ]
    },
    {
     "name": "stderr",
     "output_type": "stream",
     "text": [
      "100%|██████████| 200/200 [00:03<00:00, 63.61it/s]\n"
     ]
    },
    {
     "name": "stdout",
     "output_type": "stream",
     "text": [
      "5.7867417\n"
     ]
    },
    {
     "name": "stderr",
     "output_type": "stream",
     "text": [
      "100%|██████████| 200/200 [00:03<00:00, 63.60it/s]\n"
     ]
    },
    {
     "name": "stdout",
     "output_type": "stream",
     "text": [
      "5.8536806\n"
     ]
    },
    {
     "name": "stderr",
     "output_type": "stream",
     "text": [
      "100%|██████████| 200/200 [00:03<00:00, 63.74it/s]\n"
     ]
    },
    {
     "name": "stdout",
     "output_type": "stream",
     "text": [
      "5.918255\n"
     ]
    },
    {
     "name": "stderr",
     "output_type": "stream",
     "text": [
      "100%|██████████| 200/200 [00:03<00:00, 63.70it/s]\n"
     ]
    },
    {
     "name": "stdout",
     "output_type": "stream",
     "text": [
      "5.966465\n"
     ]
    },
    {
     "name": "stderr",
     "output_type": "stream",
     "text": [
      "100%|██████████| 200/200 [00:03<00:00, 63.78it/s]\n"
     ]
    },
    {
     "name": "stdout",
     "output_type": "stream",
     "text": [
      "5.8003798\n"
     ]
    },
    {
     "name": "stderr",
     "output_type": "stream",
     "text": [
      "100%|██████████| 200/200 [00:03<00:00, 63.71it/s]\n"
     ]
    },
    {
     "name": "stdout",
     "output_type": "stream",
     "text": [
      "5.9189806\n"
     ]
    },
    {
     "name": "stderr",
     "output_type": "stream",
     "text": [
      "100%|██████████| 200/200 [00:03<00:00, 63.69it/s]\n"
     ]
    },
    {
     "name": "stdout",
     "output_type": "stream",
     "text": [
      "5.9999585\n"
     ]
    },
    {
     "name": "stderr",
     "output_type": "stream",
     "text": [
      "100%|██████████| 200/200 [00:03<00:00, 63.74it/s]\n"
     ]
    },
    {
     "name": "stdout",
     "output_type": "stream",
     "text": [
      "6.1102076\n"
     ]
    },
    {
     "name": "stderr",
     "output_type": "stream",
     "text": [
      "100%|██████████| 200/200 [00:03<00:00, 63.76it/s]\n"
     ]
    },
    {
     "name": "stdout",
     "output_type": "stream",
     "text": [
      "6.158423\n"
     ]
    },
    {
     "name": "stderr",
     "output_type": "stream",
     "text": [
      "100%|██████████| 200/200 [00:03<00:00, 63.66it/s]\n"
     ]
    },
    {
     "name": "stdout",
     "output_type": "stream",
     "text": [
      "5.832135\n"
     ]
    },
    {
     "name": "stderr",
     "output_type": "stream",
     "text": [
      "100%|██████████| 200/200 [00:03<00:00, 64.16it/s]\n"
     ]
    },
    {
     "name": "stdout",
     "output_type": "stream",
     "text": [
      "5.954082\n"
     ]
    },
    {
     "name": "stderr",
     "output_type": "stream",
     "text": [
      "100%|██████████| 200/200 [00:03<00:00, 64.61it/s]\n"
     ]
    },
    {
     "name": "stdout",
     "output_type": "stream",
     "text": [
      "6.066189\n"
     ]
    },
    {
     "name": "stderr",
     "output_type": "stream",
     "text": [
      "100%|██████████| 200/200 [00:03<00:00, 64.17it/s]\n"
     ]
    },
    {
     "name": "stdout",
     "output_type": "stream",
     "text": [
      "6.12291\n"
     ]
    },
    {
     "name": "stderr",
     "output_type": "stream",
     "text": [
      "100%|██████████| 200/200 [00:03<00:00, 63.90it/s]\n"
     ]
    },
    {
     "name": "stdout",
     "output_type": "stream",
     "text": [
      "6.1304502\n"
     ]
    },
    {
     "name": "stderr",
     "output_type": "stream",
     "text": [
      "100%|██████████| 200/200 [00:03<00:00, 64.24it/s]\n"
     ]
    },
    {
     "name": "stdout",
     "output_type": "stream",
     "text": [
      "5.858782\n"
     ]
    },
    {
     "name": "stderr",
     "output_type": "stream",
     "text": [
      "100%|██████████| 200/200 [00:03<00:00, 63.60it/s]\n"
     ]
    },
    {
     "name": "stdout",
     "output_type": "stream",
     "text": [
      "5.9644337\n"
     ]
    },
    {
     "name": "stderr",
     "output_type": "stream",
     "text": [
      "100%|██████████| 200/200 [00:03<00:00, 63.91it/s]\n"
     ]
    },
    {
     "name": "stdout",
     "output_type": "stream",
     "text": [
      "6.057013\n"
     ]
    },
    {
     "name": "stderr",
     "output_type": "stream",
     "text": [
      "100%|██████████| 200/200 [00:03<00:00, 63.96it/s]\n"
     ]
    },
    {
     "name": "stdout",
     "output_type": "stream",
     "text": [
      "6.099402\n"
     ]
    },
    {
     "name": "stderr",
     "output_type": "stream",
     "text": [
      "100%|██████████| 200/200 [00:03<00:00, 63.18it/s]\n"
     ]
    },
    {
     "name": "stdout",
     "output_type": "stream",
     "text": [
      "6.1168633\n"
     ]
    },
    {
     "name": "stderr",
     "output_type": "stream",
     "text": [
      "100%|██████████| 200/200 [00:03<00:00, 63.63it/s]\n"
     ]
    },
    {
     "name": "stdout",
     "output_type": "stream",
     "text": [
      "5.644161\n"
     ]
    },
    {
     "name": "stderr",
     "output_type": "stream",
     "text": [
      "100%|██████████| 200/200 [00:03<00:00, 63.56it/s]\n"
     ]
    },
    {
     "name": "stdout",
     "output_type": "stream",
     "text": [
      "5.671064\n"
     ]
    },
    {
     "name": "stderr",
     "output_type": "stream",
     "text": [
      "100%|██████████| 200/200 [00:03<00:00, 64.12it/s]\n"
     ]
    },
    {
     "name": "stdout",
     "output_type": "stream",
     "text": [
      "5.7028966\n"
     ]
    },
    {
     "name": "stderr",
     "output_type": "stream",
     "text": [
      "100%|██████████| 200/200 [00:03<00:00, 63.83it/s]\n"
     ]
    },
    {
     "name": "stdout",
     "output_type": "stream",
     "text": [
      "5.753244\n"
     ]
    },
    {
     "name": "stderr",
     "output_type": "stream",
     "text": [
      "100%|██████████| 200/200 [00:03<00:00, 63.95it/s]\n"
     ]
    },
    {
     "name": "stdout",
     "output_type": "stream",
     "text": [
      "5.769809\n"
     ]
    },
    {
     "name": "stderr",
     "output_type": "stream",
     "text": [
      "100%|██████████| 200/200 [00:03<00:00, 63.96it/s]\n"
     ]
    },
    {
     "name": "stdout",
     "output_type": "stream",
     "text": [
      "5.646838\n"
     ]
    },
    {
     "name": "stderr",
     "output_type": "stream",
     "text": [
      "100%|██████████| 200/200 [00:03<00:00, 64.57it/s]\n"
     ]
    },
    {
     "name": "stdout",
     "output_type": "stream",
     "text": [
      "5.6776137\n"
     ]
    },
    {
     "name": "stderr",
     "output_type": "stream",
     "text": [
      "100%|██████████| 200/200 [00:03<00:00, 64.40it/s]\n"
     ]
    },
    {
     "name": "stdout",
     "output_type": "stream",
     "text": [
      "5.701155\n"
     ]
    },
    {
     "name": "stderr",
     "output_type": "stream",
     "text": [
      "100%|██████████| 200/200 [00:03<00:00, 64.57it/s]\n"
     ]
    },
    {
     "name": "stdout",
     "output_type": "stream",
     "text": [
      "5.750531\n"
     ]
    },
    {
     "name": "stderr",
     "output_type": "stream",
     "text": [
      "100%|██████████| 200/200 [00:03<00:00, 64.61it/s]\n"
     ]
    },
    {
     "name": "stdout",
     "output_type": "stream",
     "text": [
      "5.7567334\n"
     ]
    },
    {
     "name": "stderr",
     "output_type": "stream",
     "text": [
      "100%|██████████| 200/200 [00:03<00:00, 64.42it/s]\n"
     ]
    },
    {
     "name": "stdout",
     "output_type": "stream",
     "text": [
      "5.697261\n"
     ]
    },
    {
     "name": "stderr",
     "output_type": "stream",
     "text": [
      "100%|██████████| 200/200 [00:03<00:00, 64.32it/s]\n"
     ]
    },
    {
     "name": "stdout",
     "output_type": "stream",
     "text": [
      "5.772058\n"
     ]
    },
    {
     "name": "stderr",
     "output_type": "stream",
     "text": [
      "100%|██████████| 200/200 [00:03<00:00, 63.85it/s]\n"
     ]
    },
    {
     "name": "stdout",
     "output_type": "stream",
     "text": [
      "5.8661485\n"
     ]
    },
    {
     "name": "stderr",
     "output_type": "stream",
     "text": [
      "100%|██████████| 200/200 [00:03<00:00, 63.76it/s]\n"
     ]
    },
    {
     "name": "stdout",
     "output_type": "stream",
     "text": [
      "5.91153\n"
     ]
    },
    {
     "name": "stderr",
     "output_type": "stream",
     "text": [
      "100%|██████████| 200/200 [00:03<00:00, 64.61it/s]\n"
     ]
    },
    {
     "name": "stdout",
     "output_type": "stream",
     "text": [
      "6.002433\n"
     ]
    },
    {
     "name": "stderr",
     "output_type": "stream",
     "text": [
      "100%|██████████| 200/200 [00:03<00:00, 64.68it/s]\n"
     ]
    },
    {
     "name": "stdout",
     "output_type": "stream",
     "text": [
      "5.654094\n"
     ]
    },
    {
     "name": "stderr",
     "output_type": "stream",
     "text": [
      "100%|██████████| 200/200 [00:03<00:00, 64.55it/s]\n"
     ]
    },
    {
     "name": "stdout",
     "output_type": "stream",
     "text": [
      "5.689656\n"
     ]
    },
    {
     "name": "stderr",
     "output_type": "stream",
     "text": [
      "100%|██████████| 200/200 [00:03<00:00, 64.51it/s]\n"
     ]
    },
    {
     "name": "stdout",
     "output_type": "stream",
     "text": [
      "5.7712193\n"
     ]
    },
    {
     "name": "stderr",
     "output_type": "stream",
     "text": [
      "100%|██████████| 200/200 [00:03<00:00, 64.54it/s]\n"
     ]
    },
    {
     "name": "stdout",
     "output_type": "stream",
     "text": [
      "5.8585343\n"
     ]
    },
    {
     "name": "stderr",
     "output_type": "stream",
     "text": [
      "100%|██████████| 200/200 [00:03<00:00, 64.37it/s]\n"
     ]
    },
    {
     "name": "stdout",
     "output_type": "stream",
     "text": [
      "5.8896775\n"
     ]
    },
    {
     "name": "stderr",
     "output_type": "stream",
     "text": [
      "100%|██████████| 200/200 [00:03<00:00, 63.92it/s]\n"
     ]
    },
    {
     "name": "stdout",
     "output_type": "stream",
     "text": [
      "5.6944847\n"
     ]
    },
    {
     "name": "stderr",
     "output_type": "stream",
     "text": [
      "100%|██████████| 200/200 [00:03<00:00, 64.38it/s]\n"
     ]
    },
    {
     "name": "stdout",
     "output_type": "stream",
     "text": [
      "5.8077765\n"
     ]
    },
    {
     "name": "stderr",
     "output_type": "stream",
     "text": [
      "100%|██████████| 200/200 [00:03<00:00, 64.07it/s]\n"
     ]
    },
    {
     "name": "stdout",
     "output_type": "stream",
     "text": [
      "5.9409966\n"
     ]
    },
    {
     "name": "stderr",
     "output_type": "stream",
     "text": [
      "100%|██████████| 200/200 [00:03<00:00, 64.29it/s]\n"
     ]
    },
    {
     "name": "stdout",
     "output_type": "stream",
     "text": [
      "6.0102882\n"
     ]
    },
    {
     "name": "stderr",
     "output_type": "stream",
     "text": [
      "100%|██████████| 200/200 [00:03<00:00, 63.88it/s]\n"
     ]
    },
    {
     "name": "stdout",
     "output_type": "stream",
     "text": [
      "6.1276493\n"
     ]
    },
    {
     "name": "stderr",
     "output_type": "stream",
     "text": [
      "100%|██████████| 200/200 [00:03<00:00, 64.00it/s]\n"
     ]
    },
    {
     "name": "stdout",
     "output_type": "stream",
     "text": [
      "5.6934767\n"
     ]
    },
    {
     "name": "stderr",
     "output_type": "stream",
     "text": [
      "100%|██████████| 200/200 [00:03<00:00, 64.12it/s]\n"
     ]
    },
    {
     "name": "stdout",
     "output_type": "stream",
     "text": [
      "5.816661\n"
     ]
    },
    {
     "name": "stderr",
     "output_type": "stream",
     "text": [
      "100%|██████████| 200/200 [00:03<00:00, 63.98it/s]\n"
     ]
    },
    {
     "name": "stdout",
     "output_type": "stream",
     "text": [
      "5.9345326\n"
     ]
    },
    {
     "name": "stderr",
     "output_type": "stream",
     "text": [
      "100%|██████████| 200/200 [00:03<00:00, 64.18it/s]\n"
     ]
    },
    {
     "name": "stdout",
     "output_type": "stream",
     "text": [
      "6.063789\n"
     ]
    },
    {
     "name": "stderr",
     "output_type": "stream",
     "text": [
      "100%|██████████| 200/200 [00:03<00:00, 64.18it/s]\n"
     ]
    },
    {
     "name": "stdout",
     "output_type": "stream",
     "text": [
      "6.1653466\n"
     ]
    },
    {
     "name": "stderr",
     "output_type": "stream",
     "text": [
      "100%|██████████| 200/200 [00:03<00:00, 63.73it/s]\n"
     ]
    },
    {
     "name": "stdout",
     "output_type": "stream",
     "text": [
      "5.771545\n"
     ]
    },
    {
     "name": "stderr",
     "output_type": "stream",
     "text": [
      "100%|██████████| 200/200 [00:03<00:00, 63.68it/s]\n"
     ]
    },
    {
     "name": "stdout",
     "output_type": "stream",
     "text": [
      "5.8996735\n"
     ]
    },
    {
     "name": "stderr",
     "output_type": "stream",
     "text": [
      "100%|██████████| 200/200 [00:03<00:00, 63.73it/s]\n"
     ]
    },
    {
     "name": "stdout",
     "output_type": "stream",
     "text": [
      "5.9420166\n"
     ]
    },
    {
     "name": "stderr",
     "output_type": "stream",
     "text": [
      "100%|██████████| 200/200 [00:03<00:00, 64.09it/s]\n"
     ]
    },
    {
     "name": "stdout",
     "output_type": "stream",
     "text": [
      "6.025724\n"
     ]
    },
    {
     "name": "stderr",
     "output_type": "stream",
     "text": [
      "100%|██████████| 200/200 [00:03<00:00, 64.57it/s]\n"
     ]
    },
    {
     "name": "stdout",
     "output_type": "stream",
     "text": [
      "6.0839643\n"
     ]
    },
    {
     "name": "stderr",
     "output_type": "stream",
     "text": [
      "100%|██████████| 200/200 [00:03<00:00, 64.45it/s]\n"
     ]
    },
    {
     "name": "stdout",
     "output_type": "stream",
     "text": [
      "5.9473658\n"
     ]
    },
    {
     "name": "stderr",
     "output_type": "stream",
     "text": [
      "100%|██████████| 200/200 [00:03<00:00, 64.69it/s]\n"
     ]
    },
    {
     "name": "stdout",
     "output_type": "stream",
     "text": [
      "5.951206\n"
     ]
    },
    {
     "name": "stderr",
     "output_type": "stream",
     "text": [
      "100%|██████████| 200/200 [00:03<00:00, 65.05it/s]\n"
     ]
    },
    {
     "name": "stdout",
     "output_type": "stream",
     "text": [
      "6.00266\n"
     ]
    },
    {
     "name": "stderr",
     "output_type": "stream",
     "text": [
      "100%|██████████| 200/200 [00:03<00:00, 65.50it/s]\n"
     ]
    },
    {
     "name": "stdout",
     "output_type": "stream",
     "text": [
      "6.106231\n"
     ]
    },
    {
     "name": "stderr",
     "output_type": "stream",
     "text": [
      "100%|██████████| 200/200 [00:03<00:00, 66.18it/s]\n"
     ]
    },
    {
     "name": "stdout",
     "output_type": "stream",
     "text": [
      "6.170319\n"
     ]
    },
    {
     "name": "stderr",
     "output_type": "stream",
     "text": [
      "100%|██████████| 200/200 [00:03<00:00, 64.47it/s]\n"
     ]
    },
    {
     "name": "stdout",
     "output_type": "stream",
     "text": [
      "5.946898\n"
     ]
    },
    {
     "name": "stderr",
     "output_type": "stream",
     "text": [
      "100%|██████████| 200/200 [00:03<00:00, 64.35it/s]\n"
     ]
    },
    {
     "name": "stdout",
     "output_type": "stream",
     "text": [
      "5.9528112\n"
     ]
    },
    {
     "name": "stderr",
     "output_type": "stream",
     "text": [
      "100%|██████████| 200/200 [00:03<00:00, 64.97it/s]\n"
     ]
    },
    {
     "name": "stdout",
     "output_type": "stream",
     "text": [
      "6.00552\n"
     ]
    },
    {
     "name": "stderr",
     "output_type": "stream",
     "text": [
      "100%|██████████| 200/200 [00:03<00:00, 65.56it/s]\n"
     ]
    },
    {
     "name": "stdout",
     "output_type": "stream",
     "text": [
      "6.1218357\n"
     ]
    },
    {
     "name": "stderr",
     "output_type": "stream",
     "text": [
      "100%|██████████| 200/200 [00:03<00:00, 65.34it/s]\n"
     ]
    },
    {
     "name": "stdout",
     "output_type": "stream",
     "text": [
      "6.1831093\n"
     ]
    },
    {
     "name": "stderr",
     "output_type": "stream",
     "text": [
      "100%|██████████| 200/200 [00:03<00:00, 64.74it/s]\n"
     ]
    },
    {
     "name": "stdout",
     "output_type": "stream",
     "text": [
      "6.0078197\n"
     ]
    },
    {
     "name": "stderr",
     "output_type": "stream",
     "text": [
      "100%|██████████| 200/200 [00:03<00:00, 65.17it/s]\n"
     ]
    },
    {
     "name": "stdout",
     "output_type": "stream",
     "text": [
      "6.1103735\n"
     ]
    },
    {
     "name": "stderr",
     "output_type": "stream",
     "text": [
      "100%|██████████| 200/200 [00:03<00:00, 65.53it/s]\n"
     ]
    },
    {
     "name": "stdout",
     "output_type": "stream",
     "text": [
      "6.2061024\n"
     ]
    },
    {
     "name": "stderr",
     "output_type": "stream",
     "text": [
      "100%|██████████| 200/200 [00:02<00:00, 66.76it/s]\n"
     ]
    },
    {
     "name": "stdout",
     "output_type": "stream",
     "text": [
      "6.3787684\n"
     ]
    },
    {
     "name": "stderr",
     "output_type": "stream",
     "text": [
      "100%|██████████| 200/200 [00:02<00:00, 67.25it/s]\n"
     ]
    },
    {
     "name": "stdout",
     "output_type": "stream",
     "text": [
      "6.4164233\n"
     ]
    },
    {
     "name": "stderr",
     "output_type": "stream",
     "text": [
      "100%|██████████| 200/200 [00:03<00:00, 64.54it/s]\n"
     ]
    },
    {
     "name": "stdout",
     "output_type": "stream",
     "text": [
      "5.968351\n"
     ]
    },
    {
     "name": "stderr",
     "output_type": "stream",
     "text": [
      "100%|██████████| 200/200 [00:03<00:00, 64.69it/s]\n"
     ]
    },
    {
     "name": "stdout",
     "output_type": "stream",
     "text": [
      "5.9774227\n"
     ]
    },
    {
     "name": "stderr",
     "output_type": "stream",
     "text": [
      "100%|██████████| 200/200 [00:03<00:00, 65.02it/s]\n"
     ]
    },
    {
     "name": "stdout",
     "output_type": "stream",
     "text": [
      "6.0543365\n"
     ]
    },
    {
     "name": "stderr",
     "output_type": "stream",
     "text": [
      "100%|██████████| 200/200 [00:03<00:00, 65.08it/s]\n"
     ]
    },
    {
     "name": "stdout",
     "output_type": "stream",
     "text": [
      "6.1693516\n"
     ]
    },
    {
     "name": "stderr",
     "output_type": "stream",
     "text": [
      "100%|██████████| 200/200 [00:03<00:00, 65.96it/s]\n"
     ]
    },
    {
     "name": "stdout",
     "output_type": "stream",
     "text": [
      "6.3014073\n"
     ]
    },
    {
     "name": "stderr",
     "output_type": "stream",
     "text": [
      "100%|██████████| 200/200 [00:03<00:00, 64.10it/s]\n"
     ]
    },
    {
     "name": "stdout",
     "output_type": "stream",
     "text": [
      "6.0196757\n"
     ]
    },
    {
     "name": "stderr",
     "output_type": "stream",
     "text": [
      "100%|██████████| 200/200 [00:03<00:00, 64.39it/s]\n"
     ]
    },
    {
     "name": "stdout",
     "output_type": "stream",
     "text": [
      "6.0878406\n"
     ]
    },
    {
     "name": "stderr",
     "output_type": "stream",
     "text": [
      "100%|██████████| 200/200 [00:03<00:00, 64.72it/s]\n"
     ]
    },
    {
     "name": "stdout",
     "output_type": "stream",
     "text": [
      "6.1798253\n"
     ]
    },
    {
     "name": "stderr",
     "output_type": "stream",
     "text": [
      "100%|██████████| 200/200 [00:03<00:00, 65.51it/s]\n"
     ]
    },
    {
     "name": "stdout",
     "output_type": "stream",
     "text": [
      "6.298616\n"
     ]
    },
    {
     "name": "stderr",
     "output_type": "stream",
     "text": [
      "100%|██████████| 200/200 [00:03<00:00, 65.61it/s]\n"
     ]
    },
    {
     "name": "stdout",
     "output_type": "stream",
     "text": [
      "6.453809\n"
     ]
    },
    {
     "name": "stderr",
     "output_type": "stream",
     "text": [
      "100%|██████████| 200/200 [00:03<00:00, 64.48it/s]\n"
     ]
    },
    {
     "name": "stdout",
     "output_type": "stream",
     "text": [
      "6.0096865\n"
     ]
    },
    {
     "name": "stderr",
     "output_type": "stream",
     "text": [
      "100%|██████████| 200/200 [00:03<00:00, 64.95it/s]\n"
     ]
    },
    {
     "name": "stdout",
     "output_type": "stream",
     "text": [
      "6.197647\n"
     ]
    },
    {
     "name": "stderr",
     "output_type": "stream",
     "text": [
      "100%|██████████| 200/200 [00:03<00:00, 65.16it/s]\n"
     ]
    },
    {
     "name": "stdout",
     "output_type": "stream",
     "text": [
      "6.269806\n"
     ]
    },
    {
     "name": "stderr",
     "output_type": "stream",
     "text": [
      "100%|██████████| 200/200 [00:03<00:00, 65.68it/s]\n"
     ]
    },
    {
     "name": "stdout",
     "output_type": "stream",
     "text": [
      "6.462586\n"
     ]
    },
    {
     "name": "stderr",
     "output_type": "stream",
     "text": [
      "100%|██████████| 200/200 [00:03<00:00, 65.88it/s]\n"
     ]
    },
    {
     "name": "stdout",
     "output_type": "stream",
     "text": [
      "6.5045433\n"
     ]
    },
    {
     "name": "stderr",
     "output_type": "stream",
     "text": [
      "100%|██████████| 200/200 [00:03<00:00, 64.20it/s]\n"
     ]
    },
    {
     "name": "stdout",
     "output_type": "stream",
     "text": [
      "6.0508704\n"
     ]
    },
    {
     "name": "stderr",
     "output_type": "stream",
     "text": [
      "100%|██████████| 200/200 [00:03<00:00, 65.05it/s]\n"
     ]
    },
    {
     "name": "stdout",
     "output_type": "stream",
     "text": [
      "6.2005286\n"
     ]
    },
    {
     "name": "stderr",
     "output_type": "stream",
     "text": [
      "100%|██████████| 200/200 [00:03<00:00, 64.92it/s]\n"
     ]
    },
    {
     "name": "stdout",
     "output_type": "stream",
     "text": [
      "6.2476673\n"
     ]
    },
    {
     "name": "stderr",
     "output_type": "stream",
     "text": [
      "100%|██████████| 200/200 [00:03<00:00, 65.79it/s]\n"
     ]
    },
    {
     "name": "stdout",
     "output_type": "stream",
     "text": [
      "6.3418274\n"
     ]
    },
    {
     "name": "stderr",
     "output_type": "stream",
     "text": [
      "100%|██████████| 200/200 [00:02<00:00, 66.71it/s]\n"
     ]
    },
    {
     "name": "stdout",
     "output_type": "stream",
     "text": [
      "6.4432073\n"
     ]
    },
    {
     "name": "stderr",
     "output_type": "stream",
     "text": [
      "100%|██████████| 200/200 [00:03<00:00, 66.29it/s]\n"
     ]
    },
    {
     "name": "stdout",
     "output_type": "stream",
     "text": [
      "6.609767\n"
     ]
    },
    {
     "name": "stderr",
     "output_type": "stream",
     "text": [
      "100%|██████████| 200/200 [00:03<00:00, 66.63it/s]\n"
     ]
    },
    {
     "name": "stdout",
     "output_type": "stream",
     "text": [
      "6.6043577\n"
     ]
    },
    {
     "name": "stderr",
     "output_type": "stream",
     "text": [
      "100%|██████████| 200/200 [00:02<00:00, 66.70it/s]\n"
     ]
    },
    {
     "name": "stdout",
     "output_type": "stream",
     "text": [
      "6.602557\n"
     ]
    },
    {
     "name": "stderr",
     "output_type": "stream",
     "text": [
      "100%|██████████| 200/200 [00:03<00:00, 66.27it/s]\n"
     ]
    },
    {
     "name": "stdout",
     "output_type": "stream",
     "text": [
      "6.6071434\n"
     ]
    },
    {
     "name": "stderr",
     "output_type": "stream",
     "text": [
      "100%|██████████| 200/200 [00:02<00:00, 66.71it/s]\n"
     ]
    },
    {
     "name": "stdout",
     "output_type": "stream",
     "text": [
      "6.619403\n"
     ]
    },
    {
     "name": "stderr",
     "output_type": "stream",
     "text": [
      "100%|██████████| 200/200 [00:02<00:00, 66.76it/s]\n"
     ]
    },
    {
     "name": "stdout",
     "output_type": "stream",
     "text": [
      "6.607518\n"
     ]
    },
    {
     "name": "stderr",
     "output_type": "stream",
     "text": [
      "100%|██████████| 200/200 [00:03<00:00, 66.62it/s]\n"
     ]
    },
    {
     "name": "stdout",
     "output_type": "stream",
     "text": [
      "6.6036406\n"
     ]
    },
    {
     "name": "stderr",
     "output_type": "stream",
     "text": [
      "100%|██████████| 200/200 [00:02<00:00, 66.80it/s]\n"
     ]
    },
    {
     "name": "stdout",
     "output_type": "stream",
     "text": [
      "6.6030726\n"
     ]
    },
    {
     "name": "stderr",
     "output_type": "stream",
     "text": [
      "100%|██████████| 200/200 [00:02<00:00, 66.81it/s]\n"
     ]
    },
    {
     "name": "stdout",
     "output_type": "stream",
     "text": [
      "6.605792\n"
     ]
    },
    {
     "name": "stderr",
     "output_type": "stream",
     "text": [
      "100%|██████████| 200/200 [00:03<00:00, 66.35it/s]\n"
     ]
    },
    {
     "name": "stdout",
     "output_type": "stream",
     "text": [
      "6.6150866\n"
     ]
    },
    {
     "name": "stderr",
     "output_type": "stream",
     "text": [
      "100%|██████████| 200/200 [00:03<00:00, 66.66it/s]\n"
     ]
    },
    {
     "name": "stdout",
     "output_type": "stream",
     "text": [
      "6.622862\n"
     ]
    },
    {
     "name": "stderr",
     "output_type": "stream",
     "text": [
      "100%|██████████| 200/200 [00:02<00:00, 66.69it/s]\n"
     ]
    },
    {
     "name": "stdout",
     "output_type": "stream",
     "text": [
      "6.6253896\n"
     ]
    },
    {
     "name": "stderr",
     "output_type": "stream",
     "text": [
      "100%|██████████| 200/200 [00:03<00:00, 66.22it/s]\n"
     ]
    },
    {
     "name": "stdout",
     "output_type": "stream",
     "text": [
      "6.652001\n"
     ]
    },
    {
     "name": "stderr",
     "output_type": "stream",
     "text": [
      "100%|██████████| 200/200 [00:02<00:00, 66.74it/s]\n"
     ]
    },
    {
     "name": "stdout",
     "output_type": "stream",
     "text": [
      "6.656577\n"
     ]
    },
    {
     "name": "stderr",
     "output_type": "stream",
     "text": [
      "100%|██████████| 200/200 [00:02<00:00, 66.70it/s]\n"
     ]
    },
    {
     "name": "stdout",
     "output_type": "stream",
     "text": [
      "6.6710596\n"
     ]
    },
    {
     "name": "stderr",
     "output_type": "stream",
     "text": [
      "100%|██████████| 200/200 [00:03<00:00, 65.76it/s]\n"
     ]
    },
    {
     "name": "stdout",
     "output_type": "stream",
     "text": [
      "6.609624\n"
     ]
    },
    {
     "name": "stderr",
     "output_type": "stream",
     "text": [
      "100%|██████████| 200/200 [00:02<00:00, 66.80it/s]\n"
     ]
    },
    {
     "name": "stdout",
     "output_type": "stream",
     "text": [
      "6.6104407\n"
     ]
    },
    {
     "name": "stderr",
     "output_type": "stream",
     "text": [
      "100%|██████████| 200/200 [00:02<00:00, 66.77it/s]\n"
     ]
    },
    {
     "name": "stdout",
     "output_type": "stream",
     "text": [
      "6.6274266\n"
     ]
    },
    {
     "name": "stderr",
     "output_type": "stream",
     "text": [
      "100%|██████████| 200/200 [00:03<00:00, 66.40it/s]\n"
     ]
    },
    {
     "name": "stdout",
     "output_type": "stream",
     "text": [
      "6.6297936\n"
     ]
    },
    {
     "name": "stderr",
     "output_type": "stream",
     "text": [
      "100%|██████████| 200/200 [00:03<00:00, 66.65it/s]\n"
     ]
    },
    {
     "name": "stdout",
     "output_type": "stream",
     "text": [
      "6.6674953\n"
     ]
    },
    {
     "name": "stderr",
     "output_type": "stream",
     "text": [
      "100%|██████████| 200/200 [00:03<00:00, 66.66it/s]\n"
     ]
    },
    {
     "name": "stdout",
     "output_type": "stream",
     "text": [
      "6.629358\n"
     ]
    },
    {
     "name": "stderr",
     "output_type": "stream",
     "text": [
      "100%|██████████| 200/200 [00:03<00:00, 66.36it/s]\n"
     ]
    },
    {
     "name": "stdout",
     "output_type": "stream",
     "text": [
      "6.6578417\n"
     ]
    },
    {
     "name": "stderr",
     "output_type": "stream",
     "text": [
      "100%|██████████| 200/200 [00:03<00:00, 66.61it/s]\n"
     ]
    },
    {
     "name": "stdout",
     "output_type": "stream",
     "text": [
      "6.6881514\n"
     ]
    },
    {
     "name": "stderr",
     "output_type": "stream",
     "text": [
      "100%|██████████| 200/200 [00:02<00:00, 66.72it/s]\n"
     ]
    },
    {
     "name": "stdout",
     "output_type": "stream",
     "text": [
      "6.7170124\n"
     ]
    },
    {
     "name": "stderr",
     "output_type": "stream",
     "text": [
      "100%|██████████| 200/200 [00:03<00:00, 66.51it/s]\n"
     ]
    },
    {
     "name": "stdout",
     "output_type": "stream",
     "text": [
      "6.7571397\n"
     ]
    },
    {
     "name": "stderr",
     "output_type": "stream",
     "text": [
      "100%|██████████| 200/200 [00:03<00:00, 66.39it/s]\n"
     ]
    },
    {
     "name": "stdout",
     "output_type": "stream",
     "text": [
      "6.6272197\n"
     ]
    },
    {
     "name": "stderr",
     "output_type": "stream",
     "text": [
      "100%|██████████| 200/200 [00:03<00:00, 65.69it/s]\n"
     ]
    },
    {
     "name": "stdout",
     "output_type": "stream",
     "text": [
      "6.6486235\n"
     ]
    },
    {
     "name": "stderr",
     "output_type": "stream",
     "text": [
      "100%|██████████| 200/200 [00:03<00:00, 66.35it/s]\n"
     ]
    },
    {
     "name": "stdout",
     "output_type": "stream",
     "text": [
      "6.686478\n"
     ]
    },
    {
     "name": "stderr",
     "output_type": "stream",
     "text": [
      "100%|██████████| 200/200 [00:02<00:00, 66.76it/s]\n"
     ]
    },
    {
     "name": "stdout",
     "output_type": "stream",
     "text": [
      "6.7339964\n"
     ]
    },
    {
     "name": "stderr",
     "output_type": "stream",
     "text": [
      "100%|██████████| 200/200 [00:02<00:00, 66.76it/s]\n"
     ]
    },
    {
     "name": "stdout",
     "output_type": "stream",
     "text": [
      "6.7727003\n"
     ]
    },
    {
     "name": "stderr",
     "output_type": "stream",
     "text": [
      "100%|██████████| 200/200 [00:03<00:00, 66.50it/s]\n"
     ]
    },
    {
     "name": "stdout",
     "output_type": "stream",
     "text": [
      "6.637865\n"
     ]
    },
    {
     "name": "stderr",
     "output_type": "stream",
     "text": [
      "100%|██████████| 200/200 [00:02<00:00, 66.83it/s]\n"
     ]
    },
    {
     "name": "stdout",
     "output_type": "stream",
     "text": [
      "6.673795\n"
     ]
    },
    {
     "name": "stderr",
     "output_type": "stream",
     "text": [
      "100%|██████████| 200/200 [00:02<00:00, 66.74it/s]\n"
     ]
    },
    {
     "name": "stdout",
     "output_type": "stream",
     "text": [
      "6.7086697\n"
     ]
    },
    {
     "name": "stderr",
     "output_type": "stream",
     "text": [
      "100%|██████████| 200/200 [00:03<00:00, 66.64it/s]\n"
     ]
    },
    {
     "name": "stdout",
     "output_type": "stream",
     "text": [
      "6.749463\n"
     ]
    },
    {
     "name": "stderr",
     "output_type": "stream",
     "text": [
      "100%|██████████| 200/200 [00:02<00:00, 66.74it/s]\n"
     ]
    },
    {
     "name": "stdout",
     "output_type": "stream",
     "text": [
      "6.772825\n"
     ]
    },
    {
     "name": "stderr",
     "output_type": "stream",
     "text": [
      "100%|██████████| 200/200 [00:03<00:00, 66.65it/s]\n"
     ]
    },
    {
     "name": "stdout",
     "output_type": "stream",
     "text": [
      "6.586649\n"
     ]
    },
    {
     "name": "stderr",
     "output_type": "stream",
     "text": [
      "100%|██████████| 200/200 [00:03<00:00, 65.95it/s]\n"
     ]
    },
    {
     "name": "stdout",
     "output_type": "stream",
     "text": [
      "6.585481\n"
     ]
    },
    {
     "name": "stderr",
     "output_type": "stream",
     "text": [
      "100%|██████████| 200/200 [00:03<00:00, 66.27it/s]\n"
     ]
    },
    {
     "name": "stdout",
     "output_type": "stream",
     "text": [
      "6.590881\n"
     ]
    },
    {
     "name": "stderr",
     "output_type": "stream",
     "text": [
      "100%|██████████| 200/200 [00:03<00:00, 66.61it/s]\n"
     ]
    },
    {
     "name": "stdout",
     "output_type": "stream",
     "text": [
      "6.608631\n"
     ]
    },
    {
     "name": "stderr",
     "output_type": "stream",
     "text": [
      "100%|██████████| 200/200 [00:03<00:00, 66.65it/s]\n"
     ]
    },
    {
     "name": "stdout",
     "output_type": "stream",
     "text": [
      "6.614244\n"
     ]
    },
    {
     "name": "stderr",
     "output_type": "stream",
     "text": [
      "100%|██████████| 200/200 [00:03<00:00, 66.54it/s]\n"
     ]
    },
    {
     "name": "stdout",
     "output_type": "stream",
     "text": [
      "6.586649\n"
     ]
    },
    {
     "name": "stderr",
     "output_type": "stream",
     "text": [
      "100%|██████████| 200/200 [00:02<00:00, 66.87it/s]\n"
     ]
    },
    {
     "name": "stdout",
     "output_type": "stream",
     "text": [
      "6.586542\n"
     ]
    },
    {
     "name": "stderr",
     "output_type": "stream",
     "text": [
      "100%|██████████| 200/200 [00:02<00:00, 66.83it/s]\n"
     ]
    },
    {
     "name": "stdout",
     "output_type": "stream",
     "text": [
      "6.5914464\n"
     ]
    },
    {
     "name": "stderr",
     "output_type": "stream",
     "text": [
      "100%|██████████| 200/200 [00:03<00:00, 66.58it/s]\n"
     ]
    },
    {
     "name": "stdout",
     "output_type": "stream",
     "text": [
      "6.608576\n"
     ]
    },
    {
     "name": "stderr",
     "output_type": "stream",
     "text": [
      "100%|██████████| 200/200 [00:02<00:00, 66.82it/s]\n"
     ]
    },
    {
     "name": "stdout",
     "output_type": "stream",
     "text": [
      "6.61737\n"
     ]
    },
    {
     "name": "stderr",
     "output_type": "stream",
     "text": [
      "100%|██████████| 200/200 [00:03<00:00, 66.62it/s]\n"
     ]
    },
    {
     "name": "stdout",
     "output_type": "stream",
     "text": [
      "6.602798\n"
     ]
    },
    {
     "name": "stderr",
     "output_type": "stream",
     "text": [
      "100%|██████████| 200/200 [00:03<00:00, 66.56it/s]\n"
     ]
    },
    {
     "name": "stdout",
     "output_type": "stream",
     "text": [
      "6.6109676\n"
     ]
    },
    {
     "name": "stderr",
     "output_type": "stream",
     "text": [
      "100%|██████████| 200/200 [00:03<00:00, 66.25it/s]\n"
     ]
    },
    {
     "name": "stdout",
     "output_type": "stream",
     "text": [
      "6.6291323\n"
     ]
    },
    {
     "name": "stderr",
     "output_type": "stream",
     "text": [
      "100%|██████████| 200/200 [00:03<00:00, 66.57it/s]\n"
     ]
    },
    {
     "name": "stdout",
     "output_type": "stream",
     "text": [
      "6.6407585\n"
     ]
    },
    {
     "name": "stderr",
     "output_type": "stream",
     "text": [
      "100%|██████████| 200/200 [00:03<00:00, 66.51it/s]\n"
     ]
    },
    {
     "name": "stdout",
     "output_type": "stream",
     "text": [
      "6.650613\n"
     ]
    },
    {
     "name": "stderr",
     "output_type": "stream",
     "text": [
      "100%|██████████| 200/200 [00:02<00:00, 66.72it/s]\n"
     ]
    },
    {
     "name": "stdout",
     "output_type": "stream",
     "text": [
      "6.5908217\n"
     ]
    },
    {
     "name": "stderr",
     "output_type": "stream",
     "text": [
      "100%|██████████| 200/200 [00:02<00:00, 66.78it/s]\n"
     ]
    },
    {
     "name": "stdout",
     "output_type": "stream",
     "text": [
      "6.5994887\n"
     ]
    },
    {
     "name": "stderr",
     "output_type": "stream",
     "text": [
      "100%|██████████| 200/200 [00:03<00:00, 66.55it/s]\n"
     ]
    },
    {
     "name": "stdout",
     "output_type": "stream",
     "text": [
      "6.598022\n"
     ]
    },
    {
     "name": "stderr",
     "output_type": "stream",
     "text": [
      "100%|██████████| 200/200 [00:02<00:00, 66.75it/s]\n"
     ]
    },
    {
     "name": "stdout",
     "output_type": "stream",
     "text": [
      "6.614302\n"
     ]
    },
    {
     "name": "stderr",
     "output_type": "stream",
     "text": [
      "100%|██████████| 200/200 [00:02<00:00, 66.84it/s]\n"
     ]
    },
    {
     "name": "stdout",
     "output_type": "stream",
     "text": [
      "6.6426244\n"
     ]
    },
    {
     "name": "stderr",
     "output_type": "stream",
     "text": [
      "100%|██████████| 200/200 [00:03<00:00, 66.58it/s]\n"
     ]
    },
    {
     "name": "stdout",
     "output_type": "stream",
     "text": [
      "6.6068687\n"
     ]
    },
    {
     "name": "stderr",
     "output_type": "stream",
     "text": [
      "100%|██████████| 200/200 [00:03<00:00, 66.35it/s]\n"
     ]
    },
    {
     "name": "stdout",
     "output_type": "stream",
     "text": [
      "6.629137\n"
     ]
    },
    {
     "name": "stderr",
     "output_type": "stream",
     "text": [
      "100%|██████████| 200/200 [00:03<00:00, 66.24it/s]\n"
     ]
    },
    {
     "name": "stdout",
     "output_type": "stream",
     "text": [
      "6.666422\n"
     ]
    },
    {
     "name": "stderr",
     "output_type": "stream",
     "text": [
      "100%|██████████| 200/200 [00:03<00:00, 66.39it/s]\n"
     ]
    },
    {
     "name": "stdout",
     "output_type": "stream",
     "text": [
      "6.686918\n"
     ]
    },
    {
     "name": "stderr",
     "output_type": "stream",
     "text": [
      "100%|██████████| 200/200 [00:03<00:00, 66.66it/s]\n"
     ]
    },
    {
     "name": "stdout",
     "output_type": "stream",
     "text": [
      "6.719215\n"
     ]
    },
    {
     "name": "stderr",
     "output_type": "stream",
     "text": [
      "100%|██████████| 200/200 [00:03<00:00, 66.54it/s]\n"
     ]
    },
    {
     "name": "stdout",
     "output_type": "stream",
     "text": [
      "6.607392\n"
     ]
    },
    {
     "name": "stderr",
     "output_type": "stream",
     "text": [
      "100%|██████████| 200/200 [00:03<00:00, 65.41it/s]\n"
     ]
    },
    {
     "name": "stdout",
     "output_type": "stream",
     "text": [
      "6.657296\n"
     ]
    },
    {
     "name": "stderr",
     "output_type": "stream",
     "text": [
      "100%|██████████| 200/200 [00:03<00:00, 65.96it/s]\n"
     ]
    },
    {
     "name": "stdout",
     "output_type": "stream",
     "text": [
      "6.6955624\n"
     ]
    },
    {
     "name": "stderr",
     "output_type": "stream",
     "text": [
      "100%|██████████| 200/200 [00:03<00:00, 66.10it/s]\n"
     ]
    },
    {
     "name": "stdout",
     "output_type": "stream",
     "text": [
      "6.7117825\n"
     ]
    },
    {
     "name": "stderr",
     "output_type": "stream",
     "text": [
      "100%|██████████| 200/200 [00:03<00:00, 65.63it/s]\n"
     ]
    },
    {
     "name": "stdout",
     "output_type": "stream",
     "text": [
      "6.7691956\n"
     ]
    },
    {
     "name": "stderr",
     "output_type": "stream",
     "text": [
      "100%|██████████| 200/200 [00:03<00:00, 65.52it/s]\n"
     ]
    },
    {
     "name": "stdout",
     "output_type": "stream",
     "text": [
      "6.6315475\n"
     ]
    },
    {
     "name": "stderr",
     "output_type": "stream",
     "text": [
      "100%|██████████| 200/200 [00:03<00:00, 66.59it/s]\n"
     ]
    },
    {
     "name": "stdout",
     "output_type": "stream",
     "text": [
      "6.6342688\n"
     ]
    },
    {
     "name": "stderr",
     "output_type": "stream",
     "text": [
      "100%|██████████| 200/200 [00:03<00:00, 65.94it/s]\n"
     ]
    },
    {
     "name": "stdout",
     "output_type": "stream",
     "text": [
      "6.6834106\n"
     ]
    },
    {
     "name": "stderr",
     "output_type": "stream",
     "text": [
      "100%|██████████| 200/200 [00:03<00:00, 65.95it/s]\n"
     ]
    },
    {
     "name": "stdout",
     "output_type": "stream",
     "text": [
      "6.71349\n"
     ]
    },
    {
     "name": "stderr",
     "output_type": "stream",
     "text": [
      "100%|██████████| 200/200 [00:02<00:00, 66.67it/s]\n"
     ]
    },
    {
     "name": "stdout",
     "output_type": "stream",
     "text": [
      "6.7536855\n"
     ]
    },
    {
     "name": "stderr",
     "output_type": "stream",
     "text": [
      "100%|██████████| 200/200 [00:02<00:00, 68.32it/s]\n"
     ]
    },
    {
     "name": "stdout",
     "output_type": "stream",
     "text": [
      "5.9908323\n"
     ]
    },
    {
     "name": "stderr",
     "output_type": "stream",
     "text": [
      "100%|██████████| 200/200 [00:02<00:00, 67.30it/s]\n"
     ]
    },
    {
     "name": "stdout",
     "output_type": "stream",
     "text": [
      "6.0009336\n"
     ]
    },
    {
     "name": "stderr",
     "output_type": "stream",
     "text": [
      "100%|██████████| 200/200 [00:02<00:00, 68.54it/s]\n"
     ]
    },
    {
     "name": "stdout",
     "output_type": "stream",
     "text": [
      "6.0437927\n"
     ]
    },
    {
     "name": "stderr",
     "output_type": "stream",
     "text": [
      "100%|██████████| 200/200 [00:02<00:00, 68.16it/s]\n"
     ]
    },
    {
     "name": "stdout",
     "output_type": "stream",
     "text": [
      "5.9511046\n"
     ]
    },
    {
     "name": "stderr",
     "output_type": "stream",
     "text": [
      "100%|██████████| 200/200 [00:02<00:00, 67.62it/s]\n"
     ]
    },
    {
     "name": "stdout",
     "output_type": "stream",
     "text": [
      "5.983425\n"
     ]
    },
    {
     "name": "stderr",
     "output_type": "stream",
     "text": [
      "100%|██████████| 200/200 [00:02<00:00, 68.53it/s]\n"
     ]
    },
    {
     "name": "stdout",
     "output_type": "stream",
     "text": [
      "6.0041738\n"
     ]
    },
    {
     "name": "stderr",
     "output_type": "stream",
     "text": [
      "100%|██████████| 200/200 [00:02<00:00, 68.12it/s]\n"
     ]
    },
    {
     "name": "stdout",
     "output_type": "stream",
     "text": [
      "6.007534\n"
     ]
    },
    {
     "name": "stderr",
     "output_type": "stream",
     "text": [
      "100%|██████████| 200/200 [00:02<00:00, 68.33it/s]\n"
     ]
    },
    {
     "name": "stdout",
     "output_type": "stream",
     "text": [
      "6.006056\n"
     ]
    },
    {
     "name": "stderr",
     "output_type": "stream",
     "text": [
      "100%|██████████| 200/200 [00:02<00:00, 68.16it/s]\n"
     ]
    },
    {
     "name": "stdout",
     "output_type": "stream",
     "text": [
      "5.9695997\n"
     ]
    },
    {
     "name": "stderr",
     "output_type": "stream",
     "text": [
      "100%|██████████| 200/200 [00:02<00:00, 67.85it/s]\n"
     ]
    },
    {
     "name": "stdout",
     "output_type": "stream",
     "text": [
      "6.032255\n"
     ]
    },
    {
     "name": "stderr",
     "output_type": "stream",
     "text": [
      "100%|██████████| 200/200 [00:02<00:00, 67.46it/s]\n"
     ]
    },
    {
     "name": "stdout",
     "output_type": "stream",
     "text": [
      "6.0072546\n"
     ]
    },
    {
     "name": "stderr",
     "output_type": "stream",
     "text": [
      "100%|██████████| 200/200 [00:02<00:00, 68.14it/s]\n"
     ]
    },
    {
     "name": "stdout",
     "output_type": "stream",
     "text": [
      "5.955115\n"
     ]
    },
    {
     "name": "stderr",
     "output_type": "stream",
     "text": [
      "100%|██████████| 200/200 [00:02<00:00, 67.96it/s]\n"
     ]
    },
    {
     "name": "stdout",
     "output_type": "stream",
     "text": [
      "6.0278163\n"
     ]
    },
    {
     "name": "stderr",
     "output_type": "stream",
     "text": [
      "100%|██████████| 200/200 [00:03<00:00, 66.34it/s]\n"
     ]
    },
    {
     "name": "stdout",
     "output_type": "stream",
     "text": [
      "5.964149\n"
     ]
    },
    {
     "name": "stderr",
     "output_type": "stream",
     "text": [
      "100%|██████████| 200/200 [00:02<00:00, 67.15it/s]\n"
     ]
    },
    {
     "name": "stdout",
     "output_type": "stream",
     "text": [
      "6.0256023\n"
     ]
    },
    {
     "name": "stderr",
     "output_type": "stream",
     "text": [
      "100%|██████████| 200/200 [00:02<00:00, 67.58it/s]\n"
     ]
    },
    {
     "name": "stdout",
     "output_type": "stream",
     "text": [
      "5.990757\n"
     ]
    },
    {
     "name": "stderr",
     "output_type": "stream",
     "text": [
      "100%|██████████| 200/200 [00:02<00:00, 66.90it/s]\n"
     ]
    },
    {
     "name": "stdout",
     "output_type": "stream",
     "text": [
      "5.966368\n"
     ]
    },
    {
     "name": "stderr",
     "output_type": "stream",
     "text": [
      "100%|██████████| 200/200 [00:02<00:00, 67.14it/s]\n"
     ]
    },
    {
     "name": "stdout",
     "output_type": "stream",
     "text": [
      "5.9558077\n"
     ]
    },
    {
     "name": "stderr",
     "output_type": "stream",
     "text": [
      "100%|██████████| 200/200 [00:02<00:00, 67.04it/s]\n"
     ]
    },
    {
     "name": "stdout",
     "output_type": "stream",
     "text": [
      "6.0247316\n"
     ]
    },
    {
     "name": "stderr",
     "output_type": "stream",
     "text": [
      "100%|██████████| 200/200 [00:02<00:00, 67.07it/s]\n"
     ]
    },
    {
     "name": "stdout",
     "output_type": "stream",
     "text": [
      "5.9922957\n"
     ]
    },
    {
     "name": "stderr",
     "output_type": "stream",
     "text": [
      "100%|██████████| 200/200 [00:02<00:00, 67.44it/s]\n"
     ]
    },
    {
     "name": "stdout",
     "output_type": "stream",
     "text": [
      "6.006712\n"
     ]
    },
    {
     "name": "stderr",
     "output_type": "stream",
     "text": [
      "100%|██████████| 200/200 [00:02<00:00, 67.07it/s]\n"
     ]
    },
    {
     "name": "stdout",
     "output_type": "stream",
     "text": [
      "6.09682\n"
     ]
    },
    {
     "name": "stderr",
     "output_type": "stream",
     "text": [
      "100%|██████████| 200/200 [00:03<00:00, 66.64it/s]\n"
     ]
    },
    {
     "name": "stdout",
     "output_type": "stream",
     "text": [
      "5.960903\n"
     ]
    },
    {
     "name": "stderr",
     "output_type": "stream",
     "text": [
      "100%|██████████| 200/200 [00:02<00:00, 67.65it/s]\n"
     ]
    },
    {
     "name": "stdout",
     "output_type": "stream",
     "text": [
      "6.0105577\n"
     ]
    },
    {
     "name": "stderr",
     "output_type": "stream",
     "text": [
      "100%|██████████| 200/200 [00:02<00:00, 68.34it/s]\n"
     ]
    },
    {
     "name": "stdout",
     "output_type": "stream",
     "text": [
      "6.073546\n"
     ]
    },
    {
     "name": "stderr",
     "output_type": "stream",
     "text": [
      "100%|██████████| 200/200 [00:02<00:00, 67.57it/s]\n"
     ]
    },
    {
     "name": "stdout",
     "output_type": "stream",
     "text": [
      "5.9912343\n"
     ]
    },
    {
     "name": "stderr",
     "output_type": "stream",
     "text": [
      "100%|██████████| 200/200 [00:03<00:00, 66.19it/s]\n"
     ]
    },
    {
     "name": "stdout",
     "output_type": "stream",
     "text": [
      "5.981372\n"
     ]
    },
    {
     "name": "stderr",
     "output_type": "stream",
     "text": [
      "100%|██████████| 200/200 [00:02<00:00, 66.73it/s]\n"
     ]
    },
    {
     "name": "stdout",
     "output_type": "stream",
     "text": [
      "5.9906764\n"
     ]
    },
    {
     "name": "stderr",
     "output_type": "stream",
     "text": [
      "100%|██████████| 200/200 [00:03<00:00, 65.52it/s]\n"
     ]
    },
    {
     "name": "stdout",
     "output_type": "stream",
     "text": [
      "5.919268\n"
     ]
    },
    {
     "name": "stderr",
     "output_type": "stream",
     "text": [
      "100%|██████████| 200/200 [00:03<00:00, 66.56it/s]\n"
     ]
    },
    {
     "name": "stdout",
     "output_type": "stream",
     "text": [
      "5.946459\n"
     ]
    },
    {
     "name": "stderr",
     "output_type": "stream",
     "text": [
      "100%|██████████| 200/200 [00:02<00:00, 67.86it/s]\n"
     ]
    },
    {
     "name": "stdout",
     "output_type": "stream",
     "text": [
      "6.013705\n"
     ]
    },
    {
     "name": "stderr",
     "output_type": "stream",
     "text": [
      "100%|██████████| 200/200 [00:02<00:00, 67.12it/s]\n"
     ]
    },
    {
     "name": "stdout",
     "output_type": "stream",
     "text": [
      "5.948141\n"
     ]
    },
    {
     "name": "stderr",
     "output_type": "stream",
     "text": [
      "100%|██████████| 200/200 [00:03<00:00, 66.64it/s]\n"
     ]
    },
    {
     "name": "stdout",
     "output_type": "stream",
     "text": [
      "6.0330215\n"
     ]
    },
    {
     "name": "stderr",
     "output_type": "stream",
     "text": [
      "100%|██████████| 200/200 [00:03<00:00, 66.31it/s]\n"
     ]
    },
    {
     "name": "stdout",
     "output_type": "stream",
     "text": [
      "6.0106826\n"
     ]
    },
    {
     "name": "stderr",
     "output_type": "stream",
     "text": [
      "100%|██████████| 200/200 [00:02<00:00, 67.64it/s]"
     ]
    },
    {
     "name": "stdout",
     "output_type": "stream",
     "text": [
      "5.9867578\n"
     ]
    },
    {
     "name": "stderr",
     "output_type": "stream",
     "text": [
      "\n"
     ]
    }
   ],
   "source": [
    "\n",
    "datasets = [\"sst2\",\"imdb\",\"news\"]\n",
    "device = \"cuda:1\"\n",
    "import torch\n",
    "import numpy as np\n",
    "from tqdm import tqdm\n",
    "from transformers import AutoModelForCausalLM, AutoTokenizer\n",
    "percentages = [0.1,0.2,0.3,0.4,0.5]\n",
    "lls_list_zero = {}\n",
    "for ds in datasets:\n",
    "\n",
    "    for editor in editors:\n",
    "        eval_data = results[f'cfg_{editor}_{ds}_predictor_gemma-2b_ft_False_zero']\n",
    "        for exp in explanation_types: \n",
    "            for percent in percentages:\n",
    "                nlls_org = []\n",
    "                \n",
    "                \n",
    "                for i in tqdm(range(200)):\n",
    "\n",
    "                    if ds ==\"sst2\":\n",
    "                        sent = f\"\"\"In the sentence in triple back ticks what is the sentiment? Answer in one word, positive or negative.\n",
    "```{eval_data[f\"{exp}_cfg_{editor}_{percent}_response_predictor_gemma-2b_ft_False\"][i]}```\n",
    "The answer is \"\"\"\n",
    "                        input_ids = tokenizer(sent,\n",
    "                                                    return_tensors=\"pt\")[\"input_ids\"].to(device)\n",
    "                    if ds ==\"imdb\":\n",
    "                        sent = f\"\"\"In the sentence in triple back ticks what is the sentiment? Answer in one word, positive or negative.\n",
    "```{eval_data[f\"{exp}_cfg_{editor}_{percent}_response_predictor_gemma-2b_ft_False\"][i]}```\n",
    "The answer is \"\"\"\n",
    "                        input_ids = tokenizer(sent,\n",
    "                                                return_tensors=\"pt\")[\"input_ids\"].to(device)\n",
    "                    if ds == \"news\":\n",
    "                        sent = f\"\"\"In the sentence in triple back ticks, what is the news category?\n",
    "                  choices are world, sports, business, and tech. answer in one word.\n",
    "```{eval_data[f\"{exp}_cfg_{editor}_{percent}_response_predictor_gemma-2b_ft_False\"][i]}```\n",
    "The answer is \"\"\"\n",
    "                        input_ids = tokenizer(sent,\n",
    "                                                return_tensors=\"pt\")[\"input_ids\"].to(device)   \n",
    "                    target_ids = input_ids.clone()\n",
    "                    # target_ids[:, :-trg_len] = -100\n",
    "                    \n",
    "                    with torch.no_grad():\n",
    "                        outputs = pred_model(input_ids, labels=target_ids)\n",
    "                        neg_log_likelihood = outputs.loss\n",
    "\n",
    "                    nlls_org.append(neg_log_likelihood)\n",
    "                    lls = torch.stack(nlls_org).cpu().numpy()\n",
    "                lls_list_zero[f\"{ds}-{editor}-{exp}-{percent}\"] = lls\n",
    "                print(lls.mean())\n"
   ]
  },
  {
   "cell_type": "code",
   "execution_count": 15,
   "metadata": {},
   "outputs": [
    {
     "name": "stdout",
     "output_type": "stream",
     "text": [
      "sst2-pythia-gradnorm1-0.1\n",
      "1\n",
      "sst2-pythia-gradnorm1-0.2\n",
      "1\n",
      "sst2-pythia-gradnorm1-0.3\n",
      "2\n",
      "sst2-pythia-gradnorm1-0.4\n",
      "5\n",
      "sst2-pythia-gradnorm1-0.5\n",
      "5\n",
      "sst2-pythia-gradnorm2-0.1\n",
      "1\n",
      "sst2-pythia-gradnorm2-0.2\n",
      "1\n",
      "sst2-pythia-gradnorm2-0.3\n",
      "1\n",
      "sst2-pythia-gradnorm2-0.4\n",
      "3\n",
      "sst2-pythia-gradnorm2-0.5\n",
      "6\n",
      "sst2-pythia-gradinp-0.1\n",
      "3\n",
      "sst2-pythia-gradinp-0.2\n",
      "3\n",
      "sst2-pythia-gradinp-0.3\n",
      "3\n",
      "sst2-pythia-gradinp-0.4\n",
      "3\n",
      "sst2-pythia-gradinp-0.5\n",
      "3\n",
      "sst2-pythia-erasure-0.1\n",
      "3\n",
      "sst2-pythia-erasure-0.2\n",
      "4\n",
      "sst2-pythia-erasure-0.3\n",
      "3\n",
      "sst2-pythia-erasure-0.4\n",
      "3\n",
      "sst2-pythia-erasure-0.5\n",
      "3\n",
      "sst2-pythia-integrated_grad-0.1\n",
      "2\n",
      "sst2-pythia-integrated_grad-0.2\n",
      "2\n",
      "sst2-pythia-integrated_grad-0.3\n",
      "1\n",
      "sst2-pythia-integrated_grad-0.4\n",
      "1\n",
      "sst2-pythia-integrated_grad-0.5\n",
      "1\n",
      "sst2-pythia-kernel_shap-0.1\n",
      "3\n",
      "sst2-pythia-kernel_shap-0.2\n",
      "3\n",
      "sst2-pythia-kernel_shap-0.3\n",
      "3\n",
      "sst2-pythia-kernel_shap-0.4\n",
      "2\n",
      "sst2-pythia-kernel_shap-0.5\n",
      "6\n",
      "sst2-pythia-random-0.1\n",
      "1\n",
      "sst2-pythia-random-0.2\n",
      "1\n",
      "sst2-pythia-random-0.3\n",
      "1\n",
      "sst2-pythia-random-0.4\n",
      "1\n",
      "sst2-pythia-random-0.5\n",
      "4\n",
      "sst2-pythia2-gradnorm1-0.1\n",
      "3\n",
      "sst2-pythia2-gradnorm1-0.2\n",
      "4\n",
      "sst2-pythia2-gradnorm1-0.3\n",
      "5\n",
      "sst2-pythia2-gradnorm1-0.4\n",
      "7\n",
      "sst2-pythia2-gradnorm1-0.5\n",
      "7\n",
      "sst2-pythia2-gradnorm2-0.1\n",
      "3\n",
      "sst2-pythia2-gradnorm2-0.2\n",
      "4\n",
      "sst2-pythia2-gradnorm2-0.3\n",
      "4\n",
      "sst2-pythia2-gradnorm2-0.4\n",
      "7\n",
      "sst2-pythia2-gradnorm2-0.5\n",
      "8\n",
      "sst2-pythia2-gradinp-0.1\n",
      "2\n",
      "sst2-pythia2-gradinp-0.2\n",
      "2\n",
      "sst2-pythia2-gradinp-0.3\n",
      "3\n",
      "sst2-pythia2-gradinp-0.4\n",
      "4\n",
      "sst2-pythia2-gradinp-0.5\n",
      "5\n",
      "sst2-pythia2-erasure-0.1\n",
      "3\n",
      "sst2-pythia2-erasure-0.2\n",
      "3\n",
      "sst2-pythia2-erasure-0.3\n",
      "2\n",
      "sst2-pythia2-erasure-0.4\n",
      "3\n",
      "sst2-pythia2-erasure-0.5\n",
      "2\n",
      "sst2-pythia2-integrated_grad-0.1\n",
      "2\n",
      "sst2-pythia2-integrated_grad-0.2\n",
      "2\n",
      "sst2-pythia2-integrated_grad-0.3\n",
      "1\n",
      "sst2-pythia2-integrated_grad-0.4\n",
      "2\n",
      "sst2-pythia2-integrated_grad-0.5\n",
      "1\n",
      "sst2-pythia2-kernel_shap-0.1\n",
      "3\n",
      "sst2-pythia2-kernel_shap-0.2\n",
      "4\n",
      "sst2-pythia2-kernel_shap-0.3\n",
      "7\n",
      "sst2-pythia2-kernel_shap-0.4\n",
      "4\n",
      "sst2-pythia2-kernel_shap-0.5\n",
      "5\n",
      "sst2-pythia2-random-0.1\n",
      "3\n",
      "sst2-pythia2-random-0.2\n",
      "3\n",
      "sst2-pythia2-random-0.3\n",
      "3\n",
      "sst2-pythia2-random-0.4\n",
      "5\n",
      "sst2-pythia2-random-0.5\n",
      "5\n",
      "sst2-gptj-gradnorm1-0.1\n",
      "22\n",
      "sst2-gptj-gradnorm1-0.2\n",
      "19\n",
      "sst2-gptj-gradnorm1-0.3\n",
      "14\n",
      "sst2-gptj-gradnorm1-0.4\n",
      "16\n",
      "sst2-gptj-gradnorm1-0.5\n",
      "12\n",
      "sst2-gptj-gradnorm2-0.1\n",
      "22\n",
      "sst2-gptj-gradnorm2-0.2\n",
      "20\n",
      "sst2-gptj-gradnorm2-0.3\n",
      "15\n",
      "sst2-gptj-gradnorm2-0.4\n",
      "14\n",
      "sst2-gptj-gradnorm2-0.5\n",
      "11\n",
      "sst2-gptj-gradinp-0.1\n",
      "15\n",
      "sst2-gptj-gradinp-0.2\n",
      "12\n",
      "sst2-gptj-gradinp-0.3\n",
      "10\n",
      "sst2-gptj-gradinp-0.4\n",
      "8\n",
      "sst2-gptj-gradinp-0.5\n",
      "7\n",
      "sst2-gptj-erasure-0.1\n",
      "22\n",
      "sst2-gptj-erasure-0.2\n",
      "22\n",
      "sst2-gptj-erasure-0.3\n",
      "22\n",
      "sst2-gptj-erasure-0.4\n",
      "22\n",
      "sst2-gptj-erasure-0.5\n",
      "21\n",
      "sst2-gptj-integrated_grad-0.1\n",
      "24\n",
      "sst2-gptj-integrated_grad-0.2\n",
      "21\n",
      "sst2-gptj-integrated_grad-0.3\n",
      "17\n",
      "sst2-gptj-integrated_grad-0.4\n",
      "14\n",
      "sst2-gptj-integrated_grad-0.5\n",
      "11\n",
      "sst2-gptj-kernel_shap-0.1\n",
      "22\n",
      "sst2-gptj-kernel_shap-0.2\n",
      "15\n",
      "sst2-gptj-kernel_shap-0.3\n",
      "8\n",
      "sst2-gptj-kernel_shap-0.4\n",
      "10\n",
      "sst2-gptj-kernel_shap-0.5\n",
      "9\n",
      "sst2-gptj-random-0.1\n",
      "21\n",
      "sst2-gptj-random-0.2\n",
      "16\n",
      "sst2-gptj-random-0.3\n",
      "15\n",
      "sst2-gptj-random-0.4\n",
      "14\n",
      "sst2-gptj-random-0.5\n",
      "12\n",
      "imdb-pythia-gradnorm1-0.1\n",
      "3\n",
      "imdb-pythia-gradnorm1-0.2\n",
      "5\n",
      "imdb-pythia-gradnorm1-0.3\n",
      "6\n",
      "imdb-pythia-gradnorm1-0.4\n",
      "7\n",
      "imdb-pythia-gradnorm1-0.5\n",
      "7\n",
      "imdb-pythia-gradnorm2-0.1\n",
      "3\n",
      "imdb-pythia-gradnorm2-0.2\n",
      "5\n",
      "imdb-pythia-gradnorm2-0.3\n",
      "6\n",
      "imdb-pythia-gradnorm2-0.4\n",
      "7\n",
      "imdb-pythia-gradnorm2-0.5\n",
      "7\n",
      "imdb-pythia-gradinp-0.1\n",
      "5\n",
      "imdb-pythia-gradinp-0.2\n",
      "5\n",
      "imdb-pythia-gradinp-0.3\n",
      "4\n",
      "imdb-pythia-gradinp-0.4\n",
      "12\n",
      "imdb-pythia-gradinp-0.5\n",
      "18\n",
      "imdb-pythia-erasure-0.1\n",
      "4\n",
      "imdb-pythia-erasure-0.2\n",
      "4\n",
      "imdb-pythia-erasure-0.3\n",
      "4\n",
      "imdb-pythia-erasure-0.4\n",
      "5\n",
      "imdb-pythia-erasure-0.5\n",
      "7\n",
      "imdb-pythia-integrated_grad-0.1\n",
      "3\n",
      "imdb-pythia-integrated_grad-0.2\n",
      "3\n",
      "imdb-pythia-integrated_grad-0.3\n",
      "4\n",
      "imdb-pythia-integrated_grad-0.4\n",
      "5\n",
      "imdb-pythia-integrated_grad-0.5\n",
      "8\n",
      "imdb-pythia-kernel_shap-0.1\n",
      "3\n",
      "imdb-pythia-kernel_shap-0.2\n",
      "5\n",
      "imdb-pythia-kernel_shap-0.3\n",
      "9\n",
      "imdb-pythia-kernel_shap-0.4\n",
      "10\n",
      "imdb-pythia-kernel_shap-0.5\n",
      "11\n",
      "imdb-pythia-random-0.1\n",
      "7\n",
      "imdb-pythia-random-0.2\n",
      "7\n",
      "imdb-pythia-random-0.3\n",
      "10\n",
      "imdb-pythia-random-0.4\n",
      "8\n",
      "imdb-pythia-random-0.5\n",
      "11\n",
      "imdb-pythia2-gradnorm1-0.1\n",
      "4\n",
      "imdb-pythia2-gradnorm1-0.2\n",
      "4\n",
      "imdb-pythia2-gradnorm1-0.3\n",
      "3\n",
      "imdb-pythia2-gradnorm1-0.4\n",
      "5\n",
      "imdb-pythia2-gradnorm1-0.5\n",
      "3\n",
      "imdb-pythia2-gradnorm2-0.1\n",
      "4\n",
      "imdb-pythia2-gradnorm2-0.2\n",
      "4\n",
      "imdb-pythia2-gradnorm2-0.3\n",
      "3\n",
      "imdb-pythia2-gradnorm2-0.4\n",
      "5\n",
      "imdb-pythia2-gradnorm2-0.5\n",
      "3\n",
      "imdb-pythia2-gradinp-0.1\n",
      "4\n",
      "imdb-pythia2-gradinp-0.2\n",
      "5\n",
      "imdb-pythia2-gradinp-0.3\n",
      "5\n",
      "imdb-pythia2-gradinp-0.4\n",
      "7\n",
      "imdb-pythia2-gradinp-0.5\n",
      "9\n",
      "imdb-pythia2-erasure-0.1\n",
      "4\n",
      "imdb-pythia2-erasure-0.2\n",
      "4\n",
      "imdb-pythia2-erasure-0.3\n",
      "4\n",
      "imdb-pythia2-erasure-0.4\n",
      "5\n",
      "imdb-pythia2-erasure-0.5\n",
      "7\n",
      "imdb-pythia2-integrated_grad-0.1\n",
      "4\n",
      "imdb-pythia2-integrated_grad-0.2\n",
      "5\n",
      "imdb-pythia2-integrated_grad-0.3\n",
      "5\n",
      "imdb-pythia2-integrated_grad-0.4\n",
      "8\n",
      "imdb-pythia2-integrated_grad-0.5\n",
      "13\n",
      "imdb-pythia2-kernel_shap-0.1\n",
      "3\n",
      "imdb-pythia2-kernel_shap-0.2\n",
      "4\n",
      "imdb-pythia2-kernel_shap-0.3\n",
      "8\n",
      "imdb-pythia2-kernel_shap-0.4\n",
      "14\n",
      "imdb-pythia2-kernel_shap-0.5\n",
      "18\n",
      "imdb-pythia2-random-0.1\n",
      "5\n",
      "imdb-pythia2-random-0.2\n",
      "7\n",
      "imdb-pythia2-random-0.3\n",
      "6\n",
      "imdb-pythia2-random-0.4\n",
      "7\n",
      "imdb-pythia2-random-0.5\n",
      "14\n",
      "imdb-gptj-gradnorm1-0.1\n",
      "9\n",
      "imdb-gptj-gradnorm1-0.2\n",
      "10\n",
      "imdb-gptj-gradnorm1-0.3\n",
      "10\n",
      "imdb-gptj-gradnorm1-0.4\n",
      "17\n",
      "imdb-gptj-gradnorm1-0.5\n",
      "22\n",
      "imdb-gptj-gradnorm2-0.1\n",
      "9\n",
      "imdb-gptj-gradnorm2-0.2\n",
      "10\n",
      "imdb-gptj-gradnorm2-0.3\n",
      "11\n",
      "imdb-gptj-gradnorm2-0.4\n",
      "18\n",
      "imdb-gptj-gradnorm2-0.5\n",
      "23\n",
      "imdb-gptj-gradinp-0.1\n",
      "10\n",
      "imdb-gptj-gradinp-0.2\n",
      "13\n",
      "imdb-gptj-gradinp-0.3\n",
      "18\n",
      "imdb-gptj-gradinp-0.4\n",
      "31\n",
      "imdb-gptj-gradinp-0.5\n",
      "33\n",
      "imdb-gptj-erasure-0.1\n",
      "8\n",
      "imdb-gptj-erasure-0.2\n",
      "10\n",
      "imdb-gptj-erasure-0.3\n",
      "13\n",
      "imdb-gptj-erasure-0.4\n",
      "16\n",
      "imdb-gptj-erasure-0.5\n",
      "23\n",
      "imdb-gptj-integrated_grad-0.1\n",
      "9\n",
      "imdb-gptj-integrated_grad-0.2\n",
      "10\n",
      "imdb-gptj-integrated_grad-0.3\n",
      "14\n",
      "imdb-gptj-integrated_grad-0.4\n",
      "22\n",
      "imdb-gptj-integrated_grad-0.5\n",
      "35\n",
      "imdb-gptj-kernel_shap-0.1\n",
      "10\n",
      "imdb-gptj-kernel_shap-0.2\n",
      "19\n",
      "imdb-gptj-kernel_shap-0.3\n",
      "24\n",
      "imdb-gptj-kernel_shap-0.4\n",
      "34\n",
      "imdb-gptj-kernel_shap-0.5\n",
      "39\n",
      "imdb-gptj-random-0.1\n",
      "9\n",
      "imdb-gptj-random-0.2\n",
      "16\n",
      "imdb-gptj-random-0.3\n",
      "20\n",
      "imdb-gptj-random-0.4\n",
      "23\n",
      "imdb-gptj-random-0.5\n",
      "29\n",
      "news-pythia-gradnorm1-0.1\n",
      "10\n",
      "news-pythia-gradnorm1-0.2\n",
      "10\n",
      "news-pythia-gradnorm1-0.3\n",
      "10\n",
      "news-pythia-gradnorm1-0.4\n",
      "10\n",
      "news-pythia-gradnorm1-0.5\n",
      "10\n",
      "news-pythia-gradnorm2-0.1\n",
      "10\n",
      "news-pythia-gradnorm2-0.2\n",
      "10\n",
      "news-pythia-gradnorm2-0.3\n",
      "10\n",
      "news-pythia-gradnorm2-0.4\n",
      "10\n",
      "news-pythia-gradnorm2-0.5\n",
      "10\n",
      "news-pythia-gradinp-0.1\n",
      "11\n",
      "news-pythia-gradinp-0.2\n",
      "8\n",
      "news-pythia-gradinp-0.3\n",
      "9\n",
      "news-pythia-gradinp-0.4\n",
      "10\n",
      "news-pythia-gradinp-0.5\n",
      "7\n",
      "news-pythia-erasure-0.1\n",
      "10\n",
      "news-pythia-erasure-0.2\n",
      "10\n",
      "news-pythia-erasure-0.3\n",
      "10\n",
      "news-pythia-erasure-0.4\n",
      "9\n",
      "news-pythia-erasure-0.5\n",
      "10\n",
      "news-pythia-integrated_grad-0.1\n",
      "10\n",
      "news-pythia-integrated_grad-0.2\n",
      "10\n",
      "news-pythia-integrated_grad-0.3\n",
      "13\n",
      "news-pythia-integrated_grad-0.4\n",
      "11\n",
      "news-pythia-integrated_grad-0.5\n",
      "14\n",
      "news-pythia-kernel_shap-0.1\n",
      "9\n",
      "news-pythia-kernel_shap-0.2\n",
      "8\n",
      "news-pythia-kernel_shap-0.3\n",
      "8\n",
      "news-pythia-kernel_shap-0.4\n",
      "11\n",
      "news-pythia-kernel_shap-0.5\n",
      "9\n",
      "news-pythia-random-0.1\n",
      "10\n",
      "news-pythia-random-0.2\n",
      "11\n",
      "news-pythia-random-0.3\n",
      "13\n",
      "news-pythia-random-0.4\n",
      "16\n",
      "news-pythia-random-0.5\n",
      "15\n",
      "news-pythia2-gradnorm1-0.1\n",
      "10\n",
      "news-pythia2-gradnorm1-0.2\n",
      "10\n",
      "news-pythia2-gradnorm1-0.3\n",
      "10\n",
      "news-pythia2-gradnorm1-0.4\n",
      "11\n",
      "news-pythia2-gradnorm1-0.5\n",
      "11\n",
      "news-pythia2-gradnorm2-0.1\n",
      "10\n",
      "news-pythia2-gradnorm2-0.2\n",
      "10\n",
      "news-pythia2-gradnorm2-0.3\n",
      "10\n",
      "news-pythia2-gradnorm2-0.4\n",
      "11\n",
      "news-pythia2-gradnorm2-0.5\n",
      "11\n",
      "news-pythia2-gradinp-0.1\n",
      "11\n",
      "news-pythia2-gradinp-0.2\n",
      "11\n",
      "news-pythia2-gradinp-0.3\n",
      "12\n",
      "news-pythia2-gradinp-0.4\n",
      "11\n",
      "news-pythia2-gradinp-0.5\n",
      "10\n",
      "news-pythia2-erasure-0.1\n",
      "10\n",
      "news-pythia2-erasure-0.2\n",
      "10\n",
      "news-pythia2-erasure-0.3\n",
      "10\n",
      "news-pythia2-erasure-0.4\n",
      "9\n",
      "news-pythia2-erasure-0.5\n",
      "10\n",
      "news-pythia2-integrated_grad-0.1\n",
      "11\n",
      "news-pythia2-integrated_grad-0.2\n",
      "11\n",
      "news-pythia2-integrated_grad-0.3\n",
      "13\n",
      "news-pythia2-integrated_grad-0.4\n",
      "13\n",
      "news-pythia2-integrated_grad-0.5\n",
      "11\n",
      "news-pythia2-kernel_shap-0.1\n",
      "13\n",
      "news-pythia2-kernel_shap-0.2\n",
      "14\n",
      "news-pythia2-kernel_shap-0.3\n",
      "14\n",
      "news-pythia2-kernel_shap-0.4\n",
      "14\n",
      "news-pythia2-kernel_shap-0.5\n",
      "14\n",
      "news-pythia2-random-0.1\n",
      "9\n",
      "news-pythia2-random-0.2\n",
      "8\n",
      "news-pythia2-random-0.3\n",
      "9\n",
      "news-pythia2-random-0.4\n",
      "15\n",
      "news-pythia2-random-0.5\n",
      "12\n",
      "news-gptj-gradnorm1-0.1\n",
      "9\n",
      "news-gptj-gradnorm1-0.2\n",
      "10\n",
      "news-gptj-gradnorm1-0.3\n",
      "12\n",
      "news-gptj-gradnorm1-0.4\n",
      "9\n",
      "news-gptj-gradnorm1-0.5\n",
      "10\n",
      "news-gptj-gradnorm2-0.1\n",
      "9\n",
      "news-gptj-gradnorm2-0.2\n",
      "11\n",
      "news-gptj-gradnorm2-0.3\n",
      "11\n",
      "news-gptj-gradnorm2-0.4\n",
      "9\n",
      "news-gptj-gradnorm2-0.5\n",
      "10\n",
      "news-gptj-gradinp-0.1\n",
      "8\n",
      "news-gptj-gradinp-0.2\n",
      "11\n",
      "news-gptj-gradinp-0.3\n",
      "12\n",
      "news-gptj-gradinp-0.4\n",
      "9\n",
      "news-gptj-gradinp-0.5\n",
      "11\n",
      "news-gptj-erasure-0.1\n",
      "9\n",
      "news-gptj-erasure-0.2\n",
      "9\n",
      "news-gptj-erasure-0.3\n",
      "9\n",
      "news-gptj-erasure-0.4\n",
      "10\n",
      "news-gptj-erasure-0.5\n",
      "12\n",
      "news-gptj-integrated_grad-0.1\n",
      "12\n",
      "news-gptj-integrated_grad-0.2\n",
      "19\n",
      "news-gptj-integrated_grad-0.3\n",
      "18\n",
      "news-gptj-integrated_grad-0.4\n",
      "13\n",
      "news-gptj-integrated_grad-0.5\n",
      "16\n",
      "news-gptj-kernel_shap-0.1\n",
      "14\n",
      "news-gptj-kernel_shap-0.2\n",
      "9\n",
      "news-gptj-kernel_shap-0.3\n",
      "13\n",
      "news-gptj-kernel_shap-0.4\n",
      "14\n",
      "news-gptj-kernel_shap-0.5\n",
      "14\n",
      "news-gptj-random-0.1\n",
      "14\n",
      "news-gptj-random-0.2\n",
      "10\n",
      "news-gptj-random-0.3\n",
      "12\n",
      "news-gptj-random-0.4\n",
      "13\n",
      "news-gptj-random-0.5\n",
      "14\n"
     ]
    }
   ],
   "source": [
    "for key in lls_list_zero.keys():\n",
    "    print(key)\n",
    "    if key.startswith(\"sst\"):\n",
    "        print((percentile99_zero[\"sst2\"] < lls_list_zero[key]).sum())\n",
    "    if key.startswith(\"imdb\"):\n",
    "        print((percentile99_zero[\"imdb\"] < lls_list_zero[key]).sum())\n",
    "    if key.startswith(\"news\"):\n",
    "        print((percentile99_zero[\"news\"] < lls_list_zero[key]).sum())"
   ]
  },
  {
   "cell_type": "code",
   "execution_count": 16,
   "metadata": {},
   "outputs": [
    {
     "name": "stderr",
     "output_type": "stream",
     "text": [
      "100%|██████████| 200/200 [00:02<00:00, 85.86it/s]\n"
     ]
    },
    {
     "name": "stdout",
     "output_type": "stream",
     "text": [
      "8.895944\n"
     ]
    },
    {
     "name": "stderr",
     "output_type": "stream",
     "text": [
      "100%|██████████| 200/200 [00:02<00:00, 84.92it/s]\n"
     ]
    },
    {
     "name": "stdout",
     "output_type": "stream",
     "text": [
      "10.000726\n"
     ]
    },
    {
     "name": "stderr",
     "output_type": "stream",
     "text": [
      "100%|██████████| 200/200 [00:02<00:00, 85.87it/s]\n"
     ]
    },
    {
     "name": "stdout",
     "output_type": "stream",
     "text": [
      "11.237253\n"
     ]
    },
    {
     "name": "stderr",
     "output_type": "stream",
     "text": [
      "100%|██████████| 200/200 [00:02<00:00, 85.23it/s]\n"
     ]
    },
    {
     "name": "stdout",
     "output_type": "stream",
     "text": [
      "12.322971\n"
     ]
    },
    {
     "name": "stderr",
     "output_type": "stream",
     "text": [
      "100%|██████████| 200/200 [00:02<00:00, 85.01it/s]\n"
     ]
    },
    {
     "name": "stdout",
     "output_type": "stream",
     "text": [
      "13.347203\n"
     ]
    },
    {
     "name": "stderr",
     "output_type": "stream",
     "text": [
      "100%|██████████| 200/200 [00:02<00:00, 86.21it/s]\n"
     ]
    },
    {
     "name": "stdout",
     "output_type": "stream",
     "text": [
      "9.06345\n"
     ]
    },
    {
     "name": "stderr",
     "output_type": "stream",
     "text": [
      "100%|██████████| 200/200 [00:02<00:00, 85.35it/s]\n"
     ]
    },
    {
     "name": "stdout",
     "output_type": "stream",
     "text": [
      "10.076761\n"
     ]
    },
    {
     "name": "stderr",
     "output_type": "stream",
     "text": [
      "100%|██████████| 200/200 [00:02<00:00, 85.70it/s]\n"
     ]
    },
    {
     "name": "stdout",
     "output_type": "stream",
     "text": [
      "11.295993\n"
     ]
    },
    {
     "name": "stderr",
     "output_type": "stream",
     "text": [
      "100%|██████████| 200/200 [00:02<00:00, 84.98it/s]\n"
     ]
    },
    {
     "name": "stdout",
     "output_type": "stream",
     "text": [
      "12.383178\n"
     ]
    },
    {
     "name": "stderr",
     "output_type": "stream",
     "text": [
      "100%|██████████| 200/200 [00:02<00:00, 86.33it/s]\n"
     ]
    },
    {
     "name": "stdout",
     "output_type": "stream",
     "text": [
      "13.424705\n"
     ]
    },
    {
     "name": "stderr",
     "output_type": "stream",
     "text": [
      "100%|██████████| 200/200 [00:02<00:00, 86.12it/s]\n"
     ]
    },
    {
     "name": "stdout",
     "output_type": "stream",
     "text": [
      "9.70568\n"
     ]
    },
    {
     "name": "stderr",
     "output_type": "stream",
     "text": [
      "100%|██████████| 200/200 [00:02<00:00, 85.25it/s]\n"
     ]
    },
    {
     "name": "stdout",
     "output_type": "stream",
     "text": [
      "11.137966\n"
     ]
    },
    {
     "name": "stderr",
     "output_type": "stream",
     "text": [
      "100%|██████████| 200/200 [00:02<00:00, 86.34it/s]\n"
     ]
    },
    {
     "name": "stdout",
     "output_type": "stream",
     "text": [
      "12.641997\n"
     ]
    },
    {
     "name": "stderr",
     "output_type": "stream",
     "text": [
      "100%|██████████| 200/200 [00:02<00:00, 86.35it/s]\n"
     ]
    },
    {
     "name": "stdout",
     "output_type": "stream",
     "text": [
      "13.986193\n"
     ]
    },
    {
     "name": "stderr",
     "output_type": "stream",
     "text": [
      "100%|██████████| 200/200 [00:02<00:00, 85.16it/s]\n"
     ]
    },
    {
     "name": "stdout",
     "output_type": "stream",
     "text": [
      "15.240735\n"
     ]
    },
    {
     "name": "stderr",
     "output_type": "stream",
     "text": [
      "100%|██████████| 200/200 [00:02<00:00, 86.62it/s]\n"
     ]
    },
    {
     "name": "stdout",
     "output_type": "stream",
     "text": [
      "8.896689\n"
     ]
    },
    {
     "name": "stderr",
     "output_type": "stream",
     "text": [
      "100%|██████████| 200/200 [00:02<00:00, 86.24it/s]\n"
     ]
    },
    {
     "name": "stdout",
     "output_type": "stream",
     "text": [
      "10.099783\n"
     ]
    },
    {
     "name": "stderr",
     "output_type": "stream",
     "text": [
      "100%|██████████| 200/200 [00:02<00:00, 85.14it/s]\n"
     ]
    },
    {
     "name": "stdout",
     "output_type": "stream",
     "text": [
      "11.56469\n"
     ]
    },
    {
     "name": "stderr",
     "output_type": "stream",
     "text": [
      "100%|██████████| 200/200 [00:02<00:00, 86.16it/s]\n"
     ]
    },
    {
     "name": "stdout",
     "output_type": "stream",
     "text": [
      "12.836431\n"
     ]
    },
    {
     "name": "stderr",
     "output_type": "stream",
     "text": [
      "100%|██████████| 200/200 [00:02<00:00, 86.26it/s]\n"
     ]
    },
    {
     "name": "stdout",
     "output_type": "stream",
     "text": [
      "14.028055\n"
     ]
    },
    {
     "name": "stderr",
     "output_type": "stream",
     "text": [
      "100%|██████████| 200/200 [00:02<00:00, 85.95it/s]\n"
     ]
    },
    {
     "name": "stdout",
     "output_type": "stream",
     "text": [
      "9.546713\n"
     ]
    },
    {
     "name": "stderr",
     "output_type": "stream",
     "text": [
      "100%|██████████| 200/200 [00:02<00:00, 86.24it/s]\n"
     ]
    },
    {
     "name": "stdout",
     "output_type": "stream",
     "text": [
      "11.063125\n"
     ]
    },
    {
     "name": "stderr",
     "output_type": "stream",
     "text": [
      "100%|██████████| 200/200 [00:02<00:00, 86.38it/s]\n"
     ]
    },
    {
     "name": "stdout",
     "output_type": "stream",
     "text": [
      "12.634657\n"
     ]
    },
    {
     "name": "stderr",
     "output_type": "stream",
     "text": [
      "100%|██████████| 200/200 [00:02<00:00, 85.75it/s]\n"
     ]
    },
    {
     "name": "stdout",
     "output_type": "stream",
     "text": [
      "13.989937\n"
     ]
    },
    {
     "name": "stderr",
     "output_type": "stream",
     "text": [
      "100%|██████████| 200/200 [00:02<00:00, 86.31it/s]\n"
     ]
    },
    {
     "name": "stdout",
     "output_type": "stream",
     "text": [
      "15.244385\n"
     ]
    },
    {
     "name": "stderr",
     "output_type": "stream",
     "text": [
      "100%|██████████| 200/200 [00:02<00:00, 86.46it/s]\n"
     ]
    },
    {
     "name": "stdout",
     "output_type": "stream",
     "text": [
      "9.563246\n"
     ]
    },
    {
     "name": "stderr",
     "output_type": "stream",
     "text": [
      "100%|██████████| 200/200 [00:02<00:00, 85.02it/s]\n"
     ]
    },
    {
     "name": "stdout",
     "output_type": "stream",
     "text": [
      "11.033259\n"
     ]
    },
    {
     "name": "stderr",
     "output_type": "stream",
     "text": [
      "100%|██████████| 200/200 [00:02<00:00, 86.05it/s]\n"
     ]
    },
    {
     "name": "stdout",
     "output_type": "stream",
     "text": [
      "12.552871\n"
     ]
    },
    {
     "name": "stderr",
     "output_type": "stream",
     "text": [
      "100%|██████████| 200/200 [00:02<00:00, 86.21it/s]\n"
     ]
    },
    {
     "name": "stdout",
     "output_type": "stream",
     "text": [
      "13.833501\n"
     ]
    },
    {
     "name": "stderr",
     "output_type": "stream",
     "text": [
      "100%|██████████| 200/200 [00:02<00:00, 85.51it/s]\n"
     ]
    },
    {
     "name": "stdout",
     "output_type": "stream",
     "text": [
      "15.079452\n"
     ]
    },
    {
     "name": "stderr",
     "output_type": "stream",
     "text": [
      "100%|██████████| 200/200 [00:02<00:00, 86.10it/s]\n"
     ]
    },
    {
     "name": "stdout",
     "output_type": "stream",
     "text": [
      "9.614521\n"
     ]
    },
    {
     "name": "stderr",
     "output_type": "stream",
     "text": [
      "100%|██████████| 200/200 [00:02<00:00, 85.54it/s]\n"
     ]
    },
    {
     "name": "stdout",
     "output_type": "stream",
     "text": [
      "11.101633\n"
     ]
    },
    {
     "name": "stderr",
     "output_type": "stream",
     "text": [
      "100%|██████████| 200/200 [00:02<00:00, 84.42it/s]\n"
     ]
    },
    {
     "name": "stdout",
     "output_type": "stream",
     "text": [
      "12.625117\n"
     ]
    },
    {
     "name": "stderr",
     "output_type": "stream",
     "text": [
      "100%|██████████| 200/200 [00:02<00:00, 86.28it/s]\n"
     ]
    },
    {
     "name": "stdout",
     "output_type": "stream",
     "text": [
      "13.944599\n"
     ]
    },
    {
     "name": "stderr",
     "output_type": "stream",
     "text": [
      "100%|██████████| 200/200 [00:02<00:00, 86.16it/s]\n"
     ]
    },
    {
     "name": "stdout",
     "output_type": "stream",
     "text": [
      "15.1465845\n"
     ]
    },
    {
     "name": "stderr",
     "output_type": "stream",
     "text": [
      "100%|██████████| 200/200 [00:02<00:00, 85.81it/s]\n"
     ]
    },
    {
     "name": "stdout",
     "output_type": "stream",
     "text": [
      "7.388294\n"
     ]
    },
    {
     "name": "stderr",
     "output_type": "stream",
     "text": [
      "100%|██████████| 200/200 [00:02<00:00, 86.72it/s]\n"
     ]
    },
    {
     "name": "stdout",
     "output_type": "stream",
     "text": [
      "7.3650928\n"
     ]
    },
    {
     "name": "stderr",
     "output_type": "stream",
     "text": [
      "100%|██████████| 200/200 [00:02<00:00, 87.41it/s]\n"
     ]
    },
    {
     "name": "stdout",
     "output_type": "stream",
     "text": [
      "7.522683\n"
     ]
    },
    {
     "name": "stderr",
     "output_type": "stream",
     "text": [
      "100%|██████████| 200/200 [00:02<00:00, 87.46it/s]\n"
     ]
    },
    {
     "name": "stdout",
     "output_type": "stream",
     "text": [
      "7.732451\n"
     ]
    },
    {
     "name": "stderr",
     "output_type": "stream",
     "text": [
      "100%|██████████| 200/200 [00:02<00:00, 88.17it/s]\n"
     ]
    },
    {
     "name": "stdout",
     "output_type": "stream",
     "text": [
      "7.950125\n"
     ]
    },
    {
     "name": "stderr",
     "output_type": "stream",
     "text": [
      "100%|██████████| 200/200 [00:02<00:00, 86.97it/s]\n"
     ]
    },
    {
     "name": "stdout",
     "output_type": "stream",
     "text": [
      "7.5047374\n"
     ]
    },
    {
     "name": "stderr",
     "output_type": "stream",
     "text": [
      "100%|██████████| 200/200 [00:02<00:00, 87.15it/s]\n"
     ]
    },
    {
     "name": "stdout",
     "output_type": "stream",
     "text": [
      "7.402441\n"
     ]
    },
    {
     "name": "stderr",
     "output_type": "stream",
     "text": [
      "100%|██████████| 200/200 [00:02<00:00, 86.72it/s]\n"
     ]
    },
    {
     "name": "stdout",
     "output_type": "stream",
     "text": [
      "7.5353613\n"
     ]
    },
    {
     "name": "stderr",
     "output_type": "stream",
     "text": [
      "100%|██████████| 200/200 [00:02<00:00, 87.86it/s]\n"
     ]
    },
    {
     "name": "stdout",
     "output_type": "stream",
     "text": [
      "7.743012\n"
     ]
    },
    {
     "name": "stderr",
     "output_type": "stream",
     "text": [
      "100%|██████████| 200/200 [00:02<00:00, 88.24it/s]\n"
     ]
    },
    {
     "name": "stdout",
     "output_type": "stream",
     "text": [
      "7.9544926\n"
     ]
    },
    {
     "name": "stderr",
     "output_type": "stream",
     "text": [
      "100%|██████████| 200/200 [00:02<00:00, 85.06it/s]\n"
     ]
    },
    {
     "name": "stdout",
     "output_type": "stream",
     "text": [
      "8.18853\n"
     ]
    },
    {
     "name": "stderr",
     "output_type": "stream",
     "text": [
      "100%|██████████| 200/200 [00:02<00:00, 86.86it/s]\n"
     ]
    },
    {
     "name": "stdout",
     "output_type": "stream",
     "text": [
      "8.538086\n"
     ]
    },
    {
     "name": "stderr",
     "output_type": "stream",
     "text": [
      "100%|██████████| 200/200 [00:02<00:00, 87.55it/s]\n"
     ]
    },
    {
     "name": "stdout",
     "output_type": "stream",
     "text": [
      "8.920808\n"
     ]
    },
    {
     "name": "stderr",
     "output_type": "stream",
     "text": [
      "100%|██████████| 200/200 [00:02<00:00, 87.25it/s]\n"
     ]
    },
    {
     "name": "stdout",
     "output_type": "stream",
     "text": [
      "9.334966\n"
     ]
    },
    {
     "name": "stderr",
     "output_type": "stream",
     "text": [
      "100%|██████████| 200/200 [00:02<00:00, 88.25it/s]\n"
     ]
    },
    {
     "name": "stdout",
     "output_type": "stream",
     "text": [
      "9.726936\n"
     ]
    },
    {
     "name": "stderr",
     "output_type": "stream",
     "text": [
      "100%|██████████| 200/200 [00:02<00:00, 86.62it/s]\n"
     ]
    },
    {
     "name": "stdout",
     "output_type": "stream",
     "text": [
      "7.370739\n"
     ]
    },
    {
     "name": "stderr",
     "output_type": "stream",
     "text": [
      "100%|██████████| 200/200 [00:02<00:00, 86.66it/s]\n"
     ]
    },
    {
     "name": "stdout",
     "output_type": "stream",
     "text": [
      "7.440282\n"
     ]
    },
    {
     "name": "stderr",
     "output_type": "stream",
     "text": [
      "100%|██████████| 200/200 [00:02<00:00, 87.59it/s]\n"
     ]
    },
    {
     "name": "stdout",
     "output_type": "stream",
     "text": [
      "7.7515736\n"
     ]
    },
    {
     "name": "stderr",
     "output_type": "stream",
     "text": [
      "100%|██████████| 200/200 [00:02<00:00, 88.04it/s]\n"
     ]
    },
    {
     "name": "stdout",
     "output_type": "stream",
     "text": [
      "8.0352745\n"
     ]
    },
    {
     "name": "stderr",
     "output_type": "stream",
     "text": [
      "100%|██████████| 200/200 [00:02<00:00, 87.77it/s]\n"
     ]
    },
    {
     "name": "stdout",
     "output_type": "stream",
     "text": [
      "8.330946\n"
     ]
    },
    {
     "name": "stderr",
     "output_type": "stream",
     "text": [
      "100%|██████████| 200/200 [00:02<00:00, 86.86it/s]\n"
     ]
    },
    {
     "name": "stdout",
     "output_type": "stream",
     "text": [
      "8.054754\n"
     ]
    },
    {
     "name": "stderr",
     "output_type": "stream",
     "text": [
      "100%|██████████| 200/200 [00:02<00:00, 87.01it/s]\n"
     ]
    },
    {
     "name": "stdout",
     "output_type": "stream",
     "text": [
      "8.461535\n"
     ]
    },
    {
     "name": "stderr",
     "output_type": "stream",
     "text": [
      "100%|██████████| 200/200 [00:02<00:00, 86.71it/s]\n"
     ]
    },
    {
     "name": "stdout",
     "output_type": "stream",
     "text": [
      "8.9189415\n"
     ]
    },
    {
     "name": "stderr",
     "output_type": "stream",
     "text": [
      "100%|██████████| 200/200 [00:02<00:00, 87.84it/s]\n"
     ]
    },
    {
     "name": "stdout",
     "output_type": "stream",
     "text": [
      "9.320049\n"
     ]
    },
    {
     "name": "stderr",
     "output_type": "stream",
     "text": [
      "100%|██████████| 200/200 [00:02<00:00, 87.32it/s]\n"
     ]
    },
    {
     "name": "stdout",
     "output_type": "stream",
     "text": [
      "9.712262\n"
     ]
    },
    {
     "name": "stderr",
     "output_type": "stream",
     "text": [
      "100%|██████████| 200/200 [00:02<00:00, 85.87it/s]\n"
     ]
    },
    {
     "name": "stdout",
     "output_type": "stream",
     "text": [
      "8.110919\n"
     ]
    },
    {
     "name": "stderr",
     "output_type": "stream",
     "text": [
      "100%|██████████| 200/200 [00:02<00:00, 86.80it/s]\n"
     ]
    },
    {
     "name": "stdout",
     "output_type": "stream",
     "text": [
      "8.498627\n"
     ]
    },
    {
     "name": "stderr",
     "output_type": "stream",
     "text": [
      "100%|██████████| 200/200 [00:02<00:00, 87.44it/s]\n"
     ]
    },
    {
     "name": "stdout",
     "output_type": "stream",
     "text": [
      "8.9087305\n"
     ]
    },
    {
     "name": "stderr",
     "output_type": "stream",
     "text": [
      "100%|██████████| 200/200 [00:02<00:00, 86.83it/s]\n"
     ]
    },
    {
     "name": "stdout",
     "output_type": "stream",
     "text": [
      "9.249397\n"
     ]
    },
    {
     "name": "stderr",
     "output_type": "stream",
     "text": [
      "100%|██████████| 200/200 [00:02<00:00, 88.06it/s]\n"
     ]
    },
    {
     "name": "stdout",
     "output_type": "stream",
     "text": [
      "9.61615\n"
     ]
    },
    {
     "name": "stderr",
     "output_type": "stream",
     "text": [
      "100%|██████████| 200/200 [00:02<00:00, 86.63it/s]\n"
     ]
    },
    {
     "name": "stdout",
     "output_type": "stream",
     "text": [
      "8.187962\n"
     ]
    },
    {
     "name": "stderr",
     "output_type": "stream",
     "text": [
      "100%|██████████| 200/200 [00:02<00:00, 86.40it/s]\n"
     ]
    },
    {
     "name": "stdout",
     "output_type": "stream",
     "text": [
      "8.592628\n"
     ]
    },
    {
     "name": "stderr",
     "output_type": "stream",
     "text": [
      "100%|██████████| 200/200 [00:02<00:00, 87.46it/s]\n"
     ]
    },
    {
     "name": "stdout",
     "output_type": "stream",
     "text": [
      "9.015533\n"
     ]
    },
    {
     "name": "stderr",
     "output_type": "stream",
     "text": [
      "100%|██████████| 200/200 [00:02<00:00, 87.96it/s]\n"
     ]
    },
    {
     "name": "stdout",
     "output_type": "stream",
     "text": [
      "9.401178\n"
     ]
    },
    {
     "name": "stderr",
     "output_type": "stream",
     "text": [
      "100%|██████████| 200/200 [00:02<00:00, 87.08it/s]\n"
     ]
    },
    {
     "name": "stdout",
     "output_type": "stream",
     "text": [
      "9.738072\n"
     ]
    },
    {
     "name": "stderr",
     "output_type": "stream",
     "text": [
      "100%|██████████| 200/200 [00:02<00:00, 86.40it/s]\n"
     ]
    },
    {
     "name": "stdout",
     "output_type": "stream",
     "text": [
      "8.49795\n"
     ]
    },
    {
     "name": "stderr",
     "output_type": "stream",
     "text": [
      "100%|██████████| 200/200 [00:02<00:00, 86.49it/s]\n"
     ]
    },
    {
     "name": "stdout",
     "output_type": "stream",
     "text": [
      "9.146694\n"
     ]
    },
    {
     "name": "stderr",
     "output_type": "stream",
     "text": [
      "100%|██████████| 200/200 [00:02<00:00, 85.42it/s]\n"
     ]
    },
    {
     "name": "stdout",
     "output_type": "stream",
     "text": [
      "9.779736\n"
     ]
    },
    {
     "name": "stderr",
     "output_type": "stream",
     "text": [
      "100%|██████████| 200/200 [00:02<00:00, 85.20it/s]\n"
     ]
    },
    {
     "name": "stdout",
     "output_type": "stream",
     "text": [
      "10.323633\n"
     ]
    },
    {
     "name": "stderr",
     "output_type": "stream",
     "text": [
      "100%|██████████| 200/200 [00:02<00:00, 85.97it/s]\n"
     ]
    },
    {
     "name": "stdout",
     "output_type": "stream",
     "text": [
      "10.831028\n"
     ]
    },
    {
     "name": "stderr",
     "output_type": "stream",
     "text": [
      "100%|██████████| 200/200 [00:02<00:00, 85.46it/s]\n"
     ]
    },
    {
     "name": "stdout",
     "output_type": "stream",
     "text": [
      "8.60204\n"
     ]
    },
    {
     "name": "stderr",
     "output_type": "stream",
     "text": [
      "100%|██████████| 200/200 [00:02<00:00, 86.46it/s]\n"
     ]
    },
    {
     "name": "stdout",
     "output_type": "stream",
     "text": [
      "9.1835785\n"
     ]
    },
    {
     "name": "stderr",
     "output_type": "stream",
     "text": [
      "100%|██████████| 200/200 [00:02<00:00, 86.52it/s]\n"
     ]
    },
    {
     "name": "stdout",
     "output_type": "stream",
     "text": [
      "9.815327\n"
     ]
    },
    {
     "name": "stderr",
     "output_type": "stream",
     "text": [
      "100%|██████████| 200/200 [00:02<00:00, 85.08it/s]\n"
     ]
    },
    {
     "name": "stdout",
     "output_type": "stream",
     "text": [
      "10.34471\n"
     ]
    },
    {
     "name": "stderr",
     "output_type": "stream",
     "text": [
      "100%|██████████| 200/200 [00:02<00:00, 86.38it/s]\n"
     ]
    },
    {
     "name": "stdout",
     "output_type": "stream",
     "text": [
      "10.873949\n"
     ]
    },
    {
     "name": "stderr",
     "output_type": "stream",
     "text": [
      "100%|██████████| 200/200 [00:02<00:00, 86.45it/s]\n"
     ]
    },
    {
     "name": "stdout",
     "output_type": "stream",
     "text": [
      "9.17194\n"
     ]
    },
    {
     "name": "stderr",
     "output_type": "stream",
     "text": [
      "100%|██████████| 200/200 [00:02<00:00, 85.55it/s]\n"
     ]
    },
    {
     "name": "stdout",
     "output_type": "stream",
     "text": [
      "10.122283\n"
     ]
    },
    {
     "name": "stderr",
     "output_type": "stream",
     "text": [
      "100%|██████████| 200/200 [00:02<00:00, 86.37it/s]\n"
     ]
    },
    {
     "name": "stdout",
     "output_type": "stream",
     "text": [
      "11.077644\n"
     ]
    },
    {
     "name": "stderr",
     "output_type": "stream",
     "text": [
      "100%|██████████| 200/200 [00:02<00:00, 86.13it/s]\n"
     ]
    },
    {
     "name": "stdout",
     "output_type": "stream",
     "text": [
      "11.899903\n"
     ]
    },
    {
     "name": "stderr",
     "output_type": "stream",
     "text": [
      "100%|██████████| 200/200 [00:02<00:00, 85.44it/s]\n"
     ]
    },
    {
     "name": "stdout",
     "output_type": "stream",
     "text": [
      "12.650251\n"
     ]
    },
    {
     "name": "stderr",
     "output_type": "stream",
     "text": [
      "100%|██████████| 200/200 [00:02<00:00, 86.62it/s]\n"
     ]
    },
    {
     "name": "stdout",
     "output_type": "stream",
     "text": [
      "8.52192\n"
     ]
    },
    {
     "name": "stderr",
     "output_type": "stream",
     "text": [
      "100%|██████████| 200/200 [00:02<00:00, 86.45it/s]\n"
     ]
    },
    {
     "name": "stdout",
     "output_type": "stream",
     "text": [
      "9.368335\n"
     ]
    },
    {
     "name": "stderr",
     "output_type": "stream",
     "text": [
      "100%|██████████| 200/200 [00:02<00:00, 84.91it/s]\n"
     ]
    },
    {
     "name": "stdout",
     "output_type": "stream",
     "text": [
      "10.428958\n"
     ]
    },
    {
     "name": "stderr",
     "output_type": "stream",
     "text": [
      "100%|██████████| 200/200 [00:02<00:00, 86.18it/s]\n"
     ]
    },
    {
     "name": "stdout",
     "output_type": "stream",
     "text": [
      "11.230261\n"
     ]
    },
    {
     "name": "stderr",
     "output_type": "stream",
     "text": [
      "100%|██████████| 200/200 [00:02<00:00, 86.38it/s]\n"
     ]
    },
    {
     "name": "stdout",
     "output_type": "stream",
     "text": [
      "11.7886305\n"
     ]
    },
    {
     "name": "stderr",
     "output_type": "stream",
     "text": [
      "100%|██████████| 200/200 [00:02<00:00, 86.17it/s]\n"
     ]
    },
    {
     "name": "stdout",
     "output_type": "stream",
     "text": [
      "9.0542\n"
     ]
    },
    {
     "name": "stderr",
     "output_type": "stream",
     "text": [
      "100%|██████████| 200/200 [00:02<00:00, 86.61it/s]\n"
     ]
    },
    {
     "name": "stdout",
     "output_type": "stream",
     "text": [
      "10.174953\n"
     ]
    },
    {
     "name": "stderr",
     "output_type": "stream",
     "text": [
      "100%|██████████| 200/200 [00:02<00:00, 86.38it/s]\n"
     ]
    },
    {
     "name": "stdout",
     "output_type": "stream",
     "text": [
      "11.27483\n"
     ]
    },
    {
     "name": "stderr",
     "output_type": "stream",
     "text": [
      "100%|██████████| 200/200 [00:02<00:00, 85.28it/s]\n"
     ]
    },
    {
     "name": "stdout",
     "output_type": "stream",
     "text": [
      "12.082256\n"
     ]
    },
    {
     "name": "stderr",
     "output_type": "stream",
     "text": [
      "100%|██████████| 200/200 [00:02<00:00, 86.21it/s]\n"
     ]
    },
    {
     "name": "stdout",
     "output_type": "stream",
     "text": [
      "12.786512\n"
     ]
    },
    {
     "name": "stderr",
     "output_type": "stream",
     "text": [
      "100%|██████████| 200/200 [00:02<00:00, 86.32it/s]\n"
     ]
    },
    {
     "name": "stdout",
     "output_type": "stream",
     "text": [
      "9.120541\n"
     ]
    },
    {
     "name": "stderr",
     "output_type": "stream",
     "text": [
      "100%|██████████| 200/200 [00:02<00:00, 85.33it/s]\n"
     ]
    },
    {
     "name": "stdout",
     "output_type": "stream",
     "text": [
      "10.1315775\n"
     ]
    },
    {
     "name": "stderr",
     "output_type": "stream",
     "text": [
      "100%|██████████| 200/200 [00:02<00:00, 86.12it/s]\n"
     ]
    },
    {
     "name": "stdout",
     "output_type": "stream",
     "text": [
      "11.095901\n"
     ]
    },
    {
     "name": "stderr",
     "output_type": "stream",
     "text": [
      "100%|██████████| 200/200 [00:02<00:00, 86.27it/s]\n"
     ]
    },
    {
     "name": "stdout",
     "output_type": "stream",
     "text": [
      "11.831017\n"
     ]
    },
    {
     "name": "stderr",
     "output_type": "stream",
     "text": [
      "100%|██████████| 200/200 [00:02<00:00, 85.21it/s]\n"
     ]
    },
    {
     "name": "stdout",
     "output_type": "stream",
     "text": [
      "12.53315\n"
     ]
    },
    {
     "name": "stderr",
     "output_type": "stream",
     "text": [
      "100%|██████████| 200/200 [00:02<00:00, 86.42it/s]\n"
     ]
    },
    {
     "name": "stdout",
     "output_type": "stream",
     "text": [
      "9.15476\n"
     ]
    },
    {
     "name": "stderr",
     "output_type": "stream",
     "text": [
      "100%|██████████| 200/200 [00:02<00:00, 85.09it/s]\n"
     ]
    },
    {
     "name": "stdout",
     "output_type": "stream",
     "text": [
      "10.156524\n"
     ]
    },
    {
     "name": "stderr",
     "output_type": "stream",
     "text": [
      "100%|██████████| 200/200 [00:02<00:00, 85.44it/s]\n"
     ]
    },
    {
     "name": "stdout",
     "output_type": "stream",
     "text": [
      "11.152966\n"
     ]
    },
    {
     "name": "stderr",
     "output_type": "stream",
     "text": [
      "100%|██████████| 200/200 [00:02<00:00, 86.08it/s]\n"
     ]
    },
    {
     "name": "stdout",
     "output_type": "stream",
     "text": [
      "11.979345\n"
     ]
    },
    {
     "name": "stderr",
     "output_type": "stream",
     "text": [
      "100%|██████████| 200/200 [00:02<00:00, 86.28it/s]\n"
     ]
    },
    {
     "name": "stdout",
     "output_type": "stream",
     "text": [
      "12.652597\n"
     ]
    },
    {
     "name": "stderr",
     "output_type": "stream",
     "text": [
      "100%|██████████| 200/200 [00:02<00:00, 86.15it/s]\n"
     ]
    },
    {
     "name": "stdout",
     "output_type": "stream",
     "text": [
      "7.6451564\n"
     ]
    },
    {
     "name": "stderr",
     "output_type": "stream",
     "text": [
      "100%|██████████| 200/200 [00:02<00:00, 86.89it/s]\n"
     ]
    },
    {
     "name": "stdout",
     "output_type": "stream",
     "text": [
      "7.6451564\n"
     ]
    },
    {
     "name": "stderr",
     "output_type": "stream",
     "text": [
      "100%|██████████| 200/200 [00:02<00:00, 86.82it/s]\n"
     ]
    },
    {
     "name": "stdout",
     "output_type": "stream",
     "text": [
      "7.6451564\n"
     ]
    },
    {
     "name": "stderr",
     "output_type": "stream",
     "text": [
      "100%|██████████| 200/200 [00:02<00:00, 86.35it/s]\n"
     ]
    },
    {
     "name": "stdout",
     "output_type": "stream",
     "text": [
      "7.6451564\n"
     ]
    },
    {
     "name": "stderr",
     "output_type": "stream",
     "text": [
      "100%|██████████| 200/200 [00:02<00:00, 86.67it/s]\n"
     ]
    },
    {
     "name": "stdout",
     "output_type": "stream",
     "text": [
      "7.6451564\n"
     ]
    },
    {
     "name": "stderr",
     "output_type": "stream",
     "text": [
      "100%|██████████| 200/200 [00:02<00:00, 86.79it/s]\n"
     ]
    },
    {
     "name": "stdout",
     "output_type": "stream",
     "text": [
      "7.6451564\n"
     ]
    },
    {
     "name": "stderr",
     "output_type": "stream",
     "text": [
      "100%|██████████| 200/200 [00:02<00:00, 85.76it/s]\n"
     ]
    },
    {
     "name": "stdout",
     "output_type": "stream",
     "text": [
      "7.6451564\n"
     ]
    },
    {
     "name": "stderr",
     "output_type": "stream",
     "text": [
      "100%|██████████| 200/200 [00:02<00:00, 86.77it/s]\n"
     ]
    },
    {
     "name": "stdout",
     "output_type": "stream",
     "text": [
      "7.6451564\n"
     ]
    },
    {
     "name": "stderr",
     "output_type": "stream",
     "text": [
      "100%|██████████| 200/200 [00:02<00:00, 86.86it/s]\n"
     ]
    },
    {
     "name": "stdout",
     "output_type": "stream",
     "text": [
      "7.6451564\n"
     ]
    },
    {
     "name": "stderr",
     "output_type": "stream",
     "text": [
      "100%|██████████| 200/200 [00:02<00:00, 85.88it/s]\n"
     ]
    },
    {
     "name": "stdout",
     "output_type": "stream",
     "text": [
      "7.6451564\n"
     ]
    },
    {
     "name": "stderr",
     "output_type": "stream",
     "text": [
      "100%|██████████| 200/200 [00:02<00:00, 85.79it/s]\n"
     ]
    },
    {
     "name": "stdout",
     "output_type": "stream",
     "text": [
      "7.6451564\n"
     ]
    },
    {
     "name": "stderr",
     "output_type": "stream",
     "text": [
      "100%|██████████| 200/200 [00:02<00:00, 86.57it/s]\n"
     ]
    },
    {
     "name": "stdout",
     "output_type": "stream",
     "text": [
      "7.6451564\n"
     ]
    },
    {
     "name": "stderr",
     "output_type": "stream",
     "text": [
      "100%|██████████| 200/200 [00:02<00:00, 85.92it/s]\n"
     ]
    },
    {
     "name": "stdout",
     "output_type": "stream",
     "text": [
      "7.6451564\n"
     ]
    },
    {
     "name": "stderr",
     "output_type": "stream",
     "text": [
      "100%|██████████| 200/200 [00:02<00:00, 86.93it/s]\n"
     ]
    },
    {
     "name": "stdout",
     "output_type": "stream",
     "text": [
      "7.6451564\n"
     ]
    },
    {
     "name": "stderr",
     "output_type": "stream",
     "text": [
      "100%|██████████| 200/200 [00:02<00:00, 86.88it/s]\n"
     ]
    },
    {
     "name": "stdout",
     "output_type": "stream",
     "text": [
      "7.6451564\n"
     ]
    },
    {
     "name": "stderr",
     "output_type": "stream",
     "text": [
      "100%|██████████| 200/200 [00:02<00:00, 85.97it/s]\n"
     ]
    },
    {
     "name": "stdout",
     "output_type": "stream",
     "text": [
      "7.6451564\n"
     ]
    },
    {
     "name": "stderr",
     "output_type": "stream",
     "text": [
      "100%|██████████| 200/200 [00:02<00:00, 86.89it/s]\n"
     ]
    },
    {
     "name": "stdout",
     "output_type": "stream",
     "text": [
      "7.6451564\n"
     ]
    },
    {
     "name": "stderr",
     "output_type": "stream",
     "text": [
      "100%|██████████| 200/200 [00:02<00:00, 86.81it/s]\n"
     ]
    },
    {
     "name": "stdout",
     "output_type": "stream",
     "text": [
      "7.6451564\n"
     ]
    },
    {
     "name": "stderr",
     "output_type": "stream",
     "text": [
      "100%|██████████| 200/200 [00:02<00:00, 85.79it/s]\n"
     ]
    },
    {
     "name": "stdout",
     "output_type": "stream",
     "text": [
      "7.6451564\n"
     ]
    },
    {
     "name": "stderr",
     "output_type": "stream",
     "text": [
      "100%|██████████| 200/200 [00:02<00:00, 86.91it/s]\n"
     ]
    },
    {
     "name": "stdout",
     "output_type": "stream",
     "text": [
      "7.6451564\n"
     ]
    },
    {
     "name": "stderr",
     "output_type": "stream",
     "text": [
      "100%|██████████| 200/200 [00:02<00:00, 86.30it/s]\n"
     ]
    },
    {
     "name": "stdout",
     "output_type": "stream",
     "text": [
      "7.6451564\n"
     ]
    },
    {
     "name": "stderr",
     "output_type": "stream",
     "text": [
      "100%|██████████| 200/200 [00:02<00:00, 86.13it/s]\n"
     ]
    },
    {
     "name": "stdout",
     "output_type": "stream",
     "text": [
      "7.6451564\n"
     ]
    },
    {
     "name": "stderr",
     "output_type": "stream",
     "text": [
      "100%|██████████| 200/200 [00:02<00:00, 86.83it/s]\n"
     ]
    },
    {
     "name": "stdout",
     "output_type": "stream",
     "text": [
      "7.6451564\n"
     ]
    },
    {
     "name": "stderr",
     "output_type": "stream",
     "text": [
      "100%|██████████| 200/200 [00:02<00:00, 86.66it/s]\n"
     ]
    },
    {
     "name": "stdout",
     "output_type": "stream",
     "text": [
      "7.6451564\n"
     ]
    },
    {
     "name": "stderr",
     "output_type": "stream",
     "text": [
      "100%|██████████| 200/200 [00:02<00:00, 84.99it/s]\n"
     ]
    },
    {
     "name": "stdout",
     "output_type": "stream",
     "text": [
      "7.6451564\n"
     ]
    },
    {
     "name": "stderr",
     "output_type": "stream",
     "text": [
      "100%|██████████| 200/200 [00:02<00:00, 86.89it/s]\n"
     ]
    },
    {
     "name": "stdout",
     "output_type": "stream",
     "text": [
      "7.6451564\n"
     ]
    },
    {
     "name": "stderr",
     "output_type": "stream",
     "text": [
      "100%|██████████| 200/200 [00:02<00:00, 86.95it/s]\n"
     ]
    },
    {
     "name": "stdout",
     "output_type": "stream",
     "text": [
      "7.6451564\n"
     ]
    },
    {
     "name": "stderr",
     "output_type": "stream",
     "text": [
      "100%|██████████| 200/200 [00:02<00:00, 86.04it/s]\n"
     ]
    },
    {
     "name": "stdout",
     "output_type": "stream",
     "text": [
      "7.6451564\n"
     ]
    },
    {
     "name": "stderr",
     "output_type": "stream",
     "text": [
      "100%|██████████| 200/200 [00:02<00:00, 86.42it/s]\n"
     ]
    },
    {
     "name": "stdout",
     "output_type": "stream",
     "text": [
      "7.6451564\n"
     ]
    },
    {
     "name": "stderr",
     "output_type": "stream",
     "text": [
      "100%|██████████| 200/200 [00:02<00:00, 86.77it/s]\n"
     ]
    },
    {
     "name": "stdout",
     "output_type": "stream",
     "text": [
      "7.6451564\n"
     ]
    },
    {
     "name": "stderr",
     "output_type": "stream",
     "text": [
      "100%|██████████| 200/200 [00:02<00:00, 86.22it/s]\n"
     ]
    },
    {
     "name": "stdout",
     "output_type": "stream",
     "text": [
      "7.6451564\n"
     ]
    },
    {
     "name": "stderr",
     "output_type": "stream",
     "text": [
      "100%|██████████| 200/200 [00:02<00:00, 86.89it/s]\n"
     ]
    },
    {
     "name": "stdout",
     "output_type": "stream",
     "text": [
      "7.6451564\n"
     ]
    },
    {
     "name": "stderr",
     "output_type": "stream",
     "text": [
      "100%|██████████| 200/200 [00:02<00:00, 86.94it/s]\n"
     ]
    },
    {
     "name": "stdout",
     "output_type": "stream",
     "text": [
      "7.6451564\n"
     ]
    },
    {
     "name": "stderr",
     "output_type": "stream",
     "text": [
      "100%|██████████| 200/200 [00:02<00:00, 86.28it/s]\n"
     ]
    },
    {
     "name": "stdout",
     "output_type": "stream",
     "text": [
      "7.6451564\n"
     ]
    },
    {
     "name": "stderr",
     "output_type": "stream",
     "text": [
      "100%|██████████| 200/200 [00:02<00:00, 86.79it/s]\n"
     ]
    },
    {
     "name": "stdout",
     "output_type": "stream",
     "text": [
      "7.6451564\n"
     ]
    },
    {
     "name": "stderr",
     "output_type": "stream",
     "text": [
      "100%|██████████| 200/200 [00:03<00:00, 63.89it/s]\n"
     ]
    },
    {
     "name": "stdout",
     "output_type": "stream",
     "text": [
      "7.7538185\n"
     ]
    },
    {
     "name": "stderr",
     "output_type": "stream",
     "text": [
      "100%|██████████| 200/200 [00:03<00:00, 63.07it/s]\n"
     ]
    },
    {
     "name": "stdout",
     "output_type": "stream",
     "text": [
      "9.754261\n"
     ]
    },
    {
     "name": "stderr",
     "output_type": "stream",
     "text": [
      "100%|██████████| 200/200 [00:03<00:00, 63.02it/s]\n"
     ]
    },
    {
     "name": "stdout",
     "output_type": "stream",
     "text": [
      "11.6897745\n"
     ]
    },
    {
     "name": "stderr",
     "output_type": "stream",
     "text": [
      "100%|██████████| 200/200 [00:03<00:00, 63.57it/s]\n"
     ]
    },
    {
     "name": "stdout",
     "output_type": "stream",
     "text": [
      "13.552478\n"
     ]
    },
    {
     "name": "stderr",
     "output_type": "stream",
     "text": [
      "100%|██████████| 200/200 [00:03<00:00, 63.85it/s]\n"
     ]
    },
    {
     "name": "stdout",
     "output_type": "stream",
     "text": [
      "15.342634\n"
     ]
    },
    {
     "name": "stderr",
     "output_type": "stream",
     "text": [
      "100%|██████████| 200/200 [00:03<00:00, 63.90it/s]\n"
     ]
    },
    {
     "name": "stdout",
     "output_type": "stream",
     "text": [
      "7.7912483\n"
     ]
    },
    {
     "name": "stderr",
     "output_type": "stream",
     "text": [
      "100%|██████████| 200/200 [00:03<00:00, 63.21it/s]\n"
     ]
    },
    {
     "name": "stdout",
     "output_type": "stream",
     "text": [
      "9.775189\n"
     ]
    },
    {
     "name": "stderr",
     "output_type": "stream",
     "text": [
      "100%|██████████| 200/200 [00:03<00:00, 63.80it/s]\n"
     ]
    },
    {
     "name": "stdout",
     "output_type": "stream",
     "text": [
      "11.716077\n"
     ]
    },
    {
     "name": "stderr",
     "output_type": "stream",
     "text": [
      "100%|██████████| 200/200 [00:03<00:00, 63.54it/s]\n"
     ]
    },
    {
     "name": "stdout",
     "output_type": "stream",
     "text": [
      "13.566682\n"
     ]
    },
    {
     "name": "stderr",
     "output_type": "stream",
     "text": [
      "100%|██████████| 200/200 [00:03<00:00, 63.88it/s]\n"
     ]
    },
    {
     "name": "stdout",
     "output_type": "stream",
     "text": [
      "15.367095\n"
     ]
    },
    {
     "name": "stderr",
     "output_type": "stream",
     "text": [
      "100%|██████████| 200/200 [00:03<00:00, 63.79it/s]\n"
     ]
    },
    {
     "name": "stdout",
     "output_type": "stream",
     "text": [
      "8.724668\n"
     ]
    },
    {
     "name": "stderr",
     "output_type": "stream",
     "text": [
      "100%|██████████| 200/200 [00:03<00:00, 63.17it/s]\n"
     ]
    },
    {
     "name": "stdout",
     "output_type": "stream",
     "text": [
      "11.183569\n"
     ]
    },
    {
     "name": "stderr",
     "output_type": "stream",
     "text": [
      "100%|██████████| 200/200 [00:03<00:00, 63.32it/s]\n"
     ]
    },
    {
     "name": "stdout",
     "output_type": "stream",
     "text": [
      "13.553235\n"
     ]
    },
    {
     "name": "stderr",
     "output_type": "stream",
     "text": [
      "100%|██████████| 200/200 [00:03<00:00, 63.47it/s]\n"
     ]
    },
    {
     "name": "stdout",
     "output_type": "stream",
     "text": [
      "15.846593\n"
     ]
    },
    {
     "name": "stderr",
     "output_type": "stream",
     "text": [
      "100%|██████████| 200/200 [00:03<00:00, 63.76it/s]\n"
     ]
    },
    {
     "name": "stdout",
     "output_type": "stream",
     "text": [
      "17.96849\n"
     ]
    },
    {
     "name": "stderr",
     "output_type": "stream",
     "text": [
      "100%|██████████| 200/200 [00:03<00:00, 63.85it/s]\n"
     ]
    },
    {
     "name": "stdout",
     "output_type": "stream",
     "text": [
      "8.109703\n"
     ]
    },
    {
     "name": "stderr",
     "output_type": "stream",
     "text": [
      "100%|██████████| 200/200 [00:03<00:00, 63.53it/s]\n"
     ]
    },
    {
     "name": "stdout",
     "output_type": "stream",
     "text": [
      "10.294434\n"
     ]
    },
    {
     "name": "stderr",
     "output_type": "stream",
     "text": [
      "100%|██████████| 200/200 [00:03<00:00, 63.68it/s]\n"
     ]
    },
    {
     "name": "stdout",
     "output_type": "stream",
     "text": [
      "12.520434\n"
     ]
    },
    {
     "name": "stderr",
     "output_type": "stream",
     "text": [
      "100%|██████████| 200/200 [00:03<00:00, 63.55it/s]\n"
     ]
    },
    {
     "name": "stdout",
     "output_type": "stream",
     "text": [
      "14.7594795\n"
     ]
    },
    {
     "name": "stderr",
     "output_type": "stream",
     "text": [
      "100%|██████████| 200/200 [00:03<00:00, 63.81it/s]\n"
     ]
    },
    {
     "name": "stdout",
     "output_type": "stream",
     "text": [
      "16.892542\n"
     ]
    },
    {
     "name": "stderr",
     "output_type": "stream",
     "text": [
      "100%|██████████| 200/200 [00:03<00:00, 63.76it/s]\n"
     ]
    },
    {
     "name": "stdout",
     "output_type": "stream",
     "text": [
      "8.738331\n"
     ]
    },
    {
     "name": "stderr",
     "output_type": "stream",
     "text": [
      "100%|██████████| 200/200 [00:03<00:00, 63.59it/s]\n"
     ]
    },
    {
     "name": "stdout",
     "output_type": "stream",
     "text": [
      "11.2565975\n"
     ]
    },
    {
     "name": "stderr",
     "output_type": "stream",
     "text": [
      "100%|██████████| 200/200 [00:03<00:00, 63.34it/s]\n"
     ]
    },
    {
     "name": "stdout",
     "output_type": "stream",
     "text": [
      "13.670147\n"
     ]
    },
    {
     "name": "stderr",
     "output_type": "stream",
     "text": [
      "100%|██████████| 200/200 [00:03<00:00, 63.40it/s]\n"
     ]
    },
    {
     "name": "stdout",
     "output_type": "stream",
     "text": [
      "15.931572\n"
     ]
    },
    {
     "name": "stderr",
     "output_type": "stream",
     "text": [
      "100%|██████████| 200/200 [00:03<00:00, 63.61it/s]\n"
     ]
    },
    {
     "name": "stdout",
     "output_type": "stream",
     "text": [
      "18.017006\n"
     ]
    },
    {
     "name": "stderr",
     "output_type": "stream",
     "text": [
      "100%|██████████| 200/200 [00:03<00:00, 63.73it/s]\n"
     ]
    },
    {
     "name": "stdout",
     "output_type": "stream",
     "text": [
      "8.980907\n"
     ]
    },
    {
     "name": "stderr",
     "output_type": "stream",
     "text": [
      "100%|██████████| 200/200 [00:03<00:00, 63.62it/s]\n"
     ]
    },
    {
     "name": "stdout",
     "output_type": "stream",
     "text": [
      "11.6005125\n"
     ]
    },
    {
     "name": "stderr",
     "output_type": "stream",
     "text": [
      "100%|██████████| 200/200 [00:03<00:00, 63.77it/s]\n"
     ]
    },
    {
     "name": "stdout",
     "output_type": "stream",
     "text": [
      "13.961433\n"
     ]
    },
    {
     "name": "stderr",
     "output_type": "stream",
     "text": [
      "100%|██████████| 200/200 [00:03<00:00, 63.08it/s]\n"
     ]
    },
    {
     "name": "stdout",
     "output_type": "stream",
     "text": [
      "16.204096\n"
     ]
    },
    {
     "name": "stderr",
     "output_type": "stream",
     "text": [
      "100%|██████████| 200/200 [00:03<00:00, 63.67it/s]\n"
     ]
    },
    {
     "name": "stdout",
     "output_type": "stream",
     "text": [
      "18.261515\n"
     ]
    },
    {
     "name": "stderr",
     "output_type": "stream",
     "text": [
      "100%|██████████| 200/200 [00:03<00:00, 63.67it/s]\n"
     ]
    },
    {
     "name": "stdout",
     "output_type": "stream",
     "text": [
      "9.054989\n"
     ]
    },
    {
     "name": "stderr",
     "output_type": "stream",
     "text": [
      "100%|██████████| 200/200 [00:03<00:00, 63.31it/s]\n"
     ]
    },
    {
     "name": "stdout",
     "output_type": "stream",
     "text": [
      "11.640615\n"
     ]
    },
    {
     "name": "stderr",
     "output_type": "stream",
     "text": [
      "100%|██████████| 200/200 [00:03<00:00, 63.35it/s]\n"
     ]
    },
    {
     "name": "stdout",
     "output_type": "stream",
     "text": [
      "14.05378\n"
     ]
    },
    {
     "name": "stderr",
     "output_type": "stream",
     "text": [
      "100%|██████████| 200/200 [00:03<00:00, 63.10it/s]\n"
     ]
    },
    {
     "name": "stdout",
     "output_type": "stream",
     "text": [
      "16.251963\n"
     ]
    },
    {
     "name": "stderr",
     "output_type": "stream",
     "text": [
      "100%|██████████| 200/200 [00:03<00:00, 63.75it/s]\n"
     ]
    },
    {
     "name": "stdout",
     "output_type": "stream",
     "text": [
      "18.24461\n"
     ]
    },
    {
     "name": "stderr",
     "output_type": "stream",
     "text": [
      "100%|██████████| 200/200 [00:03<00:00, 64.89it/s]\n"
     ]
    },
    {
     "name": "stdout",
     "output_type": "stream",
     "text": [
      "5.5869007\n"
     ]
    },
    {
     "name": "stderr",
     "output_type": "stream",
     "text": [
      "100%|██████████| 200/200 [00:03<00:00, 65.52it/s]\n"
     ]
    },
    {
     "name": "stdout",
     "output_type": "stream",
     "text": [
      "5.8486114\n"
     ]
    },
    {
     "name": "stderr",
     "output_type": "stream",
     "text": [
      "100%|██████████| 200/200 [00:03<00:00, 66.64it/s]\n"
     ]
    },
    {
     "name": "stdout",
     "output_type": "stream",
     "text": [
      "6.024359\n"
     ]
    },
    {
     "name": "stderr",
     "output_type": "stream",
     "text": [
      "100%|██████████| 200/200 [00:02<00:00, 69.04it/s]\n"
     ]
    },
    {
     "name": "stdout",
     "output_type": "stream",
     "text": [
      "6.2148767\n"
     ]
    },
    {
     "name": "stderr",
     "output_type": "stream",
     "text": [
      "100%|██████████| 200/200 [00:02<00:00, 73.62it/s]\n"
     ]
    },
    {
     "name": "stdout",
     "output_type": "stream",
     "text": [
      "6.4802914\n"
     ]
    },
    {
     "name": "stderr",
     "output_type": "stream",
     "text": [
      "100%|██████████| 200/200 [00:03<00:00, 64.81it/s]\n"
     ]
    },
    {
     "name": "stdout",
     "output_type": "stream",
     "text": [
      "5.595243\n"
     ]
    },
    {
     "name": "stderr",
     "output_type": "stream",
     "text": [
      "100%|██████████| 200/200 [00:03<00:00, 65.47it/s]\n"
     ]
    },
    {
     "name": "stdout",
     "output_type": "stream",
     "text": [
      "5.880475\n"
     ]
    },
    {
     "name": "stderr",
     "output_type": "stream",
     "text": [
      "100%|██████████| 200/200 [00:02<00:00, 66.81it/s]\n"
     ]
    },
    {
     "name": "stdout",
     "output_type": "stream",
     "text": [
      "6.0432987\n"
     ]
    },
    {
     "name": "stderr",
     "output_type": "stream",
     "text": [
      "100%|██████████| 200/200 [00:02<00:00, 68.52it/s]\n"
     ]
    },
    {
     "name": "stdout",
     "output_type": "stream",
     "text": [
      "6.2345486\n"
     ]
    },
    {
     "name": "stderr",
     "output_type": "stream",
     "text": [
      "100%|██████████| 200/200 [00:02<00:00, 73.58it/s]\n"
     ]
    },
    {
     "name": "stdout",
     "output_type": "stream",
     "text": [
      "6.502737\n"
     ]
    },
    {
     "name": "stderr",
     "output_type": "stream",
     "text": [
      "100%|██████████| 200/200 [00:03<00:00, 64.92it/s]\n"
     ]
    },
    {
     "name": "stdout",
     "output_type": "stream",
     "text": [
      "6.4422145\n"
     ]
    },
    {
     "name": "stderr",
     "output_type": "stream",
     "text": [
      "100%|██████████| 200/200 [00:03<00:00, 65.07it/s]\n"
     ]
    },
    {
     "name": "stdout",
     "output_type": "stream",
     "text": [
      "6.938172\n"
     ]
    },
    {
     "name": "stderr",
     "output_type": "stream",
     "text": [
      "100%|██████████| 200/200 [00:02<00:00, 66.85it/s]\n"
     ]
    },
    {
     "name": "stdout",
     "output_type": "stream",
     "text": [
      "7.518904\n"
     ]
    },
    {
     "name": "stderr",
     "output_type": "stream",
     "text": [
      "100%|██████████| 200/200 [00:02<00:00, 69.07it/s]\n"
     ]
    },
    {
     "name": "stdout",
     "output_type": "stream",
     "text": [
      "8.196659\n"
     ]
    },
    {
     "name": "stderr",
     "output_type": "stream",
     "text": [
      "100%|██████████| 200/200 [00:02<00:00, 73.73it/s]\n"
     ]
    },
    {
     "name": "stdout",
     "output_type": "stream",
     "text": [
      "8.858882\n"
     ]
    },
    {
     "name": "stderr",
     "output_type": "stream",
     "text": [
      "100%|██████████| 200/200 [00:03<00:00, 64.88it/s]\n"
     ]
    },
    {
     "name": "stdout",
     "output_type": "stream",
     "text": [
      "5.8420644\n"
     ]
    },
    {
     "name": "stderr",
     "output_type": "stream",
     "text": [
      "100%|██████████| 200/200 [00:03<00:00, 65.44it/s]\n"
     ]
    },
    {
     "name": "stdout",
     "output_type": "stream",
     "text": [
      "6.1392946\n"
     ]
    },
    {
     "name": "stderr",
     "output_type": "stream",
     "text": [
      "100%|██████████| 200/200 [00:02<00:00, 66.72it/s]\n"
     ]
    },
    {
     "name": "stdout",
     "output_type": "stream",
     "text": [
      "6.535858\n"
     ]
    },
    {
     "name": "stderr",
     "output_type": "stream",
     "text": [
      "100%|██████████| 200/200 [00:02<00:00, 69.27it/s]\n"
     ]
    },
    {
     "name": "stdout",
     "output_type": "stream",
     "text": [
      "7.049673\n"
     ]
    },
    {
     "name": "stderr",
     "output_type": "stream",
     "text": [
      "100%|██████████| 200/200 [00:02<00:00, 73.01it/s]\n"
     ]
    },
    {
     "name": "stdout",
     "output_type": "stream",
     "text": [
      "7.59892\n"
     ]
    },
    {
     "name": "stderr",
     "output_type": "stream",
     "text": [
      "100%|██████████| 200/200 [00:03<00:00, 64.69it/s]\n"
     ]
    },
    {
     "name": "stdout",
     "output_type": "stream",
     "text": [
      "6.3821297\n"
     ]
    },
    {
     "name": "stderr",
     "output_type": "stream",
     "text": [
      "100%|██████████| 200/200 [00:03<00:00, 65.50it/s]\n"
     ]
    },
    {
     "name": "stdout",
     "output_type": "stream",
     "text": [
      "6.977201\n"
     ]
    },
    {
     "name": "stderr",
     "output_type": "stream",
     "text": [
      "100%|██████████| 200/200 [00:02<00:00, 66.74it/s]\n"
     ]
    },
    {
     "name": "stdout",
     "output_type": "stream",
     "text": [
      "7.6145544\n"
     ]
    },
    {
     "name": "stderr",
     "output_type": "stream",
     "text": [
      "100%|██████████| 200/200 [00:02<00:00, 69.20it/s]\n"
     ]
    },
    {
     "name": "stdout",
     "output_type": "stream",
     "text": [
      "8.24339\n"
     ]
    },
    {
     "name": "stderr",
     "output_type": "stream",
     "text": [
      "100%|██████████| 200/200 [00:02<00:00, 73.62it/s]\n"
     ]
    },
    {
     "name": "stdout",
     "output_type": "stream",
     "text": [
      "8.8594265\n"
     ]
    },
    {
     "name": "stderr",
     "output_type": "stream",
     "text": [
      "100%|██████████| 200/200 [00:03<00:00, 64.91it/s]\n"
     ]
    },
    {
     "name": "stdout",
     "output_type": "stream",
     "text": [
      "6.6646895\n"
     ]
    },
    {
     "name": "stderr",
     "output_type": "stream",
     "text": [
      "100%|██████████| 200/200 [00:03<00:00, 65.43it/s]\n"
     ]
    },
    {
     "name": "stdout",
     "output_type": "stream",
     "text": [
      "7.328505\n"
     ]
    },
    {
     "name": "stderr",
     "output_type": "stream",
     "text": [
      "100%|██████████| 200/200 [00:02<00:00, 66.77it/s]\n"
     ]
    },
    {
     "name": "stdout",
     "output_type": "stream",
     "text": [
      "7.9410133\n"
     ]
    },
    {
     "name": "stderr",
     "output_type": "stream",
     "text": [
      "100%|██████████| 200/200 [00:02<00:00, 69.33it/s]\n"
     ]
    },
    {
     "name": "stdout",
     "output_type": "stream",
     "text": [
      "8.545985\n"
     ]
    },
    {
     "name": "stderr",
     "output_type": "stream",
     "text": [
      "100%|██████████| 200/200 [00:02<00:00, 73.57it/s]\n"
     ]
    },
    {
     "name": "stdout",
     "output_type": "stream",
     "text": [
      "9.15857\n"
     ]
    },
    {
     "name": "stderr",
     "output_type": "stream",
     "text": [
      "100%|██████████| 200/200 [00:03<00:00, 64.42it/s]\n"
     ]
    },
    {
     "name": "stdout",
     "output_type": "stream",
     "text": [
      "6.7443385\n"
     ]
    },
    {
     "name": "stderr",
     "output_type": "stream",
     "text": [
      "100%|██████████| 200/200 [00:03<00:00, 64.91it/s]\n"
     ]
    },
    {
     "name": "stdout",
     "output_type": "stream",
     "text": [
      "7.38126\n"
     ]
    },
    {
     "name": "stderr",
     "output_type": "stream",
     "text": [
      "100%|██████████| 200/200 [00:02<00:00, 66.81it/s]\n"
     ]
    },
    {
     "name": "stdout",
     "output_type": "stream",
     "text": [
      "8.00658\n"
     ]
    },
    {
     "name": "stderr",
     "output_type": "stream",
     "text": [
      "100%|██████████| 200/200 [00:02<00:00, 69.22it/s]\n"
     ]
    },
    {
     "name": "stdout",
     "output_type": "stream",
     "text": [
      "8.583623\n"
     ]
    },
    {
     "name": "stderr",
     "output_type": "stream",
     "text": [
      "100%|██████████| 200/200 [00:02<00:00, 73.41it/s]\n"
     ]
    },
    {
     "name": "stdout",
     "output_type": "stream",
     "text": [
      "9.100391\n"
     ]
    },
    {
     "name": "stderr",
     "output_type": "stream",
     "text": [
      "100%|██████████| 200/200 [00:03<00:00, 63.92it/s]\n"
     ]
    },
    {
     "name": "stdout",
     "output_type": "stream",
     "text": [
      "6.9532995\n"
     ]
    },
    {
     "name": "stderr",
     "output_type": "stream",
     "text": [
      "100%|██████████| 200/200 [00:03<00:00, 63.41it/s]\n"
     ]
    },
    {
     "name": "stdout",
     "output_type": "stream",
     "text": [
      "7.936255\n"
     ]
    },
    {
     "name": "stderr",
     "output_type": "stream",
     "text": [
      "100%|██████████| 200/200 [00:03<00:00, 63.75it/s]\n"
     ]
    },
    {
     "name": "stdout",
     "output_type": "stream",
     "text": [
      "8.270797\n"
     ]
    },
    {
     "name": "stderr",
     "output_type": "stream",
     "text": [
      "100%|██████████| 200/200 [00:03<00:00, 63.82it/s]\n"
     ]
    },
    {
     "name": "stdout",
     "output_type": "stream",
     "text": [
      "8.228595\n"
     ]
    },
    {
     "name": "stderr",
     "output_type": "stream",
     "text": [
      "100%|██████████| 200/200 [00:03<00:00, 63.56it/s]\n"
     ]
    },
    {
     "name": "stdout",
     "output_type": "stream",
     "text": [
      "8.08704\n"
     ]
    },
    {
     "name": "stderr",
     "output_type": "stream",
     "text": [
      "100%|██████████| 200/200 [00:03<00:00, 63.73it/s]\n"
     ]
    },
    {
     "name": "stdout",
     "output_type": "stream",
     "text": [
      "6.973479\n"
     ]
    },
    {
     "name": "stderr",
     "output_type": "stream",
     "text": [
      "100%|██████████| 200/200 [00:03<00:00, 63.07it/s]\n"
     ]
    },
    {
     "name": "stdout",
     "output_type": "stream",
     "text": [
      "7.9755473\n"
     ]
    },
    {
     "name": "stderr",
     "output_type": "stream",
     "text": [
      "100%|██████████| 200/200 [00:03<00:00, 63.79it/s]\n"
     ]
    },
    {
     "name": "stdout",
     "output_type": "stream",
     "text": [
      "8.310733\n"
     ]
    },
    {
     "name": "stderr",
     "output_type": "stream",
     "text": [
      "100%|██████████| 200/200 [00:03<00:00, 63.74it/s]\n"
     ]
    },
    {
     "name": "stdout",
     "output_type": "stream",
     "text": [
      "8.2775955\n"
     ]
    },
    {
     "name": "stderr",
     "output_type": "stream",
     "text": [
      "100%|██████████| 200/200 [00:03<00:00, 63.16it/s]\n"
     ]
    },
    {
     "name": "stdout",
     "output_type": "stream",
     "text": [
      "8.129225\n"
     ]
    },
    {
     "name": "stderr",
     "output_type": "stream",
     "text": [
      "100%|██████████| 200/200 [00:03<00:00, 63.68it/s]\n"
     ]
    },
    {
     "name": "stdout",
     "output_type": "stream",
     "text": [
      "7.870642\n"
     ]
    },
    {
     "name": "stderr",
     "output_type": "stream",
     "text": [
      "100%|██████████| 200/200 [00:03<00:00, 63.39it/s]\n"
     ]
    },
    {
     "name": "stdout",
     "output_type": "stream",
     "text": [
      "9.32713\n"
     ]
    },
    {
     "name": "stderr",
     "output_type": "stream",
     "text": [
      "100%|██████████| 200/200 [00:03<00:00, 63.65it/s]\n"
     ]
    },
    {
     "name": "stdout",
     "output_type": "stream",
     "text": [
      "10.51812\n"
     ]
    },
    {
     "name": "stderr",
     "output_type": "stream",
     "text": [
      "100%|██████████| 200/200 [00:03<00:00, 63.70it/s]\n"
     ]
    },
    {
     "name": "stdout",
     "output_type": "stream",
     "text": [
      "11.576341\n"
     ]
    },
    {
     "name": "stderr",
     "output_type": "stream",
     "text": [
      "100%|██████████| 200/200 [00:03<00:00, 63.57it/s]\n"
     ]
    },
    {
     "name": "stdout",
     "output_type": "stream",
     "text": [
      "12.399023\n"
     ]
    },
    {
     "name": "stderr",
     "output_type": "stream",
     "text": [
      "100%|██████████| 200/200 [00:03<00:00, 63.93it/s]\n"
     ]
    },
    {
     "name": "stdout",
     "output_type": "stream",
     "text": [
      "7.283183\n"
     ]
    },
    {
     "name": "stderr",
     "output_type": "stream",
     "text": [
      "100%|██████████| 200/200 [00:03<00:00, 63.08it/s]\n"
     ]
    },
    {
     "name": "stdout",
     "output_type": "stream",
     "text": [
      "8.255198\n"
     ]
    },
    {
     "name": "stderr",
     "output_type": "stream",
     "text": [
      "100%|██████████| 200/200 [00:03<00:00, 63.69it/s]\n"
     ]
    },
    {
     "name": "stdout",
     "output_type": "stream",
     "text": [
      "9.010955\n"
     ]
    },
    {
     "name": "stderr",
     "output_type": "stream",
     "text": [
      "100%|██████████| 200/200 [00:03<00:00, 63.71it/s]\n"
     ]
    },
    {
     "name": "stdout",
     "output_type": "stream",
     "text": [
      "9.791337\n"
     ]
    },
    {
     "name": "stderr",
     "output_type": "stream",
     "text": [
      "100%|██████████| 200/200 [00:03<00:00, 63.59it/s]\n"
     ]
    },
    {
     "name": "stdout",
     "output_type": "stream",
     "text": [
      "10.409863\n"
     ]
    },
    {
     "name": "stderr",
     "output_type": "stream",
     "text": [
      "100%|██████████| 200/200 [00:03<00:00, 63.78it/s]\n"
     ]
    },
    {
     "name": "stdout",
     "output_type": "stream",
     "text": [
      "7.9366536\n"
     ]
    },
    {
     "name": "stderr",
     "output_type": "stream",
     "text": [
      "100%|██████████| 200/200 [00:03<00:00, 63.54it/s]\n"
     ]
    },
    {
     "name": "stdout",
     "output_type": "stream",
     "text": [
      "9.495162\n"
     ]
    },
    {
     "name": "stderr",
     "output_type": "stream",
     "text": [
      "100%|██████████| 200/200 [00:03<00:00, 63.71it/s]\n"
     ]
    },
    {
     "name": "stdout",
     "output_type": "stream",
     "text": [
      "10.680911\n"
     ]
    },
    {
     "name": "stderr",
     "output_type": "stream",
     "text": [
      "100%|██████████| 200/200 [00:03<00:00, 63.65it/s]\n"
     ]
    },
    {
     "name": "stdout",
     "output_type": "stream",
     "text": [
      "11.596925\n"
     ]
    },
    {
     "name": "stderr",
     "output_type": "stream",
     "text": [
      "100%|██████████| 200/200 [00:03<00:00, 63.52it/s]\n"
     ]
    },
    {
     "name": "stdout",
     "output_type": "stream",
     "text": [
      "12.261369\n"
     ]
    },
    {
     "name": "stderr",
     "output_type": "stream",
     "text": [
      "100%|██████████| 200/200 [00:03<00:00, 63.67it/s]\n"
     ]
    },
    {
     "name": "stdout",
     "output_type": "stream",
     "text": [
      "8.10813\n"
     ]
    },
    {
     "name": "stderr",
     "output_type": "stream",
     "text": [
      "100%|██████████| 200/200 [00:03<00:00, 62.94it/s]\n"
     ]
    },
    {
     "name": "stdout",
     "output_type": "stream",
     "text": [
      "9.634163\n"
     ]
    },
    {
     "name": "stderr",
     "output_type": "stream",
     "text": [
      "100%|██████████| 200/200 [00:03<00:00, 63.36it/s]\n"
     ]
    },
    {
     "name": "stdout",
     "output_type": "stream",
     "text": [
      "10.849179\n"
     ]
    },
    {
     "name": "stderr",
     "output_type": "stream",
     "text": [
      "100%|██████████| 200/200 [00:03<00:00, 63.59it/s]\n"
     ]
    },
    {
     "name": "stdout",
     "output_type": "stream",
     "text": [
      "11.808738\n"
     ]
    },
    {
     "name": "stderr",
     "output_type": "stream",
     "text": [
      "100%|██████████| 200/200 [00:03<00:00, 63.84it/s]\n"
     ]
    },
    {
     "name": "stdout",
     "output_type": "stream",
     "text": [
      "12.469314\n"
     ]
    },
    {
     "name": "stderr",
     "output_type": "stream",
     "text": [
      "100%|██████████| 200/200 [00:03<00:00, 63.77it/s]\n"
     ]
    },
    {
     "name": "stdout",
     "output_type": "stream",
     "text": [
      "8.154705\n"
     ]
    },
    {
     "name": "stderr",
     "output_type": "stream",
     "text": [
      "100%|██████████| 200/200 [00:03<00:00, 63.22it/s]\n"
     ]
    },
    {
     "name": "stdout",
     "output_type": "stream",
     "text": [
      "9.74641\n"
     ]
    },
    {
     "name": "stderr",
     "output_type": "stream",
     "text": [
      "100%|██████████| 200/200 [00:03<00:00, 63.65it/s]\n"
     ]
    },
    {
     "name": "stdout",
     "output_type": "stream",
     "text": [
      "11.015677\n"
     ]
    },
    {
     "name": "stderr",
     "output_type": "stream",
     "text": [
      "100%|██████████| 200/200 [00:03<00:00, 63.54it/s]\n"
     ]
    },
    {
     "name": "stdout",
     "output_type": "stream",
     "text": [
      "11.992887\n"
     ]
    },
    {
     "name": "stderr",
     "output_type": "stream",
     "text": [
      "100%|██████████| 200/200 [00:03<00:00, 63.69it/s]\n"
     ]
    },
    {
     "name": "stdout",
     "output_type": "stream",
     "text": [
      "12.599897\n"
     ]
    },
    {
     "name": "stderr",
     "output_type": "stream",
     "text": [
      "100%|██████████| 200/200 [00:03<00:00, 64.24it/s]\n"
     ]
    },
    {
     "name": "stdout",
     "output_type": "stream",
     "text": [
      "5.955811\n"
     ]
    },
    {
     "name": "stderr",
     "output_type": "stream",
     "text": [
      "100%|██████████| 200/200 [00:03<00:00, 63.66it/s]\n"
     ]
    },
    {
     "name": "stdout",
     "output_type": "stream",
     "text": [
      "5.955811\n"
     ]
    },
    {
     "name": "stderr",
     "output_type": "stream",
     "text": [
      "100%|██████████| 200/200 [00:03<00:00, 64.00it/s]\n"
     ]
    },
    {
     "name": "stdout",
     "output_type": "stream",
     "text": [
      "5.955811\n"
     ]
    },
    {
     "name": "stderr",
     "output_type": "stream",
     "text": [
      "100%|██████████| 200/200 [00:03<00:00, 63.64it/s]\n"
     ]
    },
    {
     "name": "stdout",
     "output_type": "stream",
     "text": [
      "5.955811\n"
     ]
    },
    {
     "name": "stderr",
     "output_type": "stream",
     "text": [
      "100%|██████████| 200/200 [00:03<00:00, 64.25it/s]\n"
     ]
    },
    {
     "name": "stdout",
     "output_type": "stream",
     "text": [
      "5.955811\n"
     ]
    },
    {
     "name": "stderr",
     "output_type": "stream",
     "text": [
      "100%|██████████| 200/200 [00:03<00:00, 64.49it/s]\n"
     ]
    },
    {
     "name": "stdout",
     "output_type": "stream",
     "text": [
      "5.955811\n"
     ]
    },
    {
     "name": "stderr",
     "output_type": "stream",
     "text": [
      "100%|██████████| 200/200 [00:03<00:00, 64.20it/s]\n"
     ]
    },
    {
     "name": "stdout",
     "output_type": "stream",
     "text": [
      "5.955811\n"
     ]
    },
    {
     "name": "stderr",
     "output_type": "stream",
     "text": [
      "100%|██████████| 200/200 [00:03<00:00, 64.50it/s]\n"
     ]
    },
    {
     "name": "stdout",
     "output_type": "stream",
     "text": [
      "5.955811\n"
     ]
    },
    {
     "name": "stderr",
     "output_type": "stream",
     "text": [
      "100%|██████████| 200/200 [00:03<00:00, 64.47it/s]\n"
     ]
    },
    {
     "name": "stdout",
     "output_type": "stream",
     "text": [
      "5.955811\n"
     ]
    },
    {
     "name": "stderr",
     "output_type": "stream",
     "text": [
      "100%|██████████| 200/200 [00:03<00:00, 64.38it/s]\n"
     ]
    },
    {
     "name": "stdout",
     "output_type": "stream",
     "text": [
      "5.955811\n"
     ]
    },
    {
     "name": "stderr",
     "output_type": "stream",
     "text": [
      "100%|██████████| 200/200 [00:03<00:00, 64.56it/s]\n"
     ]
    },
    {
     "name": "stdout",
     "output_type": "stream",
     "text": [
      "5.955811\n"
     ]
    },
    {
     "name": "stderr",
     "output_type": "stream",
     "text": [
      "100%|██████████| 200/200 [00:03<00:00, 64.38it/s]\n"
     ]
    },
    {
     "name": "stdout",
     "output_type": "stream",
     "text": [
      "5.955811\n"
     ]
    },
    {
     "name": "stderr",
     "output_type": "stream",
     "text": [
      "100%|██████████| 200/200 [00:03<00:00, 63.89it/s]\n"
     ]
    },
    {
     "name": "stdout",
     "output_type": "stream",
     "text": [
      "5.955811\n"
     ]
    },
    {
     "name": "stderr",
     "output_type": "stream",
     "text": [
      "100%|██████████| 200/200 [00:03<00:00, 64.57it/s]\n"
     ]
    },
    {
     "name": "stdout",
     "output_type": "stream",
     "text": [
      "5.955811\n"
     ]
    },
    {
     "name": "stderr",
     "output_type": "stream",
     "text": [
      "100%|██████████| 200/200 [00:03<00:00, 64.23it/s]\n"
     ]
    },
    {
     "name": "stdout",
     "output_type": "stream",
     "text": [
      "5.955811\n"
     ]
    },
    {
     "name": "stderr",
     "output_type": "stream",
     "text": [
      "100%|██████████| 200/200 [00:03<00:00, 64.52it/s]\n"
     ]
    },
    {
     "name": "stdout",
     "output_type": "stream",
     "text": [
      "5.955811\n"
     ]
    },
    {
     "name": "stderr",
     "output_type": "stream",
     "text": [
      "100%|██████████| 200/200 [00:03<00:00, 64.60it/s]\n"
     ]
    },
    {
     "name": "stdout",
     "output_type": "stream",
     "text": [
      "5.955811\n"
     ]
    },
    {
     "name": "stderr",
     "output_type": "stream",
     "text": [
      "100%|██████████| 200/200 [00:03<00:00, 64.27it/s]\n"
     ]
    },
    {
     "name": "stdout",
     "output_type": "stream",
     "text": [
      "5.955811\n"
     ]
    },
    {
     "name": "stderr",
     "output_type": "stream",
     "text": [
      "100%|██████████| 200/200 [00:03<00:00, 64.26it/s]\n"
     ]
    },
    {
     "name": "stdout",
     "output_type": "stream",
     "text": [
      "5.955811\n"
     ]
    },
    {
     "name": "stderr",
     "output_type": "stream",
     "text": [
      "100%|██████████| 200/200 [00:03<00:00, 64.32it/s]\n"
     ]
    },
    {
     "name": "stdout",
     "output_type": "stream",
     "text": [
      "5.955811\n"
     ]
    },
    {
     "name": "stderr",
     "output_type": "stream",
     "text": [
      "100%|██████████| 200/200 [00:03<00:00, 64.47it/s]\n"
     ]
    },
    {
     "name": "stdout",
     "output_type": "stream",
     "text": [
      "5.955811\n"
     ]
    },
    {
     "name": "stderr",
     "output_type": "stream",
     "text": [
      "100%|██████████| 200/200 [00:03<00:00, 64.47it/s]\n"
     ]
    },
    {
     "name": "stdout",
     "output_type": "stream",
     "text": [
      "5.955811\n"
     ]
    },
    {
     "name": "stderr",
     "output_type": "stream",
     "text": [
      "100%|██████████| 200/200 [00:03<00:00, 63.99it/s]\n"
     ]
    },
    {
     "name": "stdout",
     "output_type": "stream",
     "text": [
      "5.955811\n"
     ]
    },
    {
     "name": "stderr",
     "output_type": "stream",
     "text": [
      "100%|██████████| 200/200 [00:03<00:00, 64.45it/s]\n"
     ]
    },
    {
     "name": "stdout",
     "output_type": "stream",
     "text": [
      "5.955811\n"
     ]
    },
    {
     "name": "stderr",
     "output_type": "stream",
     "text": [
      "100%|██████████| 200/200 [00:03<00:00, 64.57it/s]\n"
     ]
    },
    {
     "name": "stdout",
     "output_type": "stream",
     "text": [
      "5.955811\n"
     ]
    },
    {
     "name": "stderr",
     "output_type": "stream",
     "text": [
      "100%|██████████| 200/200 [00:03<00:00, 64.27it/s]\n"
     ]
    },
    {
     "name": "stdout",
     "output_type": "stream",
     "text": [
      "5.955811\n"
     ]
    },
    {
     "name": "stderr",
     "output_type": "stream",
     "text": [
      "100%|██████████| 200/200 [00:03<00:00, 64.51it/s]\n"
     ]
    },
    {
     "name": "stdout",
     "output_type": "stream",
     "text": [
      "5.955811\n"
     ]
    },
    {
     "name": "stderr",
     "output_type": "stream",
     "text": [
      "100%|██████████| 200/200 [00:03<00:00, 64.26it/s]\n"
     ]
    },
    {
     "name": "stdout",
     "output_type": "stream",
     "text": [
      "5.955811\n"
     ]
    },
    {
     "name": "stderr",
     "output_type": "stream",
     "text": [
      "100%|██████████| 200/200 [00:03<00:00, 64.45it/s]\n"
     ]
    },
    {
     "name": "stdout",
     "output_type": "stream",
     "text": [
      "5.955811\n"
     ]
    },
    {
     "name": "stderr",
     "output_type": "stream",
     "text": [
      "100%|██████████| 200/200 [00:03<00:00, 64.48it/s]\n"
     ]
    },
    {
     "name": "stdout",
     "output_type": "stream",
     "text": [
      "5.955811\n"
     ]
    },
    {
     "name": "stderr",
     "output_type": "stream",
     "text": [
      "100%|██████████| 200/200 [00:03<00:00, 63.81it/s]\n"
     ]
    },
    {
     "name": "stdout",
     "output_type": "stream",
     "text": [
      "5.955811\n"
     ]
    },
    {
     "name": "stderr",
     "output_type": "stream",
     "text": [
      "100%|██████████| 200/200 [00:03<00:00, 64.51it/s]\n"
     ]
    },
    {
     "name": "stdout",
     "output_type": "stream",
     "text": [
      "5.955811\n"
     ]
    },
    {
     "name": "stderr",
     "output_type": "stream",
     "text": [
      "100%|██████████| 200/200 [00:03<00:00, 64.27it/s]\n"
     ]
    },
    {
     "name": "stdout",
     "output_type": "stream",
     "text": [
      "5.955811\n"
     ]
    },
    {
     "name": "stderr",
     "output_type": "stream",
     "text": [
      "100%|██████████| 200/200 [00:03<00:00, 64.02it/s]\n"
     ]
    },
    {
     "name": "stdout",
     "output_type": "stream",
     "text": [
      "5.955811\n"
     ]
    },
    {
     "name": "stderr",
     "output_type": "stream",
     "text": [
      "100%|██████████| 200/200 [00:03<00:00, 64.52it/s]\n"
     ]
    },
    {
     "name": "stdout",
     "output_type": "stream",
     "text": [
      "5.955811\n"
     ]
    },
    {
     "name": "stderr",
     "output_type": "stream",
     "text": [
      "100%|██████████| 200/200 [00:03<00:00, 66.30it/s]\n"
     ]
    },
    {
     "name": "stdout",
     "output_type": "stream",
     "text": [
      "8.081793\n"
     ]
    },
    {
     "name": "stderr",
     "output_type": "stream",
     "text": [
      "100%|██████████| 200/200 [00:03<00:00, 66.43it/s]\n"
     ]
    },
    {
     "name": "stdout",
     "output_type": "stream",
     "text": [
      "9.076829\n"
     ]
    },
    {
     "name": "stderr",
     "output_type": "stream",
     "text": [
      "100%|██████████| 200/200 [00:03<00:00, 66.33it/s]\n"
     ]
    },
    {
     "name": "stdout",
     "output_type": "stream",
     "text": [
      "10.272104\n"
     ]
    },
    {
     "name": "stderr",
     "output_type": "stream",
     "text": [
      "100%|██████████| 200/200 [00:03<00:00, 66.10it/s]\n"
     ]
    },
    {
     "name": "stdout",
     "output_type": "stream",
     "text": [
      "11.711531\n"
     ]
    },
    {
     "name": "stderr",
     "output_type": "stream",
     "text": [
      "100%|██████████| 200/200 [00:03<00:00, 66.23it/s]\n"
     ]
    },
    {
     "name": "stdout",
     "output_type": "stream",
     "text": [
      "13.1245165\n"
     ]
    },
    {
     "name": "stderr",
     "output_type": "stream",
     "text": [
      "100%|██████████| 200/200 [00:03<00:00, 66.32it/s]\n"
     ]
    },
    {
     "name": "stdout",
     "output_type": "stream",
     "text": [
      "8.103369\n"
     ]
    },
    {
     "name": "stderr",
     "output_type": "stream",
     "text": [
      "100%|██████████| 200/200 [00:03<00:00, 65.92it/s]\n"
     ]
    },
    {
     "name": "stdout",
     "output_type": "stream",
     "text": [
      "9.175401\n"
     ]
    },
    {
     "name": "stderr",
     "output_type": "stream",
     "text": [
      "100%|██████████| 200/200 [00:03<00:00, 66.31it/s]\n"
     ]
    },
    {
     "name": "stdout",
     "output_type": "stream",
     "text": [
      "10.285442\n"
     ]
    },
    {
     "name": "stderr",
     "output_type": "stream",
     "text": [
      "100%|██████████| 200/200 [00:03<00:00, 65.71it/s]\n"
     ]
    },
    {
     "name": "stdout",
     "output_type": "stream",
     "text": [
      "11.739201\n"
     ]
    },
    {
     "name": "stderr",
     "output_type": "stream",
     "text": [
      "100%|██████████| 200/200 [00:03<00:00, 65.99it/s]\n"
     ]
    },
    {
     "name": "stdout",
     "output_type": "stream",
     "text": [
      "13.141254\n"
     ]
    },
    {
     "name": "stderr",
     "output_type": "stream",
     "text": [
      "100%|██████████| 200/200 [00:03<00:00, 66.37it/s]\n"
     ]
    },
    {
     "name": "stdout",
     "output_type": "stream",
     "text": [
      "8.464701\n"
     ]
    },
    {
     "name": "stderr",
     "output_type": "stream",
     "text": [
      "100%|██████████| 200/200 [00:03<00:00, 65.84it/s]\n"
     ]
    },
    {
     "name": "stdout",
     "output_type": "stream",
     "text": [
      "10.141345\n"
     ]
    },
    {
     "name": "stderr",
     "output_type": "stream",
     "text": [
      "100%|██████████| 200/200 [00:03<00:00, 66.27it/s]\n"
     ]
    },
    {
     "name": "stdout",
     "output_type": "stream",
     "text": [
      "11.854115\n"
     ]
    },
    {
     "name": "stderr",
     "output_type": "stream",
     "text": [
      "100%|██████████| 200/200 [00:03<00:00, 66.19it/s]\n"
     ]
    },
    {
     "name": "stdout",
     "output_type": "stream",
     "text": [
      "13.448501\n"
     ]
    },
    {
     "name": "stderr",
     "output_type": "stream",
     "text": [
      "100%|██████████| 200/200 [00:03<00:00, 66.01it/s]\n"
     ]
    },
    {
     "name": "stdout",
     "output_type": "stream",
     "text": [
      "14.966355\n"
     ]
    },
    {
     "name": "stderr",
     "output_type": "stream",
     "text": [
      "100%|██████████| 200/200 [00:03<00:00, 66.36it/s]\n"
     ]
    },
    {
     "name": "stdout",
     "output_type": "stream",
     "text": [
      "8.651495\n"
     ]
    },
    {
     "name": "stderr",
     "output_type": "stream",
     "text": [
      "100%|██████████| 200/200 [00:03<00:00, 66.00it/s]\n"
     ]
    },
    {
     "name": "stdout",
     "output_type": "stream",
     "text": [
      "10.362126\n"
     ]
    },
    {
     "name": "stderr",
     "output_type": "stream",
     "text": [
      "100%|██████████| 200/200 [00:03<00:00, 66.30it/s]\n"
     ]
    },
    {
     "name": "stdout",
     "output_type": "stream",
     "text": [
      "11.944201\n"
     ]
    },
    {
     "name": "stderr",
     "output_type": "stream",
     "text": [
      "100%|██████████| 200/200 [00:03<00:00, 66.20it/s]\n"
     ]
    },
    {
     "name": "stdout",
     "output_type": "stream",
     "text": [
      "13.424453\n"
     ]
    },
    {
     "name": "stderr",
     "output_type": "stream",
     "text": [
      "100%|██████████| 200/200 [00:03<00:00, 65.66it/s]\n"
     ]
    },
    {
     "name": "stdout",
     "output_type": "stream",
     "text": [
      "14.895978\n"
     ]
    },
    {
     "name": "stderr",
     "output_type": "stream",
     "text": [
      "100%|██████████| 200/200 [00:03<00:00, 65.85it/s]\n"
     ]
    },
    {
     "name": "stdout",
     "output_type": "stream",
     "text": [
      "8.464245\n"
     ]
    },
    {
     "name": "stderr",
     "output_type": "stream",
     "text": [
      "100%|██████████| 200/200 [00:03<00:00, 66.24it/s]\n"
     ]
    },
    {
     "name": "stdout",
     "output_type": "stream",
     "text": [
      "10.453726\n"
     ]
    },
    {
     "name": "stderr",
     "output_type": "stream",
     "text": [
      "100%|██████████| 200/200 [00:03<00:00, 65.97it/s]\n"
     ]
    },
    {
     "name": "stdout",
     "output_type": "stream",
     "text": [
      "12.32967\n"
     ]
    },
    {
     "name": "stderr",
     "output_type": "stream",
     "text": [
      "100%|██████████| 200/200 [00:03<00:00, 66.24it/s]\n"
     ]
    },
    {
     "name": "stdout",
     "output_type": "stream",
     "text": [
      "14.084678\n"
     ]
    },
    {
     "name": "stderr",
     "output_type": "stream",
     "text": [
      "100%|██████████| 200/200 [00:03<00:00, 66.04it/s]\n"
     ]
    },
    {
     "name": "stdout",
     "output_type": "stream",
     "text": [
      "15.692816\n"
     ]
    },
    {
     "name": "stderr",
     "output_type": "stream",
     "text": [
      "100%|██████████| 200/200 [00:03<00:00, 66.29it/s]\n"
     ]
    },
    {
     "name": "stdout",
     "output_type": "stream",
     "text": [
      "8.86199\n"
     ]
    },
    {
     "name": "stderr",
     "output_type": "stream",
     "text": [
      "100%|██████████| 200/200 [00:03<00:00, 66.21it/s]\n"
     ]
    },
    {
     "name": "stdout",
     "output_type": "stream",
     "text": [
      "10.846733\n"
     ]
    },
    {
     "name": "stderr",
     "output_type": "stream",
     "text": [
      "100%|██████████| 200/200 [00:03<00:00, 65.85it/s]\n"
     ]
    },
    {
     "name": "stdout",
     "output_type": "stream",
     "text": [
      "12.756586\n"
     ]
    },
    {
     "name": "stderr",
     "output_type": "stream",
     "text": [
      "100%|██████████| 200/200 [00:03<00:00, 66.20it/s]\n"
     ]
    },
    {
     "name": "stdout",
     "output_type": "stream",
     "text": [
      "14.470924\n"
     ]
    },
    {
     "name": "stderr",
     "output_type": "stream",
     "text": [
      "100%|██████████| 200/200 [00:03<00:00, 66.19it/s]\n"
     ]
    },
    {
     "name": "stdout",
     "output_type": "stream",
     "text": [
      "16.031244\n"
     ]
    },
    {
     "name": "stderr",
     "output_type": "stream",
     "text": [
      "100%|██████████| 200/200 [00:03<00:00, 65.68it/s]\n"
     ]
    },
    {
     "name": "stdout",
     "output_type": "stream",
     "text": [
      "8.952027\n"
     ]
    },
    {
     "name": "stderr",
     "output_type": "stream",
     "text": [
      "100%|██████████| 200/200 [00:03<00:00, 65.63it/s]\n"
     ]
    },
    {
     "name": "stdout",
     "output_type": "stream",
     "text": [
      "10.89569\n"
     ]
    },
    {
     "name": "stderr",
     "output_type": "stream",
     "text": [
      "100%|██████████| 200/200 [00:03<00:00, 65.52it/s]\n"
     ]
    },
    {
     "name": "stdout",
     "output_type": "stream",
     "text": [
      "12.750999\n"
     ]
    },
    {
     "name": "stderr",
     "output_type": "stream",
     "text": [
      "100%|██████████| 200/200 [00:03<00:00, 66.17it/s]\n"
     ]
    },
    {
     "name": "stdout",
     "output_type": "stream",
     "text": [
      "14.455243\n"
     ]
    },
    {
     "name": "stderr",
     "output_type": "stream",
     "text": [
      "100%|██████████| 200/200 [00:03<00:00, 65.96it/s]\n"
     ]
    },
    {
     "name": "stdout",
     "output_type": "stream",
     "text": [
      "16.022776\n"
     ]
    },
    {
     "name": "stderr",
     "output_type": "stream",
     "text": [
      "100%|██████████| 200/200 [00:03<00:00, 66.28it/s]\n"
     ]
    },
    {
     "name": "stdout",
     "output_type": "stream",
     "text": [
      "6.5953135\n"
     ]
    },
    {
     "name": "stderr",
     "output_type": "stream",
     "text": [
      "100%|██████████| 200/200 [00:02<00:00, 66.85it/s]\n"
     ]
    },
    {
     "name": "stdout",
     "output_type": "stream",
     "text": [
      "6.6944823\n"
     ]
    },
    {
     "name": "stderr",
     "output_type": "stream",
     "text": [
      "100%|██████████| 200/200 [00:02<00:00, 69.76it/s]\n"
     ]
    },
    {
     "name": "stdout",
     "output_type": "stream",
     "text": [
      "6.8276625\n"
     ]
    },
    {
     "name": "stderr",
     "output_type": "stream",
     "text": [
      "100%|██████████| 200/200 [00:02<00:00, 76.30it/s]\n"
     ]
    },
    {
     "name": "stdout",
     "output_type": "stream",
     "text": [
      "6.829267\n"
     ]
    },
    {
     "name": "stderr",
     "output_type": "stream",
     "text": [
      "100%|██████████| 200/200 [00:02<00:00, 85.14it/s]\n"
     ]
    },
    {
     "name": "stdout",
     "output_type": "stream",
     "text": [
      "6.824043\n"
     ]
    },
    {
     "name": "stderr",
     "output_type": "stream",
     "text": [
      "100%|██████████| 200/200 [00:03<00:00, 66.55it/s]\n"
     ]
    },
    {
     "name": "stdout",
     "output_type": "stream",
     "text": [
      "6.590568\n"
     ]
    },
    {
     "name": "stderr",
     "output_type": "stream",
     "text": [
      "100%|██████████| 200/200 [00:03<00:00, 66.66it/s]\n"
     ]
    },
    {
     "name": "stdout",
     "output_type": "stream",
     "text": [
      "6.700707\n"
     ]
    },
    {
     "name": "stderr",
     "output_type": "stream",
     "text": [
      "100%|██████████| 200/200 [00:02<00:00, 69.21it/s]\n"
     ]
    },
    {
     "name": "stdout",
     "output_type": "stream",
     "text": [
      "6.842644\n"
     ]
    },
    {
     "name": "stderr",
     "output_type": "stream",
     "text": [
      "100%|██████████| 200/200 [00:02<00:00, 76.70it/s]\n"
     ]
    },
    {
     "name": "stdout",
     "output_type": "stream",
     "text": [
      "6.8253894\n"
     ]
    },
    {
     "name": "stderr",
     "output_type": "stream",
     "text": [
      "100%|██████████| 200/200 [00:02<00:00, 84.44it/s]\n"
     ]
    },
    {
     "name": "stdout",
     "output_type": "stream",
     "text": [
      "6.8459477\n"
     ]
    },
    {
     "name": "stderr",
     "output_type": "stream",
     "text": [
      "100%|██████████| 200/200 [00:03<00:00, 66.64it/s]\n"
     ]
    },
    {
     "name": "stdout",
     "output_type": "stream",
     "text": [
      "7.1489353\n"
     ]
    },
    {
     "name": "stderr",
     "output_type": "stream",
     "text": [
      "100%|██████████| 200/200 [00:02<00:00, 67.19it/s]\n"
     ]
    },
    {
     "name": "stdout",
     "output_type": "stream",
     "text": [
      "7.459586\n"
     ]
    },
    {
     "name": "stderr",
     "output_type": "stream",
     "text": [
      "100%|██████████| 200/200 [00:02<00:00, 69.15it/s]\n"
     ]
    },
    {
     "name": "stdout",
     "output_type": "stream",
     "text": [
      "7.7969904\n"
     ]
    },
    {
     "name": "stderr",
     "output_type": "stream",
     "text": [
      "100%|██████████| 200/200 [00:02<00:00, 73.79it/s]\n"
     ]
    },
    {
     "name": "stdout",
     "output_type": "stream",
     "text": [
      "8.054084\n"
     ]
    },
    {
     "name": "stderr",
     "output_type": "stream",
     "text": [
      "100%|██████████| 200/200 [00:02<00:00, 83.98it/s]\n"
     ]
    },
    {
     "name": "stdout",
     "output_type": "stream",
     "text": [
      "8.353075\n"
     ]
    },
    {
     "name": "stderr",
     "output_type": "stream",
     "text": [
      "100%|██████████| 200/200 [00:03<00:00, 66.38it/s]\n"
     ]
    },
    {
     "name": "stdout",
     "output_type": "stream",
     "text": [
      "6.9345074\n"
     ]
    },
    {
     "name": "stderr",
     "output_type": "stream",
     "text": [
      "100%|██████████| 200/200 [00:02<00:00, 66.87it/s]\n"
     ]
    },
    {
     "name": "stdout",
     "output_type": "stream",
     "text": [
      "7.3022914\n"
     ]
    },
    {
     "name": "stderr",
     "output_type": "stream",
     "text": [
      "100%|██████████| 200/200 [00:02<00:00, 69.12it/s]\n"
     ]
    },
    {
     "name": "stdout",
     "output_type": "stream",
     "text": [
      "7.5336494\n"
     ]
    },
    {
     "name": "stderr",
     "output_type": "stream",
     "text": [
      "100%|██████████| 200/200 [00:02<00:00, 72.41it/s]\n"
     ]
    },
    {
     "name": "stdout",
     "output_type": "stream",
     "text": [
      "7.759768\n"
     ]
    },
    {
     "name": "stderr",
     "output_type": "stream",
     "text": [
      "100%|██████████| 200/200 [00:02<00:00, 83.29it/s]\n"
     ]
    },
    {
     "name": "stdout",
     "output_type": "stream",
     "text": [
      "8.063106\n"
     ]
    },
    {
     "name": "stderr",
     "output_type": "stream",
     "text": [
      "100%|██████████| 200/200 [00:03<00:00, 65.83it/s]\n"
     ]
    },
    {
     "name": "stdout",
     "output_type": "stream",
     "text": [
      "6.710013\n"
     ]
    },
    {
     "name": "stderr",
     "output_type": "stream",
     "text": [
      "100%|██████████| 200/200 [00:02<00:00, 66.72it/s]\n"
     ]
    },
    {
     "name": "stdout",
     "output_type": "stream",
     "text": [
      "7.205697\n"
     ]
    },
    {
     "name": "stderr",
     "output_type": "stream",
     "text": [
      "100%|██████████| 200/200 [00:02<00:00, 68.92it/s]\n"
     ]
    },
    {
     "name": "stdout",
     "output_type": "stream",
     "text": [
      "7.6833577\n"
     ]
    },
    {
     "name": "stderr",
     "output_type": "stream",
     "text": [
      "100%|██████████| 200/200 [00:02<00:00, 72.96it/s]\n"
     ]
    },
    {
     "name": "stdout",
     "output_type": "stream",
     "text": [
      "8.161459\n"
     ]
    },
    {
     "name": "stderr",
     "output_type": "stream",
     "text": [
      "100%|██████████| 200/200 [00:02<00:00, 83.63it/s]\n"
     ]
    },
    {
     "name": "stdout",
     "output_type": "stream",
     "text": [
      "8.654555\n"
     ]
    },
    {
     "name": "stderr",
     "output_type": "stream",
     "text": [
      "100%|██████████| 200/200 [00:03<00:00, 66.32it/s]\n"
     ]
    },
    {
     "name": "stdout",
     "output_type": "stream",
     "text": [
      "7.153054\n"
     ]
    },
    {
     "name": "stderr",
     "output_type": "stream",
     "text": [
      "100%|██████████| 200/200 [00:03<00:00, 66.51it/s]\n"
     ]
    },
    {
     "name": "stdout",
     "output_type": "stream",
     "text": [
      "7.6972046\n"
     ]
    },
    {
     "name": "stderr",
     "output_type": "stream",
     "text": [
      "100%|██████████| 200/200 [00:02<00:00, 69.09it/s]\n"
     ]
    },
    {
     "name": "stdout",
     "output_type": "stream",
     "text": [
      "8.223046\n"
     ]
    },
    {
     "name": "stderr",
     "output_type": "stream",
     "text": [
      "100%|██████████| 200/200 [00:02<00:00, 73.75it/s]\n"
     ]
    },
    {
     "name": "stdout",
     "output_type": "stream",
     "text": [
      "8.679888\n"
     ]
    },
    {
     "name": "stderr",
     "output_type": "stream",
     "text": [
      "100%|██████████| 200/200 [00:02<00:00, 83.12it/s]\n"
     ]
    },
    {
     "name": "stdout",
     "output_type": "stream",
     "text": [
      "9.110322\n"
     ]
    },
    {
     "name": "stderr",
     "output_type": "stream",
     "text": [
      "100%|██████████| 200/200 [00:03<00:00, 65.67it/s]\n"
     ]
    },
    {
     "name": "stdout",
     "output_type": "stream",
     "text": [
      "7.2405577\n"
     ]
    },
    {
     "name": "stderr",
     "output_type": "stream",
     "text": [
      "100%|██████████| 200/200 [00:03<00:00, 66.54it/s]\n"
     ]
    },
    {
     "name": "stdout",
     "output_type": "stream",
     "text": [
      "7.732379\n"
     ]
    },
    {
     "name": "stderr",
     "output_type": "stream",
     "text": [
      "100%|██████████| 200/200 [00:02<00:00, 69.00it/s]\n"
     ]
    },
    {
     "name": "stdout",
     "output_type": "stream",
     "text": [
      "8.212947\n"
     ]
    },
    {
     "name": "stderr",
     "output_type": "stream",
     "text": [
      "100%|██████████| 200/200 [00:02<00:00, 73.74it/s]\n"
     ]
    },
    {
     "name": "stdout",
     "output_type": "stream",
     "text": [
      "8.671224\n"
     ]
    },
    {
     "name": "stderr",
     "output_type": "stream",
     "text": [
      "100%|██████████| 200/200 [00:02<00:00, 84.25it/s]\n"
     ]
    },
    {
     "name": "stdout",
     "output_type": "stream",
     "text": [
      "9.139015\n"
     ]
    },
    {
     "name": "stderr",
     "output_type": "stream",
     "text": [
      "100%|██████████| 200/200 [00:03<00:00, 66.26it/s]\n"
     ]
    },
    {
     "name": "stdout",
     "output_type": "stream",
     "text": [
      "7.652054\n"
     ]
    },
    {
     "name": "stderr",
     "output_type": "stream",
     "text": [
      "100%|██████████| 200/200 [00:03<00:00, 66.41it/s]\n"
     ]
    },
    {
     "name": "stdout",
     "output_type": "stream",
     "text": [
      "8.162187\n"
     ]
    },
    {
     "name": "stderr",
     "output_type": "stream",
     "text": [
      "100%|██████████| 200/200 [00:03<00:00, 65.88it/s]\n"
     ]
    },
    {
     "name": "stdout",
     "output_type": "stream",
     "text": [
      "8.536108\n"
     ]
    },
    {
     "name": "stderr",
     "output_type": "stream",
     "text": [
      "100%|██████████| 200/200 [00:03<00:00, 66.34it/s]\n"
     ]
    },
    {
     "name": "stdout",
     "output_type": "stream",
     "text": [
      "8.66021\n"
     ]
    },
    {
     "name": "stderr",
     "output_type": "stream",
     "text": [
      "100%|██████████| 200/200 [00:03<00:00, 66.26it/s]\n"
     ]
    },
    {
     "name": "stdout",
     "output_type": "stream",
     "text": [
      "8.598225\n"
     ]
    },
    {
     "name": "stderr",
     "output_type": "stream",
     "text": [
      "100%|██████████| 200/200 [00:03<00:00, 66.10it/s]\n"
     ]
    },
    {
     "name": "stdout",
     "output_type": "stream",
     "text": [
      "7.6373854\n"
     ]
    },
    {
     "name": "stderr",
     "output_type": "stream",
     "text": [
      "100%|██████████| 200/200 [00:03<00:00, 65.75it/s]\n"
     ]
    },
    {
     "name": "stdout",
     "output_type": "stream",
     "text": [
      "8.188642\n"
     ]
    },
    {
     "name": "stderr",
     "output_type": "stream",
     "text": [
      "100%|██████████| 200/200 [00:03<00:00, 66.38it/s]\n"
     ]
    },
    {
     "name": "stdout",
     "output_type": "stream",
     "text": [
      "8.51294\n"
     ]
    },
    {
     "name": "stderr",
     "output_type": "stream",
     "text": [
      "100%|██████████| 200/200 [00:03<00:00, 65.81it/s]\n"
     ]
    },
    {
     "name": "stdout",
     "output_type": "stream",
     "text": [
      "8.660943\n"
     ]
    },
    {
     "name": "stderr",
     "output_type": "stream",
     "text": [
      "100%|██████████| 200/200 [00:03<00:00, 66.31it/s]\n"
     ]
    },
    {
     "name": "stdout",
     "output_type": "stream",
     "text": [
      "8.665383\n"
     ]
    },
    {
     "name": "stderr",
     "output_type": "stream",
     "text": [
      "100%|██████████| 200/200 [00:03<00:00, 66.17it/s]\n"
     ]
    },
    {
     "name": "stdout",
     "output_type": "stream",
     "text": [
      "8.00062\n"
     ]
    },
    {
     "name": "stderr",
     "output_type": "stream",
     "text": [
      "100%|██████████| 200/200 [00:03<00:00, 66.25it/s]\n"
     ]
    },
    {
     "name": "stdout",
     "output_type": "stream",
     "text": [
      "9.050878\n"
     ]
    },
    {
     "name": "stderr",
     "output_type": "stream",
     "text": [
      "100%|██████████| 200/200 [00:03<00:00, 66.23it/s]\n"
     ]
    },
    {
     "name": "stdout",
     "output_type": "stream",
     "text": [
      "9.973684\n"
     ]
    },
    {
     "name": "stderr",
     "output_type": "stream",
     "text": [
      "100%|██████████| 200/200 [00:03<00:00, 66.04it/s]\n"
     ]
    },
    {
     "name": "stdout",
     "output_type": "stream",
     "text": [
      "10.648628\n"
     ]
    },
    {
     "name": "stderr",
     "output_type": "stream",
     "text": [
      "100%|██████████| 200/200 [00:03<00:00, 66.27it/s]\n"
     ]
    },
    {
     "name": "stdout",
     "output_type": "stream",
     "text": [
      "11.179485\n"
     ]
    },
    {
     "name": "stderr",
     "output_type": "stream",
     "text": [
      "100%|██████████| 200/200 [00:03<00:00, 66.44it/s]\n"
     ]
    },
    {
     "name": "stdout",
     "output_type": "stream",
     "text": [
      "8.0333805\n"
     ]
    },
    {
     "name": "stderr",
     "output_type": "stream",
     "text": [
      "100%|██████████| 200/200 [00:03<00:00, 65.57it/s]\n"
     ]
    },
    {
     "name": "stdout",
     "output_type": "stream",
     "text": [
      "9.08882\n"
     ]
    },
    {
     "name": "stderr",
     "output_type": "stream",
     "text": [
      "100%|██████████| 200/200 [00:03<00:00, 65.83it/s]\n"
     ]
    },
    {
     "name": "stdout",
     "output_type": "stream",
     "text": [
      "9.827875\n"
     ]
    },
    {
     "name": "stderr",
     "output_type": "stream",
     "text": [
      "100%|██████████| 200/200 [00:03<00:00, 66.01it/s]\n"
     ]
    },
    {
     "name": "stdout",
     "output_type": "stream",
     "text": [
      "10.395119\n"
     ]
    },
    {
     "name": "stderr",
     "output_type": "stream",
     "text": [
      "100%|██████████| 200/200 [00:03<00:00, 66.23it/s]\n"
     ]
    },
    {
     "name": "stdout",
     "output_type": "stream",
     "text": [
      "10.894502\n"
     ]
    },
    {
     "name": "stderr",
     "output_type": "stream",
     "text": [
      "100%|██████████| 200/200 [00:03<00:00, 66.38it/s]\n"
     ]
    },
    {
     "name": "stdout",
     "output_type": "stream",
     "text": [
      "7.872946\n"
     ]
    },
    {
     "name": "stderr",
     "output_type": "stream",
     "text": [
      "100%|██████████| 200/200 [00:03<00:00, 66.07it/s]\n"
     ]
    },
    {
     "name": "stdout",
     "output_type": "stream",
     "text": [
      "9.269925\n"
     ]
    },
    {
     "name": "stderr",
     "output_type": "stream",
     "text": [
      "100%|██████████| 200/200 [00:03<00:00, 66.19it/s]\n"
     ]
    },
    {
     "name": "stdout",
     "output_type": "stream",
     "text": [
      "10.381172\n"
     ]
    },
    {
     "name": "stderr",
     "output_type": "stream",
     "text": [
      "100%|██████████| 200/200 [00:03<00:00, 66.18it/s]\n"
     ]
    },
    {
     "name": "stdout",
     "output_type": "stream",
     "text": [
      "11.1938305\n"
     ]
    },
    {
     "name": "stderr",
     "output_type": "stream",
     "text": [
      "100%|██████████| 200/200 [00:03<00:00, 65.83it/s]\n"
     ]
    },
    {
     "name": "stdout",
     "output_type": "stream",
     "text": [
      "11.914709\n"
     ]
    },
    {
     "name": "stderr",
     "output_type": "stream",
     "text": [
      "100%|██████████| 200/200 [00:03<00:00, 65.82it/s]\n"
     ]
    },
    {
     "name": "stdout",
     "output_type": "stream",
     "text": [
      "8.277043\n"
     ]
    },
    {
     "name": "stderr",
     "output_type": "stream",
     "text": [
      "100%|██████████| 200/200 [00:03<00:00, 65.48it/s]\n"
     ]
    },
    {
     "name": "stdout",
     "output_type": "stream",
     "text": [
      "9.597609\n"
     ]
    },
    {
     "name": "stderr",
     "output_type": "stream",
     "text": [
      "100%|██████████| 200/200 [00:03<00:00, 65.79it/s]\n"
     ]
    },
    {
     "name": "stdout",
     "output_type": "stream",
     "text": [
      "10.734772\n"
     ]
    },
    {
     "name": "stderr",
     "output_type": "stream",
     "text": [
      "100%|██████████| 200/200 [00:03<00:00, 65.95it/s]\n"
     ]
    },
    {
     "name": "stdout",
     "output_type": "stream",
     "text": [
      "11.663109\n"
     ]
    },
    {
     "name": "stderr",
     "output_type": "stream",
     "text": [
      "100%|██████████| 200/200 [00:03<00:00, 65.12it/s]\n"
     ]
    },
    {
     "name": "stdout",
     "output_type": "stream",
     "text": [
      "12.358618\n"
     ]
    },
    {
     "name": "stderr",
     "output_type": "stream",
     "text": [
      "100%|██████████| 200/200 [00:03<00:00, 65.78it/s]\n"
     ]
    },
    {
     "name": "stdout",
     "output_type": "stream",
     "text": [
      "8.373109\n"
     ]
    },
    {
     "name": "stderr",
     "output_type": "stream",
     "text": [
      "100%|██████████| 200/200 [00:03<00:00, 65.83it/s]\n"
     ]
    },
    {
     "name": "stdout",
     "output_type": "stream",
     "text": [
      "9.639926\n"
     ]
    },
    {
     "name": "stderr",
     "output_type": "stream",
     "text": [
      "100%|██████████| 200/200 [00:03<00:00, 65.64it/s]\n"
     ]
    },
    {
     "name": "stdout",
     "output_type": "stream",
     "text": [
      "10.777996\n"
     ]
    },
    {
     "name": "stderr",
     "output_type": "stream",
     "text": [
      "100%|██████████| 200/200 [00:03<00:00, 66.06it/s]\n"
     ]
    },
    {
     "name": "stdout",
     "output_type": "stream",
     "text": [
      "11.659211\n"
     ]
    },
    {
     "name": "stderr",
     "output_type": "stream",
     "text": [
      "100%|██████████| 200/200 [00:03<00:00, 65.50it/s]\n"
     ]
    },
    {
     "name": "stdout",
     "output_type": "stream",
     "text": [
      "12.401889\n"
     ]
    },
    {
     "name": "stderr",
     "output_type": "stream",
     "text": [
      "100%|██████████| 200/200 [00:02<00:00, 66.70it/s]\n"
     ]
    },
    {
     "name": "stdout",
     "output_type": "stream",
     "text": [
      "6.583571\n"
     ]
    },
    {
     "name": "stderr",
     "output_type": "stream",
     "text": [
      "100%|██████████| 200/200 [00:03<00:00, 66.54it/s]\n"
     ]
    },
    {
     "name": "stdout",
     "output_type": "stream",
     "text": [
      "6.583571\n"
     ]
    },
    {
     "name": "stderr",
     "output_type": "stream",
     "text": [
      "100%|██████████| 200/200 [00:03<00:00, 66.17it/s]\n"
     ]
    },
    {
     "name": "stdout",
     "output_type": "stream",
     "text": [
      "6.583571\n"
     ]
    },
    {
     "name": "stderr",
     "output_type": "stream",
     "text": [
      "100%|██████████| 200/200 [00:03<00:00, 66.51it/s]\n"
     ]
    },
    {
     "name": "stdout",
     "output_type": "stream",
     "text": [
      "6.583571\n"
     ]
    },
    {
     "name": "stderr",
     "output_type": "stream",
     "text": [
      "100%|██████████| 200/200 [00:03<00:00, 66.42it/s]\n"
     ]
    },
    {
     "name": "stdout",
     "output_type": "stream",
     "text": [
      "6.583571\n"
     ]
    },
    {
     "name": "stderr",
     "output_type": "stream",
     "text": [
      "100%|██████████| 200/200 [00:03<00:00, 65.82it/s]\n"
     ]
    },
    {
     "name": "stdout",
     "output_type": "stream",
     "text": [
      "6.583571\n"
     ]
    },
    {
     "name": "stderr",
     "output_type": "stream",
     "text": [
      "100%|██████████| 200/200 [00:03<00:00, 66.32it/s]\n"
     ]
    },
    {
     "name": "stdout",
     "output_type": "stream",
     "text": [
      "6.583571\n"
     ]
    },
    {
     "name": "stderr",
     "output_type": "stream",
     "text": [
      "100%|██████████| 200/200 [00:03<00:00, 66.50it/s]\n"
     ]
    },
    {
     "name": "stdout",
     "output_type": "stream",
     "text": [
      "6.583571\n"
     ]
    },
    {
     "name": "stderr",
     "output_type": "stream",
     "text": [
      "100%|██████████| 200/200 [00:03<00:00, 66.08it/s]\n"
     ]
    },
    {
     "name": "stdout",
     "output_type": "stream",
     "text": [
      "6.583571\n"
     ]
    },
    {
     "name": "stderr",
     "output_type": "stream",
     "text": [
      "100%|██████████| 200/200 [00:03<00:00, 66.36it/s]\n"
     ]
    },
    {
     "name": "stdout",
     "output_type": "stream",
     "text": [
      "6.583571\n"
     ]
    },
    {
     "name": "stderr",
     "output_type": "stream",
     "text": [
      "100%|██████████| 200/200 [00:03<00:00, 65.98it/s]\n"
     ]
    },
    {
     "name": "stdout",
     "output_type": "stream",
     "text": [
      "6.583571\n"
     ]
    },
    {
     "name": "stderr",
     "output_type": "stream",
     "text": [
      "100%|██████████| 200/200 [00:03<00:00, 66.45it/s]\n"
     ]
    },
    {
     "name": "stdout",
     "output_type": "stream",
     "text": [
      "6.583571\n"
     ]
    },
    {
     "name": "stderr",
     "output_type": "stream",
     "text": [
      "100%|██████████| 200/200 [00:03<00:00, 66.56it/s]\n"
     ]
    },
    {
     "name": "stdout",
     "output_type": "stream",
     "text": [
      "6.583571\n"
     ]
    },
    {
     "name": "stderr",
     "output_type": "stream",
     "text": [
      "100%|██████████| 200/200 [00:03<00:00, 66.18it/s]\n"
     ]
    },
    {
     "name": "stdout",
     "output_type": "stream",
     "text": [
      "6.583571\n"
     ]
    },
    {
     "name": "stderr",
     "output_type": "stream",
     "text": [
      "100%|██████████| 200/200 [00:03<00:00, 66.43it/s]\n"
     ]
    },
    {
     "name": "stdout",
     "output_type": "stream",
     "text": [
      "6.583571\n"
     ]
    },
    {
     "name": "stderr",
     "output_type": "stream",
     "text": [
      "100%|██████████| 200/200 [00:03<00:00, 66.35it/s]\n"
     ]
    },
    {
     "name": "stdout",
     "output_type": "stream",
     "text": [
      "6.583571\n"
     ]
    },
    {
     "name": "stderr",
     "output_type": "stream",
     "text": [
      "100%|██████████| 200/200 [00:03<00:00, 66.02it/s]\n"
     ]
    },
    {
     "name": "stdout",
     "output_type": "stream",
     "text": [
      "6.583571\n"
     ]
    },
    {
     "name": "stderr",
     "output_type": "stream",
     "text": [
      "100%|██████████| 200/200 [00:03<00:00, 66.21it/s]\n"
     ]
    },
    {
     "name": "stdout",
     "output_type": "stream",
     "text": [
      "6.583571\n"
     ]
    },
    {
     "name": "stderr",
     "output_type": "stream",
     "text": [
      "100%|██████████| 200/200 [00:03<00:00, 66.01it/s]\n"
     ]
    },
    {
     "name": "stdout",
     "output_type": "stream",
     "text": [
      "6.583571\n"
     ]
    },
    {
     "name": "stderr",
     "output_type": "stream",
     "text": [
      "100%|██████████| 200/200 [00:03<00:00, 66.49it/s]\n"
     ]
    },
    {
     "name": "stdout",
     "output_type": "stream",
     "text": [
      "6.583571\n"
     ]
    },
    {
     "name": "stderr",
     "output_type": "stream",
     "text": [
      "100%|██████████| 200/200 [00:03<00:00, 66.65it/s]\n"
     ]
    },
    {
     "name": "stdout",
     "output_type": "stream",
     "text": [
      "6.583571\n"
     ]
    },
    {
     "name": "stderr",
     "output_type": "stream",
     "text": [
      "100%|██████████| 200/200 [00:03<00:00, 66.17it/s]\n"
     ]
    },
    {
     "name": "stdout",
     "output_type": "stream",
     "text": [
      "6.583571\n"
     ]
    },
    {
     "name": "stderr",
     "output_type": "stream",
     "text": [
      "100%|██████████| 200/200 [00:03<00:00, 66.48it/s]\n"
     ]
    },
    {
     "name": "stdout",
     "output_type": "stream",
     "text": [
      "6.583571\n"
     ]
    },
    {
     "name": "stderr",
     "output_type": "stream",
     "text": [
      "100%|██████████| 200/200 [00:03<00:00, 66.33it/s]\n"
     ]
    },
    {
     "name": "stdout",
     "output_type": "stream",
     "text": [
      "6.583571\n"
     ]
    },
    {
     "name": "stderr",
     "output_type": "stream",
     "text": [
      "100%|██████████| 200/200 [00:03<00:00, 65.83it/s]\n"
     ]
    },
    {
     "name": "stdout",
     "output_type": "stream",
     "text": [
      "6.583571\n"
     ]
    },
    {
     "name": "stderr",
     "output_type": "stream",
     "text": [
      "100%|██████████| 200/200 [00:03<00:00, 66.05it/s]\n"
     ]
    },
    {
     "name": "stdout",
     "output_type": "stream",
     "text": [
      "6.583571\n"
     ]
    },
    {
     "name": "stderr",
     "output_type": "stream",
     "text": [
      "100%|██████████| 200/200 [00:03<00:00, 66.16it/s]\n"
     ]
    },
    {
     "name": "stdout",
     "output_type": "stream",
     "text": [
      "6.583571\n"
     ]
    },
    {
     "name": "stderr",
     "output_type": "stream",
     "text": [
      "100%|██████████| 200/200 [00:03<00:00, 66.05it/s]\n"
     ]
    },
    {
     "name": "stdout",
     "output_type": "stream",
     "text": [
      "6.583571\n"
     ]
    },
    {
     "name": "stderr",
     "output_type": "stream",
     "text": [
      "100%|██████████| 200/200 [00:03<00:00, 66.16it/s]\n"
     ]
    },
    {
     "name": "stdout",
     "output_type": "stream",
     "text": [
      "6.583571\n"
     ]
    },
    {
     "name": "stderr",
     "output_type": "stream",
     "text": [
      "100%|██████████| 200/200 [00:03<00:00, 66.51it/s]\n"
     ]
    },
    {
     "name": "stdout",
     "output_type": "stream",
     "text": [
      "6.583571\n"
     ]
    },
    {
     "name": "stderr",
     "output_type": "stream",
     "text": [
      "100%|██████████| 200/200 [00:03<00:00, 66.49it/s]\n"
     ]
    },
    {
     "name": "stdout",
     "output_type": "stream",
     "text": [
      "6.583571\n"
     ]
    },
    {
     "name": "stderr",
     "output_type": "stream",
     "text": [
      "100%|██████████| 200/200 [00:03<00:00, 66.62it/s]\n"
     ]
    },
    {
     "name": "stdout",
     "output_type": "stream",
     "text": [
      "6.583571\n"
     ]
    },
    {
     "name": "stderr",
     "output_type": "stream",
     "text": [
      "100%|██████████| 200/200 [00:03<00:00, 66.41it/s]\n"
     ]
    },
    {
     "name": "stdout",
     "output_type": "stream",
     "text": [
      "6.583571\n"
     ]
    },
    {
     "name": "stderr",
     "output_type": "stream",
     "text": [
      "100%|██████████| 200/200 [00:03<00:00, 66.53it/s]\n"
     ]
    },
    {
     "name": "stdout",
     "output_type": "stream",
     "text": [
      "6.583571\n"
     ]
    },
    {
     "name": "stderr",
     "output_type": "stream",
     "text": [
      "100%|██████████| 200/200 [00:03<00:00, 66.08it/s]"
     ]
    },
    {
     "name": "stdout",
     "output_type": "stream",
     "text": [
      "6.583571\n"
     ]
    },
    {
     "name": "stderr",
     "output_type": "stream",
     "text": [
      "\n"
     ]
    }
   ],
   "source": [
    "datasets = [\"sst2\",\"imdb\",\"news\"]\n",
    "device = \"cuda:1\"\n",
    "import torch\n",
    "from tqdm import tqdm\n",
    "percentages = [0.1,0.2,0.3,0.4,0.5]\n",
    "lls_list_mask_zero = {}\n",
    "tips = [\"unk\",\"erase\",\"mask\"]\n",
    "for ds in datasets:\n",
    "\n",
    "    for tip in tips:\n",
    "        eval_data = results2[f'{ds}_predictor_gemma-2b_ft_False_mask_zero']\n",
    "        for exp in explanation_types: \n",
    "            for percent in percentages:\n",
    "                nlls_org = []\n",
    "                \n",
    "                \n",
    "                for i in tqdm(range(200)):\n",
    "                    if ds ==\"sst2\":\n",
    "                        input_ids = tokenizer(eval_data[f\"{exp}_masked_sentence_{percent}_predictor_gemma-2b_ft_False_{tip}\"][i],\n",
    "                                                    return_tensors=\"pt\")[\"input_ids\"].to(device)\n",
    "                    if ds ==\"imdb\":\n",
    "                        input_ids = tokenizer(eval_data[f\"{exp}_masked_sentence_{percent}_predictor_gemma-2b_ft_False_{tip}\"][i] ,\n",
    "                                                return_tensors=\"pt\")[\"input_ids\"].to(device)\n",
    "                    if ds == \"news\":\n",
    "                        input_ids = tokenizer(eval_data[f\"{exp}_masked_sentence_{percent}_predictor_gemma-2b_ft_False_{tip}\"][i] ,\n",
    "                                                return_tensors=\"pt\")[\"input_ids\"].to(device)   \n",
    "                    target_ids = input_ids.clone()\n",
    "                    # target_ids[:, :-trg_len] = -100\n",
    "                    \n",
    "                    with torch.no_grad():\n",
    "                        outputs = pred_model(input_ids, labels=target_ids)\n",
    "                        neg_log_likelihood = outputs.loss\n",
    "\n",
    "                    nlls_org.append(neg_log_likelihood)\n",
    "                    lls = torch.stack(nlls_org).cpu().numpy()\n",
    "                lls_list_mask_zero[f\"{ds}-{tip}-{exp}-{percent}\"] = lls\n",
    "                print(lls.mean())\n"
   ]
  },
  {
   "cell_type": "code",
   "execution_count": 26,
   "metadata": {},
   "outputs": [
    {
     "name": "stdout",
     "output_type": "stream",
     "text": [
      "sst2-unk-gradnorm1-0.1\n",
      "175\n",
      "sst2-unk-gradnorm1-0.2\n",
      "200\n",
      "sst2-unk-gradnorm1-0.3\n",
      "200\n",
      "sst2-unk-gradnorm1-0.4\n",
      "200\n",
      "sst2-unk-gradnorm1-0.5\n",
      "200\n",
      "sst2-unk-gradnorm2-0.1\n",
      "184\n",
      "sst2-unk-gradnorm2-0.2\n",
      "200\n",
      "sst2-unk-gradnorm2-0.3\n",
      "200\n",
      "sst2-unk-gradnorm2-0.4\n",
      "200\n",
      "sst2-unk-gradnorm2-0.5\n",
      "200\n",
      "sst2-unk-gradinp-0.1\n",
      "200\n",
      "sst2-unk-gradinp-0.2\n",
      "200\n",
      "sst2-unk-gradinp-0.3\n",
      "200\n",
      "sst2-unk-gradinp-0.4\n",
      "200\n",
      "sst2-unk-gradinp-0.5\n",
      "200\n",
      "sst2-unk-erasure-0.1\n",
      "173\n",
      "sst2-unk-erasure-0.2\n",
      "200\n",
      "sst2-unk-erasure-0.3\n",
      "200\n",
      "sst2-unk-erasure-0.4\n",
      "200\n",
      "sst2-unk-erasure-0.5\n",
      "200\n",
      "sst2-unk-integrated_grad-0.1\n",
      "193\n",
      "sst2-unk-integrated_grad-0.2\n",
      "200\n",
      "sst2-unk-integrated_grad-0.3\n",
      "200\n",
      "sst2-unk-integrated_grad-0.4\n",
      "200\n",
      "sst2-unk-integrated_grad-0.5\n",
      "200\n",
      "sst2-unk-kernel_shap-0.1\n",
      "198\n",
      "sst2-unk-kernel_shap-0.2\n",
      "200\n",
      "sst2-unk-kernel_shap-0.3\n",
      "200\n",
      "sst2-unk-kernel_shap-0.4\n",
      "200\n",
      "sst2-unk-kernel_shap-0.5\n",
      "200\n",
      "sst2-unk-random-0.1\n",
      "199\n",
      "sst2-unk-random-0.2\n",
      "200\n",
      "sst2-unk-random-0.3\n",
      "200\n",
      "sst2-unk-random-0.4\n",
      "200\n",
      "sst2-unk-random-0.5\n",
      "200\n",
      "sst2-erase-gradnorm1-0.1\n",
      "25\n",
      "sst2-erase-gradnorm1-0.2\n",
      "25\n",
      "sst2-erase-gradnorm1-0.3\n",
      "28\n",
      "sst2-erase-gradnorm1-0.4\n",
      "46\n",
      "sst2-erase-gradnorm1-0.5\n",
      "75\n",
      "sst2-erase-gradnorm2-0.1\n",
      "35\n",
      "sst2-erase-gradnorm2-0.2\n",
      "29\n",
      "sst2-erase-gradnorm2-0.3\n",
      "33\n",
      "sst2-erase-gradnorm2-0.4\n",
      "46\n",
      "sst2-erase-gradnorm2-0.5\n",
      "76\n",
      "sst2-erase-gradinp-0.1\n",
      "110\n",
      "sst2-erase-gradinp-0.2\n",
      "155\n",
      "sst2-erase-gradinp-0.3\n",
      "180\n",
      "sst2-erase-gradinp-0.4\n",
      "194\n",
      "sst2-erase-gradinp-0.5\n",
      "199\n",
      "sst2-erase-erasure-0.1\n",
      "34\n",
      "sst2-erase-erasure-0.2\n",
      "36\n",
      "sst2-erase-erasure-0.3\n",
      "59\n",
      "sst2-erase-erasure-0.4\n",
      "81\n",
      "sst2-erase-erasure-0.5\n",
      "118\n",
      "sst2-erase-integrated_grad-0.1\n",
      "95\n",
      "sst2-erase-integrated_grad-0.2\n",
      "134\n",
      "sst2-erase-integrated_grad-0.3\n",
      "163\n",
      "sst2-erase-integrated_grad-0.4\n",
      "186\n",
      "sst2-erase-integrated_grad-0.5\n",
      "192\n",
      "sst2-erase-kernel_shap-0.1\n",
      "98\n",
      "sst2-erase-kernel_shap-0.2\n",
      "147\n",
      "sst2-erase-kernel_shap-0.3\n",
      "176\n",
      "sst2-erase-kernel_shap-0.4\n",
      "193\n",
      "sst2-erase-kernel_shap-0.5\n",
      "200\n",
      "sst2-erase-random-0.1\n",
      "111\n",
      "sst2-erase-random-0.2\n",
      "159\n",
      "sst2-erase-random-0.3\n",
      "183\n",
      "sst2-erase-random-0.4\n",
      "192\n",
      "sst2-erase-random-0.5\n",
      "197\n",
      "sst2-mask-gradnorm1-0.1\n",
      "151\n",
      "sst2-mask-gradnorm1-0.2\n",
      "197\n",
      "sst2-mask-gradnorm1-0.3\n",
      "200\n",
      "sst2-mask-gradnorm1-0.4\n",
      "200\n",
      "sst2-mask-gradnorm1-0.5\n",
      "200\n",
      "sst2-mask-gradnorm2-0.1\n",
      "161\n",
      "sst2-mask-gradnorm2-0.2\n",
      "197\n",
      "sst2-mask-gradnorm2-0.3\n",
      "200\n",
      "sst2-mask-gradnorm2-0.4\n",
      "200\n",
      "sst2-mask-gradnorm2-0.5\n",
      "200\n",
      "sst2-mask-gradinp-0.1\n",
      "195\n",
      "sst2-mask-gradinp-0.2\n",
      "200\n",
      "sst2-mask-gradinp-0.3\n",
      "200\n",
      "sst2-mask-gradinp-0.4\n",
      "200\n",
      "sst2-mask-gradinp-0.5\n",
      "200\n",
      "sst2-mask-erasure-0.1\n",
      "135\n",
      "sst2-mask-erasure-0.2\n",
      "198\n",
      "sst2-mask-erasure-0.3\n",
      "200\n",
      "sst2-mask-erasure-0.4\n",
      "200\n",
      "sst2-mask-erasure-0.5\n",
      "200\n",
      "sst2-mask-integrated_grad-0.1\n",
      "178\n",
      "sst2-mask-integrated_grad-0.2\n",
      "200\n",
      "sst2-mask-integrated_grad-0.3\n",
      "200\n",
      "sst2-mask-integrated_grad-0.4\n",
      "200\n",
      "sst2-mask-integrated_grad-0.5\n",
      "200\n",
      "sst2-mask-kernel_shap-0.1\n",
      "185\n",
      "sst2-mask-kernel_shap-0.2\n",
      "200\n",
      "sst2-mask-kernel_shap-0.3\n",
      "200\n",
      "sst2-mask-kernel_shap-0.4\n",
      "200\n",
      "sst2-mask-kernel_shap-0.5\n",
      "200\n",
      "sst2-mask-random-0.1\n",
      "185\n",
      "sst2-mask-random-0.2\n",
      "199\n",
      "sst2-mask-random-0.3\n",
      "200\n",
      "sst2-mask-random-0.4\n",
      "200\n",
      "sst2-mask-random-0.5\n",
      "200\n",
      "sst2-att-zero-gradnorm1-0.1\n",
      "38\n",
      "sst2-att-zero-gradnorm1-0.2\n",
      "38\n",
      "sst2-att-zero-gradnorm1-0.3\n",
      "38\n",
      "sst2-att-zero-gradnorm1-0.4\n",
      "38\n",
      "sst2-att-zero-gradnorm1-0.5\n",
      "38\n",
      "sst2-att-zero-gradnorm2-0.1\n",
      "38\n",
      "sst2-att-zero-gradnorm2-0.2\n",
      "38\n",
      "sst2-att-zero-gradnorm2-0.3\n",
      "38\n",
      "sst2-att-zero-gradnorm2-0.4\n",
      "38\n",
      "sst2-att-zero-gradnorm2-0.5\n",
      "38\n",
      "sst2-att-zero-gradinp-0.1\n",
      "38\n",
      "sst2-att-zero-gradinp-0.2\n",
      "38\n",
      "sst2-att-zero-gradinp-0.3\n",
      "38\n",
      "sst2-att-zero-gradinp-0.4\n",
      "38\n",
      "sst2-att-zero-gradinp-0.5\n",
      "38\n",
      "sst2-att-zero-erasure-0.1\n",
      "38\n",
      "sst2-att-zero-erasure-0.2\n",
      "38\n",
      "sst2-att-zero-erasure-0.3\n",
      "38\n",
      "sst2-att-zero-erasure-0.4\n",
      "38\n",
      "sst2-att-zero-erasure-0.5\n",
      "38\n",
      "sst2-att-zero-integrated_grad-0.1\n",
      "38\n",
      "sst2-att-zero-integrated_grad-0.2\n",
      "38\n",
      "sst2-att-zero-integrated_grad-0.3\n",
      "38\n",
      "sst2-att-zero-integrated_grad-0.4\n",
      "38\n",
      "sst2-att-zero-integrated_grad-0.5\n",
      "38\n",
      "sst2-att-zero-kernel_shap-0.1\n",
      "38\n",
      "sst2-att-zero-kernel_shap-0.2\n",
      "38\n",
      "sst2-att-zero-kernel_shap-0.3\n",
      "38\n",
      "sst2-att-zero-kernel_shap-0.4\n",
      "38\n",
      "sst2-att-zero-kernel_shap-0.5\n",
      "38\n",
      "sst2-att-zero-random-0.1\n",
      "38\n",
      "sst2-att-zero-random-0.2\n",
      "38\n",
      "sst2-att-zero-random-0.3\n",
      "38\n",
      "sst2-att-zero-random-0.4\n",
      "38\n",
      "sst2-att-zero-random-0.5\n",
      "38\n",
      "imdb-unk-gradnorm1-0.1\n",
      "178\n",
      "imdb-unk-gradnorm1-0.2\n",
      "200\n",
      "imdb-unk-gradnorm1-0.3\n",
      "200\n",
      "imdb-unk-gradnorm1-0.4\n",
      "200\n",
      "imdb-unk-gradnorm1-0.5\n",
      "200\n",
      "imdb-unk-gradnorm2-0.1\n",
      "184\n",
      "imdb-unk-gradnorm2-0.2\n",
      "200\n",
      "imdb-unk-gradnorm2-0.3\n",
      "200\n",
      "imdb-unk-gradnorm2-0.4\n",
      "200\n",
      "imdb-unk-gradnorm2-0.5\n",
      "200\n",
      "imdb-unk-gradinp-0.1\n",
      "200\n",
      "imdb-unk-gradinp-0.2\n",
      "200\n",
      "imdb-unk-gradinp-0.3\n",
      "200\n",
      "imdb-unk-gradinp-0.4\n",
      "200\n",
      "imdb-unk-gradinp-0.5\n",
      "200\n",
      "imdb-unk-erasure-0.1\n",
      "194\n",
      "imdb-unk-erasure-0.2\n",
      "200\n",
      "imdb-unk-erasure-0.3\n",
      "200\n",
      "imdb-unk-erasure-0.4\n",
      "200\n",
      "imdb-unk-erasure-0.5\n",
      "200\n",
      "imdb-unk-integrated_grad-0.1\n",
      "199\n",
      "imdb-unk-integrated_grad-0.2\n",
      "200\n",
      "imdb-unk-integrated_grad-0.3\n",
      "200\n",
      "imdb-unk-integrated_grad-0.4\n",
      "200\n",
      "imdb-unk-integrated_grad-0.5\n",
      "200\n",
      "imdb-unk-kernel_shap-0.1\n",
      "200\n",
      "imdb-unk-kernel_shap-0.2\n",
      "200\n",
      "imdb-unk-kernel_shap-0.3\n",
      "200\n",
      "imdb-unk-kernel_shap-0.4\n",
      "200\n",
      "imdb-unk-kernel_shap-0.5\n",
      "200\n",
      "imdb-unk-random-0.1\n",
      "200\n",
      "imdb-unk-random-0.2\n",
      "200\n",
      "imdb-unk-random-0.3\n",
      "200\n",
      "imdb-unk-random-0.4\n",
      "200\n",
      "imdb-unk-random-0.5\n",
      "200\n",
      "imdb-erase-gradnorm1-0.1\n",
      "1\n",
      "imdb-erase-gradnorm1-0.2\n",
      "3\n",
      "imdb-erase-gradnorm1-0.3\n",
      "11\n",
      "imdb-erase-gradnorm1-0.4\n",
      "23\n",
      "imdb-erase-gradnorm1-0.5\n",
      "46\n",
      "imdb-erase-gradnorm2-0.1\n",
      "2\n",
      "imdb-erase-gradnorm2-0.2\n",
      "3\n",
      "imdb-erase-gradnorm2-0.3\n",
      "11\n",
      "imdb-erase-gradnorm2-0.4\n",
      "22\n",
      "imdb-erase-gradnorm2-0.5\n",
      "49\n",
      "imdb-erase-gradinp-0.1\n",
      "28\n",
      "imdb-erase-gradinp-0.2\n",
      "79\n",
      "imdb-erase-gradinp-0.3\n",
      "152\n",
      "imdb-erase-gradinp-0.4\n",
      "192\n",
      "imdb-erase-gradinp-0.5\n",
      "200\n",
      "imdb-erase-erasure-0.1\n",
      "7\n",
      "imdb-erase-erasure-0.2\n",
      "13\n",
      "imdb-erase-erasure-0.3\n",
      "48\n",
      "imdb-erase-erasure-0.4\n",
      "102\n",
      "imdb-erase-erasure-0.5\n",
      "158\n",
      "imdb-erase-integrated_grad-0.1\n",
      "25\n",
      "imdb-erase-integrated_grad-0.2\n",
      "99\n",
      "imdb-erase-integrated_grad-0.3\n",
      "155\n",
      "imdb-erase-integrated_grad-0.4\n",
      "190\n",
      "imdb-erase-integrated_grad-0.5\n",
      "199\n",
      "imdb-erase-kernel_shap-0.1\n",
      "49\n",
      "imdb-erase-kernel_shap-0.2\n",
      "132\n",
      "imdb-erase-kernel_shap-0.3\n",
      "182\n",
      "imdb-erase-kernel_shap-0.4\n",
      "200\n",
      "imdb-erase-kernel_shap-0.5\n",
      "200\n",
      "imdb-erase-random-0.1\n",
      "53\n",
      "imdb-erase-random-0.2\n",
      "146\n",
      "imdb-erase-random-0.3\n",
      "186\n",
      "imdb-erase-random-0.4\n",
      "197\n",
      "imdb-erase-random-0.5\n",
      "199\n",
      "imdb-mask-gradnorm1-0.1\n",
      "90\n",
      "imdb-mask-gradnorm1-0.2\n",
      "186\n",
      "imdb-mask-gradnorm1-0.3\n",
      "172\n",
      "imdb-mask-gradnorm1-0.4\n",
      "154\n",
      "imdb-mask-gradnorm1-0.5\n",
      "147\n",
      "imdb-mask-gradnorm2-0.1\n",
      "89\n",
      "imdb-mask-gradnorm2-0.2\n",
      "188\n",
      "imdb-mask-gradnorm2-0.3\n",
      "174\n",
      "imdb-mask-gradnorm2-0.4\n",
      "155\n",
      "imdb-mask-gradnorm2-0.5\n",
      "149\n",
      "imdb-mask-gradinp-0.1\n",
      "177\n",
      "imdb-mask-gradinp-0.2\n",
      "200\n",
      "imdb-mask-gradinp-0.3\n",
      "200\n",
      "imdb-mask-gradinp-0.4\n",
      "200\n",
      "imdb-mask-gradinp-0.5\n",
      "200\n",
      "imdb-mask-erasure-0.1\n",
      "134\n",
      "imdb-mask-erasure-0.2\n",
      "187\n",
      "imdb-mask-erasure-0.3\n",
      "196\n",
      "imdb-mask-erasure-0.4\n",
      "199\n",
      "imdb-mask-erasure-0.5\n",
      "200\n",
      "imdb-mask-integrated_grad-0.1\n",
      "179\n",
      "imdb-mask-integrated_grad-0.2\n",
      "200\n",
      "imdb-mask-integrated_grad-0.3\n",
      "200\n",
      "imdb-mask-integrated_grad-0.4\n",
      "200\n",
      "imdb-mask-integrated_grad-0.5\n",
      "200\n",
      "imdb-mask-kernel_shap-0.1\n",
      "195\n",
      "imdb-mask-kernel_shap-0.2\n",
      "200\n",
      "imdb-mask-kernel_shap-0.3\n",
      "200\n",
      "imdb-mask-kernel_shap-0.4\n",
      "200\n",
      "imdb-mask-kernel_shap-0.5\n",
      "200\n",
      "imdb-mask-random-0.1\n",
      "196\n",
      "imdb-mask-random-0.2\n",
      "200\n",
      "imdb-mask-random-0.3\n",
      "200\n",
      "imdb-mask-random-0.4\n",
      "200\n",
      "imdb-mask-random-0.5\n",
      "200\n",
      "imdb-att-zero-gradnorm1-0.1\n",
      "6\n",
      "imdb-att-zero-gradnorm1-0.2\n",
      "6\n",
      "imdb-att-zero-gradnorm1-0.3\n",
      "6\n",
      "imdb-att-zero-gradnorm1-0.4\n",
      "6\n",
      "imdb-att-zero-gradnorm1-0.5\n",
      "6\n",
      "imdb-att-zero-gradnorm2-0.1\n",
      "6\n",
      "imdb-att-zero-gradnorm2-0.2\n",
      "6\n",
      "imdb-att-zero-gradnorm2-0.3\n",
      "6\n",
      "imdb-att-zero-gradnorm2-0.4\n",
      "6\n",
      "imdb-att-zero-gradnorm2-0.5\n",
      "6\n",
      "imdb-att-zero-gradinp-0.1\n",
      "6\n",
      "imdb-att-zero-gradinp-0.2\n",
      "6\n",
      "imdb-att-zero-gradinp-0.3\n",
      "6\n",
      "imdb-att-zero-gradinp-0.4\n",
      "6\n",
      "imdb-att-zero-gradinp-0.5\n",
      "6\n",
      "imdb-att-zero-erasure-0.1\n",
      "6\n",
      "imdb-att-zero-erasure-0.2\n",
      "6\n",
      "imdb-att-zero-erasure-0.3\n",
      "6\n",
      "imdb-att-zero-erasure-0.4\n",
      "6\n",
      "imdb-att-zero-erasure-0.5\n",
      "6\n",
      "imdb-att-zero-integrated_grad-0.1\n",
      "6\n",
      "imdb-att-zero-integrated_grad-0.2\n",
      "6\n",
      "imdb-att-zero-integrated_grad-0.3\n",
      "6\n",
      "imdb-att-zero-integrated_grad-0.4\n",
      "6\n",
      "imdb-att-zero-integrated_grad-0.5\n",
      "6\n",
      "imdb-att-zero-kernel_shap-0.1\n",
      "6\n",
      "imdb-att-zero-kernel_shap-0.2\n",
      "6\n",
      "imdb-att-zero-kernel_shap-0.3\n",
      "6\n",
      "imdb-att-zero-kernel_shap-0.4\n",
      "6\n",
      "imdb-att-zero-kernel_shap-0.5\n",
      "6\n",
      "imdb-att-zero-random-0.1\n",
      "6\n",
      "imdb-att-zero-random-0.2\n",
      "6\n",
      "imdb-att-zero-random-0.3\n",
      "6\n",
      "imdb-att-zero-random-0.4\n",
      "6\n",
      "imdb-att-zero-random-0.5\n",
      "6\n",
      "news-unk-gradnorm1-0.1\n",
      "182\n",
      "news-unk-gradnorm1-0.2\n",
      "200\n",
      "news-unk-gradnorm1-0.3\n",
      "200\n",
      "news-unk-gradnorm1-0.4\n",
      "200\n",
      "news-unk-gradnorm1-0.5\n",
      "200\n",
      "news-unk-gradnorm2-0.1\n",
      "180\n",
      "news-unk-gradnorm2-0.2\n",
      "200\n",
      "news-unk-gradnorm2-0.3\n",
      "200\n",
      "news-unk-gradnorm2-0.4\n",
      "200\n",
      "news-unk-gradnorm2-0.5\n",
      "200\n",
      "news-unk-gradinp-0.1\n",
      "193\n",
      "news-unk-gradinp-0.2\n",
      "200\n",
      "news-unk-gradinp-0.3\n",
      "200\n",
      "news-unk-gradinp-0.4\n",
      "200\n",
      "news-unk-gradinp-0.5\n",
      "200\n",
      "news-unk-erasure-0.1\n",
      "197\n",
      "news-unk-erasure-0.2\n",
      "200\n",
      "news-unk-erasure-0.3\n",
      "200\n",
      "news-unk-erasure-0.4\n",
      "200\n",
      "news-unk-erasure-0.5\n",
      "200\n",
      "news-unk-integrated_grad-0.1\n",
      "194\n",
      "news-unk-integrated_grad-0.2\n",
      "200\n",
      "news-unk-integrated_grad-0.3\n",
      "200\n",
      "news-unk-integrated_grad-0.4\n",
      "200\n",
      "news-unk-integrated_grad-0.5\n",
      "200\n",
      "news-unk-kernel_shap-0.1\n",
      "199\n",
      "news-unk-kernel_shap-0.2\n",
      "200\n",
      "news-unk-kernel_shap-0.3\n",
      "200\n",
      "news-unk-kernel_shap-0.4\n",
      "200\n",
      "news-unk-kernel_shap-0.5\n",
      "200\n",
      "news-unk-random-0.1\n",
      "198\n",
      "news-unk-random-0.2\n",
      "200\n",
      "news-unk-random-0.3\n",
      "200\n",
      "news-unk-random-0.4\n",
      "200\n",
      "news-unk-random-0.5\n",
      "200\n",
      "news-erase-gradnorm1-0.1\n",
      "12\n",
      "news-erase-gradnorm1-0.2\n",
      "13\n",
      "news-erase-gradnorm1-0.3\n",
      "28\n",
      "news-erase-gradnorm1-0.4\n",
      "30\n",
      "news-erase-gradnorm1-0.5\n",
      "32\n",
      "news-erase-gradnorm2-0.1\n",
      "10\n",
      "news-erase-gradnorm2-0.2\n",
      "15\n",
      "news-erase-gradnorm2-0.3\n",
      "25\n",
      "news-erase-gradnorm2-0.4\n",
      "31\n",
      "news-erase-gradnorm2-0.5\n",
      "35\n",
      "news-erase-gradinp-0.1\n",
      "39\n",
      "news-erase-gradinp-0.2\n",
      "91\n",
      "news-erase-gradinp-0.3\n",
      "140\n",
      "news-erase-gradinp-0.4\n",
      "159\n",
      "news-erase-gradinp-0.5\n",
      "174\n",
      "news-erase-erasure-0.1\n",
      "30\n",
      "news-erase-erasure-0.2\n",
      "58\n",
      "news-erase-erasure-0.3\n",
      "95\n",
      "news-erase-erasure-0.4\n",
      "125\n",
      "news-erase-erasure-0.5\n",
      "155\n",
      "news-erase-integrated_grad-0.1\n",
      "21\n",
      "news-erase-integrated_grad-0.2\n",
      "54\n",
      "news-erase-integrated_grad-0.3\n",
      "123\n",
      "news-erase-integrated_grad-0.4\n",
      "166\n",
      "news-erase-integrated_grad-0.5\n",
      "191\n",
      "news-erase-kernel_shap-0.1\n",
      "49\n",
      "news-erase-kernel_shap-0.2\n",
      "123\n",
      "news-erase-kernel_shap-0.3\n",
      "182\n",
      "news-erase-kernel_shap-0.4\n",
      "197\n",
      "news-erase-kernel_shap-0.5\n",
      "198\n",
      "news-erase-random-0.1\n",
      "57\n",
      "news-erase-random-0.2\n",
      "135\n",
      "news-erase-random-0.3\n",
      "178\n",
      "news-erase-random-0.4\n",
      "193\n",
      "news-erase-random-0.5\n",
      "196\n",
      "news-mask-gradnorm1-0.1\n",
      "120\n",
      "news-mask-gradnorm1-0.2\n",
      "179\n",
      "news-mask-gradnorm1-0.3\n",
      "193\n",
      "news-mask-gradnorm1-0.4\n",
      "188\n",
      "news-mask-gradnorm1-0.5\n",
      "177\n",
      "news-mask-gradnorm2-0.1\n",
      "116\n",
      "news-mask-gradnorm2-0.2\n",
      "184\n",
      "news-mask-gradnorm2-0.3\n",
      "193\n",
      "news-mask-gradnorm2-0.4\n",
      "189\n",
      "news-mask-gradnorm2-0.5\n",
      "182\n",
      "news-mask-gradinp-0.1\n",
      "167\n",
      "news-mask-gradinp-0.2\n",
      "199\n",
      "news-mask-gradinp-0.3\n",
      "199\n",
      "news-mask-gradinp-0.4\n",
      "200\n",
      "news-mask-gradinp-0.5\n",
      "200\n",
      "news-mask-erasure-0.1\n",
      "167\n",
      "news-mask-erasure-0.2\n",
      "200\n",
      "news-mask-erasure-0.3\n",
      "200\n",
      "news-mask-erasure-0.4\n",
      "200\n",
      "news-mask-erasure-0.5\n",
      "200\n",
      "news-mask-integrated_grad-0.1\n",
      "141\n",
      "news-mask-integrated_grad-0.2\n",
      "200\n",
      "news-mask-integrated_grad-0.3\n",
      "200\n",
      "news-mask-integrated_grad-0.4\n",
      "200\n",
      "news-mask-integrated_grad-0.5\n",
      "200\n",
      "news-mask-kernel_shap-0.1\n",
      "182\n",
      "news-mask-kernel_shap-0.2\n",
      "200\n",
      "news-mask-kernel_shap-0.3\n",
      "200\n",
      "news-mask-kernel_shap-0.4\n",
      "200\n",
      "news-mask-kernel_shap-0.5\n",
      "200\n",
      "news-mask-random-0.1\n",
      "190\n",
      "news-mask-random-0.2\n",
      "200\n",
      "news-mask-random-0.3\n",
      "200\n",
      "news-mask-random-0.4\n",
      "200\n",
      "news-mask-random-0.5\n",
      "200\n",
      "news-att-zero-gradnorm1-0.1\n",
      "6\n",
      "news-att-zero-gradnorm1-0.2\n",
      "6\n",
      "news-att-zero-gradnorm1-0.3\n",
      "6\n",
      "news-att-zero-gradnorm1-0.4\n",
      "6\n",
      "news-att-zero-gradnorm1-0.5\n",
      "6\n",
      "news-att-zero-gradnorm2-0.1\n",
      "6\n",
      "news-att-zero-gradnorm2-0.2\n",
      "6\n",
      "news-att-zero-gradnorm2-0.3\n",
      "6\n",
      "news-att-zero-gradnorm2-0.4\n",
      "6\n",
      "news-att-zero-gradnorm2-0.5\n",
      "6\n",
      "news-att-zero-gradinp-0.1\n",
      "6\n",
      "news-att-zero-gradinp-0.2\n",
      "6\n",
      "news-att-zero-gradinp-0.3\n",
      "6\n",
      "news-att-zero-gradinp-0.4\n",
      "6\n",
      "news-att-zero-gradinp-0.5\n",
      "6\n",
      "news-att-zero-erasure-0.1\n",
      "6\n",
      "news-att-zero-erasure-0.2\n",
      "6\n",
      "news-att-zero-erasure-0.3\n",
      "6\n",
      "news-att-zero-erasure-0.4\n",
      "6\n",
      "news-att-zero-erasure-0.5\n",
      "6\n",
      "news-att-zero-integrated_grad-0.1\n",
      "6\n",
      "news-att-zero-integrated_grad-0.2\n",
      "6\n",
      "news-att-zero-integrated_grad-0.3\n",
      "6\n",
      "news-att-zero-integrated_grad-0.4\n",
      "6\n",
      "news-att-zero-integrated_grad-0.5\n",
      "6\n",
      "news-att-zero-kernel_shap-0.1\n",
      "6\n",
      "news-att-zero-kernel_shap-0.2\n",
      "6\n",
      "news-att-zero-kernel_shap-0.3\n",
      "6\n",
      "news-att-zero-kernel_shap-0.4\n",
      "6\n",
      "news-att-zero-kernel_shap-0.5\n",
      "6\n",
      "news-att-zero-random-0.1\n",
      "6\n",
      "news-att-zero-random-0.2\n",
      "6\n",
      "news-att-zero-random-0.3\n",
      "6\n",
      "news-att-zero-random-0.4\n",
      "6\n",
      "news-att-zero-random-0.5\n",
      "6\n"
     ]
    }
   ],
   "source": [
    "OODs = []\n",
    "for key in lls_list_mask_zero.keys():\n",
    "    print(key)\n",
    "    if key.startswith(\"sst\"):\n",
    "        print((percentile99_zero[\"sst2\"] < lls_list_mask_zero[key]).sum())\n",
    "    if key.startswith(\"imdb\"):\n",
    "        print((percentile99_zero[\"imdb\"] < lls_list_mask_zero[key]).sum())\n",
    "    if key.startswith(\"news\"):\n",
    "        print((percentile99_zero[\"news\"] < lls_list_mask_zero[key]).sum())"
   ]
  },
  {
   "cell_type": "code",
   "execution_count": 18,
   "metadata": {},
   "outputs": [],
   "source": [
    "import pickle"
   ]
  },
  {
   "cell_type": "code",
   "execution_count": 19,
   "metadata": {},
   "outputs": [],
   "source": [
    "with open(\"lls/lls.pcl\",\"bw\") as f:\n",
    "    pickle.dump(lls_list,f)"
   ]
  },
  {
   "cell_type": "code",
   "execution_count": 20,
   "metadata": {},
   "outputs": [],
   "source": [
    "with open(\"lls/lls_mask.pcl\",\"bw\") as f:\n",
    "    pickle.dump(lls_list_mask,f)"
   ]
  },
  {
   "cell_type": "code",
   "execution_count": 21,
   "metadata": {},
   "outputs": [],
   "source": [
    "with open(\"lls/lls_zero.pcl\",\"bw\") as f:\n",
    "    pickle.dump(lls_list_zero,f)\n",
    "with open(\"lls/lls_zero_mask.pcl\",\"bw\") as f:\n",
    "    pickle.dump(lls_list_mask_zero,f)"
   ]
  },
  {
   "cell_type": "code",
   "execution_count": 32,
   "metadata": {},
   "outputs": [
    {
     "data": {
      "text/plain": [
       "{'sst2-erase': 57.285714285714285,\n",
       " 'sst2-unk': 98.88571428571429,\n",
       " 'sst2-mask': 96.87142857142857,\n",
       " 'imdb-erase': 48.02857142857143,\n",
       " 'imdb-unk': 99.35714285714286,\n",
       " 'imdb-mask': 90.95714285714286,\n",
       " 'news-erase': 48.0,\n",
       " 'news-unk': 99.18571428571428,\n",
       " 'news-mask': 93.8}"
      ]
     },
     "execution_count": 32,
     "metadata": {},
     "output_type": "execute_result"
    }
   ],
   "source": [
    "OODs = {}\n",
    "modes = [\"sst2-erase\",\"sst2-unk\",\"sst2-mask\",\n",
    "         \"imdb-erase\",\"imdb-unk\", \"imdb-mask\",\n",
    "         \"news-erase\",\"news-unk\",\"news-mask\"]\n",
    "for mode in modes:\n",
    "    OODs[mode] = []\n",
    "for key in lls_list_mask_zero.keys():\n",
    "    for mode in modes:\n",
    "        if key.startswith(mode):\n",
    "            OODs[mode].append(((percentile99_zero[mode[:4]] < lls_list_mask_zero[key]).sum()))\n",
    "        if key.startswith(mode):\n",
    "            OODs[mode].append((percentile99_zero[mode[:4]] < lls_list_mask_zero[key]).sum())\n",
    "        if key.startswith(mode):\n",
    "            OODs[mode].append((percentile99_zero[mode[:4]] < lls_list_mask_zero[key]).sum())\n",
    "percentage_ood = {}\n",
    "for mode in modes:\n",
    "    length = len(OODs[mode])\n",
    "    m = np.array(OODs[mode])\n",
    "    percentage_ood[mode] = m.mean()/200*100\n",
    "percentage_ood"
   ]
  },
  {
   "cell_type": "code",
   "execution_count": 35,
   "metadata": {},
   "outputs": [
    {
     "data": {
      "text/plain": [
       "{'sst2-pythia': 1.5714285714285716,\n",
       " 'sst2-pythia2': 1.8714285714285714,\n",
       " 'sst2-gptj': 7.928571428571429,\n",
       " 'imdb-pythia': 3.15,\n",
       " 'imdb-pythia2': 3.0428571428571427,\n",
       " 'imdb-gptj': 8.957142857142857,\n",
       " 'news-pythia': 5.364285714285714,\n",
       " 'news-pythia2': 5.557142857142857,\n",
       " 'news-gptj': 5.785714285714286}"
      ]
     },
     "execution_count": 35,
     "metadata": {},
     "output_type": "execute_result"
    }
   ],
   "source": [
    "OODs = {}\n",
    "modes = [\"sst2-pythia\",\"sst2-pythia2\",\"sst2-gptj\",\n",
    "         \"imdb-pythia\",\"imdb-pythia2\",\"imdb-gptj\",\n",
    "         \"news-pythia\",\"news-pythia2\",\"news-gptj\"]\n",
    "for mode in modes:\n",
    "    OODs[mode] = []\n",
    "for key in lls_list_zero.keys():\n",
    "    for mode in modes:\n",
    "        if key.startswith(mode):\n",
    "            OODs[mode].append(((percentile99_zero[mode[:4]] < lls_list_zero[key]).sum()))\n",
    "        if key.startswith(mode):\n",
    "            OODs[mode].append((percentile99_zero[mode[:4]] < lls_list_zero[key]).sum())\n",
    "        if key.startswith(mode):\n",
    "            OODs[mode].append((percentile99_zero[mode[:4]] < lls_list_zero[key]).sum())\n",
    "percentage_ood = {}\n",
    "for mode in modes:\n",
    "    m = np.array(OODs[mode])\n",
    "    percentage_ood[mode] = m.mean()/200*100\n",
    "percentage_ood"
   ]
  },
  {
   "cell_type": "code",
   "execution_count": 34,
   "metadata": {},
   "outputs": [
    {
     "data": {
      "text/plain": [
       "{'sst2-erase': 1.1714285714285715,\n",
       " 'sst2-unk': 1.814285714285714,\n",
       " 'sst2-mask': 0.2714285714285714,\n",
       " 'imdb-erase': 3.1,\n",
       " 'imdb-unk': 87.52857142857142,\n",
       " 'imdb-mask': 50.97142857142857,\n",
       " 'news-erase': 3.4428571428571435,\n",
       " 'news-unk': 1.6,\n",
       " 'news-mask': 1.5}"
      ]
     },
     "execution_count": 34,
     "metadata": {},
     "output_type": "execute_result"
    }
   ],
   "source": [
    "OODs = {}\n",
    "modes = [\"sst2-erase\",\"sst2-unk\",\"sst2-mask\",\n",
    "         \"imdb-erase\",\"imdb-unk\", \"imdb-mask\",\n",
    "         \"news-erase\",\"news-unk\",\"news-mask\"]\n",
    "for mode in modes:\n",
    "    OODs[mode] = []\n",
    "for key in lls_list_mask.keys():\n",
    "    for mode in modes:\n",
    "        if key.startswith(mode):\n",
    "            OODs[mode].append(((percentile99[mode[:4]] < lls_list_mask[key]).sum()))\n",
    "        if key.startswith(mode):\n",
    "            OODs[mode].append((percentile99[mode[:4]] < lls_list_mask[key]).sum())\n",
    "        if key.startswith(mode):\n",
    "            OODs[mode].append((percentile99[mode[:4]] < lls_list_mask[key]).sum())\n",
    "percentage_ood = {}\n",
    "for mode in modes:\n",
    "    length = len(OODs[mode])\n",
    "    m = np.array(OODs[mode])\n",
    "    percentage_ood[mode] = m.mean()/200*100\n",
    "percentage_ood"
   ]
  },
  {
   "cell_type": "code",
   "execution_count": 31,
   "metadata": {},
   "outputs": [
    {
     "data": {
      "text/plain": [
       "{'sst2-pythia': 0.9642857142857142,\n",
       " 'sst2-pythia2': 0.7428571428571429,\n",
       " 'sst2-gptj': 1.1142857142857143,\n",
       " 'imdb-pythia': 2.1785714285714284,\n",
       " 'imdb-pythia2': 2.5142857142857142,\n",
       " 'imdb-gptj': 1.3857142857142857,\n",
       " 'news-pythia': 2.192857142857143,\n",
       " 'news-pythia2': 2.2714285714285714,\n",
       " 'news-gptj': 1.3857142857142857}"
      ]
     },
     "execution_count": 31,
     "metadata": {},
     "output_type": "execute_result"
    }
   ],
   "source": [
    "OODs = {}\n",
    "modes = [\"sst2-pythia\",\"sst2-pythia2\",\"sst2-gptj\",\n",
    "         \"imdb-pythia\",\"imdb-pythia2\",\"imdb-gptj\",\n",
    "         \"news-pythia\",\"news-pythia2\",\"news-gptj\"]\n",
    "for mode in modes:\n",
    "    OODs[mode] = []\n",
    "for key in lls_list.keys():\n",
    "    for mode in modes:\n",
    "        if key.startswith(mode):\n",
    "            OODs[mode].append(((percentile99[mode[:4]] < lls_list[key]).sum()))\n",
    "        if key.startswith(mode):\n",
    "            OODs[mode].append((percentile99[mode[:4]] < lls_list[key]).sum())\n",
    "        if key.startswith(mode):\n",
    "            OODs[mode].append((percentile99[mode[:4]] < lls_list[key]).sum())\n",
    "percentage_ood = {}\n",
    "for mode in modes:\n",
    "    m = np.array(OODs[mode])\n",
    "    percentage_ood[mode] = m.mean()/200*100\n",
    "percentage_ood"
   ]
  },
  {
   "cell_type": "code",
   "execution_count": 37,
   "metadata": {},
   "outputs": [],
   "source": [
    "with open(\"camel_mask2/imdb_predictor_gemma-2b_ft_False_0_200-att-zero.pcl\",\"br\") as f:\n",
    "    att_zero_IT = pickle.load(f)"
   ]
  },
  {
   "cell_type": "code",
   "execution_count": 41,
   "metadata": {},
   "outputs": [
    {
     "data": {
      "text/plain": [
       "({'sst2': 140.81969161987305,\n",
       "  'imdb': 54.71061576843262,\n",
       "  'news': 111.81363876342773},\n",
       " {'sst2': 8.119814929962155,\n",
       "  'imdb': 7.056313295364377,\n",
       "  'news': 7.508797521591185})"
      ]
     },
     "execution_count": 41,
     "metadata": {},
     "output_type": "execute_result"
    }
   ],
   "source": [
    "percentile99, percentile99_zero"
   ]
  },
  {
   "cell_type": "code",
   "execution_count": 47,
   "metadata": {},
   "outputs": [
    {
     "data": {
      "text/plain": [
       "0"
      ]
     },
     "execution_count": 47,
     "metadata": {},
     "output_type": "execute_result"
    }
   ],
   "source": [
    "(att_zero_IT[key] > percentile99[\"sst2\"]).sum()"
   ]
  },
  {
   "cell_type": "code",
   "execution_count": 101,
   "metadata": {},
   "outputs": [],
   "source": [
    "oods_dict_zero_att = {}\n",
    "for ds in datasets:\n",
    "    for ft in [\"True\",\"False\"]:\n",
    "        for exp in explanation_types:\n",
    "            oods_dict_zero_att[f\"{ds}-{ft}-{exp}\"] = []"
   ]
  },
  {
   "cell_type": "code",
   "execution_count": 102,
   "metadata": {},
   "outputs": [],
   "source": [
    "for key in att_zero_IT.keys():\n",
    "    if key[5:9] == \"True\":\n",
    "        oods_dict_zero_att[key[:-4]].append((att_zero_IT[key] > percentile99[key[:4]]).sum()/2)\n",
    "    else:\n",
    "        oods_dict_zero_att[key[:-4]].append((att_zero_IT[key] > percentile99_zero[key[:4]]).sum()/2)"
   ]
  },
  {
   "cell_type": "code",
   "execution_count": 137,
   "metadata": {},
   "outputs": [],
   "source": [
    "oods_dict_cfg = {}\n",
    "for editor in editors:\n",
    "    for ds in datasets:\n",
    "        for ft in [\"True\",\"False\"]:\n",
    "            for exp in explanation_types:\n",
    "                oods_dict_cfg[f\"{ds}-{editor}-{exp}-{ft}\"] = []"
   ]
  },
  {
   "cell_type": "code",
   "execution_count": 138,
   "metadata": {},
   "outputs": [],
   "source": [
    "for key in lls_list.keys():\n",
    "        oods_dict_cfg[f\"{key[:-4]}-True\"].append((lls_list[key] > percentile99[key[:4]]).sum()/2)\n",
    "for key in lls_list_zero.keys():\n",
    "        oods_dict_cfg[f\"{key[:-4]}-False\"].append((lls_list_zero[key] > percentile99_zero[key[:4]]).sum()/2)"
   ]
  },
  {
   "cell_type": "code",
   "execution_count": 139,
   "metadata": {},
   "outputs": [],
   "source": [
    "tips = [\"unk\",\"erase\",\"mask\"]"
   ]
  },
  {
   "cell_type": "code",
   "execution_count": 140,
   "metadata": {},
   "outputs": [],
   "source": [
    "oods_dict_mask = {}\n",
    "for tip in tips:\n",
    "    for ds in datasets:\n",
    "        for ft in [\"True\",\"False\"]:\n",
    "            for exp in explanation_types:\n",
    "                oods_dict_cfg[f\"{ds}-{tip}-{exp}-{ft}\"] = []"
   ]
  },
  {
   "cell_type": "code",
   "execution_count": 141,
   "metadata": {},
   "outputs": [],
   "source": [
    "for key in lls_list_mask.keys():\n",
    "    try:\n",
    "        oods_dict_cfg[f\"{key[:-4]}-True\"].append((lls_list_mask[key] > percentile99[key[:4]]).sum()/2)\n",
    "    except:\n",
    "        pass\n",
    "for key in lls_list_mask_zero.keys():\n",
    "    try:\n",
    "        oods_dict_cfg[f\"{key[:-4]}-False\"].append((lls_list_mask_zero[key] > percentile99_zero[key[:4]]).sum()/2)\n",
    "    except:\n",
    "        pass\n",
    "\n"
   ]
  },
  {
   "cell_type": "code",
   "execution_count": 142,
   "metadata": {},
   "outputs": [
    {
     "data": {
      "text/plain": [
       "{'sst2-pythia-gradnorm1-True': [1.5, 1.0, 1.5, 0.5, 1.0],\n",
       " 'sst2-pythia-gradnorm2-True': [2.0, 1.5, 1.5, 0.5, 1.5],\n",
       " 'sst2-pythia-gradinp-True': [1.5, 1.5, 1.0, 1.0, 1.5],\n",
       " 'sst2-pythia-erasure-True': [1.0, 1.0, 1.0, 1.5, 2.0],\n",
       " 'sst2-pythia-integrated_grad-True': [1.5, 1.0, 1.0, 1.0, 1.0],\n",
       " 'sst2-pythia-kernel_shap-True': [1.0, 0.5, 0.5, 1.0, 0.5],\n",
       " 'sst2-pythia-random-True': [1.5, 1.0, 1.5, 1.5, 1.5],\n",
       " 'sst2-pythia-gradnorm1-False': [0.5, 0.5, 1.0, 2.5, 2.5],\n",
       " 'sst2-pythia-gradnorm2-False': [0.5, 0.5, 0.5, 1.5, 3.0],\n",
       " 'sst2-pythia-gradinp-False': [1.5, 1.5, 1.5, 1.5, 1.5],\n",
       " 'sst2-pythia-erasure-False': [1.5, 2.0, 1.5, 1.5, 1.5],\n",
       " 'sst2-pythia-integrated_grad-False': [1.0, 1.0, 0.5, 0.5, 0.5],\n",
       " 'sst2-pythia-kernel_shap-False': [1.5, 1.5, 1.5, 1.0, 3.0],\n",
       " 'sst2-pythia-random-False': [0.5, 0.5, 0.5, 0.5, 2.0],\n",
       " 'imdb-pythia-gradnorm1-True': [2.5, 1.5, 1.5, 2.0, 1.0],\n",
       " 'imdb-pythia-gradnorm2-True': [3.0, 1.5, 1.0, 1.0, 0.5],\n",
       " 'imdb-pythia-gradinp-True': [1.0, 1.0, 1.0, 1.5, 1.0],\n",
       " 'imdb-pythia-erasure-True': [1.5, 0.5, 1.5, 2.0, 3.0],\n",
       " 'imdb-pythia-integrated_grad-True': [2.0, 2.0, 2.5, 3.0, 2.0],\n",
       " 'imdb-pythia-kernel_shap-True': [3.5, 3.5, 2.0, 2.5, 1.5],\n",
       " 'imdb-pythia-random-True': [2.5, 1.5, 2.0, 2.0, 2.5],\n",
       " 'imdb-pythia-gradnorm1-False': [1.5, 2.5, 3.0, 3.5, 3.5],\n",
       " 'imdb-pythia-gradnorm2-False': [1.5, 2.5, 3.0, 3.5, 3.5],\n",
       " 'imdb-pythia-gradinp-False': [2.5, 2.5, 2.0, 6.0, 9.0],\n",
       " 'imdb-pythia-erasure-False': [2.0, 2.0, 2.0, 2.5, 3.5],\n",
       " 'imdb-pythia-integrated_grad-False': [1.5, 1.5, 2.0, 2.5, 4.0],\n",
       " 'imdb-pythia-kernel_shap-False': [1.5, 2.5, 4.5, 5.0, 5.5],\n",
       " 'imdb-pythia-random-False': [3.5, 3.5, 5.0, 4.0, 5.5],\n",
       " 'news-pythia-gradnorm1-True': [1.5, 2.5, 3.0, 4.0, 1.0],\n",
       " 'news-pythia-gradnorm2-True': [1.0, 3.0, 2.5, 3.5, 1.0],\n",
       " 'news-pythia-gradinp-True': [1.0, 1.5, 2.0, 1.0, 1.5],\n",
       " 'news-pythia-erasure-True': [2.5, 4.5, 3.5, 5.0, 5.0],\n",
       " 'news-pythia-integrated_grad-True': [1.0, 0.5, 2.0, 1.0, 2.0],\n",
       " 'news-pythia-kernel_shap-True': [2.0, 1.5, 1.0, 2.0, 1.5],\n",
       " 'news-pythia-random-True': [1.0, 1.0, 3.0, 2.0, 2.0],\n",
       " 'news-pythia-gradnorm1-False': [5.0, 5.0, 5.0, 5.0, 5.0],\n",
       " 'news-pythia-gradnorm2-False': [5.0, 5.0, 5.0, 5.0, 5.0],\n",
       " 'news-pythia-gradinp-False': [5.5, 4.0, 4.5, 5.0, 3.5],\n",
       " 'news-pythia-erasure-False': [5.0, 5.0, 5.0, 4.5, 5.0],\n",
       " 'news-pythia-integrated_grad-False': [5.0, 5.0, 6.5, 5.5, 7.0],\n",
       " 'news-pythia-kernel_shap-False': [4.5, 4.0, 4.0, 5.5, 4.5],\n",
       " 'news-pythia-random-False': [5.0, 5.5, 6.5, 8.0, 7.5],\n",
       " 'sst2-pythia2-gradnorm1-True': [0.5, 0.5, 1.0, 0.0, 0.0],\n",
       " 'sst2-pythia2-gradnorm2-True': [0.5, 0.0, 1.5, 0.0, 0.0],\n",
       " 'sst2-pythia2-gradinp-True': [1.5, 1.5, 1.0, 0.0, 0.0],\n",
       " 'sst2-pythia2-erasure-True': [1.0, 1.0, 1.5, 0.5, 0.5],\n",
       " 'sst2-pythia2-integrated_grad-True': [1.5, 1.0, 1.0, 0.5, 1.0],\n",
       " 'sst2-pythia2-kernel_shap-True': [1.0, 0.5, 0.5, 1.0, 1.0],\n",
       " 'sst2-pythia2-random-True': [1.0, 0.5, 1.0, 1.5, 0.5],\n",
       " 'sst2-pythia2-gradnorm1-False': [1.5, 2.0, 2.5, 3.5, 3.5],\n",
       " 'sst2-pythia2-gradnorm2-False': [1.5, 2.0, 2.0, 3.5, 4.0],\n",
       " 'sst2-pythia2-gradinp-False': [1.0, 1.0, 1.5, 2.0, 2.5],\n",
       " 'sst2-pythia2-erasure-False': [1.5, 1.5, 1.0, 1.5, 1.0],\n",
       " 'sst2-pythia2-integrated_grad-False': [1.0, 1.0, 0.5, 1.0, 0.5],\n",
       " 'sst2-pythia2-kernel_shap-False': [1.5, 2.0, 3.5, 2.0, 2.5],\n",
       " 'sst2-pythia2-random-False': [1.5, 1.5, 1.5, 2.5, 2.5],\n",
       " 'imdb-pythia2-gradnorm1-True': [2.0, 2.0, 2.5, 3.0, 1.0],\n",
       " 'imdb-pythia2-gradnorm2-True': [3.0, 3.0, 1.5, 4.5, 2.5],\n",
       " 'imdb-pythia2-gradinp-True': [1.0, 0.5, 2.5, 2.0, 2.5],\n",
       " 'imdb-pythia2-erasure-True': [3.0, 3.0, 3.0, 3.5, 3.0],\n",
       " 'imdb-pythia2-integrated_grad-True': [1.5, 1.0, 1.5, 3.5, 5.0],\n",
       " 'imdb-pythia2-kernel_shap-True': [2.0, 3.0, 4.0, 3.5, 2.5],\n",
       " 'imdb-pythia2-random-True': [2.5, 2.5, 2.0, 2.5, 2.0],\n",
       " 'imdb-pythia2-gradnorm1-False': [2.0, 2.0, 1.5, 2.5, 1.5],\n",
       " 'imdb-pythia2-gradnorm2-False': [2.0, 2.0, 1.5, 2.5, 1.5],\n",
       " 'imdb-pythia2-gradinp-False': [2.0, 2.5, 2.5, 3.5, 4.5],\n",
       " 'imdb-pythia2-erasure-False': [2.0, 2.0, 2.0, 2.5, 3.5],\n",
       " 'imdb-pythia2-integrated_grad-False': [2.0, 2.5, 2.5, 4.0, 6.5],\n",
       " 'imdb-pythia2-kernel_shap-False': [1.5, 2.0, 4.0, 7.0, 9.0],\n",
       " 'imdb-pythia2-random-False': [2.5, 3.5, 3.0, 3.5, 7.0],\n",
       " 'news-pythia2-gradnorm1-True': [2.5, 2.0, 1.5, 3.0, 3.0],\n",
       " 'news-pythia2-gradnorm2-True': [2.5, 1.5, 1.5, 3.0, 3.5],\n",
       " 'news-pythia2-gradinp-True': [3.5, 1.5, 2.0, 2.5, 2.0],\n",
       " 'news-pythia2-erasure-True': [3.5, 3.0, 3.0, 3.5, 2.5],\n",
       " 'news-pythia2-integrated_grad-True': [2.0, 1.0, 1.0, 1.0, 1.5],\n",
       " 'news-pythia2-kernel_shap-True': [2.0, 2.0, 1.5, 3.0, 1.5],\n",
       " 'news-pythia2-random-True': [2.0, 2.5, 3.0, 2.0, 2.5],\n",
       " 'news-pythia2-gradnorm1-False': [5.0, 5.0, 5.0, 5.5, 5.5],\n",
       " 'news-pythia2-gradnorm2-False': [5.0, 5.0, 5.0, 5.5, 5.5],\n",
       " 'news-pythia2-gradinp-False': [5.5, 5.5, 6.0, 5.5, 5.0],\n",
       " 'news-pythia2-erasure-False': [5.0, 5.0, 5.0, 4.5, 5.0],\n",
       " 'news-pythia2-integrated_grad-False': [5.5, 5.5, 6.5, 6.5, 5.5],\n",
       " 'news-pythia2-kernel_shap-False': [6.5, 7.0, 7.0, 7.0, 7.0],\n",
       " 'news-pythia2-random-False': [4.5, 4.0, 4.5, 7.5, 6.0],\n",
       " 'sst2-gptj-gradnorm1-True': [0.5, 0.0, 1.5, 0.5, 1.0],\n",
       " 'sst2-gptj-gradnorm2-True': [1.0, 0.0, 2.0, 1.0, 0.0],\n",
       " 'sst2-gptj-gradinp-True': [1.5, 3.0, 3.5, 2.5, 1.5],\n",
       " 'sst2-gptj-erasure-True': [1.5, 1.0, 1.5, 3.5, 2.5],\n",
       " 'sst2-gptj-integrated_grad-True': [0.0, 0.5, 1.0, 0.5, 0.0],\n",
       " 'sst2-gptj-kernel_shap-True': [0.5, 1.0, 1.0, 1.0, 1.0],\n",
       " 'sst2-gptj-random-True': [1.0, 0.5, 0.5, 0.5, 0.5],\n",
       " 'sst2-gptj-gradnorm1-False': [11.0, 9.5, 7.0, 8.0, 6.0],\n",
       " 'sst2-gptj-gradnorm2-False': [11.0, 10.0, 7.5, 7.0, 5.5],\n",
       " 'sst2-gptj-gradinp-False': [7.5, 6.0, 5.0, 4.0, 3.5],\n",
       " 'sst2-gptj-erasure-False': [11.0, 11.0, 11.0, 11.0, 10.5],\n",
       " 'sst2-gptj-integrated_grad-False': [12.0, 10.5, 8.5, 7.0, 5.5],\n",
       " 'sst2-gptj-kernel_shap-False': [11.0, 7.5, 4.0, 5.0, 4.5],\n",
       " 'sst2-gptj-random-False': [10.5, 8.0, 7.5, 7.0, 6.0],\n",
       " 'imdb-gptj-gradnorm1-True': [1.0, 1.5, 1.0, 0.0, 0.5],\n",
       " 'imdb-gptj-gradnorm2-True': [1.0, 1.5, 2.5, 1.0, 1.0],\n",
       " 'imdb-gptj-gradinp-True': [1.0, 1.0, 1.5, 1.0, 1.5],\n",
       " 'imdb-gptj-erasure-True': [1.5, 2.0, 2.0, 1.5, 1.0],\n",
       " 'imdb-gptj-integrated_grad-True': [1.5, 1.0, 1.5, 0.0, 0.5],\n",
       " 'imdb-gptj-kernel_shap-True': [1.0, 2.5, 2.5, 4.0, 1.0],\n",
       " 'imdb-gptj-random-True': [1.0, 0.5, 2.5, 2.5, 1.5],\n",
       " 'imdb-gptj-gradnorm1-False': [4.5, 5.0, 5.0, 8.5, 11.0],\n",
       " 'imdb-gptj-gradnorm2-False': [4.5, 5.0, 5.5, 9.0, 11.5],\n",
       " 'imdb-gptj-gradinp-False': [5.0, 6.5, 9.0, 15.5, 16.5],\n",
       " 'imdb-gptj-erasure-False': [4.0, 5.0, 6.5, 8.0, 11.5],\n",
       " 'imdb-gptj-integrated_grad-False': [4.5, 5.0, 7.0, 11.0, 17.5],\n",
       " 'imdb-gptj-kernel_shap-False': [5.0, 9.5, 12.0, 17.0, 19.5],\n",
       " 'imdb-gptj-random-False': [4.5, 8.0, 10.0, 11.5, 14.5],\n",
       " 'news-gptj-gradnorm1-True': [1.0, 2.0, 1.0, 0.0, 1.0],\n",
       " 'news-gptj-gradnorm2-True': [1.5, 2.0, 2.0, 0.0, 0.5],\n",
       " 'news-gptj-gradinp-True': [3.0, 1.5, 2.5, 2.0, 1.0],\n",
       " 'news-gptj-erasure-True': [1.5, 1.0, 1.5, 1.5, 2.0],\n",
       " 'news-gptj-integrated_grad-True': [1.0, 1.0, 1.0, 1.0, 0.5],\n",
       " 'news-gptj-kernel_shap-True': [1.5, 0.5, 2.5, 0.5, 1.0],\n",
       " 'news-gptj-random-True': [0.5, 1.5, 2.5, 3.0, 2.0],\n",
       " 'news-gptj-gradnorm1-False': [4.5, 5.0, 6.0, 4.5, 5.0],\n",
       " 'news-gptj-gradnorm2-False': [4.5, 5.5, 5.5, 4.5, 5.0],\n",
       " 'news-gptj-gradinp-False': [4.0, 5.5, 6.0, 4.5, 5.5],\n",
       " 'news-gptj-erasure-False': [4.5, 4.5, 4.5, 5.0, 6.0],\n",
       " 'news-gptj-integrated_grad-False': [6.0, 9.5, 9.0, 6.5, 8.0],\n",
       " 'news-gptj-kernel_shap-False': [7.0, 4.5, 6.5, 7.0, 7.0],\n",
       " 'news-gptj-random-False': [7.0, 5.0, 6.0, 6.5, 7.0],\n",
       " 'sst2-unk-gradnorm1-True': [1.0, 1.0, 0.5, 0.0, 0.5],\n",
       " 'sst2-unk-gradnorm2-True': [1.5, 0.5, 0.5, 0.0, 0.5],\n",
       " 'sst2-unk-gradinp-True': [1.5, 1.0, 1.0, 2.0, 2.5],\n",
       " 'sst2-unk-erasure-True': [1.5, 2.0, 2.0, 1.5, 2.0],\n",
       " 'sst2-unk-integrated_grad-True': [2.5, 2.0, 4.5, 4.5, 3.5],\n",
       " 'sst2-unk-kernel_shap-True': [0.0, 1.0, 1.0, 1.5, 3.0],\n",
       " 'sst2-unk-random-True': [2.0, 3.0, 5.0, 3.5, 3.5],\n",
       " 'sst2-unk-gradnorm1-False': [87.5, 100.0, 100.0, 100.0, 100.0],\n",
       " 'sst2-unk-gradnorm2-False': [92.0, 100.0, 100.0, 100.0, 100.0],\n",
       " 'sst2-unk-gradinp-False': [100.0, 100.0, 100.0, 100.0, 100.0],\n",
       " 'sst2-unk-erasure-False': [86.5, 100.0, 100.0, 100.0, 100.0],\n",
       " 'sst2-unk-integrated_grad-False': [96.5, 100.0, 100.0, 100.0, 100.0],\n",
       " 'sst2-unk-kernel_shap-False': [99.0, 100.0, 100.0, 100.0, 100.0],\n",
       " 'sst2-unk-random-False': [99.5, 100.0, 100.0, 100.0, 100.0],\n",
       " 'imdb-unk-gradnorm1-True': [55.0, 88.0, 99.0, 99.0, 100.0],\n",
       " 'imdb-unk-gradnorm2-True': [56.0, 88.5, 99.0, 99.0, 100.0],\n",
       " 'imdb-unk-gradinp-True': [36.5, 85.5, 97.5, 100.0, 100.0],\n",
       " 'imdb-unk-erasure-True': [61.5, 95.0, 99.0, 99.5, 100.0],\n",
       " 'imdb-unk-integrated_grad-True': [40.0, 90.0, 98.0, 100.0, 100.0],\n",
       " 'imdb-unk-kernel_shap-True': [47.0, 92.0, 99.5, 100.0, 100.0],\n",
       " 'imdb-unk-random-True': [47.5, 93.0, 99.0, 99.5, 100.0],\n",
       " 'imdb-unk-gradnorm1-False': [89.0, 100.0, 100.0, 100.0, 100.0],\n",
       " 'imdb-unk-gradnorm2-False': [92.0, 100.0, 100.0, 100.0, 100.0],\n",
       " 'imdb-unk-gradinp-False': [100.0, 100.0, 100.0, 100.0, 100.0],\n",
       " 'imdb-unk-erasure-False': [97.0, 100.0, 100.0, 100.0, 100.0],\n",
       " 'imdb-unk-integrated_grad-False': [99.5, 100.0, 100.0, 100.0, 100.0],\n",
       " 'imdb-unk-kernel_shap-False': [100.0, 100.0, 100.0, 100.0, 100.0],\n",
       " 'imdb-unk-random-False': [100.0, 100.0, 100.0, 100.0, 100.0],\n",
       " 'news-unk-gradnorm1-True': [0.0, 0.5, 1.0, 2.0, 1.5],\n",
       " 'news-unk-gradnorm2-True': [0.0, 0.5, 0.5, 2.0, 1.5],\n",
       " 'news-unk-gradinp-True': [0.5, 0.5, 1.0, 2.0, 4.5],\n",
       " 'news-unk-erasure-True': [1.5, 1.0, 3.0, 5.0, 8.5],\n",
       " 'news-unk-integrated_grad-True': [1.0, 2.0, 3.0, 1.5, 2.5],\n",
       " 'news-unk-kernel_shap-True': [0.0, 0.0, 0.0, 2.5, 4.0],\n",
       " 'news-unk-random-True': [0.5, 0.5, 0.0, 0.5, 1.0],\n",
       " 'news-unk-gradnorm1-False': [91.0, 100.0, 100.0, 100.0, 100.0],\n",
       " 'news-unk-gradnorm2-False': [90.0, 100.0, 100.0, 100.0, 100.0],\n",
       " 'news-unk-gradinp-False': [96.5, 100.0, 100.0, 100.0, 100.0],\n",
       " 'news-unk-erasure-False': [98.5, 100.0, 100.0, 100.0, 100.0],\n",
       " 'news-unk-integrated_grad-False': [97.0, 100.0, 100.0, 100.0, 100.0],\n",
       " 'news-unk-kernel_shap-False': [99.5, 100.0, 100.0, 100.0, 100.0],\n",
       " 'news-unk-random-False': [99.0, 100.0, 100.0, 100.0, 100.0],\n",
       " 'sst2-erase-gradnorm1-True': [0.0, 0.0, 0.0, 1.0, 0.5],\n",
       " 'sst2-erase-gradnorm2-True': [1.0, 0.5, 0.0, 0.5, 0.5],\n",
       " 'sst2-erase-gradinp-True': [1.0, 2.0, 1.0, 0.5, 1.0],\n",
       " 'sst2-erase-erasure-True': [2.0, 1.0, 2.5, 3.0, 3.0],\n",
       " 'sst2-erase-integrated_grad-True': [1.0, 1.0, 2.0, 1.0, 2.0],\n",
       " 'sst2-erase-kernel_shap-True': [0.5, 0.0, 0.0, 1.0, 1.5],\n",
       " 'sst2-erase-random-True': [1.5, 1.0, 2.0, 2.5, 3.0],\n",
       " 'sst2-erase-gradnorm1-False': [12.5, 12.5, 14.0, 23.0, 37.5],\n",
       " 'sst2-erase-gradnorm2-False': [17.5, 14.5, 16.5, 23.0, 38.0],\n",
       " 'sst2-erase-gradinp-False': [55.0, 77.5, 90.0, 97.0, 99.5],\n",
       " 'sst2-erase-erasure-False': [17.0, 18.0, 29.5, 40.5, 59.0],\n",
       " 'sst2-erase-integrated_grad-False': [47.5, 67.0, 81.5, 93.0, 96.0],\n",
       " 'sst2-erase-kernel_shap-False': [49.0, 73.5, 88.0, 96.5, 100.0],\n",
       " 'sst2-erase-random-False': [55.5, 79.5, 91.5, 96.0, 98.5],\n",
       " 'imdb-erase-gradnorm1-True': [0.5, 0.5, 1.5, 1.5, 0.5],\n",
       " 'imdb-erase-gradnorm2-True': [0.5, 0.5, 2.0, 1.0, 1.5],\n",
       " 'imdb-erase-gradinp-True': [0.5, 0.5, 0.5, 1.0, 4.0],\n",
       " 'imdb-erase-erasure-True': [2.5, 3.0, 4.5, 6.0, 12.0],\n",
       " 'imdb-erase-integrated_grad-True': [2.0, 4.0, 5.5, 8.0, 10.5],\n",
       " 'imdb-erase-kernel_shap-True': [0.5, 3.0, 3.5, 5.0, 6.5],\n",
       " 'imdb-erase-random-True': [2.0, 1.0, 3.5, 4.5, 4.5],\n",
       " 'imdb-erase-gradnorm1-False': [0.5, 1.5, 5.5, 11.5, 23.0],\n",
       " 'imdb-erase-gradnorm2-False': [1.0, 1.5, 5.5, 11.0, 24.5],\n",
       " 'imdb-erase-gradinp-False': [14.0, 39.5, 76.0, 96.0, 100.0],\n",
       " 'imdb-erase-erasure-False': [3.5, 6.5, 24.0, 51.0, 79.0],\n",
       " 'imdb-erase-integrated_grad-False': [12.5, 49.5, 77.5, 95.0, 99.5],\n",
       " 'imdb-erase-kernel_shap-False': [24.5, 66.0, 91.0, 100.0, 100.0],\n",
       " 'imdb-erase-random-False': [26.5, 73.0, 93.0, 98.5, 99.5],\n",
       " 'news-erase-gradnorm1-True': [1.5, 3.0, 4.5, 5.5, 3.0],\n",
       " 'news-erase-gradnorm2-True': [1.5, 2.0, 3.5, 5.5, 4.0],\n",
       " 'news-erase-gradinp-True': [1.5, 2.0, 2.0, 3.5, 5.0],\n",
       " 'news-erase-erasure-True': [3.0, 6.0, 9.0, 12.5, 13.5],\n",
       " 'news-erase-integrated_grad-True': [1.0, 2.0, 2.0, 2.5, 2.0],\n",
       " 'news-erase-kernel_shap-True': [1.5, 1.5, 1.5, 2.0, 5.0],\n",
       " 'news-erase-random-True': [0.5, 0.5, 2.0, 1.5, 3.0],\n",
       " 'news-erase-gradnorm1-False': [6.0, 6.5, 14.0, 15.0, 16.0],\n",
       " 'news-erase-gradnorm2-False': [5.0, 7.5, 12.5, 15.5, 17.5],\n",
       " 'news-erase-gradinp-False': [19.5, 45.5, 70.0, 79.5, 87.0],\n",
       " 'news-erase-erasure-False': [15.0, 29.0, 47.5, 62.5, 77.5],\n",
       " 'news-erase-integrated_grad-False': [10.5, 27.0, 61.5, 83.0, 95.5],\n",
       " 'news-erase-kernel_shap-False': [24.5, 61.5, 91.0, 98.5, 99.0],\n",
       " 'news-erase-random-False': [28.5, 67.5, 89.0, 96.5, 98.0],\n",
       " 'sst2-mask-gradnorm1-True': [0.0, 0.0, 0.0, 0.0, 0.0],\n",
       " 'sst2-mask-gradnorm2-True': [0.0, 0.0, 0.0, 0.0, 0.0],\n",
       " 'sst2-mask-gradinp-True': [0.5, 0.5, 0.0, 0.0, 0.0],\n",
       " 'sst2-mask-erasure-True': [1.0, 0.5, 0.5, 0.5, 0.0],\n",
       " 'sst2-mask-integrated_grad-True': [0.5, 0.5, 0.5, 0.5, 0.0],\n",
       " 'sst2-mask-kernel_shap-True': [0.0, 0.0, 0.0, 0.0, 0.0],\n",
       " 'sst2-mask-random-True': [0.5, 1.0, 1.0, 1.0, 0.5],\n",
       " 'sst2-mask-gradnorm1-False': [75.5, 98.5, 100.0, 100.0, 100.0],\n",
       " 'sst2-mask-gradnorm2-False': [80.5, 98.5, 100.0, 100.0, 100.0],\n",
       " 'sst2-mask-gradinp-False': [97.5, 100.0, 100.0, 100.0, 100.0],\n",
       " 'sst2-mask-erasure-False': [67.5, 99.0, 100.0, 100.0, 100.0],\n",
       " 'sst2-mask-integrated_grad-False': [89.0, 100.0, 100.0, 100.0, 100.0],\n",
       " 'sst2-mask-kernel_shap-False': [92.5, 100.0, 100.0, 100.0, 100.0],\n",
       " 'sst2-mask-random-False': [92.5, 99.5, 100.0, 100.0, 100.0],\n",
       " 'imdb-mask-gradnorm1-True': [5.5, 16.5, 24.5, 42.5, 61.0],\n",
       " 'imdb-mask-gradnorm2-True': [5.5, 18.5, 27.0, 44.0, 66.5],\n",
       " 'imdb-mask-gradinp-True': [4.0, 15.0, 39.5, 72.0, 90.5],\n",
       " 'imdb-mask-erasure-True': [13.5, 43.5, 76.0, 93.0, 99.0],\n",
       " 'imdb-mask-integrated_grad-True': [16.0, 42.5, 70.5, 89.0, 95.0],\n",
       " 'imdb-mask-kernel_shap-True': [13.0, 41.0, 70.5, 90.5, 97.0],\n",
       " 'imdb-mask-random-True': [6.5, 36.5, 69.5, 92.0, 97.0],\n",
       " 'imdb-mask-gradnorm1-False': [45.0, 93.0, 86.0, 77.0, 73.5],\n",
       " 'imdb-mask-gradnorm2-False': [44.5, 94.0, 87.0, 77.5, 74.5],\n",
       " 'imdb-mask-gradinp-False': [88.5, 100.0, 100.0, 100.0, 100.0],\n",
       " 'imdb-mask-erasure-False': [67.0, 93.5, 98.0, 99.5, 100.0],\n",
       " 'imdb-mask-integrated_grad-False': [89.5, 100.0, 100.0, 100.0, 100.0],\n",
       " 'imdb-mask-kernel_shap-False': [97.5, 100.0, 100.0, 100.0, 100.0],\n",
       " 'imdb-mask-random-False': [98.0, 100.0, 100.0, 100.0, 100.0],\n",
       " 'news-mask-gradnorm1-True': [1.0, 0.5, 1.0, 0.5, 0.5],\n",
       " 'news-mask-gradnorm2-True': [1.5, 0.5, 1.0, 0.5, 0.5],\n",
       " 'news-mask-gradinp-True': [2.0, 1.0, 1.0, 1.0, 0.5],\n",
       " 'news-mask-erasure-True': [4.0, 6.5, 5.5, 5.0, 5.0],\n",
       " 'news-mask-integrated_grad-True': [1.5, 2.0, 1.5, 1.5, 1.0],\n",
       " 'news-mask-kernel_shap-True': [0.0, 0.5, 0.0, 1.0, 1.0],\n",
       " 'news-mask-random-True': [1.0, 1.0, 0.5, 0.5, 0.5],\n",
       " 'news-mask-gradnorm1-False': [60.0, 89.5, 96.5, 94.0, 88.5],\n",
       " 'news-mask-gradnorm2-False': [58.0, 92.0, 96.5, 94.5, 91.0],\n",
       " 'news-mask-gradinp-False': [83.5, 99.5, 99.5, 100.0, 100.0],\n",
       " 'news-mask-erasure-False': [83.5, 100.0, 100.0, 100.0, 100.0],\n",
       " 'news-mask-integrated_grad-False': [70.5, 100.0, 100.0, 100.0, 100.0],\n",
       " 'news-mask-kernel_shap-False': [91.0, 100.0, 100.0, 100.0, 100.0],\n",
       " 'news-mask-random-False': [95.0, 100.0, 100.0, 100.0, 100.0]}"
      ]
     },
     "execution_count": 142,
     "metadata": {},
     "output_type": "execute_result"
    }
   ],
   "source": [
    "oods_dict_cfg"
   ]
  },
  {
   "cell_type": "code",
   "execution_count": 174,
   "metadata": {},
   "outputs": [
    {
     "data": {
      "text/plain": [
       "{'sst2-pythia-gradnorm1-True': [1.5, 1.0, 1.5, 0.5, 1.0],\n",
       " 'sst2-pythia-gradnorm2-True': [2.0, 1.5, 1.5, 0.5, 1.5],\n",
       " 'sst2-pythia-gradinp-True': [1.5, 1.5, 1.0, 1.0, 1.5],\n",
       " 'sst2-pythia-erasure-True': [1.0, 1.0, 1.0, 1.5, 2.0],\n",
       " 'sst2-pythia-integrated_grad-True': [1.5, 1.0, 1.0, 1.0, 1.0],\n",
       " 'sst2-pythia-kernel_shap-True': [1.0, 0.5, 0.5, 1.0, 0.5],\n",
       " 'sst2-pythia-random-True': [1.5, 1.0, 1.5, 1.5, 1.5],\n",
       " 'sst2-pythia-gradnorm1-False': [0.5, 0.5, 1.0, 2.5, 2.5],\n",
       " 'sst2-pythia-gradnorm2-False': [0.5, 0.5, 0.5, 1.5, 3.0],\n",
       " 'sst2-pythia-gradinp-False': [1.5, 1.5, 1.5, 1.5, 1.5],\n",
       " 'sst2-pythia-erasure-False': [1.5, 2.0, 1.5, 1.5, 1.5],\n",
       " 'sst2-pythia-integrated_grad-False': [1.0, 1.0, 0.5, 0.5, 0.5],\n",
       " 'sst2-pythia-kernel_shap-False': [1.5, 1.5, 1.5, 1.0, 3.0],\n",
       " 'sst2-pythia-random-False': [0.5, 0.5, 0.5, 0.5, 2.0],\n",
       " 'imdb-pythia-gradnorm1-True': [2.5, 1.5, 1.5, 2.0, 1.0],\n",
       " 'imdb-pythia-gradnorm2-True': [3.0, 1.5, 1.0, 1.0, 0.5],\n",
       " 'imdb-pythia-gradinp-True': [1.0, 1.0, 1.0, 1.5, 1.0],\n",
       " 'imdb-pythia-erasure-True': [1.5, 0.5, 1.5, 2.0, 3.0],\n",
       " 'imdb-pythia-integrated_grad-True': [2.0, 2.0, 2.5, 3.0, 2.0],\n",
       " 'imdb-pythia-kernel_shap-True': [3.5, 3.5, 2.0, 2.5, 1.5],\n",
       " 'imdb-pythia-random-True': [2.5, 1.5, 2.0, 2.0, 2.5],\n",
       " 'imdb-pythia-gradnorm1-False': [1.5, 2.5, 3.0, 3.5, 3.5],\n",
       " 'imdb-pythia-gradnorm2-False': [1.5, 2.5, 3.0, 3.5, 3.5],\n",
       " 'imdb-pythia-gradinp-False': [2.5, 2.5, 2.0, 6.0, 9.0],\n",
       " 'imdb-pythia-erasure-False': [2.0, 2.0, 2.0, 2.5, 3.5],\n",
       " 'imdb-pythia-integrated_grad-False': [1.5, 1.5, 2.0, 2.5, 4.0],\n",
       " 'imdb-pythia-kernel_shap-False': [1.5, 2.5, 4.5, 5.0, 5.5],\n",
       " 'imdb-pythia-random-False': [3.5, 3.5, 5.0, 4.0, 5.5],\n",
       " 'news-pythia-gradnorm1-True': [1.5, 2.5, 3.0, 4.0, 1.0],\n",
       " 'news-pythia-gradnorm2-True': [1.0, 3.0, 2.5, 3.5, 1.0],\n",
       " 'news-pythia-gradinp-True': [1.0, 1.5, 2.0, 1.0, 1.5],\n",
       " 'news-pythia-erasure-True': [2.5, 4.5, 3.5, 5.0, 5.0],\n",
       " 'news-pythia-integrated_grad-True': [1.0, 0.5, 2.0, 1.0, 2.0],\n",
       " 'news-pythia-kernel_shap-True': [2.0, 1.5, 1.0, 2.0, 1.5],\n",
       " 'news-pythia-random-True': [1.0, 1.0, 3.0, 2.0, 2.0],\n",
       " 'news-pythia-gradnorm1-False': [5.0, 5.0, 5.0, 5.0, 5.0],\n",
       " 'news-pythia-gradnorm2-False': [5.0, 5.0, 5.0, 5.0, 5.0],\n",
       " 'news-pythia-gradinp-False': [5.5, 4.0, 4.5, 5.0, 3.5],\n",
       " 'news-pythia-erasure-False': [5.0, 5.0, 5.0, 4.5, 5.0],\n",
       " 'news-pythia-integrated_grad-False': [5.0, 5.0, 6.5, 5.5, 7.0],\n",
       " 'news-pythia-kernel_shap-False': [4.5, 4.0, 4.0, 5.5, 4.5],\n",
       " 'news-pythia-random-False': [5.0, 5.5, 6.5, 8.0, 7.5],\n",
       " 'sst2-pythia2-gradnorm1-True': [0.5, 0.5, 1.0, 0.0, 0.0],\n",
       " 'sst2-pythia2-gradnorm2-True': [0.5, 0.0, 1.5, 0.0, 0.0],\n",
       " 'sst2-pythia2-gradinp-True': [1.5, 1.5, 1.0, 0.0, 0.0],\n",
       " 'sst2-pythia2-erasure-True': [1.0, 1.0, 1.5, 0.5, 0.5],\n",
       " 'sst2-pythia2-integrated_grad-True': [1.5, 1.0, 1.0, 0.5, 1.0],\n",
       " 'sst2-pythia2-kernel_shap-True': [1.0, 0.5, 0.5, 1.0, 1.0],\n",
       " 'sst2-pythia2-random-True': [1.0, 0.5, 1.0, 1.5, 0.5],\n",
       " 'sst2-pythia2-gradnorm1-False': [1.5, 2.0, 2.5, 3.5, 3.5],\n",
       " 'sst2-pythia2-gradnorm2-False': [1.5, 2.0, 2.0, 3.5, 4.0],\n",
       " 'sst2-pythia2-gradinp-False': [1.0, 1.0, 1.5, 2.0, 2.5],\n",
       " 'sst2-pythia2-erasure-False': [1.5, 1.5, 1.0, 1.5, 1.0],\n",
       " 'sst2-pythia2-integrated_grad-False': [1.0, 1.0, 0.5, 1.0, 0.5],\n",
       " 'sst2-pythia2-kernel_shap-False': [1.5, 2.0, 3.5, 2.0, 2.5],\n",
       " 'sst2-pythia2-random-False': [1.5, 1.5, 1.5, 2.5, 2.5],\n",
       " 'imdb-pythia2-gradnorm1-True': [2.0, 2.0, 2.5, 3.0, 1.0],\n",
       " 'imdb-pythia2-gradnorm2-True': [3.0, 3.0, 1.5, 4.5, 2.5],\n",
       " 'imdb-pythia2-gradinp-True': [1.0, 0.5, 2.5, 2.0, 2.5],\n",
       " 'imdb-pythia2-erasure-True': [3.0, 3.0, 3.0, 3.5, 3.0],\n",
       " 'imdb-pythia2-integrated_grad-True': [1.5, 1.0, 1.5, 3.5, 5.0],\n",
       " 'imdb-pythia2-kernel_shap-True': [2.0, 3.0, 4.0, 3.5, 2.5],\n",
       " 'imdb-pythia2-random-True': [2.5, 2.5, 2.0, 2.5, 2.0],\n",
       " 'imdb-pythia2-gradnorm1-False': [2.0, 2.0, 1.5, 2.5, 1.5],\n",
       " 'imdb-pythia2-gradnorm2-False': [2.0, 2.0, 1.5, 2.5, 1.5],\n",
       " 'imdb-pythia2-gradinp-False': [2.0, 2.5, 2.5, 3.5, 4.5],\n",
       " 'imdb-pythia2-erasure-False': [2.0, 2.0, 2.0, 2.5, 3.5],\n",
       " 'imdb-pythia2-integrated_grad-False': [2.0, 2.5, 2.5, 4.0, 6.5],\n",
       " 'imdb-pythia2-kernel_shap-False': [1.5, 2.0, 4.0, 7.0, 9.0],\n",
       " 'imdb-pythia2-random-False': [2.5, 3.5, 3.0, 3.5, 7.0],\n",
       " 'news-pythia2-gradnorm1-True': [2.5, 2.0, 1.5, 3.0, 3.0],\n",
       " 'news-pythia2-gradnorm2-True': [2.5, 1.5, 1.5, 3.0, 3.5],\n",
       " 'news-pythia2-gradinp-True': [3.5, 1.5, 2.0, 2.5, 2.0],\n",
       " 'news-pythia2-erasure-True': [3.5, 3.0, 3.0, 3.5, 2.5],\n",
       " 'news-pythia2-integrated_grad-True': [2.0, 1.0, 1.0, 1.0, 1.5],\n",
       " 'news-pythia2-kernel_shap-True': [2.0, 2.0, 1.5, 3.0, 1.5],\n",
       " 'news-pythia2-random-True': [2.0, 2.5, 3.0, 2.0, 2.5],\n",
       " 'news-pythia2-gradnorm1-False': [5.0, 5.0, 5.0, 5.5, 5.5],\n",
       " 'news-pythia2-gradnorm2-False': [5.0, 5.0, 5.0, 5.5, 5.5],\n",
       " 'news-pythia2-gradinp-False': [5.5, 5.5, 6.0, 5.5, 5.0],\n",
       " 'news-pythia2-erasure-False': [5.0, 5.0, 5.0, 4.5, 5.0],\n",
       " 'news-pythia2-integrated_grad-False': [5.5, 5.5, 6.5, 6.5, 5.5],\n",
       " 'news-pythia2-kernel_shap-False': [6.5, 7.0, 7.0, 7.0, 7.0],\n",
       " 'news-pythia2-random-False': [4.5, 4.0, 4.5, 7.5, 6.0],\n",
       " 'sst2-gptj-gradnorm1-True': [0.5, 0.0, 1.5, 0.5, 1.0],\n",
       " 'sst2-gptj-gradnorm2-True': [1.0, 0.0, 2.0, 1.0, 0.0],\n",
       " 'sst2-gptj-gradinp-True': [1.5, 3.0, 3.5, 2.5, 1.5],\n",
       " 'sst2-gptj-erasure-True': [1.5, 1.0, 1.5, 3.5, 2.5],\n",
       " 'sst2-gptj-integrated_grad-True': [0.0, 0.5, 1.0, 0.5, 0.0],\n",
       " 'sst2-gptj-kernel_shap-True': [0.5, 1.0, 1.0, 1.0, 1.0],\n",
       " 'sst2-gptj-random-True': [1.0, 0.5, 0.5, 0.5, 0.5],\n",
       " 'sst2-gptj-gradnorm1-False': [11.0, 9.5, 7.0, 8.0, 6.0],\n",
       " 'sst2-gptj-gradnorm2-False': [11.0, 10.0, 7.5, 7.0, 5.5],\n",
       " 'sst2-gptj-gradinp-False': [7.5, 6.0, 5.0, 4.0, 3.5],\n",
       " 'sst2-gptj-erasure-False': [11.0, 11.0, 11.0, 11.0, 10.5],\n",
       " 'sst2-gptj-integrated_grad-False': [12.0, 10.5, 8.5, 7.0, 5.5],\n",
       " 'sst2-gptj-kernel_shap-False': [11.0, 7.5, 4.0, 5.0, 4.5],\n",
       " 'sst2-gptj-random-False': [10.5, 8.0, 7.5, 7.0, 6.0],\n",
       " 'imdb-gptj-gradnorm1-True': [1.0, 1.5, 1.0, 0.0, 0.5],\n",
       " 'imdb-gptj-gradnorm2-True': [1.0, 1.5, 2.5, 1.0, 1.0],\n",
       " 'imdb-gptj-gradinp-True': [1.0, 1.0, 1.5, 1.0, 1.5],\n",
       " 'imdb-gptj-erasure-True': [1.5, 2.0, 2.0, 1.5, 1.0],\n",
       " 'imdb-gptj-integrated_grad-True': [1.5, 1.0, 1.5, 0.0, 0.5],\n",
       " 'imdb-gptj-kernel_shap-True': [1.0, 2.5, 2.5, 4.0, 1.0],\n",
       " 'imdb-gptj-random-True': [1.0, 0.5, 2.5, 2.5, 1.5],\n",
       " 'imdb-gptj-gradnorm1-False': [4.5, 5.0, 5.0, 8.5, 11.0],\n",
       " 'imdb-gptj-gradnorm2-False': [4.5, 5.0, 5.5, 9.0, 11.5],\n",
       " 'imdb-gptj-gradinp-False': [5.0, 6.5, 9.0, 15.5, 16.5],\n",
       " 'imdb-gptj-erasure-False': [4.0, 5.0, 6.5, 8.0, 11.5],\n",
       " 'imdb-gptj-integrated_grad-False': [4.5, 5.0, 7.0, 11.0, 17.5],\n",
       " 'imdb-gptj-kernel_shap-False': [5.0, 9.5, 12.0, 17.0, 19.5],\n",
       " 'imdb-gptj-random-False': [4.5, 8.0, 10.0, 11.5, 14.5],\n",
       " 'news-gptj-gradnorm1-True': [1.0, 2.0, 1.0, 0.0, 1.0],\n",
       " 'news-gptj-gradnorm2-True': [1.5, 2.0, 2.0, 0.0, 0.5],\n",
       " 'news-gptj-gradinp-True': [3.0, 1.5, 2.5, 2.0, 1.0],\n",
       " 'news-gptj-erasure-True': [1.5, 1.0, 1.5, 1.5, 2.0],\n",
       " 'news-gptj-integrated_grad-True': [1.0, 1.0, 1.0, 1.0, 0.5],\n",
       " 'news-gptj-kernel_shap-True': [1.5, 0.5, 2.5, 0.5, 1.0],\n",
       " 'news-gptj-random-True': [0.5, 1.5, 2.5, 3.0, 2.0],\n",
       " 'news-gptj-gradnorm1-False': [4.5, 5.0, 6.0, 4.5, 5.0],\n",
       " 'news-gptj-gradnorm2-False': [4.5, 5.5, 5.5, 4.5, 5.0],\n",
       " 'news-gptj-gradinp-False': [4.0, 5.5, 6.0, 4.5, 5.5],\n",
       " 'news-gptj-erasure-False': [4.5, 4.5, 4.5, 5.0, 6.0],\n",
       " 'news-gptj-integrated_grad-False': [6.0, 9.5, 9.0, 6.5, 8.0],\n",
       " 'news-gptj-kernel_shap-False': [7.0, 4.5, 6.5, 7.0, 7.0],\n",
       " 'news-gptj-random-False': [7.0, 5.0, 6.0, 6.5, 7.0],\n",
       " 'sst2-unk-gradnorm1-True': [1.0, 1.0, 0.5, 0.0, 0.5],\n",
       " 'sst2-unk-gradnorm2-True': [1.5, 0.5, 0.5, 0.0, 0.5],\n",
       " 'sst2-unk-gradinp-True': [1.5, 1.0, 1.0, 2.0, 2.5],\n",
       " 'sst2-unk-erasure-True': [1.5, 2.0, 2.0, 1.5, 2.0],\n",
       " 'sst2-unk-integrated_grad-True': [2.5, 2.0, 4.5, 4.5, 3.5],\n",
       " 'sst2-unk-kernel_shap-True': [0.0, 1.0, 1.0, 1.5, 3.0],\n",
       " 'sst2-unk-random-True': [2.0, 3.0, 5.0, 3.5, 3.5],\n",
       " 'sst2-unk-gradnorm1-False': [87.5, 100.0, 100.0, 100.0, 100.0],\n",
       " 'sst2-unk-gradnorm2-False': [92.0, 100.0, 100.0, 100.0, 100.0],\n",
       " 'sst2-unk-gradinp-False': [100.0, 100.0, 100.0, 100.0, 100.0],\n",
       " 'sst2-unk-erasure-False': [86.5, 100.0, 100.0, 100.0, 100.0],\n",
       " 'sst2-unk-integrated_grad-False': [96.5, 100.0, 100.0, 100.0, 100.0],\n",
       " 'sst2-unk-kernel_shap-False': [99.0, 100.0, 100.0, 100.0, 100.0],\n",
       " 'sst2-unk-random-False': [99.5, 100.0, 100.0, 100.0, 100.0],\n",
       " 'imdb-unk-gradnorm1-True': [55.0, 88.0, 99.0, 99.0, 100.0],\n",
       " 'imdb-unk-gradnorm2-True': [56.0, 88.5, 99.0, 99.0, 100.0],\n",
       " 'imdb-unk-gradinp-True': [36.5, 85.5, 97.5, 100.0, 100.0],\n",
       " 'imdb-unk-erasure-True': [61.5, 95.0, 99.0, 99.5, 100.0],\n",
       " 'imdb-unk-integrated_grad-True': [40.0, 90.0, 98.0, 100.0, 100.0],\n",
       " 'imdb-unk-kernel_shap-True': [47.0, 92.0, 99.5, 100.0, 100.0],\n",
       " 'imdb-unk-random-True': [47.5, 93.0, 99.0, 99.5, 100.0],\n",
       " 'imdb-unk-gradnorm1-False': [89.0, 100.0, 100.0, 100.0, 100.0],\n",
       " 'imdb-unk-gradnorm2-False': [92.0, 100.0, 100.0, 100.0, 100.0],\n",
       " 'imdb-unk-gradinp-False': [100.0, 100.0, 100.0, 100.0, 100.0],\n",
       " 'imdb-unk-erasure-False': [97.0, 100.0, 100.0, 100.0, 100.0],\n",
       " 'imdb-unk-integrated_grad-False': [99.5, 100.0, 100.0, 100.0, 100.0],\n",
       " 'imdb-unk-kernel_shap-False': [100.0, 100.0, 100.0, 100.0, 100.0],\n",
       " 'imdb-unk-random-False': [100.0, 100.0, 100.0, 100.0, 100.0],\n",
       " 'news-unk-gradnorm1-True': [0.0, 0.5, 1.0, 2.0, 1.5],\n",
       " 'news-unk-gradnorm2-True': [0.0, 0.5, 0.5, 2.0, 1.5],\n",
       " 'news-unk-gradinp-True': [0.5, 0.5, 1.0, 2.0, 4.5],\n",
       " 'news-unk-erasure-True': [1.5, 1.0, 3.0, 5.0, 8.5],\n",
       " 'news-unk-integrated_grad-True': [1.0, 2.0, 3.0, 1.5, 2.5],\n",
       " 'news-unk-kernel_shap-True': [0.0, 0.0, 0.0, 2.5, 4.0],\n",
       " 'news-unk-random-True': [0.5, 0.5, 0.0, 0.5, 1.0],\n",
       " 'news-unk-gradnorm1-False': [91.0, 100.0, 100.0, 100.0, 100.0],\n",
       " 'news-unk-gradnorm2-False': [90.0, 100.0, 100.0, 100.0, 100.0],\n",
       " 'news-unk-gradinp-False': [96.5, 100.0, 100.0, 100.0, 100.0],\n",
       " 'news-unk-erasure-False': [98.5, 100.0, 100.0, 100.0, 100.0],\n",
       " 'news-unk-integrated_grad-False': [97.0, 100.0, 100.0, 100.0, 100.0],\n",
       " 'news-unk-kernel_shap-False': [99.5, 100.0, 100.0, 100.0, 100.0],\n",
       " 'news-unk-random-False': [99.0, 100.0, 100.0, 100.0, 100.0],\n",
       " 'sst2-erase-gradnorm1-True': [0.0, 0.0, 0.0, 1.0, 0.5],\n",
       " 'sst2-erase-gradnorm2-True': [1.0, 0.5, 0.0, 0.5, 0.5],\n",
       " 'sst2-erase-gradinp-True': [1.0, 2.0, 1.0, 0.5, 1.0],\n",
       " 'sst2-erase-erasure-True': [2.0, 1.0, 2.5, 3.0, 3.0],\n",
       " 'sst2-erase-integrated_grad-True': [1.0, 1.0, 2.0, 1.0, 2.0],\n",
       " 'sst2-erase-kernel_shap-True': [0.5, 0.0, 0.0, 1.0, 1.5],\n",
       " 'sst2-erase-random-True': [1.5, 1.0, 2.0, 2.5, 3.0],\n",
       " 'sst2-erase-gradnorm1-False': [12.5, 12.5, 14.0, 23.0, 37.5],\n",
       " 'sst2-erase-gradnorm2-False': [17.5, 14.5, 16.5, 23.0, 38.0],\n",
       " 'sst2-erase-gradinp-False': [55.0, 77.5, 90.0, 97.0, 99.5],\n",
       " 'sst2-erase-erasure-False': [17.0, 18.0, 29.5, 40.5, 59.0],\n",
       " 'sst2-erase-integrated_grad-False': [47.5, 67.0, 81.5, 93.0, 96.0],\n",
       " 'sst2-erase-kernel_shap-False': [49.0, 73.5, 88.0, 96.5, 100.0],\n",
       " 'sst2-erase-random-False': [55.5, 79.5, 91.5, 96.0, 98.5],\n",
       " 'imdb-erase-gradnorm1-True': [0.5, 0.5, 1.5, 1.5, 0.5],\n",
       " 'imdb-erase-gradnorm2-True': [0.5, 0.5, 2.0, 1.0, 1.5],\n",
       " 'imdb-erase-gradinp-True': [0.5, 0.5, 0.5, 1.0, 4.0],\n",
       " 'imdb-erase-erasure-True': [2.5, 3.0, 4.5, 6.0, 12.0],\n",
       " 'imdb-erase-integrated_grad-True': [2.0, 4.0, 5.5, 8.0, 10.5],\n",
       " 'imdb-erase-kernel_shap-True': [0.5, 3.0, 3.5, 5.0, 6.5],\n",
       " 'imdb-erase-random-True': [2.0, 1.0, 3.5, 4.5, 4.5],\n",
       " 'imdb-erase-gradnorm1-False': [0.5, 1.5, 5.5, 11.5, 23.0],\n",
       " 'imdb-erase-gradnorm2-False': [1.0, 1.5, 5.5, 11.0, 24.5],\n",
       " 'imdb-erase-gradinp-False': [14.0, 39.5, 76.0, 96.0, 100.0],\n",
       " 'imdb-erase-erasure-False': [3.5, 6.5, 24.0, 51.0, 79.0],\n",
       " 'imdb-erase-integrated_grad-False': [12.5, 49.5, 77.5, 95.0, 99.5],\n",
       " 'imdb-erase-kernel_shap-False': [24.5, 66.0, 91.0, 100.0, 100.0],\n",
       " 'imdb-erase-random-False': [26.5, 73.0, 93.0, 98.5, 99.5],\n",
       " 'news-erase-gradnorm1-True': [1.5, 3.0, 4.5, 5.5, 3.0],\n",
       " 'news-erase-gradnorm2-True': [1.5, 2.0, 3.5, 5.5, 4.0],\n",
       " 'news-erase-gradinp-True': [1.5, 2.0, 2.0, 3.5, 5.0],\n",
       " 'news-erase-erasure-True': [3.0, 6.0, 9.0, 12.5, 13.5],\n",
       " 'news-erase-integrated_grad-True': [1.0, 2.0, 2.0, 2.5, 2.0],\n",
       " 'news-erase-kernel_shap-True': [1.5, 1.5, 1.5, 2.0, 5.0],\n",
       " 'news-erase-random-True': [0.5, 0.5, 2.0, 1.5, 3.0],\n",
       " 'news-erase-gradnorm1-False': [6.0, 6.5, 14.0, 15.0, 16.0],\n",
       " 'news-erase-gradnorm2-False': [5.0, 7.5, 12.5, 15.5, 17.5],\n",
       " 'news-erase-gradinp-False': [19.5, 45.5, 70.0, 79.5, 87.0],\n",
       " 'news-erase-erasure-False': [15.0, 29.0, 47.5, 62.5, 77.5],\n",
       " 'news-erase-integrated_grad-False': [10.5, 27.0, 61.5, 83.0, 95.5],\n",
       " 'news-erase-kernel_shap-False': [24.5, 61.5, 91.0, 98.5, 99.0],\n",
       " 'news-erase-random-False': [28.5, 67.5, 89.0, 96.5, 98.0],\n",
       " 'sst2-mask-gradnorm1-True': [0.0, 0.0, 0.0, 0.0, 0.0],\n",
       " 'sst2-mask-gradnorm2-True': [0.0, 0.0, 0.0, 0.0, 0.0],\n",
       " 'sst2-mask-gradinp-True': [0.5, 0.5, 0.0, 0.0, 0.0],\n",
       " 'sst2-mask-erasure-True': [1.0, 0.5, 0.5, 0.5, 0.0],\n",
       " 'sst2-mask-integrated_grad-True': [0.5, 0.5, 0.5, 0.5, 0.0],\n",
       " 'sst2-mask-kernel_shap-True': [0.0, 0.0, 0.0, 0.0, 0.0],\n",
       " 'sst2-mask-random-True': [0.5, 1.0, 1.0, 1.0, 0.5],\n",
       " 'sst2-mask-gradnorm1-False': [75.5, 98.5, 100.0, 100.0, 100.0],\n",
       " 'sst2-mask-gradnorm2-False': [80.5, 98.5, 100.0, 100.0, 100.0],\n",
       " 'sst2-mask-gradinp-False': [97.5, 100.0, 100.0, 100.0, 100.0],\n",
       " 'sst2-mask-erasure-False': [67.5, 99.0, 100.0, 100.0, 100.0],\n",
       " 'sst2-mask-integrated_grad-False': [89.0, 100.0, 100.0, 100.0, 100.0],\n",
       " 'sst2-mask-kernel_shap-False': [92.5, 100.0, 100.0, 100.0, 100.0],\n",
       " 'sst2-mask-random-False': [92.5, 99.5, 100.0, 100.0, 100.0],\n",
       " 'imdb-mask-gradnorm1-True': [5.5, 16.5, 24.5, 42.5, 61.0],\n",
       " 'imdb-mask-gradnorm2-True': [5.5, 18.5, 27.0, 44.0, 66.5],\n",
       " 'imdb-mask-gradinp-True': [4.0, 15.0, 39.5, 72.0, 90.5],\n",
       " 'imdb-mask-erasure-True': [13.5, 43.5, 76.0, 93.0, 99.0],\n",
       " 'imdb-mask-integrated_grad-True': [16.0, 42.5, 70.5, 89.0, 95.0],\n",
       " 'imdb-mask-kernel_shap-True': [13.0, 41.0, 70.5, 90.5, 97.0],\n",
       " 'imdb-mask-random-True': [6.5, 36.5, 69.5, 92.0, 97.0],\n",
       " 'imdb-mask-gradnorm1-False': [45.0, 93.0, 86.0, 77.0, 73.5],\n",
       " 'imdb-mask-gradnorm2-False': [44.5, 94.0, 87.0, 77.5, 74.5],\n",
       " 'imdb-mask-gradinp-False': [88.5, 100.0, 100.0, 100.0, 100.0],\n",
       " 'imdb-mask-erasure-False': [67.0, 93.5, 98.0, 99.5, 100.0],\n",
       " 'imdb-mask-integrated_grad-False': [89.5, 100.0, 100.0, 100.0, 100.0],\n",
       " 'imdb-mask-kernel_shap-False': [97.5, 100.0, 100.0, 100.0, 100.0],\n",
       " 'imdb-mask-random-False': [98.0, 100.0, 100.0, 100.0, 100.0],\n",
       " 'news-mask-gradnorm1-True': [1.0, 0.5, 1.0, 0.5, 0.5],\n",
       " 'news-mask-gradnorm2-True': [1.5, 0.5, 1.0, 0.5, 0.5],\n",
       " 'news-mask-gradinp-True': [2.0, 1.0, 1.0, 1.0, 0.5],\n",
       " 'news-mask-erasure-True': [4.0, 6.5, 5.5, 5.0, 5.0],\n",
       " 'news-mask-integrated_grad-True': [1.5, 2.0, 1.5, 1.5, 1.0],\n",
       " 'news-mask-kernel_shap-True': [0.0, 0.5, 0.0, 1.0, 1.0],\n",
       " 'news-mask-random-True': [1.0, 1.0, 0.5, 0.5, 0.5],\n",
       " 'news-mask-gradnorm1-False': [60.0, 89.5, 96.5, 94.0, 88.5],\n",
       " 'news-mask-gradnorm2-False': [58.0, 92.0, 96.5, 94.5, 91.0],\n",
       " 'news-mask-gradinp-False': [83.5, 99.5, 99.5, 100.0, 100.0],\n",
       " 'news-mask-erasure-False': [83.5, 100.0, 100.0, 100.0, 100.0],\n",
       " 'news-mask-integrated_grad-False': [70.5, 100.0, 100.0, 100.0, 100.0],\n",
       " 'news-mask-kernel_shap-False': [91.0, 100.0, 100.0, 100.0, 100.0],\n",
       " 'news-mask-random-False': [95.0, 100.0, 100.0, 100.0, 100.0]}"
      ]
     },
     "execution_count": 174,
     "metadata": {},
     "output_type": "execute_result"
    }
   ],
   "source": [
    "oods_dict_cfg"
   ]
  },
  {
   "cell_type": "code",
   "execution_count": 177,
   "metadata": {},
   "outputs": [
    {
     "data": {
      "image/png": "[encoded data removed]",
      "text/plain": [
       "<Figure size 1200x800 with 6 Axes>"
      ]
     },
     "metadata": {},
     "output_type": "display_data"
    }
   ],
   "source": [
    "import matplotlib.pyplot as plt\n",
    "import numpy as np\n",
    "import seaborn as sns\n",
    "\n",
    "\n",
    "datasets = [\"sst2\",\"imdb\",\"news\"]\n",
    "xticklabels = [10,20,30,40,50]\n",
    "fig, ax = plt.subplots(2, 3, figsize=(12, 8))\n",
    "\n",
    "\n",
    "\n",
    "for ds in datasets:\n",
    "    for ft in [True,False]:\n",
    "        if ds == \"sst2\":\n",
    "            j = 0\n",
    "        elif ds == \"imdb\":\n",
    "            j = 1\n",
    "        elif ds == \"news\":\n",
    "            j=2\n",
    "        if ft:\n",
    "            i =0\n",
    "            \n",
    "        else:\n",
    "            i=1\n",
    "        ax[i,j].plot(xticklabels,oods_dict_cfg[f'{ds}-unk-gradnorm1-{ft}'],label = \"unk\",color = \"blue\")\n",
    "        ax[i,j].plot(xticklabels,oods_dict_cfg[f'{ds}-mask-gradnorm1-{ft}'],label = \"mask\",color = \"orange\")\n",
    "\n",
    "        ax[i,j].plot(xticklabels,oods_dict_cfg[f'{ds}-erase-gradnorm1-{ft}'],label = \"erase\",color = \"brown\")\n",
    "\n",
    "        ax[i,j].plot(xticklabels,oods_dict_zero_att[f'{ds}-{ft}-gradnorm1'],label = \"zero-att\",color = \"black\")\n",
    "\n",
    "        ax[i,j].plot(xticklabels,oods_dict_cfg[f'{ds}-pythia-gradnorm1-{ft}'],label = \"pythia (ours)\", color = \"olive\")\n",
    "\n",
    "        ax[i,j].plot(xticklabels,oods_dict_cfg[f'{ds}-pythia2-gradnorm1-{ft}'],label = \"pythia2 (ours)\",color = \"violet\")\n",
    "\n",
    "        ax[i,j].plot(xticklabels,oods_dict_cfg[f'{ds}-gptj-gradnorm1-{ft}'],label = \"gptj (ours)\",color = \"cyan\")\n",
    "        \n",
    "        if j ==2:\n",
    "            ax[i,j].legend(bbox_to_anchor=(1.6, 0.5),loc='right')\n",
    "\n",
    "\n",
    "\n",
    "ax[1,0].set_xlabel(\"percent changed\",fontsize =12)\n",
    "ax[1,1].set_xlabel(\"percent changed\",fontsize =12)\n",
    "\n",
    "ax[0,0].set_ylabel(\"Fine-Tuned\",fontsize =14)\n",
    "ax[1,0].set_ylabel(\"Instruct-Tuned\",fontsize =14)\n",
    "\n",
    "fig.tight_layout()\n",
    "fig.savefig(\"ood_percent_changes.pdf\", bbox_inches='tight')\n"
   ]
  },
  {
   "cell_type": "code",
   "execution_count": 182,
   "metadata": {},
   "outputs": [
    {
     "name": "stdout",
     "output_type": "stream",
     "text": [
      "imdb-pythia-gradnorm1-True\n",
      "1.7\n",
      "imdb-pythia-gradnorm2-True\n",
      "1.4\n",
      "imdb-pythia-gradinp-True\n",
      "1.1\n",
      "imdb-pythia-erasure-True\n",
      "1.7\n",
      "imdb-pythia-integrated_grad-True\n",
      "2.3\n",
      "imdb-pythia-kernel_shap-True\n",
      "2.6\n",
      "imdb-pythia-random-True\n",
      "2.1\n",
      "imdb-pythia-gradnorm1-False\n",
      "2.8\n",
      "imdb-pythia-gradnorm2-False\n",
      "2.8\n",
      "imdb-pythia-gradinp-False\n",
      "4.4\n",
      "imdb-pythia-erasure-False\n",
      "2.4\n",
      "imdb-pythia-integrated_grad-False\n",
      "2.3\n",
      "imdb-pythia-kernel_shap-False\n",
      "3.8\n",
      "imdb-pythia-random-False\n",
      "4.3\n",
      "imdb-pythia2-gradnorm1-True\n",
      "2.1\n",
      "imdb-pythia2-gradnorm2-True\n",
      "2.9\n",
      "imdb-pythia2-gradinp-True\n",
      "1.7\n",
      "imdb-pythia2-erasure-True\n",
      "3.1\n",
      "imdb-pythia2-integrated_grad-True\n",
      "2.5\n",
      "imdb-pythia2-kernel_shap-True\n",
      "3.0\n",
      "imdb-pythia2-random-True\n",
      "2.3\n",
      "imdb-pythia2-gradnorm1-False\n",
      "1.9\n",
      "imdb-pythia2-gradnorm2-False\n",
      "1.9\n",
      "imdb-pythia2-gradinp-False\n",
      "3.0\n",
      "imdb-pythia2-erasure-False\n",
      "2.4\n",
      "imdb-pythia2-integrated_grad-False\n",
      "3.5\n",
      "imdb-pythia2-kernel_shap-False\n",
      "4.7\n",
      "imdb-pythia2-random-False\n",
      "3.9\n",
      "imdb-gptj-gradnorm1-True\n",
      "0.8\n",
      "imdb-gptj-gradnorm2-True\n",
      "1.4\n",
      "imdb-gptj-gradinp-True\n",
      "1.2\n",
      "imdb-gptj-erasure-True\n",
      "1.6\n",
      "imdb-gptj-integrated_grad-True\n",
      "0.9\n",
      "imdb-gptj-kernel_shap-True\n",
      "2.2\n",
      "imdb-gptj-random-True\n",
      "1.6\n",
      "imdb-gptj-gradnorm1-False\n",
      "6.8\n",
      "imdb-gptj-gradnorm2-False\n",
      "7.1\n",
      "imdb-gptj-gradinp-False\n",
      "10.5\n",
      "imdb-gptj-erasure-False\n",
      "7.0\n",
      "imdb-gptj-integrated_grad-False\n",
      "9.0\n",
      "imdb-gptj-kernel_shap-False\n",
      "12.6\n",
      "imdb-gptj-random-False\n",
      "9.7\n",
      "imdb-unk-gradnorm1-True\n",
      "88.2\n",
      "imdb-unk-gradnorm2-True\n",
      "88.5\n",
      "imdb-unk-gradinp-True\n",
      "83.9\n",
      "imdb-unk-erasure-True\n",
      "91.0\n",
      "imdb-unk-integrated_grad-True\n",
      "85.6\n",
      "imdb-unk-kernel_shap-True\n",
      "87.7\n",
      "imdb-unk-random-True\n",
      "87.8\n",
      "imdb-unk-gradnorm1-False\n",
      "97.8\n",
      "imdb-unk-gradnorm2-False\n",
      "98.4\n",
      "imdb-unk-gradinp-False\n",
      "100.0\n",
      "imdb-unk-erasure-False\n",
      "99.4\n",
      "imdb-unk-integrated_grad-False\n",
      "99.9\n",
      "imdb-unk-kernel_shap-False\n",
      "100.0\n",
      "imdb-unk-random-False\n",
      "100.0\n",
      "imdb-erase-gradnorm1-True\n",
      "0.9\n",
      "imdb-erase-gradnorm2-True\n",
      "1.1\n",
      "imdb-erase-gradinp-True\n",
      "1.3\n",
      "imdb-erase-erasure-True\n",
      "5.6\n",
      "imdb-erase-integrated_grad-True\n",
      "6.0\n",
      "imdb-erase-kernel_shap-True\n",
      "3.7\n",
      "imdb-erase-random-True\n",
      "3.1\n",
      "imdb-erase-gradnorm1-False\n",
      "8.4\n",
      "imdb-erase-gradnorm2-False\n",
      "8.7\n",
      "imdb-erase-gradinp-False\n",
      "65.1\n",
      "imdb-erase-erasure-False\n",
      "32.8\n",
      "imdb-erase-integrated_grad-False\n",
      "66.8\n",
      "imdb-erase-kernel_shap-False\n",
      "76.3\n",
      "imdb-erase-random-False\n",
      "78.1\n",
      "imdb-mask-gradnorm1-True\n",
      "30.0\n",
      "imdb-mask-gradnorm2-True\n",
      "32.3\n",
      "imdb-mask-gradinp-True\n",
      "44.2\n",
      "imdb-mask-erasure-True\n",
      "65.0\n",
      "imdb-mask-integrated_grad-True\n",
      "62.6\n",
      "imdb-mask-kernel_shap-True\n",
      "62.4\n",
      "imdb-mask-random-True\n",
      "60.3\n",
      "imdb-mask-gradnorm1-False\n",
      "74.9\n",
      "imdb-mask-gradnorm2-False\n",
      "75.5\n",
      "imdb-mask-gradinp-False\n",
      "97.7\n",
      "imdb-mask-erasure-False\n",
      "91.6\n",
      "imdb-mask-integrated_grad-False\n",
      "97.9\n",
      "imdb-mask-kernel_shap-False\n",
      "99.5\n",
      "imdb-mask-random-False\n",
      "99.6\n"
     ]
    }
   ],
   "source": [
    "for key in oods_dict_cfg.keys():\n",
    "    if key[:4] == \"imdb\":\n",
    "        print(key)\n",
    "        arr = np.array(oods_dict_cfg[key])\n",
    "        print(arr.mean())"
   ]
  },
  {
   "cell_type": "code",
   "execution_count": 181,
   "metadata": {},
   "outputs": [
    {
     "name": "stdout",
     "output_type": "stream",
     "text": [
      "sst2-True-gradnorm1\n",
      "0.1\n",
      "sst2-True-gradnorm2\n",
      "0.1\n",
      "sst2-True-gradinp\n",
      "0.0\n",
      "sst2-True-erasure\n",
      "0.1\n",
      "sst2-True-integrated_grad\n",
      "0.0\n",
      "sst2-True-kernel_shap\n",
      "0.0\n",
      "sst2-True-random\n",
      "0.0\n",
      "sst2-False-gradnorm1\n",
      "80.9\n",
      "sst2-False-gradnorm2\n",
      "80.8\n",
      "sst2-False-gradinp\n",
      "70.6\n",
      "sst2-False-erasure\n",
      "62.6\n",
      "sst2-False-integrated_grad\n",
      "65.8\n",
      "sst2-False-kernel_shap\n",
      "74.1\n",
      "sst2-False-random\n",
      "72.9\n"
     ]
    }
   ],
   "source": [
    "for key in oods_dict_zero_att.keys():\n",
    "    if key[:4] == \"imdb\":\n",
    "        print(key)\n",
    "        arr = np.array(oods_dict_zero_att[key])\n",
    "        print(arr.mean())"
   ]
  }
 ],
 "metadata": {
  "kernelspec": {
   "display_name": "faith11",
   "language": "python",
   "name": "python3"
  },
  "language_info": {
   "codemirror_mode": {
    "name": "ipython",
    "version": 3
   },
   "file_extension": ".py",
   "mimetype": "text/x-python",
   "name": "python",
   "nbconvert_exporter": "python",
   "pygments_lexer": "ipython3",
   "version": "3.11.5"
  }
 },
 "nbformat": 4,
 "nbformat_minor": 2
}
